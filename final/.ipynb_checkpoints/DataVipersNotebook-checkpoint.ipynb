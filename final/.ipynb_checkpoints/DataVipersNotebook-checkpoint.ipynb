{
 "cells": [
  {
   "cell_type": "markdown",
   "id": "5ffda72c-6173-4290-ba6e-4648638d1977",
   "metadata": {
    "tags": []
   },
   "source": [
    "# `DSML_WS_02` - Data Vipers - `Team Assignment`"
   ]
  },
  {
   "cell_type": "markdown",
   "id": "9c8ddab4-4c94-4831-b808-4cf4dd825a95",
   "metadata": {},
   "source": [
    "Importing the needed Python Libraries"
   ]
  },
  {
   "cell_type": "code",
   "execution_count": 1,
   "id": "046f7baf-a749-46cd-a6ba-31fa8540a5a8",
   "metadata": {},
   "outputs": [],
   "source": [
    "import warnings\n",
    "warnings.filterwarnings(\"ignore\")\n",
    "\n",
    "\n",
    "import pandas as pd\n",
    "import numpy as np\n",
    "import matplotlib as mpl\n",
    "import matplotlib.pyplot as plt\n",
    "%matplotlib inline\n",
    "from pandas.plotting import register_matplotlib_converters\n",
    "register_matplotlib_converters()\n",
    "import seaborn as sns\n",
    "sns.set()\n",
    "sns.set_style(\"white\")\n",
    "#sns.set_palette(\"GnBu_d\")\n",
    "sns.set_palette(\"tab10\")\n",
    "\n",
    "# also import these \"new\" libraries \n",
    "# Note: you may have to download an add them to your environment (using e.g. 'conda install -c conda-forge folium')\n",
    "\n",
    "import folium\n",
    "from folium import plugins\n",
    "from folium.plugins import HeatMap\n",
    "from datetime import datetime #for working with times objects\n",
    "from datetime import timedelta #for working with times objects\n",
    "import math\n",
    "import random\n",
    "from pathlib import Path\n",
    "\n",
    "import geopy\n",
    "from geopy.geocoders import GoogleV3\n",
    "from geopy.distance import geodesic\n",
    "\n",
    "from sklearn.linear_model import LinearRegression\n",
    "from sklearn.metrics import mean_squared_error, mean_absolute_error, r2_score\n",
    "from sklearn.model_selection import train_test_split\n",
    "from sklearn.preprocessing import PolynomialFeatures\n",
    "from sklearn.linear_model import Ridge\n",
    "\n",
    "from datetime import datetime\n",
    "from datetime import timedelta\n",
    "\n",
    "import math\n",
    "import random"
   ]
  },
  {
   "cell_type": "markdown",
   "id": "1b64a3e8-d951-4603-b4e4-2fbdfada3823",
   "metadata": {
    "tags": []
   },
   "source": [
    "## Task 1 Customer Behavior Analytics:"
   ]
  },
  {
   "cell_type": "markdown",
   "id": "727742e4-b075-4817-839b-5bc97e31f54e",
   "metadata": {},
   "source": [
    "1) Data Preparation\n",
    "2) Data Cleaning\n",
    "3) More Data Preperation\n",
    "4) Visualizing Data and Distributions\n",
    "5) Clustering"
   ]
  },
  {
   "cell_type": "markdown",
   "id": "20d76b03-7fc8-4827-8004-acb31319ee3a",
   "metadata": {
    "tags": []
   },
   "source": [
    "### 1.1) Data preparation"
   ]
  },
  {
   "cell_type": "markdown",
   "id": "70fbb7ad-8ab0-4e66-9bc7-b3148d8b9e8c",
   "metadata": {},
   "source": [
    "We are working with the provided dataframe \n",
    "\n",
    "Formatting the datetime columns from string to datetime format"
   ]
  },
  {
   "cell_type": "code",
   "execution_count": 2,
   "id": "44ba35e0-8495-491e-aff0-bc18ff6bad8a",
   "metadata": {},
   "outputs": [],
   "source": [
    "df = pd.read_csv(\"../boston_2016.csv\")\n",
    "\n",
    "weather_data = pd.read_csv(\"../weather_hourly_boston.csv\", encoding = \"ISO-8859-1\")\n",
    "tripdata = df\n",
    "\n",
    "df[\"start_time\"] = pd.to_datetime(df[\"start_time\"],format=\"%Y-%m-%d %H:%M:%S\") # FORMAT %Y-%m-%d %H:%M:%S beachte - und :\n",
    "df[\"end_time\"] = pd.to_datetime(df[\"end_time\"],format=\"%Y-%m-%d %H:%M:%S\")"
   ]
  },
  {
   "cell_type": "code",
   "execution_count": 3,
   "id": "c268bb51-858a-46bb-b2d0-c6e096e93a95",
   "metadata": {},
   "outputs": [
    {
     "data": {
      "text/html": [
       "<div>\n",
       "<style scoped>\n",
       "    .dataframe tbody tr th:only-of-type {\n",
       "        vertical-align: middle;\n",
       "    }\n",
       "\n",
       "    .dataframe tbody tr th {\n",
       "        vertical-align: top;\n",
       "    }\n",
       "\n",
       "    .dataframe thead th {\n",
       "        text-align: right;\n",
       "    }\n",
       "</style>\n",
       "<table border=\"1\" class=\"dataframe\">\n",
       "  <thead>\n",
       "    <tr style=\"text-align: right;\">\n",
       "      <th></th>\n",
       "      <th>start_time</th>\n",
       "      <th>end_time</th>\n",
       "      <th>start_station_id</th>\n",
       "      <th>end_station_id</th>\n",
       "      <th>start_station_name</th>\n",
       "      <th>end_station_name</th>\n",
       "      <th>bike_id</th>\n",
       "      <th>user_type</th>\n",
       "    </tr>\n",
       "  </thead>\n",
       "  <tbody>\n",
       "    <tr>\n",
       "      <th>0</th>\n",
       "      <td>2016-01-01 00:08:07</td>\n",
       "      <td>2016-01-01 00:40:26</td>\n",
       "      <td>36</td>\n",
       "      <td>19</td>\n",
       "      <td>Boston Public Library - 700 Boylston St.</td>\n",
       "      <td>Buswell St. at Park Dr.</td>\n",
       "      <td>1406</td>\n",
       "      <td>Subscriber</td>\n",
       "    </tr>\n",
       "  </tbody>\n",
       "</table>\n",
       "</div>"
      ],
      "text/plain": [
       "           start_time            end_time  start_station_id  end_station_id  \\\n",
       "0 2016-01-01 00:08:07 2016-01-01 00:40:26                36              19   \n",
       "\n",
       "                         start_station_name         end_station_name  bike_id  \\\n",
       "0  Boston Public Library - 700 Boylston St.  Buswell St. at Park Dr.     1406   \n",
       "\n",
       "    user_type  \n",
       "0  Subscriber  "
      ]
     },
     "execution_count": 3,
     "metadata": {},
     "output_type": "execute_result"
    }
   ],
   "source": [
    "df.head(1)"
   ]
  },
  {
   "cell_type": "code",
   "execution_count": 4,
   "id": "b3db37bc-38f8-4961-88fc-e38eaa21272b",
   "metadata": {},
   "outputs": [
    {
     "name": "stdout",
     "output_type": "stream",
     "text": [
      "1802\n"
     ]
    }
   ],
   "source": [
    "print(len(df[\"bike_id\"].unique()))"
   ]
  },
  {
   "cell_type": "code",
   "execution_count": 5,
   "id": "b2aab77e-da3a-485c-9146-9c26c318efc8",
   "metadata": {},
   "outputs": [
    {
     "name": "stdout",
     "output_type": "stream",
     "text": [
      "customers: 20.406357208322582 %\n",
      "subscribers: 79.59364279167742 %\n"
     ]
    }
   ],
   "source": [
    "df_customer = df.drop(df[df['user_type'] == \"Subscriber\"].index)\n",
    "df_subscriber = df.drop(df[df['user_type'] == \"Customer\"].index)\n",
    "print(\"customers:\", (len(df_customer)/len(df))*100,'%')\n",
    "print(\"subscribers:\", (len(df_subscriber)/len(df))*100,'%')"
   ]
  },
  {
   "cell_type": "code",
   "execution_count": 6,
   "id": "77f1e45c-24da-4a62-8e8b-503280712186",
   "metadata": {},
   "outputs": [
    {
     "name": "stdout",
     "output_type": "stream",
     "text": [
      "unique station names: 276\n"
     ]
    }
   ],
   "source": [
    "print(\"unique station names:\", len(df[\"start_station_name\"].unique()))"
   ]
  },
  {
   "cell_type": "code",
   "execution_count": 7,
   "id": "2d17bd85-9b44-4979-bac0-380e5d3143ec",
   "metadata": {},
   "outputs": [
    {
     "name": "stdout",
     "output_type": "stream",
     "text": [
      "unique station ID's:  189\n"
     ]
    }
   ],
   "source": [
    "print(\"unique station ID's: \",len(df[\"start_station_id\"].unique()))"
   ]
  },
  {
   "cell_type": "markdown",
   "id": "298187d2-0eb9-4ff9-9e55-45f05d082903",
   "metadata": {},
   "source": [
    "There are redundant station_names in the data frame, therfore we are working with the station ID's as they are unique"
   ]
  },
  {
   "cell_type": "markdown",
   "id": "6da61e85-58cc-45eb-b430-e19b69fea2b6",
   "metadata": {},
   "source": [
    "We are also taking information from the official BlueBikes Boston dataframes:\n",
    "\n",
    "https://www.bluebikes.com/system-data"
   ]
  },
  {
   "cell_type": "markdown",
   "id": "ecb1fece-2d71-44dd-8d01-7f64a57a4569",
   "metadata": {},
   "source": [
    "Please refer to the zip file which we have uploaded to ILIAS. <br>\n",
    "name of zip: 2016_ALL_YEAR-hubway-tripdata"
   ]
  },
  {
   "cell_type": "code",
   "execution_count": 8,
   "id": "18e71810-868d-49ca-9845-ab4eb720b8c3",
   "metadata": {},
   "outputs": [],
   "source": [
    "df_bluebikes_01 = pd.read_csv(\"Bluebikes_Trip_data/201601-hubway-tripdata.csv\")\n",
    "df_bluebikes_02 = pd.read_csv(\"Bluebikes_Trip_data/201602-hubway-tripdata.csv\")\n",
    "df_bluebikes_03 = pd.read_csv(\"Bluebikes_Trip_data/201603-hubway-tripdata.csv\")\n",
    "df_bluebikes_04 = pd.read_csv(\"Bluebikes_Trip_data/201604-hubway-tripdata.csv\")\n",
    "df_bluebikes_05 = pd.read_csv(\"Bluebikes_Trip_data/201605-hubway-tripdata.csv\")\n",
    "df_bluebikes_06 = pd.read_csv(\"Bluebikes_Trip_data/201606-hubway-tripdata.csv\")\n",
    "df_bluebikes_07 = pd.read_csv(\"Bluebikes_Trip_data/201607-hubway-tripdata.csv\")\n",
    "df_bluebikes_08 = pd.read_csv(\"Bluebikes_Trip_data/201608-hubway-tripdata.csv\")\n",
    "df_bluebikes_09 = pd.read_csv(\"Bluebikes_Trip_data/201609-hubway-tripdata.csv\")\n",
    "df_bluebikes_10 = pd.read_csv(\"Bluebikes_Trip_data/201610-hubway-tripdata.csv\")\n",
    "df_bluebikes_11 = pd.read_csv(\"Bluebikes_Trip_data/201611-hubway-tripdata.csv\")\n",
    "df_bluebikes_12 = pd.read_csv(\"Bluebikes_Trip_data/201612-hubway-tripdata.csv\")"
   ]
  },
  {
   "cell_type": "code",
   "execution_count": 9,
   "id": "a0bcea66-3857-42b7-b51d-2482064d9545",
   "metadata": {},
   "outputs": [],
   "source": [
    "df_bluebikes_all = pd.concat([df_bluebikes_01, \n",
    "                            df_bluebikes_02,\n",
    "                            df_bluebikes_03,\n",
    "                            df_bluebikes_03,\n",
    "                            df_bluebikes_04,\n",
    "                            df_bluebikes_05,\n",
    "                            df_bluebikes_06,\n",
    "                            df_bluebikes_07,\n",
    "                            df_bluebikes_08,\n",
    "                            df_bluebikes_09,\n",
    "                            df_bluebikes_10,\n",
    "                            df_bluebikes_11,\n",
    "                            df_bluebikes_12], axis=0)"
   ]
  },
  {
   "cell_type": "code",
   "execution_count": 10,
   "id": "15330cdc-6101-4dc7-b236-f01e1695667c",
   "metadata": {},
   "outputs": [
    {
     "name": "stdout",
     "output_type": "stream",
     "text": [
      "189\n"
     ]
    }
   ],
   "source": [
    "print(len(df_bluebikes_all[\"start station id\"].unique()))"
   ]
  },
  {
   "cell_type": "markdown",
   "id": "91757ce8-2a00-4ca4-a283-96fd96128172",
   "metadata": {},
   "source": [
    "the amount of unique station ID's matches the one from our data frame"
   ]
  },
  {
   "cell_type": "markdown",
   "id": "a28a24b8-34f2-44fe-ba83-7c636969fb76",
   "metadata": {
    "tags": []
   },
   "source": [
    "We are using the following data from these dataframes:\n",
    "- start station latitude\n",
    "- end station latitude\n",
    "- start station longitude\n",
    "- end station longitude\n",
    "\n",
    "from all unique stations (189 in total)"
   ]
  },
  {
   "cell_type": "code",
   "execution_count": 11,
   "id": "55e5b3ad-3467-4eb5-84ef-bf635f8d0513",
   "metadata": {},
   "outputs": [],
   "source": [
    "df_bluebikes_all.drop(['tripduration','starttime','stoptime','end station id', 'end station name', 'end station latitude','end station longitude', 'bikeid', 'usertype', 'birth year','gender'], axis=1, inplace=True)\n",
    "\n",
    "df_bluebikes_all.rename(columns = {'start station id':'start_station_id'}, inplace = True)\n",
    "df_bluebikes_all.rename(columns = {'start station latitude':'start_station_latitude'}, inplace = True)\n",
    "df_bluebikes_all.rename(columns = {'start station longitude':'start_station_longitude'}, inplace = True)\n",
    "df_bluebikes_all.rename(columns = {'start station name':'start_station_name'}, inplace = True)\n",
    "\n",
    "df_bluebikes_all.sort_values([\"start_station_id\"],axis=0, ascending=True,inplace=True,na_position='first')\n",
    "df_bluebikes_all = df_bluebikes_all.drop_duplicates(subset=['start_station_id'])\n",
    "\n",
    "df_stations = df_bluebikes_all"
   ]
  },
  {
   "cell_type": "markdown",
   "id": "0d546bf0-56bf-4835-bb14-e516f94ef4bf",
   "metadata": {},
   "source": [
    "We are exporting this as \"all_station_id.csv\" file for easier access."
   ]
  },
  {
   "cell_type": "code",
   "execution_count": 12,
   "id": "e20c1c7d-cdff-47a8-9985-b135c6b07ed8",
   "metadata": {},
   "outputs": [],
   "source": [
    "# filepath = Path('C:/Users/rfrei/Desktop/all_station_id.csv')\n",
    "# filepath.parent.mkdir(parents=True, exist_ok=True)\n",
    "# df_stations.to_csv(filepath)"
   ]
  },
  {
   "cell_type": "code",
   "execution_count": 13,
   "id": "e7921063-9793-4266-bde5-5e02d1406da0",
   "metadata": {},
   "outputs": [],
   "source": [
    "df_stations = df_stations.reset_index()\n",
    "df_stations.drop(['index'], axis=1, inplace=True)\n"
   ]
  },
  {
   "cell_type": "code",
   "execution_count": 14,
   "id": "a30c9f46-ddca-4218-b56e-d07ba2554f64",
   "metadata": {},
   "outputs": [
    {
     "data": {
      "text/html": [
       "<div>\n",
       "<style scoped>\n",
       "    .dataframe tbody tr th:only-of-type {\n",
       "        vertical-align: middle;\n",
       "    }\n",
       "\n",
       "    .dataframe tbody tr th {\n",
       "        vertical-align: top;\n",
       "    }\n",
       "\n",
       "    .dataframe thead th {\n",
       "        text-align: right;\n",
       "    }\n",
       "</style>\n",
       "<table border=\"1\" class=\"dataframe\">\n",
       "  <thead>\n",
       "    <tr style=\"text-align: right;\">\n",
       "      <th></th>\n",
       "      <th>start_station_id</th>\n",
       "      <th>start_station_name</th>\n",
       "      <th>start_station_latitude</th>\n",
       "      <th>start_station_longitude</th>\n",
       "    </tr>\n",
       "  </thead>\n",
       "  <tbody>\n",
       "    <tr>\n",
       "      <th>0</th>\n",
       "      <td>1</td>\n",
       "      <td>18 Dorrance Warehouse</td>\n",
       "      <td>42.387151</td>\n",
       "      <td>-71.075978</td>\n",
       "    </tr>\n",
       "  </tbody>\n",
       "</table>\n",
       "</div>"
      ],
      "text/plain": [
       "   start_station_id     start_station_name  start_station_latitude  \\\n",
       "0                 1  18 Dorrance Warehouse               42.387151   \n",
       "\n",
       "   start_station_longitude  \n",
       "0               -71.075978  "
      ]
     },
     "execution_count": 14,
     "metadata": {},
     "output_type": "execute_result"
    }
   ],
   "source": [
    "df_stations.head(1)"
   ]
  },
  {
   "cell_type": "markdown",
   "id": "84014bd1-8a4d-4aa3-879c-723b1c4f1fe7",
   "metadata": {},
   "source": [
    "Now we are mapping the lat, long of start and end station to our dataframe (warning: this process might be a bit unorthodox but it is working)."
   ]
  },
  {
   "cell_type": "code",
   "execution_count": 15,
   "id": "a06bef73-08fa-42a6-a72d-839f4177f0b5",
   "metadata": {},
   "outputs": [],
   "source": [
    "df[\"start_lat\"] = pd.to_numeric(df[\"start_station_id\"], downcast=\"float\")\n",
    "df[\"start_long\"] = pd.to_numeric(df[\"start_station_id\"], downcast=\"float\")\n",
    "df[\"end_lat\"] = pd.to_numeric(df[\"end_station_id\"], downcast=\"float\")\n",
    "df[\"end_long\"] = pd.to_numeric(df[\"end_station_id\"], downcast=\"float\")"
   ]
  },
  {
   "cell_type": "markdown",
   "id": "4e6f7620-0fe4-4aff-b0d9-600ded73ba27",
   "metadata": {},
   "source": [
    "The columns above are placeholders.\n",
    "\n",
    "They are used for the  replace methods which are going to place the correct lat, long to the specific row with the matching station ID.\n",
    "\n",
    "Because we only have 189 stations we were able to prepare the matching ID's and lat, long in a rather manual fasion. But this way it is also very effecient. "
   ]
  },
  {
   "cell_type": "code",
   "execution_count": 16,
   "id": "8cf0bfa4-f4c9-4a89-87b6-034d0901f4b8",
   "metadata": {},
   "outputs": [],
   "source": [
    "df['start_lat'] = df['start_lat'].replace([1,3,4,5,6,7,8,9,10,11,12,13,14,15,16,17,19,20,21,22,23,24,25,26,27,29,30,31,32,33,35,36,37,38,39,40,41,42,43,44,45,46,47,48,49,50,51,52,53,54,55,56,57,58,59,60,61,63,64,65,66,67,68,69,70,71,72,73,74,75,76,77,78,79,80,81,82,84,85,87,88,89,90,91,92,93,94,95,96,97,98,99,100,102,103,104,105,106,107,108,109,110,111,112,113,114,115,116,117,118,119,120,121,122,124,125,126,128,129,130,131,133,134,135,136,137,138,139,140,141,142,143,145,146,149,150,151,152,153,158,159,160,161,162,163,167,169,170,171,173,174,175,176,177,178,179,180,183,184,185,186,189,190,192,193,194,195,196,197,199,200,201,202,203,204,205,207,208,209,210,211,212,213,214,215,216,217,218,219],[42.387151,42.340021,42.345392,42.341814,42.361174,42.35328743453294,42.353334,42.351246,42.350406,42.338629,42.335911,42.336437,42.337171,42.361667,42.34807412317439,42.365064,42.347241,42.35977,42.345959,42.352175,42.35892,42.351205,42.341332,42.341522,42.331184,42.363732,42.334073,42.348833,42.34519428944095,42.348706,42.355402,42.349673,42.357402,42.366222,42.33849279283789,42.363871,42.352261,42.352033,42.357143,42.360613,42.344706,42.343864,42.362811,42.356755,42.351146,42.350989,42.3348756,42.34872432400896,42.350851,42.354979,42.347265,42.328654,42.340799,42.355596,42.351356,42.360624982690496,42.348762,42.344023,42.3511,42.3475,42.348607,42.3581,42.36507,42.341598,42.37199165408676,42.383405,42.362613,42.373231,42.373268,42.36346469304347,42.366426,42.386844,42.379637,42.37842,42.3619622,42.352409,42.339335,42.366981,42.378338,42.366621,42.374035,42.379011,42.370677,42.366277,42.3139036,42.320494,42.375603,42.372969,42.373379,42.36919031768079,42.371848,42.385582,42.396969,42.400877,42.346563,42.380287,42.357218503176526,42.325333,42.3625,42.377945,42.36588481543564,42.376369,42.40449,42.39082,42.330716,42.402763,42.387995,42.370803,42.366095,42.397828,42.335741,42.356052,42.335693,42.345733,42.309054,42.320998,42.315692,42.320561,42.377022,42.31756858003556,42.322701,42.310579,42.350413,42.344827,42.344796,42.398365,42.326599,42.361589,42.388966,42.36356015842989,42.396105,42.369885,42.392766,42.336448,42.363796,42.344137,42.358155,42.345901,42.3601,42.3601,42.32797270205962,42.337596,42.3391085,42.309796,42.344792,42.317642,42.378965,42.303469,42.37408991426522,42.310599,42.34900494405213,42.34894857235593,42.38674802045056,42.36264779118595,42.35957320109044,42.35560121327927,42.37478628706384,42.39558845716709,42.35775309465199,42.36544486137399,42.3482032222746,42.3624278429124,42.36559770612416,42.354686,42.33289074055233,42.38614141163957,42.3720597013741,42.31787329345602,42.321678,42.31884382360106,42.33282815812448,42.316873,42.308035,42.309566,42.324069,42.30791912678712,42.35480179069945,42.35057,42.37980321246644,42.38337841883669,42.36489045541549,42.3688385713652,42.369562869377,42.37536686015489,42.37078454600501,42.38244736415864,42.38673178529929,42.351586001198456,42.37430131617823])"
   ]
  },
  {
   "cell_type": "code",
   "execution_count": 17,
   "id": "89a26b0e-6520-4f4d-b1c2-e344ced0c5b1",
   "metadata": {},
   "outputs": [],
   "source": [
    "df['start_long'] = df['start_long'].replace([1,3,4,5,6,7,8,9,10,11,12,13,14,15,16,17,19,20,21,22,23,24,25,26,27,29,30,31,32,33,35,36,37,38,39,40,41,42,43,44,45,46,47,48,49,50,51,52,53,54,55,56,57,58,59,60,61,63,64,65,66,67,68,69,70,71,72,73,74,75,76,77,78,79,80,81,82,84,85,87,88,89,90,91,92,93,94,95,96,97,98,99,100,102,103,104,105,106,107,108,109,110,111,112,113,114,115,116,117,118,119,120,121,122,124,125,126,128,129,130,131,133,134,135,136,137,138,139,140,141,142,143,145,146,149,150,151,152,153,158,159,160,161,162,163,167,169,170,171,173,174,175,176,177,178,179,180,183,184,185,186,189,190,192,193,194,195,196,197,199,200,201,202,203,204,205,207,208,209,210,211,212,213,214,215,216,217,218,219],[-71.075978,-71.100812,-71.069616,-71.090179,-71.065142,-71.04438900947571,-71.137313,-71.115639,-71.108279,-71.1065,-71.088496,-71.073089,-71.102797,-71.13802,-71.07657015323639,-71.119233,-71.105301,-71.051601,-71.082578,-71.055547,-71.057629,-71.043983,-71.076847,-71.068922,-71.095171,-71.124565,-71.105221,-71.041747,-71.1016970872879,-71.097009,-71.058087,-71.077303,-71.147782,-71.059914,-71.07401937246323,-71.050877,-71.123831,-71.070627,-71.050699,-71.057452,-71.097515,-71.085918,-71.056067,-71.055407,-71.066289,-71.073644,-71.0790969,-71.08583986759186,-71.089886,-71.063348,-71.088088,-71.084198,-71.081572,-71.07278,-71.059367,-71.0708999633789,-71.082383,-71.057054,-71.0496,-71.0441,-71.13401,-71.093198,-71.1031,-71.123338,-71.12226963043213,-71.107593,-71.084105,-71.120886,-71.118579,-71.10057324171066,-71.105495,-71.09812,-71.095319,-71.105668,-71.0920526,-71.062679,-71.13493,-71.076472,-71.048927,-71.114214,-71.101427,-71.119945,-71.076529,-71.09169,-71.0405121,-71.051122,-71.064608,-71.094445,-71.111075,-71.11714124679565,-71.060292,-71.113341,-71.123024,-71.116772,-71.128374,-71.125107,-71.1138716340065,-71.075354,-71.08822,-71.116865,-71.06454849243164,-71.114025,-71.123413,-71.10942,-71.057044,-71.126908,-71.119084,-71.104412,-71.086388,-71.130516,-71.03877,-71.069849,-71.045859,-71.100694,-71.11543,-71.110833,-71.098634,-71.06198,-71.056605,-71.06403708501603,-71.099533,-71.107341,-71.07655,-71.028664,-71.031614,-71.107818,-71.066498,-71.107437,-71.132788,-71.08216792345047,-71.139459,-71.069957,-71.129042,-71.023739,-71.129164,-71.052608,-71.052163,-71.063187,-71.0589,-71.0589,-71.11089706420898,-71.096391,-71.0514432,-71.092225,-71.044024,-71.056664,-71.068607,-71.085347,-71.06905996799469,-71.053927,-71.1604106426239,-71.15027189254761,-71.11901879310608,-71.10006093978882,-71.10129475593567,-71.10394477844238,-71.13320231437683,-71.14260613918304,-71.10393404960632,-71.08277142047882,-71.0376513004303,-71.08495473861694,-71.06424808502197,-71.053292,-71.11658334732056,-71.07828140258789,-71.07202649116516,-71.08243077993393,-71.091822,-71.06975734233856,-71.08126938343048,-71.091955,-71.081159,-71.072863,-71.083162,-71.06502056121826,-71.15025043487549,-71.166491,-71.02744817733765,-71.01612031481636,-71.0350424052376,-71.03976666949166,-71.03942692279814,-71.03135883808136,-71.04426160454749,-71.0302323102951,-71.00621223455164,-71.04569256305693,-71.03808671246952])"
   ]
  },
  {
   "cell_type": "code",
   "execution_count": 18,
   "id": "7a0e49f7-4ad7-4541-ba09-6763bc080ef5",
   "metadata": {},
   "outputs": [],
   "source": [
    "df['end_lat'] = df['end_lat'].replace([1,3,4,5,6,7,8,9,10,11,12,13,14,15,16,17,19,20,21,22,23,24,25,26,27,29,30,31,32,33,35,36,37,38,39,40,41,42,43,44,45,46,47,48,49,50,51,52,53,54,55,56,57,58,59,60,61,63,64,65,66,67,68,69,70,71,72,73,74,75,76,77,78,79,80,81,82,84,85,87,88,89,90,91,92,93,94,95,96,97,98,99,100,102,103,104,105,106,107,108,109,110,111,112,113,114,115,116,117,118,119,120,121,122,124,125,126,128,129,130,131,133,134,135,136,137,138,139,140,141,142,143,145,146,149,150,151,152,153,158,159,160,161,162,163,167,169,170,171,173,174,175,176,177,178,179,180,183,184,185,186,189,190,192,193,194,195,196,197,199,200,201,202,203,204,205,207,208,209,210,211,212,213,214,215,216,217,218,219],[42.387151,42.340021,42.345392,42.341814,42.361174,42.35328743453294,42.353334,42.351246,42.350406,42.338629,42.335911,42.336437,42.337171,42.361667,42.34807412317439,42.365064,42.347241,42.35977,42.345959,42.352175,42.35892,42.351205,42.341332,42.341522,42.331184,42.363732,42.334073,42.348833,42.34519428944095,42.348706,42.355402,42.349673,42.357402,42.366222,42.33849279283789,42.363871,42.352261,42.352033,42.357143,42.360613,42.344706,42.343864,42.362811,42.356755,42.351146,42.350989,42.3348756,42.34872432400896,42.350851,42.354979,42.347265,42.328654,42.340799,42.355596,42.351356,42.360624982690496,42.348762,42.344023,42.3511,42.3475,42.348607,42.3581,42.36507,42.341598,42.37199165408676,42.383405,42.362613,42.373231,42.373268,42.36346469304347,42.366426,42.386844,42.379637,42.37842,42.3619622,42.352409,42.339335,42.366981,42.378338,42.366621,42.374035,42.379011,42.370677,42.366277,42.3139036,42.320494,42.375603,42.372969,42.373379,42.36919031768079,42.371848,42.385582,42.396969,42.400877,42.346563,42.380287,42.357218503176526,42.325333,42.3625,42.377945,42.36588481543564,42.376369,42.40449,42.39082,42.330716,42.402763,42.387995,42.370803,42.366095,42.397828,42.335741,42.356052,42.335693,42.345733,42.309054,42.320998,42.315692,42.320561,42.377022,42.31756858003556,42.322701,42.310579,42.350413,42.344827,42.344796,42.398365,42.326599,42.361589,42.388966,42.36356015842989,42.396105,42.369885,42.392766,42.336448,42.363796,42.344137,42.358155,42.345901,42.3601,42.3601,42.32797270205962,42.337596,42.3391085,42.309796,42.344792,42.317642,42.378965,42.303469,42.37408991426522,42.310599,42.34900494405213,42.34894857235593,42.38674802045056,42.36264779118595,42.35957320109044,42.35560121327927,42.37478628706384,42.39558845716709,42.35775309465199,42.36544486137399,42.3482032222746,42.3624278429124,42.36559770612416,42.354686,42.33289074055233,42.38614141163957,42.3720597013741,42.31787329345602,42.321678,42.31884382360106,42.33282815812448,42.316873,42.308035,42.309566,42.324069,42.30791912678712,42.35480179069945,42.35057,42.37980321246644,42.38337841883669,42.36489045541549,42.3688385713652,42.369562869377,42.37536686015489,42.37078454600501,42.38244736415864,42.38673178529929,42.351586001198456,42.37430131617823])"
   ]
  },
  {
   "cell_type": "code",
   "execution_count": 19,
   "id": "5e587974-f49a-44a1-ac37-d29659de64eb",
   "metadata": {},
   "outputs": [],
   "source": [
    "df['end_long'] = df['end_long'].replace([1,3,4,5,6,7,8,9,10,11,12,13,14,15,16,17,19,20,21,22,23,24,25,26,27,29,30,31,32,33,35,36,37,38,39,40,41,42,43,44,45,46,47,48,49,50,51,52,53,54,55,56,57,58,59,60,61,63,64,65,66,67,68,69,70,71,72,73,74,75,76,77,78,79,80,81,82,84,85,87,88,89,90,91,92,93,94,95,96,97,98,99,100,102,103,104,105,106,107,108,109,110,111,112,113,114,115,116,117,118,119,120,121,122,124,125,126,128,129,130,131,133,134,135,136,137,138,139,140,141,142,143,145,146,149,150,151,152,153,158,159,160,161,162,163,167,169,170,171,173,174,175,176,177,178,179,180,183,184,185,186,189,190,192,193,194,195,196,197,199,200,201,202,203,204,205,207,208,209,210,211,212,213,214,215,216,217,218,219],[-71.075978,-71.100812,-71.069616,-71.090179,-71.065142,-71.04438900947571,-71.137313,-71.115639,-71.108279,-71.1065,-71.088496,-71.073089,-71.102797,-71.13802,-71.07657015323639,-71.119233,-71.105301,-71.051601,-71.082578,-71.055547,-71.057629,-71.043983,-71.076847,-71.068922,-71.095171,-71.124565,-71.105221,-71.041747,-71.1016970872879,-71.097009,-71.058087,-71.077303,-71.147782,-71.059914,-71.07401937246323,-71.050877,-71.123831,-71.070627,-71.050699,-71.057452,-71.097515,-71.085918,-71.056067,-71.055407,-71.066289,-71.073644,-71.0790969,-71.08583986759186,-71.089886,-71.063348,-71.088088,-71.084198,-71.081572,-71.07278,-71.059367,-71.0708999633789,-71.082383,-71.057054,-71.0496,-71.0441,-71.13401,-71.093198,-71.1031,-71.123338,-71.12226963043213,-71.107593,-71.084105,-71.120886,-71.118579,-71.10057324171066,-71.105495,-71.09812,-71.095319,-71.105668,-71.0920526,-71.062679,-71.13493,-71.076472,-71.048927,-71.114214,-71.101427,-71.119945,-71.076529,-71.09169,-71.0405121,-71.051122,-71.064608,-71.094445,-71.111075,-71.11714124679565,-71.060292,-71.113341,-71.123024,-71.116772,-71.128374,-71.125107,-71.1138716340065,-71.075354,-71.08822,-71.116865,-71.06454849243164,-71.114025,-71.123413,-71.10942,-71.057044,-71.126908,-71.119084,-71.104412,-71.086388,-71.130516,-71.03877,-71.069849,-71.045859,-71.100694,-71.11543,-71.110833,-71.098634,-71.06198,-71.056605,-71.06403708501603,-71.099533,-71.107341,-71.07655,-71.028664,-71.031614,-71.107818,-71.066498,-71.107437,-71.132788,-71.08216792345047,-71.139459,-71.069957,-71.129042,-71.023739,-71.129164,-71.052608,-71.052163,-71.063187,-71.0589,-71.0589,-71.11089706420898,-71.096391,-71.0514432,-71.092225,-71.044024,-71.056664,-71.068607,-71.085347,-71.06905996799469,-71.053927,-71.1604106426239,-71.15027189254761,-71.11901879310608,-71.10006093978882,-71.10129475593567,-71.10394477844238,-71.13320231437683,-71.14260613918304,-71.10393404960632,-71.08277142047882,-71.0376513004303,-71.08495473861694,-71.06424808502197,-71.053292,-71.11658334732056,-71.07828140258789,-71.07202649116516,-71.08243077993393,-71.091822,-71.06975734233856,-71.08126938343048,-71.091955,-71.081159,-71.072863,-71.083162,-71.06502056121826,-71.15025043487549,-71.166491,-71.02744817733765,-71.01612031481636,-71.0350424052376,-71.03976666949166,-71.03942692279814,-71.03135883808136,-71.04426160454749,-71.0302323102951,-71.00621223455164,-71.04569256305693,-71.03808671246952])"
   ]
  },
  {
   "cell_type": "markdown",
   "id": "1958fcfc-a1f7-4014-9c5d-f197daa5beae",
   "metadata": {},
   "source": [
    "From the lat, long we can create new columns with the coordinates."
   ]
  },
  {
   "cell_type": "code",
   "execution_count": 20,
   "id": "ea42a678-b148-4bd5-8ffa-5801708e41fc",
   "metadata": {},
   "outputs": [],
   "source": [
    "df[\"start_coordinates\"] = list(zip(df[\"start_lat\"],df[\"start_long\"]))"
   ]
  },
  {
   "cell_type": "code",
   "execution_count": 21,
   "id": "cd8080b9-1d96-45c3-9f7c-b959ac6d24d9",
   "metadata": {},
   "outputs": [],
   "source": [
    "df[\"end_coordinates\"] = list(zip(df[\"end_lat\"],df[\"end_long\"]))"
   ]
  },
  {
   "cell_type": "markdown",
   "id": "83af8b3a-478f-4e03-ad64-8b8784589aeb",
   "metadata": {},
   "source": [
    "Now the lat, long columns are not needed anymore."
   ]
  },
  {
   "cell_type": "code",
   "execution_count": 22,
   "id": "b4714e07-712e-4b2e-96fb-3a631266ca26",
   "metadata": {},
   "outputs": [],
   "source": [
    " df.drop(['start_lat','end_lat','start_long','end_long'], axis=1, inplace=True)"
   ]
  },
  {
   "cell_type": "code",
   "execution_count": 23,
   "id": "979ba8d7-aafb-4430-bd9c-3c611168fa6d",
   "metadata": {},
   "outputs": [
    {
     "data": {
      "text/html": [
       "<div>\n",
       "<style scoped>\n",
       "    .dataframe tbody tr th:only-of-type {\n",
       "        vertical-align: middle;\n",
       "    }\n",
       "\n",
       "    .dataframe tbody tr th {\n",
       "        vertical-align: top;\n",
       "    }\n",
       "\n",
       "    .dataframe thead th {\n",
       "        text-align: right;\n",
       "    }\n",
       "</style>\n",
       "<table border=\"1\" class=\"dataframe\">\n",
       "  <thead>\n",
       "    <tr style=\"text-align: right;\">\n",
       "      <th></th>\n",
       "      <th>start_time</th>\n",
       "      <th>end_time</th>\n",
       "      <th>start_station_id</th>\n",
       "      <th>end_station_id</th>\n",
       "      <th>start_station_name</th>\n",
       "      <th>end_station_name</th>\n",
       "      <th>bike_id</th>\n",
       "      <th>user_type</th>\n",
       "      <th>start_coordinates</th>\n",
       "      <th>end_coordinates</th>\n",
       "    </tr>\n",
       "  </thead>\n",
       "  <tbody>\n",
       "    <tr>\n",
       "      <th>0</th>\n",
       "      <td>2016-01-01 00:08:07</td>\n",
       "      <td>2016-01-01 00:40:26</td>\n",
       "      <td>36</td>\n",
       "      <td>19</td>\n",
       "      <td>Boston Public Library - 700 Boylston St.</td>\n",
       "      <td>Buswell St. at Park Dr.</td>\n",
       "      <td>1406</td>\n",
       "      <td>Subscriber</td>\n",
       "      <td>(42.349673, -71.077303)</td>\n",
       "      <td>(42.347241, -71.105301)</td>\n",
       "    </tr>\n",
       "  </tbody>\n",
       "</table>\n",
       "</div>"
      ],
      "text/plain": [
       "           start_time            end_time  start_station_id  end_station_id  \\\n",
       "0 2016-01-01 00:08:07 2016-01-01 00:40:26                36              19   \n",
       "\n",
       "                         start_station_name         end_station_name  bike_id  \\\n",
       "0  Boston Public Library - 700 Boylston St.  Buswell St. at Park Dr.     1406   \n",
       "\n",
       "    user_type        start_coordinates          end_coordinates  \n",
       "0  Subscriber  (42.349673, -71.077303)  (42.347241, -71.105301)  "
      ]
     },
     "execution_count": 23,
     "metadata": {},
     "output_type": "execute_result"
    }
   ],
   "source": [
    "df.head(1)"
   ]
  },
  {
   "cell_type": "markdown",
   "id": "ecc4a963-260a-4091-a693-c2e5b922f014",
   "metadata": {},
   "source": [
    "Now we are creating new columns for the following trip-level features:\n",
    "- distance\n",
    "- duration\n",
    "- speed\n",
    "\n",
    "we need the following methods:"
   ]
  },
  {
   "cell_type": "code",
   "execution_count": 24,
   "id": "930119f0-258b-4adf-b2c5-a6da046dedce",
   "metadata": {},
   "outputs": [],
   "source": [
    "def calc_distances(start_point,end_point):\n",
    "    return geopy.distance.geodesic( start_point, end_point ).km\n",
    "    \n",
    "def calc_durations(end_time,start_time):\n",
    "    return (end_time - start_time).total_seconds()"
   ]
  },
  {
   "cell_type": "markdown",
   "id": "15f98c59-553a-486a-b2fc-3d4063181b08",
   "metadata": {},
   "source": [
    "The distance between start and end station is calculated using the geopy function.\n",
    "This gives us the bee-line between two stations. Trips where start and end are equal will therefore have a distance of 0km. (This takes a few minutes)"
   ]
  },
  {
   "cell_type": "code",
   "execution_count": 25,
   "id": "6b8b4060-93f7-4dad-a0bb-37a6d8b6b1eb",
   "metadata": {},
   "outputs": [],
   "source": [
    "df['distance_km'] = df.apply(lambda row: calc_distances(row.start_coordinates, row.end_coordinates), axis=1)"
   ]
  },
  {
   "cell_type": "markdown",
   "id": "31cecbc6-b5ca-4f57-8943-4a9c92848303",
   "metadata": {},
   "source": [
    "The duration can be calculated from the earlier formatted start and end time stamps."
   ]
  },
  {
   "cell_type": "code",
   "execution_count": 26,
   "id": "22b9ffd1-1a52-4506-b607-aecf181f026a",
   "metadata": {},
   "outputs": [],
   "source": [
    "df[\"duration_sec\"] = df.apply(lambda row: calc_durations(row.end_time,row.start_time), axis=1)"
   ]
  },
  {
   "cell_type": "markdown",
   "id": "0a78420d-d0cb-4971-be71-9aa04df8768f",
   "metadata": {},
   "source": [
    "Now we can calculate the average speed of each trip and add this feature to the data frame:"
   ]
  },
  {
   "cell_type": "code",
   "execution_count": 27,
   "id": "35182410-aa6d-4e2d-8a87-624496710021",
   "metadata": {},
   "outputs": [],
   "source": [
    "df[\"speed_kmh\"] = (df[\"distance_km\"]/(df[\"duration_sec\"]/3600))"
   ]
  },
  {
   "cell_type": "code",
   "execution_count": 28,
   "id": "4b98f03a-8e9f-42b4-a372-97531e297d14",
   "metadata": {},
   "outputs": [
    {
     "data": {
      "text/html": [
       "<div>\n",
       "<style scoped>\n",
       "    .dataframe tbody tr th:only-of-type {\n",
       "        vertical-align: middle;\n",
       "    }\n",
       "\n",
       "    .dataframe tbody tr th {\n",
       "        vertical-align: top;\n",
       "    }\n",
       "\n",
       "    .dataframe thead th {\n",
       "        text-align: right;\n",
       "    }\n",
       "</style>\n",
       "<table border=\"1\" class=\"dataframe\">\n",
       "  <thead>\n",
       "    <tr style=\"text-align: right;\">\n",
       "      <th></th>\n",
       "      <th>start_time</th>\n",
       "      <th>end_time</th>\n",
       "      <th>start_station_id</th>\n",
       "      <th>end_station_id</th>\n",
       "      <th>start_station_name</th>\n",
       "      <th>end_station_name</th>\n",
       "      <th>bike_id</th>\n",
       "      <th>user_type</th>\n",
       "      <th>start_coordinates</th>\n",
       "      <th>end_coordinates</th>\n",
       "      <th>distance_km</th>\n",
       "      <th>duration_sec</th>\n",
       "      <th>speed_kmh</th>\n",
       "    </tr>\n",
       "  </thead>\n",
       "  <tbody>\n",
       "    <tr>\n",
       "      <th>0</th>\n",
       "      <td>2016-01-01 00:08:07</td>\n",
       "      <td>2016-01-01 00:40:26</td>\n",
       "      <td>36</td>\n",
       "      <td>19</td>\n",
       "      <td>Boston Public Library - 700 Boylston St.</td>\n",
       "      <td>Buswell St. at Park Dr.</td>\n",
       "      <td>1406</td>\n",
       "      <td>Subscriber</td>\n",
       "      <td>(42.349673, -71.077303)</td>\n",
       "      <td>(42.347241, -71.105301)</td>\n",
       "      <td>2.322721</td>\n",
       "      <td>1939.0</td>\n",
       "      <td>4.312426</td>\n",
       "    </tr>\n",
       "  </tbody>\n",
       "</table>\n",
       "</div>"
      ],
      "text/plain": [
       "           start_time            end_time  start_station_id  end_station_id  \\\n",
       "0 2016-01-01 00:08:07 2016-01-01 00:40:26                36              19   \n",
       "\n",
       "                         start_station_name         end_station_name  bike_id  \\\n",
       "0  Boston Public Library - 700 Boylston St.  Buswell St. at Park Dr.     1406   \n",
       "\n",
       "    user_type        start_coordinates          end_coordinates  distance_km  \\\n",
       "0  Subscriber  (42.349673, -71.077303)  (42.347241, -71.105301)     2.322721   \n",
       "\n",
       "   duration_sec  speed_kmh  \n",
       "0        1939.0   4.312426  "
      ]
     },
     "execution_count": 28,
     "metadata": {},
     "output_type": "execute_result"
    }
   ],
   "source": [
    "df.head(1)"
   ]
  },
  {
   "cell_type": "markdown",
   "id": "a96cd042-9318-4ddf-9f2b-6a45e8b9cfc9",
   "metadata": {},
   "source": [
    "Now we can calculate some interesting values:"
   ]
  },
  {
   "cell_type": "code",
   "execution_count": 29,
   "id": "e789c241-124a-4938-a267-4561ad59d1cf",
   "metadata": {},
   "outputs": [
    {
     "name": "stdout",
     "output_type": "stream",
     "text": [
      "station_to_station: 96.8742997711541 %\n",
      "roundtrips: 3.1257002288459095 %\n"
     ]
    }
   ],
   "source": [
    "df_station_to_station = df.drop(df[df['distance_km'] == 0].index)\n",
    "df_roundtrip = df.drop(df[df['distance_km'] != 0].index)\n",
    "print(\"station_to_station:\", (len(df_station_to_station)/len(df))*100,'%')\n",
    "print(\"roundtrips:\", (len(df_roundtrip)/len(df))*100,'%')"
   ]
  },
  {
   "cell_type": "code",
   "execution_count": 30,
   "id": "434fd4e8-d804-4ff6-b2ef-504cfe537ebc",
   "metadata": {
    "tags": []
   },
   "outputs": [
    {
     "name": "stdout",
     "output_type": "stream",
     "text": [
      "average_speed:  9.761 km/h\n"
     ]
    }
   ],
   "source": [
    "average_speed = round(df[df[\"speed_kmh\"] != 0][\"speed_kmh\"].mean(),4)\n",
    "print(\"average_speed: \",average_speed, \"km/h\")"
   ]
  },
  {
   "cell_type": "code",
   "execution_count": 31,
   "id": "582272db-7a88-4a6f-b4ea-5ac4b5b230e8",
   "metadata": {},
   "outputs": [
    {
     "name": "stdout",
     "output_type": "stream",
     "text": [
      "average_distance:  1.9249 km\n"
     ]
    }
   ],
   "source": [
    "average_distance = round(df[df[\"distance_km\"] != 0][\"distance_km\"].mean(),4)\n",
    "print(\"average_distance: \",average_distance, \"km\")"
   ]
  },
  {
   "cell_type": "code",
   "execution_count": 32,
   "id": "6ebaa1a2-1906-4f4c-a32d-5d7002d249e6",
   "metadata": {},
   "outputs": [
    {
     "name": "stdout",
     "output_type": "stream",
     "text": [
      "average_duration:  22.7537 min\n"
     ]
    }
   ],
   "source": [
    "average_duration = round(df[df[\"duration_sec\"] != 0][\"duration_sec\"].mean(),4)\n",
    "average_duration = round(average_duration/60,4)\n",
    "print(\"average_duration: \", average_duration  ,\"min\") "
   ]
  },
  {
   "cell_type": "markdown",
   "id": "62f1643b-c371-432c-b6b1-dfa50e120ee1",
   "metadata": {
    "tags": []
   },
   "source": [
    "### 1.2) Data Cleaning"
   ]
  },
  {
   "cell_type": "markdown",
   "id": "cd4e62a6-8082-4bdc-84d9-ee747917ecf8",
   "metadata": {},
   "source": [
    "Now we are taking a look at the data and will clean up any errors that might come from bluebikes' data"
   ]
  },
  {
   "cell_type": "markdown",
   "id": "b1ed59f1-b497-48eb-b18b-39b3bac6c31d",
   "metadata": {},
   "source": [
    "The station with name \"8D OPS 01\" and \"8D OPS 03\" must be a system error:\n",
    "\n",
    "8D OPS 01 (ID: 158) has the coordinates 45.505086,-73.566921 - which is in canada\n",
    "\n",
    "8D OPS 03 (ID: 153) has the coordinates 0,0 - which is in the atlantic ocean\n",
    "\n",
    "we are deleting trips that inlcude these stations:"
   ]
  },
  {
   "cell_type": "code",
   "execution_count": 33,
   "id": "84e0bc79-a6f8-41cf-9807-26ad65db2395",
   "metadata": {},
   "outputs": [
    {
     "data": {
      "text/plain": [
       "1236203"
      ]
     },
     "execution_count": 33,
     "metadata": {},
     "output_type": "execute_result"
    }
   ],
   "source": [
    "len(df)"
   ]
  },
  {
   "cell_type": "code",
   "execution_count": 34,
   "id": "03676c1f-7745-4664-874e-1de2b4940713",
   "metadata": {},
   "outputs": [
    {
     "name": "stdout",
     "output_type": "stream",
     "text": [
      "df:  1236200\n",
      "df_stations:  189\n"
     ]
    }
   ],
   "source": [
    "df = df.drop(df[df['start_station_id'] == 158].index)\n",
    "df = df.drop(df[df['start_station_id'] == 153].index)\n",
    "df = df.drop(df[df['end_station_id'] == 158].index)\n",
    "df = df.drop(df[df['end_station_id'] == 153].index)\n",
    "\n",
    "print(\"df: \",len(df))\n",
    "print(\"df_stations: \",len(df_stations))"
   ]
  },
  {
   "cell_type": "markdown",
   "id": "5d3ce947-2cc0-4b99-aadc-825e60259386",
   "metadata": {},
   "source": [
    "We have decided that any average speed above 30 km/h can not be achieved with a rental bike in city traffic, therefore we are deleting those:"
   ]
  },
  {
   "cell_type": "code",
   "execution_count": 35,
   "id": "f23c6201-59b7-48e5-b9d3-5c2681e9d921",
   "metadata": {},
   "outputs": [
    {
     "data": {
      "text/plain": [
       "1236192"
      ]
     },
     "execution_count": 35,
     "metadata": {},
     "output_type": "execute_result"
    }
   ],
   "source": [
    "df = df.drop(df[df['speed_kmh'] > 30].index)\n",
    "len(df)"
   ]
  },
  {
   "cell_type": "markdown",
   "id": "c2627e05-f510-4190-8c21-5ad64da2dad2",
   "metadata": {},
   "source": [
    "Trips with an average negative speed also don't make sense - we are deleting them:"
   ]
  },
  {
   "cell_type": "code",
   "execution_count": 36,
   "id": "4b82f5c0-3b3f-4855-bce4-2dbeab91796b",
   "metadata": {},
   "outputs": [
    {
     "data": {
      "text/plain": [
       "1236189"
      ]
     },
     "execution_count": 36,
     "metadata": {},
     "output_type": "execute_result"
    }
   ],
   "source": [
    "df = df.drop(df[df['speed_kmh'] < 0].index)\n",
    "len(df)"
   ]
  },
  {
   "cell_type": "code",
   "execution_count": 37,
   "id": "5d2f3317-58d8-4c7d-a4b8-79a7febe8cd1",
   "metadata": {},
   "outputs": [],
   "source": [
    "df_45 = df.drop(df[df['duration_sec'] > 2700].index)\n",
    "df_45_plus = df.drop(df[df['duration_sec'] <= 2700].index)\n",
    "df_120 = df.drop(df[df['duration_sec'] > 7200].index)\n",
    "df_28800 = df.drop(df[df['duration_sec'] > 28800].index)"
   ]
  },
  {
   "cell_type": "code",
   "execution_count": 38,
   "id": "9fb74bd2-7866-481c-a0a1-4227aa0aa175",
   "metadata": {},
   "outputs": [
    {
     "name": "stdout",
     "output_type": "stream",
     "text": [
      "df_45: 96.97869824112657 %\n"
     ]
    }
   ],
   "source": [
    "print(\"df_45:\", (len(df_45)/len(df))*100,'%')"
   ]
  },
  {
   "cell_type": "code",
   "execution_count": 39,
   "id": "d7de0829-44ab-453e-b0b0-4b65442170bf",
   "metadata": {},
   "outputs": [
    {
     "name": "stdout",
     "output_type": "stream",
     "text": [
      "df_45_plus: 3.021301758873441 %\n"
     ]
    }
   ],
   "source": [
    "print(\"df_45_plus:\", (len(df_45_plus)/len(df))*100,'%')"
   ]
  },
  {
   "cell_type": "code",
   "execution_count": 40,
   "id": "1e2b0261-2a9c-4218-8c33-9324eca3c678",
   "metadata": {},
   "outputs": [
    {
     "name": "stdout",
     "output_type": "stream",
     "text": [
      "df_120: 99.30212936694956 %\n"
     ]
    }
   ],
   "source": [
    "print(\"df_120:\", (len(df_120)/len(df))*100,'%')"
   ]
  },
  {
   "cell_type": "markdown",
   "id": "75317b7c-0eb5-496b-818f-27d2fe9683b6",
   "metadata": {},
   "source": [
    "Because of the pricing structure which makes trips over 2 hours expensive for the user and the fact that only 0.7% of the trips are longer than 2 hours, we are deleting all trips that are longer than 2 hours."
   ]
  },
  {
   "cell_type": "code",
   "execution_count": 41,
   "id": "360f8d0c-a83e-4684-92f9-2059b470d6bb",
   "metadata": {},
   "outputs": [
    {
     "data": {
      "text/plain": [
       "1227562"
      ]
     },
     "execution_count": 41,
     "metadata": {},
     "output_type": "execute_result"
    }
   ],
   "source": [
    "df = df.drop(df[df['duration_sec'] > 7200].index)\n",
    "len(df)"
   ]
  },
  {
   "cell_type": "markdown",
   "id": "641ad3ae-0c57-4c10-906d-d54f5caa1fec",
   "metadata": {
    "jp-MarkdownHeadingCollapsed": true,
    "tags": []
   },
   "source": [
    "### 1.3) More Data preparation"
   ]
  },
  {
   "cell_type": "markdown",
   "id": "ba1c0822-b679-4ad8-91ed-7788366a9194",
   "metadata": {},
   "source": [
    "Now we are preparing the data with visualization and clustering in mind."
   ]
  },
  {
   "cell_type": "markdown",
   "id": "f08812a4-e060-441a-8e74-2d4f0353dc2f",
   "metadata": {
    "tags": []
   },
   "source": [
    "#### df_stations"
   ]
  },
  {
   "cell_type": "markdown",
   "id": "62207d0f-e116-483f-a39e-da062b5d7452",
   "metadata": {
    "tags": []
   },
   "source": [
    "##### Trips per Station"
   ]
  },
  {
   "cell_type": "code",
   "execution_count": 42,
   "id": "0a57e251-fa91-4906-9b24-0fdc4e638b5b",
   "metadata": {},
   "outputs": [],
   "source": [
    "Trips_per_Station = []"
   ]
  },
  {
   "cell_type": "markdown",
   "id": "66b3debe-0364-4e93-8437-0f2088a337be",
   "metadata": {},
   "source": [
    "Since we got the length of our dataframe, we can count how many departures we are now able to use a lambda function to understand the departures at the individual stations."
   ]
  },
  {
   "cell_type": "code",
   "execution_count": 43,
   "id": "835d5545-82cb-40ed-8d82-b103051becbb",
   "metadata": {},
   "outputs": [],
   "source": [
    "for i in df_stations.start_station_id:\n",
    "    Trip = (df.where(lambda x: (x.start_station_id == i), axis = 0))\n",
    "    Trips_per_Station.append(len(df) - Trip['start_station_id'].isnull().sum())"
   ]
  },
  {
   "cell_type": "code",
   "execution_count": 44,
   "id": "ed501a1d-d331-48dc-8f90-afe65894c1af",
   "metadata": {},
   "outputs": [
    {
     "name": "stdout",
     "output_type": "stream",
     "text": [
      "[74, 4665, 8922, 7045, 11635, 4560, 4131, 9464, 9558, 8553, 7971, 7768, 8758, 2607, 14985, 6549, 7208, 10844, 12002, 31348, 14462, 7673, 8399, 7952, 4999, 3717, 6275, 5356, 9205, 13823, 9417, 16467, 1310, 9013, 9213, 10786, 8588, 13813, 11014, 7732, 10072, 13168, 13882, 8012, 7637, 8539, 2837, 9161, 17033, 11576, 11953, 1486, 775, 14162, 7924, 15722, 12729, 3326, 9619, 2953, 5052, 35504, 24018, 6206, 8731, 5773, 10614, 11685, 22996, 11417, 14216, 2180, 5519, 6466, 21120, 10378, 2910, 9090, 5343, 10331, 13124, 7846, 12006, 14615, 1051, 1508, 5484, 11425, 10009, 9777, 11304, 3513, 10388, 2254, 3207, 6386, 12251, 508, 14347, 8583, 12726, 9431, 1706, 1365, 2441, 3213, 10187, 9685, 7140, 5475, 4002, 8718, 4823, 3581, 2418, 2642, 1044, 1042, 2470, 719, 3693, 2826, 5933, 3405, 4365, 1606, 932, 6148, 2875, 6613, 3085, 6264, 1874, 2987, 6223, 5141, 7551, 6481, 0, 0, 1730, 4653, 5017, 368, 4912, 1071, 2858, 414, 2388, 497, 999, 1971, 3296, 11712, 15196, 17430, 2391, 385, 779, 564, 4669, 17944, 8880, 5213, 3070, 1316, 1058, 293, 243, 140, 666, 196, 112, 60, 73, 77, 183, 192, 29, 43, 82, 170, 95, 160, 44, 41, 59, 1408, 23]\n"
     ]
    }
   ],
   "source": [
    "print(Trips_per_Station)"
   ]
  },
  {
   "cell_type": "markdown",
   "id": "9dd813ba-ed54-4a89-8d8a-e74561b09551",
   "metadata": {},
   "source": [
    "To check for completeness, we compare the length of the array with the number of unique stations."
   ]
  },
  {
   "cell_type": "code",
   "execution_count": 45,
   "id": "40e68c22-926a-4022-bab4-749436a1ebc9",
   "metadata": {},
   "outputs": [
    {
     "data": {
      "text/plain": [
       "189"
      ]
     },
     "execution_count": 45,
     "metadata": {},
     "output_type": "execute_result"
    }
   ],
   "source": [
    "len(Trips_per_Station)"
   ]
  },
  {
   "cell_type": "markdown",
   "id": "cd270143-b106-4f8d-9315-ec99f6533b04",
   "metadata": {},
   "source": [
    "Since this is the case, we can enter the 189 entries directly into the dataframe of the stations."
   ]
  },
  {
   "cell_type": "code",
   "execution_count": 46,
   "id": "2ffa9c90-bb80-4901-af4d-eda640f4d8ed",
   "metadata": {},
   "outputs": [],
   "source": [
    "df_stations['amout_of_trips_per_station'] = Trips_per_Station"
   ]
  },
  {
   "cell_type": "code",
   "execution_count": 47,
   "id": "d7ad80dc-7a3f-494d-b941-17a8c5e19d7f",
   "metadata": {},
   "outputs": [
    {
     "data": {
      "text/plain": [
       "1227562"
      ]
     },
     "execution_count": 47,
     "metadata": {},
     "output_type": "execute_result"
    }
   ],
   "source": [
    "sum(df_stations['amout_of_trips_per_station'])"
   ]
  },
  {
   "cell_type": "markdown",
   "id": "0fe46572-a8ca-40f9-b91b-8e0388442299",
   "metadata": {},
   "source": [
    "Here you can also clearly see the high demand for students.\n",
    "\n",
    "The most used station is one at MIT"
   ]
  },
  {
   "cell_type": "code",
   "execution_count": 48,
   "id": "57cef766-38d1-449d-b544-e92c92e9c9e6",
   "metadata": {},
   "outputs": [],
   "source": [
    "df_stations.sort_values(['amout_of_trips_per_station'],axis=0, ascending=False,inplace=True,na_position='first')"
   ]
  },
  {
   "cell_type": "code",
   "execution_count": 49,
   "id": "81d34bae-814c-45ac-89d0-b10a63b6d4a7",
   "metadata": {},
   "outputs": [
    {
     "data": {
      "text/html": [
       "<div>\n",
       "<style scoped>\n",
       "    .dataframe tbody tr th:only-of-type {\n",
       "        vertical-align: middle;\n",
       "    }\n",
       "\n",
       "    .dataframe tbody tr th {\n",
       "        vertical-align: top;\n",
       "    }\n",
       "\n",
       "    .dataframe thead th {\n",
       "        text-align: right;\n",
       "    }\n",
       "</style>\n",
       "<table border=\"1\" class=\"dataframe\">\n",
       "  <thead>\n",
       "    <tr style=\"text-align: right;\">\n",
       "      <th></th>\n",
       "      <th>start_station_id</th>\n",
       "      <th>start_station_name</th>\n",
       "      <th>start_station_latitude</th>\n",
       "      <th>start_station_longitude</th>\n",
       "      <th>amout_of_trips_per_station</th>\n",
       "    </tr>\n",
       "  </thead>\n",
       "  <tbody>\n",
       "    <tr>\n",
       "      <th>61</th>\n",
       "      <td>67</td>\n",
       "      <td>MIT at Mass Ave / Amherst St</td>\n",
       "      <td>42.358100</td>\n",
       "      <td>-71.093198</td>\n",
       "      <td>35504</td>\n",
       "    </tr>\n",
       "    <tr>\n",
       "      <th>19</th>\n",
       "      <td>22</td>\n",
       "      <td>South Station - 700 Atlantic Ave.</td>\n",
       "      <td>42.352175</td>\n",
       "      <td>-71.055547</td>\n",
       "      <td>31348</td>\n",
       "    </tr>\n",
       "    <tr>\n",
       "      <th>62</th>\n",
       "      <td>68</td>\n",
       "      <td>Central Square at Mass Ave / Essex St</td>\n",
       "      <td>42.365070</td>\n",
       "      <td>-71.103100</td>\n",
       "      <td>24018</td>\n",
       "    </tr>\n",
       "    <tr>\n",
       "      <th>68</th>\n",
       "      <td>74</td>\n",
       "      <td>Harvard Square at Mass Ave/ Dunster</td>\n",
       "      <td>42.373268</td>\n",
       "      <td>-71.118579</td>\n",
       "      <td>22996</td>\n",
       "    </tr>\n",
       "    <tr>\n",
       "      <th>74</th>\n",
       "      <td>80</td>\n",
       "      <td>MIT Stata Center at Vassar St / Main St</td>\n",
       "      <td>42.361962</td>\n",
       "      <td>-71.092053</td>\n",
       "      <td>21120</td>\n",
       "    </tr>\n",
       "  </tbody>\n",
       "</table>\n",
       "</div>"
      ],
      "text/plain": [
       "    start_station_id                       start_station_name  \\\n",
       "61                67             MIT at Mass Ave / Amherst St   \n",
       "19                22        South Station - 700 Atlantic Ave.   \n",
       "62                68    Central Square at Mass Ave / Essex St   \n",
       "68                74      Harvard Square at Mass Ave/ Dunster   \n",
       "74                80  MIT Stata Center at Vassar St / Main St   \n",
       "\n",
       "    start_station_latitude  start_station_longitude  \\\n",
       "61               42.358100               -71.093198   \n",
       "19               42.352175               -71.055547   \n",
       "62               42.365070               -71.103100   \n",
       "68               42.373268               -71.118579   \n",
       "74               42.361962               -71.092053   \n",
       "\n",
       "    amout_of_trips_per_station  \n",
       "61                       35504  \n",
       "19                       31348  \n",
       "62                       24018  \n",
       "68                       22996  \n",
       "74                       21120  "
      ]
     },
     "execution_count": 49,
     "metadata": {},
     "output_type": "execute_result"
    }
   ],
   "source": [
    "df_stations.head(5)"
   ]
  },
  {
   "cell_type": "code",
   "execution_count": 50,
   "id": "3c13b0f5-c0cc-48f8-9224-246c70c0d105",
   "metadata": {},
   "outputs": [],
   "source": [
    "df_stations.sort_index(inplace=True)"
   ]
  },
  {
   "cell_type": "markdown",
   "id": "ea865514-20ea-4c4b-8931-4469de0fa013",
   "metadata": {
    "tags": []
   },
   "source": [
    "##### Dinstance from city center"
   ]
  },
  {
   "cell_type": "code",
   "execution_count": 51,
   "id": "9a50a994-d16a-47c9-81cd-0351140fd1ef",
   "metadata": {},
   "outputs": [],
   "source": [
    "df_stations[\"start_coordinates\"] = list(zip(df_stations[\"start_station_latitude\"],df_stations[\"start_station_longitude\"]))"
   ]
  },
  {
   "cell_type": "markdown",
   "id": "d594f409-cd1a-42f8-851d-4a19e90fb334",
   "metadata": {},
   "source": [
    "Before we were using the center of Boston CBD as we expected it to be the center of the most popular rental stations.<br>\n",
    "Old coordinates: (42.36041042227672,-71.05799197093351) <br>\n",
    "In 1.4 Visualization we have created a map to show the most popular rental staions.<br>\n",
    "By inspecting the map we found out that the center is actually somewhere else, please refer to the report for a more visual example. <br>\n",
    "So we have changed the coordiantes to that center point:<br>\n",
    "New coordinates: (42.357998, -71.080980)"
   ]
  },
  {
   "cell_type": "code",
   "execution_count": 52,
   "id": "efab56b5-7e08-4358-9e99-468b915edfa4",
   "metadata": {},
   "outputs": [
    {
     "data": {
      "text/plain": [
       "tuple"
      ]
     },
     "execution_count": 52,
     "metadata": {},
     "output_type": "execute_result"
    }
   ],
   "source": [
    "center_point = (42.357998, -71.080980)\n",
    "type(center_point)"
   ]
  },
  {
   "cell_type": "code",
   "execution_count": 53,
   "id": "2081c7cb-581c-46d8-84f4-bfbc1005c56a",
   "metadata": {},
   "outputs": [],
   "source": [
    "def calc_distances_from_center(start_coordinates):\n",
    "    return geopy.distance.geodesic( start_coordinates,center_point).km"
   ]
  },
  {
   "cell_type": "code",
   "execution_count": 54,
   "id": "14b7934d-1363-4760-bb19-dbd9d1e436ea",
   "metadata": {},
   "outputs": [],
   "source": [
    "df_stations['distance_center_(km)'] = df_stations.apply(lambda row: calc_distances_from_center(row.start_coordinates), axis=1)"
   ]
  },
  {
   "cell_type": "code",
   "execution_count": 55,
   "id": "0b835312-b6a6-4575-8b8b-64bbdeecb664",
   "metadata": {},
   "outputs": [
    {
     "data": {
      "text/html": [
       "<div>\n",
       "<style scoped>\n",
       "    .dataframe tbody tr th:only-of-type {\n",
       "        vertical-align: middle;\n",
       "    }\n",
       "\n",
       "    .dataframe tbody tr th {\n",
       "        vertical-align: top;\n",
       "    }\n",
       "\n",
       "    .dataframe thead th {\n",
       "        text-align: right;\n",
       "    }\n",
       "</style>\n",
       "<table border=\"1\" class=\"dataframe\">\n",
       "  <thead>\n",
       "    <tr style=\"text-align: right;\">\n",
       "      <th></th>\n",
       "      <th>start_station_id</th>\n",
       "      <th>start_station_name</th>\n",
       "      <th>start_station_latitude</th>\n",
       "      <th>start_station_longitude</th>\n",
       "      <th>amout_of_trips_per_station</th>\n",
       "      <th>start_coordinates</th>\n",
       "      <th>distance_center_(km)</th>\n",
       "    </tr>\n",
       "  </thead>\n",
       "  <tbody>\n",
       "    <tr>\n",
       "      <th>0</th>\n",
       "      <td>1</td>\n",
       "      <td>18 Dorrance Warehouse</td>\n",
       "      <td>42.387151</td>\n",
       "      <td>-71.075978</td>\n",
       "      <td>74</td>\n",
       "      <td>(42.387151, -71.075978)</td>\n",
       "      <td>3.264433</td>\n",
       "    </tr>\n",
       "  </tbody>\n",
       "</table>\n",
       "</div>"
      ],
      "text/plain": [
       "   start_station_id     start_station_name  start_station_latitude  \\\n",
       "0                 1  18 Dorrance Warehouse               42.387151   \n",
       "\n",
       "   start_station_longitude  amout_of_trips_per_station  \\\n",
       "0               -71.075978                          74   \n",
       "\n",
       "         start_coordinates  distance_center_(km)  \n",
       "0  (42.387151, -71.075978)              3.264433  "
      ]
     },
     "execution_count": 55,
     "metadata": {},
     "output_type": "execute_result"
    }
   ],
   "source": [
    "df_stations.sort_index(inplace=True)\n",
    "df_stations.head(1)"
   ]
  },
  {
   "cell_type": "markdown",
   "id": "bac26734-7ba0-443d-adc4-8a9825d271a7",
   "metadata": {
    "tags": []
   },
   "source": [
    "#### df"
   ]
  },
  {
   "cell_type": "markdown",
   "id": "93deb076-795a-4a5c-a65b-26a9a05a64d5",
   "metadata": {},
   "source": [
    "For the clustering we are creating two new features: \n",
    "- start station distance from the city center\n",
    "- end station distance from the city center\n",
    "\n",
    "These are very useful for determining where a trip has started and ended.\n",
    "\n",
    "We are again using these \"manual\" replace methods as we only have to add 187 unique values: "
   ]
  },
  {
   "cell_type": "code",
   "execution_count": 56,
   "id": "32245bbc-02de-4654-a748-00efa0f5016b",
   "metadata": {},
   "outputs": [],
   "source": [
    "df[\"start_distance_center\"] = pd.to_numeric(df[\"start_station_id\"], downcast=\"float\")\n",
    "df['start_distance_center'] = df['start_distance_center'].replace([1,3,4,5,6,7,8,9,10,11,12,13,14,15,16,17,19,20,21,22,23,24,25,26,27,29,30,31,32,33,35,36,37,38,39,40,41,42,43,44,45,46,47,48,49,50,51,52,53,54,55,56,57,58,59,60,61,63,64,65,66,67,68,69,70,71,72,73,74,75,76,77,78,79,80,81,82,84,85,87,88,89,90,91,92,93,94,95,96,97,98,99,100,102,103,104,105,106,107,108,109,110,111,112,113,114,115,116,117,118,119,120,121,122,124,125,126,128,129,130,131,133,134,135,136,137,138,139,140,141,142,143,145,146,149,150,151,152,153,158,159,160,161,162,163,167,169,170,171,173,174,175,176,177,178,179,180,183,184,185,186,189,190,192,193,194,195,196,197,199,200,201,202,203,204,205,207,208,209,210,211,212,213,214,215,216,217,218,219],[1.0066398677015451,2.1929494904485605,1.9843624304263692,3.5312591802831963,1.0129088043898964,0.5910602651198307,1.9106237585899304,1.0810482426137094,0.9731013813041057,0.8802015582531519,1.6827270598658104,1.1606793793717927,1.274421269245419,1.9264765723658352,0.7783503568292819,0.7263483889426496,2.2259678027367227,1.080086636189784,2.1208639052406424,1.6761396451722268,1.6218679490173875,2.4515836470471855,1.0324278472294401,1.612385970885458,2.711168899128792,1.3437594365488355,1.4553330887354214,1.328296231425967,3.6971834308697957,1.6546016607798957,1.3516301733614133,1.4908491916633948,1.7245602505508675,1.9989485727659342,2.295893683338119,2.496516782337489,2.4283382158038127,2.5642854405216062,0.5736480066007635,1.6306003659372335,5.543461072600776,2.9005085258591916,4.577400194034144,2.0089924389588005,3.010786969662397,3.2278993946052523,2.397710694840758,2.696529885453734,2.402060707048248,2.9523801621275774,3.4020011671240598,1.9079898256261776,2.2218060965535265,2.241265796844359,1.1052044326366726,1.0646995271860666,1.9611614739205008,1.6844751286895556,1.6163367273289424,0.9421710489686826,3.739623309448447,2.9298099364275423,3.587484115613226,3.69416038285644,3.008435466859066,0.9856299006492597,1.8823214435813276,2.1113655209266664,2.5303832651163907,1.9274713273704176,2.0824410835751577,3.9685800294112927,1.9599527246423278,2.4816890183376654,3.1401604989173375,1.4297992220733198,2.3741425265300378,2.3330615744910865,1.0037076564670082,1.9509722000198373,0.6255485444173162,3.247563704550466,1.9886728390040438,3.0465542174498124,4.397879857125762,3.324553595593817,1.6025067220780809,4.021353157157223,3.936938671280164,2.2157913128875957,0.9182014391175001,3.5735248623131057,2.6781812942793204,6.018216330481424,2.3755038765834784,3.388962420786902,3.475012823574965,2.3106055242578454,2.7991699642026244,4.49199052108223,3.2133721157185815,3.1998251571646614,3.37986128671407,3.8096752393197195,3.7320170398462023,2.5802705483805646,2.597767716951304,3.059725390277959,4.323720586070531,4.669978056723387,4.267236217848558,3.6466317240733988,4.20834208944157,2.1200114255610654,4.06116972267904,4.55201104314167,2.509186640067338,4.473835069498162,6.247619272406404,4.106291613710392,6.4120832961465934,4.047835328531621,5.289271047228721,3.2546796250819443,4.904947944794805,5.481030472293049,2.542257492733095,2.573119337228386,5.697752579049386,4.789998784331815,4.716730070259964,2.9149531560306396,6.133428683993059,3.6158188892692844,2.039430655024847,4.688572818493089,5.60137826493788,3.501446024599168,5.7968255815322145,5.530372844022051,4.147445297029231,6.235581953262962,4.99917595990162,4.838334691215672,3.2702989564519824,2.993268420727967,4.3335184210662785,3.1340765555703753,5.503890342007385,4.910253697801771,5.92564693696588,1.7273561364400434,4.919408921978881,6.620142695071167,4.443506536663802,3.6863162559776805,1.891263046544106,1.9110887805792185,4.702950024039413,2.795967602491639,0.840260852549386,3.6579247081212225,5.717695902862306,6.067750145319036,6.572404688063291,5.433882585199401,4.458649690745126,4.132172555689063,4.656837183699306,7.093368780220009,5.718005004624344,3.602284866003556,4.519924359047406,4.446488865412889,5.549897370010835,3.6561429458386177,3.8610202222837557,3.2644330095980574,5.716142423449678,3.7731172679371237,6.936300416950178,5.421248867459223,6.040632016543977,3.341606837507973,4.98482061433449,5.030896408390221,3.9703684443515797,1.833949289588093,1.833949289588093])"
   ]
  },
  {
   "cell_type": "code",
   "execution_count": 57,
   "id": "bc89e337-a26f-4980-8462-6b2636346bbd",
   "metadata": {},
   "outputs": [],
   "source": [
    "df[\"end_distance_center\"] = pd.to_numeric(df[\"end_station_id\"], downcast=\"float\")\n",
    "df['end_distance_center'] = df['end_distance_center'].replace([1,3,4,5,6,7,8,9,10,11,12,13,14,15,16,17,19,20,21,22,23,24,25,26,27,29,30,31,32,33,35,36,37,38,39,40,41,42,43,44,45,46,47,48,49,50,51,52,53,54,55,56,57,58,59,60,61,63,64,65,66,67,68,69,70,71,72,73,74,75,76,77,78,79,80,81,82,84,85,87,88,89,90,91,92,93,94,95,96,97,98,99,100,102,103,104,105,106,107,108,109,110,111,112,113,114,115,116,117,118,119,120,121,122,124,125,126,128,129,130,131,133,134,135,136,137,138,139,140,141,142,143,145,146,149,150,151,152,153,158,159,160,161,162,163,167,169,170,171,173,174,175,176,177,178,179,180,183,184,185,186,189,190,192,193,194,195,196,197,199,200,201,202,203,204,205,207,208,209,210,211,212,213,214,215,216,217,218,219],[1.0066398677015451,2.1929494904485605,1.9843624304263692,3.5312591802831963,1.0129088043898964,0.5910602651198307,1.9106237585899304,1.0810482426137094,0.9731013813041057,0.8802015582531519,1.6827270598658104,1.1606793793717927,1.274421269245419,1.9264765723658352,0.7783503568292819,0.7263483889426496,2.2259678027367227,1.080086636189784,2.1208639052406424,1.6761396451722268,1.6218679490173875,2.4515836470471855,1.0324278472294401,1.612385970885458,2.711168899128792,1.3437594365488355,1.4553330887354214,1.328296231425967,3.6971834308697957,1.6546016607798957,1.3516301733614133,1.4908491916633948,1.7245602505508675,1.9989485727659342,2.295893683338119,2.496516782337489,2.4283382158038127,2.5642854405216062,0.5736480066007635,1.6306003659372335,5.543461072600776,2.9005085258591916,4.577400194034144,2.0089924389588005,3.010786969662397,3.2278993946052523,2.397710694840758,2.696529885453734,2.402060707048248,2.9523801621275774,3.4020011671240598,1.9079898256261776,2.2218060965535265,2.241265796844359,1.1052044326366726,1.0646995271860666,1.9611614739205008,1.6844751286895556,1.6163367273289424,0.9421710489686826,3.739623309448447,2.9298099364275423,3.587484115613226,3.69416038285644,3.008435466859066,0.9856299006492597,1.8823214435813276,2.1113655209266664,2.5303832651163907,1.9274713273704176,2.0824410835751577,3.9685800294112927,1.9599527246423278,2.4816890183376654,3.1401604989173375,1.4297992220733198,2.3741425265300378,2.3330615744910865,1.0037076564670082,1.9509722000198373,0.6255485444173162,3.247563704550466,1.9886728390040438,3.0465542174498124,4.397879857125762,3.324553595593817,1.6025067220780809,4.021353157157223,3.936938671280164,2.2157913128875957,0.9182014391175001,3.5735248623131057,2.6781812942793204,6.018216330481424,2.3755038765834784,3.388962420786902,3.475012823574965,2.3106055242578454,2.7991699642026244,4.49199052108223,3.2133721157185815,3.1998251571646614,3.37986128671407,3.8096752393197195,3.7320170398462023,2.5802705483805646,2.597767716951304,3.059725390277959,4.323720586070531,4.669978056723387,4.267236217848558,3.6466317240733988,4.20834208944157,2.1200114255610654,4.06116972267904,4.55201104314167,2.509186640067338,4.473835069498162,6.247619272406404,4.106291613710392,6.4120832961465934,4.047835328531621,5.289271047228721,3.2546796250819443,4.904947944794805,5.481030472293049,2.542257492733095,2.573119337228386,5.697752579049386,4.789998784331815,4.716730070259964,2.9149531560306396,6.133428683993059,3.6158188892692844,2.039430655024847,4.688572818493089,5.60137826493788,3.501446024599168,5.7968255815322145,5.530372844022051,4.147445297029231,6.235581953262962,4.99917595990162,4.838334691215672,3.2702989564519824,2.993268420727967,4.3335184210662785,3.1340765555703753,5.503890342007385,4.910253697801771,5.92564693696588,1.7273561364400434,4.919408921978881,6.620142695071167,4.443506536663802,3.6863162559776805,1.891263046544106,1.9110887805792185,4.702950024039413,2.795967602491639,0.840260852549386,3.6579247081212225,5.717695902862306,6.067750145319036,6.572404688063291,5.433882585199401,4.458649690745126,4.132172555689063,4.656837183699306,7.093368780220009,5.718005004624344,3.602284866003556,4.519924359047406,4.446488865412889,5.549897370010835,3.6561429458386177,3.8610202222837557,3.2644330095980574,5.716142423449678,3.7731172679371237,6.936300416950178,5.421248867459223,6.040632016543977,3.341606837507973,4.98482061433449,5.030896408390221,3.9703684443515797,1.833949289588093,1.833949289588093])"
   ]
  },
  {
   "cell_type": "code",
   "execution_count": 58,
   "id": "95bab1cb-4c2a-4070-873e-afd0007b1a9d",
   "metadata": {},
   "outputs": [],
   "source": [
    "def get_hour (ts):\n",
    "    return ts.hour"
   ]
  },
  {
   "cell_type": "code",
   "execution_count": 59,
   "id": "ca59b0b2-cc93-40f7-9112-385d10c6ecce",
   "metadata": {},
   "outputs": [],
   "source": [
    "df['start_hour'] = df.apply(lambda row: get_hour(row.start_time), axis=1)"
   ]
  },
  {
   "cell_type": "markdown",
   "id": "afd368f4-155f-47ef-9fae-86fbe1576046",
   "metadata": {
    "tags": []
   },
   "source": [
    "##### Weekdays and Weekends\n"
   ]
  },
  {
   "cell_type": "markdown",
   "id": "70f11cf8-7817-47c5-88ce-22dc125582a1",
   "metadata": {
    "tags": []
   },
   "source": [
    "For the predicted demand, it is important to know what the demand looks like on weekdays and weekends.\n",
    "\n",
    "Therefore we are able to extract the day from the timestamp."
   ]
  },
  {
   "cell_type": "code",
   "execution_count": 60,
   "id": "055b1892-626a-4e14-9696-6117a9a9ba08",
   "metadata": {},
   "outputs": [],
   "source": [
    "def calc_weekday(day):\n",
    "    return (day).weekday()"
   ]
  },
  {
   "cell_type": "code",
   "execution_count": 61,
   "id": "fd9114e7-ef7a-4e70-8a13-010b66cc6922",
   "metadata": {},
   "outputs": [],
   "source": [
    "df['weekday_start'] = df.apply(lambda row: calc_weekday(row.start_time), axis=1)"
   ]
  },
  {
   "cell_type": "code",
   "execution_count": 62,
   "id": "1330ae67-f3c8-4bd9-bdb4-0befdd900d50",
   "metadata": {
    "tags": []
   },
   "outputs": [],
   "source": [
    "df['weekday_end'] = df.apply(lambda row: calc_weekday(row.end_time), axis=1)"
   ]
  },
  {
   "cell_type": "code",
   "execution_count": 63,
   "id": "d79cf65c-41dc-4db5-9615-060d293436ee",
   "metadata": {},
   "outputs": [
    {
     "data": {
      "text/html": [
       "<div>\n",
       "<style scoped>\n",
       "    .dataframe tbody tr th:only-of-type {\n",
       "        vertical-align: middle;\n",
       "    }\n",
       "\n",
       "    .dataframe tbody tr th {\n",
       "        vertical-align: top;\n",
       "    }\n",
       "\n",
       "    .dataframe thead th {\n",
       "        text-align: right;\n",
       "    }\n",
       "</style>\n",
       "<table border=\"1\" class=\"dataframe\">\n",
       "  <thead>\n",
       "    <tr style=\"text-align: right;\">\n",
       "      <th></th>\n",
       "      <th>start_time</th>\n",
       "      <th>end_time</th>\n",
       "      <th>start_station_id</th>\n",
       "      <th>end_station_id</th>\n",
       "      <th>start_station_name</th>\n",
       "      <th>end_station_name</th>\n",
       "      <th>bike_id</th>\n",
       "      <th>user_type</th>\n",
       "      <th>start_coordinates</th>\n",
       "      <th>end_coordinates</th>\n",
       "      <th>distance_km</th>\n",
       "      <th>duration_sec</th>\n",
       "      <th>speed_kmh</th>\n",
       "      <th>start_distance_center</th>\n",
       "      <th>end_distance_center</th>\n",
       "      <th>start_hour</th>\n",
       "      <th>weekday_start</th>\n",
       "      <th>weekday_end</th>\n",
       "    </tr>\n",
       "  </thead>\n",
       "  <tbody>\n",
       "    <tr>\n",
       "      <th>0</th>\n",
       "      <td>2016-01-01 00:08:07</td>\n",
       "      <td>2016-01-01 00:40:26</td>\n",
       "      <td>36</td>\n",
       "      <td>19</td>\n",
       "      <td>Boston Public Library - 700 Boylston St.</td>\n",
       "      <td>Buswell St. at Park Dr.</td>\n",
       "      <td>1406</td>\n",
       "      <td>Subscriber</td>\n",
       "      <td>(42.349673, -71.077303)</td>\n",
       "      <td>(42.347241, -71.105301)</td>\n",
       "      <td>2.322721</td>\n",
       "      <td>1939.0</td>\n",
       "      <td>4.312426</td>\n",
       "      <td>1.490849</td>\n",
       "      <td>2.225968</td>\n",
       "      <td>0</td>\n",
       "      <td>4</td>\n",
       "      <td>4</td>\n",
       "    </tr>\n",
       "  </tbody>\n",
       "</table>\n",
       "</div>"
      ],
      "text/plain": [
       "           start_time            end_time  start_station_id  end_station_id  \\\n",
       "0 2016-01-01 00:08:07 2016-01-01 00:40:26                36              19   \n",
       "\n",
       "                         start_station_name         end_station_name  bike_id  \\\n",
       "0  Boston Public Library - 700 Boylston St.  Buswell St. at Park Dr.     1406   \n",
       "\n",
       "    user_type        start_coordinates          end_coordinates  distance_km  \\\n",
       "0  Subscriber  (42.349673, -71.077303)  (42.347241, -71.105301)     2.322721   \n",
       "\n",
       "   duration_sec  speed_kmh  start_distance_center  end_distance_center  \\\n",
       "0        1939.0   4.312426               1.490849             2.225968   \n",
       "\n",
       "   start_hour  weekday_start  weekday_end  \n",
       "0           0              4            4  "
      ]
     },
     "execution_count": 63,
     "metadata": {},
     "output_type": "execute_result"
    }
   ],
   "source": [
    "df.head(1)"
   ]
  },
  {
   "cell_type": "markdown",
   "id": "643e4f14-4464-47ea-958a-543ba19b45c5",
   "metadata": {},
   "source": [
    "Since Phyton can return a number correlating to the day (0 equals monday, 4 equals friday, and so on) we are replacing those numbers with day names."
   ]
  },
  {
   "cell_type": "code",
   "execution_count": 64,
   "id": "0b157983-3d98-42ab-baeb-2a3fb399d7ff",
   "metadata": {},
   "outputs": [],
   "source": [
    "df['weekday_start'] = df['weekday_start'].replace([0,1,2,3,4,5,6],['Monday','Tuesday','Wednesday','Thursday','Friday','Saturday','Sunday'])\n",
    "df['weekday_end'] = df['weekday_end'].replace([0,1,2,3,4,5,6],['Monday','Tuesday','Wednesday','DonneThursdayrstag','Friday','Saturday','Sunday'])"
   ]
  },
  {
   "cell_type": "code",
   "execution_count": 65,
   "id": "e6b126c2-dfc1-490d-8fc2-2ed133395ce2",
   "metadata": {},
   "outputs": [
    {
     "data": {
      "text/html": [
       "<div>\n",
       "<style scoped>\n",
       "    .dataframe tbody tr th:only-of-type {\n",
       "        vertical-align: middle;\n",
       "    }\n",
       "\n",
       "    .dataframe tbody tr th {\n",
       "        vertical-align: top;\n",
       "    }\n",
       "\n",
       "    .dataframe thead th {\n",
       "        text-align: right;\n",
       "    }\n",
       "</style>\n",
       "<table border=\"1\" class=\"dataframe\">\n",
       "  <thead>\n",
       "    <tr style=\"text-align: right;\">\n",
       "      <th></th>\n",
       "      <th>start_time</th>\n",
       "      <th>end_time</th>\n",
       "      <th>start_station_id</th>\n",
       "      <th>end_station_id</th>\n",
       "      <th>start_station_name</th>\n",
       "      <th>end_station_name</th>\n",
       "      <th>bike_id</th>\n",
       "      <th>user_type</th>\n",
       "      <th>start_coordinates</th>\n",
       "      <th>end_coordinates</th>\n",
       "      <th>distance_km</th>\n",
       "      <th>duration_sec</th>\n",
       "      <th>speed_kmh</th>\n",
       "      <th>start_distance_center</th>\n",
       "      <th>end_distance_center</th>\n",
       "      <th>start_hour</th>\n",
       "      <th>weekday_start</th>\n",
       "      <th>weekday_end</th>\n",
       "    </tr>\n",
       "  </thead>\n",
       "  <tbody>\n",
       "    <tr>\n",
       "      <th>0</th>\n",
       "      <td>2016-01-01 00:08:07</td>\n",
       "      <td>2016-01-01 00:40:26</td>\n",
       "      <td>36</td>\n",
       "      <td>19</td>\n",
       "      <td>Boston Public Library - 700 Boylston St.</td>\n",
       "      <td>Buswell St. at Park Dr.</td>\n",
       "      <td>1406</td>\n",
       "      <td>Subscriber</td>\n",
       "      <td>(42.349673, -71.077303)</td>\n",
       "      <td>(42.347241, -71.105301)</td>\n",
       "      <td>2.322721</td>\n",
       "      <td>1939.0</td>\n",
       "      <td>4.312426</td>\n",
       "      <td>1.490849</td>\n",
       "      <td>2.225968</td>\n",
       "      <td>0</td>\n",
       "      <td>Friday</td>\n",
       "      <td>Friday</td>\n",
       "    </tr>\n",
       "  </tbody>\n",
       "</table>\n",
       "</div>"
      ],
      "text/plain": [
       "           start_time            end_time  start_station_id  end_station_id  \\\n",
       "0 2016-01-01 00:08:07 2016-01-01 00:40:26                36              19   \n",
       "\n",
       "                         start_station_name         end_station_name  bike_id  \\\n",
       "0  Boston Public Library - 700 Boylston St.  Buswell St. at Park Dr.     1406   \n",
       "\n",
       "    user_type        start_coordinates          end_coordinates  distance_km  \\\n",
       "0  Subscriber  (42.349673, -71.077303)  (42.347241, -71.105301)     2.322721   \n",
       "\n",
       "   duration_sec  speed_kmh  start_distance_center  end_distance_center  \\\n",
       "0        1939.0   4.312426               1.490849             2.225968   \n",
       "\n",
       "   start_hour weekday_start weekday_end  \n",
       "0           0        Friday      Friday  "
      ]
     },
     "execution_count": 65,
     "metadata": {},
     "output_type": "execute_result"
    }
   ],
   "source": [
    "df.head(1)"
   ]
  },
  {
   "cell_type": "markdown",
   "id": "79e8ef3c-e285-4aab-92d1-d2a554973607",
   "metadata": {},
   "source": [
    "To distinguish between weekdays and weekend days, creating a new column for each day in the dataframe."
   ]
  },
  {
   "cell_type": "code",
   "execution_count": 66,
   "id": "393d2243-d774-4c7b-a7c2-cdc426b47ba4",
   "metadata": {},
   "outputs": [],
   "source": [
    "def getTrueWeekday(weekday_start,day):\n",
    "    return (weekday_start == day)"
   ]
  },
  {
   "cell_type": "code",
   "execution_count": null,
   "id": "bdd75bf2-40f6-48fa-a9d8-e360427f20b3",
   "metadata": {},
   "outputs": [],
   "source": [
    "df['true_monday'] = (df.apply(lambda x: getTrueWeekday(x.weekday_start, 'Monday'), axis = 1))\n",
    "df['true_tuesday'] = (df.apply(lambda x: getTrueWeekday(x.weekday_start, 'Tuesday'), axis = 1))\n",
    "df['true_wednesday'] = (df.apply(lambda x: getTrueWeekday(x.weekday_start, 'Wednesday'), axis = 1))\n",
    "df['true_thursday'] = (df.apply(lambda x: getTrueWeekday(x.weekday_start, 'Thursday'), axis = 1))\n",
    "df['true_friday'] = (df.apply(lambda x: getTrueWeekday(x.weekday_start, 'Friday'), axis = 1))\n",
    "df['true_saturday'] = (df.apply(lambda x: getTrueWeekday(x.weekday_start, 'Saturday'), axis = 1))\n",
    "df['true_sunday'] = (df.apply(lambda x: getTrueWeekday(x.weekday_start, 'Sunday'), axis = 1))"
   ]
  },
  {
   "cell_type": "markdown",
   "id": "33a49544-52fd-46c3-ace7-1ecfcfb0c3e4",
   "metadata": {},
   "source": [
    "The problem with the method above is, that is return True and False booleans.\n",
    "\n",
    "So if the day is a Monday it will return True on column 'true_monday'. Therefore it will obviously return False if its a tuesday.\n",
    "\n",
    "Since we are grouping by 'start_time'.dt.hour we'll end up with 24 results for monday.\n",
    "The same goes for each other day.\n",
    "\n",
    "We separate the values and fill them into arrays."
   ]
  },
  {
   "cell_type": "code",
   "execution_count": null,
   "id": "1cc3c5e2-1d93-4795-9cb4-68000358864d",
   "metadata": {},
   "outputs": [],
   "source": [
    "mo = df.where(lambda x: (x.true_monday == True), axis = 0).groupby([df['start_time'].dt.hour]).count()\n",
    "tu = df.where(lambda x: (x.true_tuesday == True), axis = 0).groupby([df['start_time'].dt.hour]).count()\n",
    "we = df.where(lambda x: (x.true_wednesday == True), axis = 0).groupby([df['start_time'].dt.hour]).count()\n",
    "th = df.where(lambda x: (x.true_thursday == True), axis = 0).groupby([df['start_time'].dt.hour]).count()\n",
    "fr = df.where(lambda x: (x.true_friday == True), axis = 0).groupby([df['start_time'].dt.hour]).count()\n",
    "sa = df.where(lambda x: (x.true_saturday == True), axis = 0).groupby([df['start_time'].dt.hour]).count()\n",
    "su = df.where(lambda x: (x.true_sunday == True), axis = 0).groupby([df['start_time'].dt.hour]).count()"
   ]
  },
  {
   "cell_type": "code",
   "execution_count": null,
   "id": "c0a592f2-bafb-442c-94da-6595ed088545",
   "metadata": {},
   "outputs": [],
   "source": [
    "monday = []\n",
    "tuesday = []\n",
    "wednesday = []\n",
    "thursday = []\n",
    "friday = []\n",
    "saturday = []\n",
    "sunday = []\n",
    "for i in range(0, 24):\n",
    "    monday.append(mo['start_time'][i])\n",
    "    tuesday.append(tu['start_time'][i])\n",
    "    wednesday.append(we['start_time'][i])\n",
    "    thursday.append(th['start_time'][i])\n",
    "    friday.append(fr['start_time'][i])\n",
    "    saturday.append(sa['start_time'][i])\n",
    "    sunday.append(su['start_time'][i])"
   ]
  },
  {
   "cell_type": "markdown",
   "id": "53b38648-2b0c-4c67-8d98-63ae94a94c27",
   "metadata": {},
   "source": [
    "Then we create a new dataframe with informations we need to plot the results later on."
   ]
  },
  {
   "cell_type": "code",
   "execution_count": null,
   "id": "3ead2de0-609f-47f3-94bc-0a7d5405b5a5",
   "metadata": {},
   "outputs": [],
   "source": [
    "df_hourly_amount_per_day = {'Monday':[monday[0],monday[1],monday[2],monday[3],monday[4],monday[5],monday[6],monday[7],\n",
    "                              monday[8],monday[9],monday[10],monday[11],monday[12],monday[13],monday[14],monday[15],\n",
    "                                      monday[16],monday[17],monday[18],monday[19],\n",
    "                              monday[20],monday[21],monday[22],monday[23]],\n",
    "                            \n",
    "                            'Tuesday':[tuesday[0],tuesday[1],tuesday[2],tuesday[3],tuesday[4],tuesday[5],tuesday[6],tuesday[7],\n",
    "                              tuesday[8],tuesday[9],tuesday[10],tuesday[11],tuesday[12],tuesday[13],tuesday[14],tuesday[15],\n",
    "                                      tuesday[16],tuesday[17],tuesday[18],tuesday[19],\n",
    "                              tuesday[20],tuesday[21],tuesday[22],tuesday[23]],\n",
    "                            \n",
    "                            'Wednesday':[wednesday[0],wednesday[1],wednesday[2],wednesday[3],wednesday[4],wednesday[5],wednesday[6],wednesday[7],\n",
    "                              wednesday[8],wednesday[9],wednesday[10],wednesday[11],wednesday[12],wednesday[13],wednesday[14],wednesday[15],\n",
    "                                      wednesday[16],wednesday[17],wednesday[18],wednesday[19],\n",
    "                              wednesday[20],wednesday[21],wednesday[22],wednesday[23]],\n",
    "                            \n",
    "                            'Thursday':[thursday[0],thursday[1],thursday[2],thursday[3],thursday[4],thursday[5],thursday[6],thursday[7],\n",
    "                                thursday[8],thursday[9],thursday[10],thursday[11],thursday[12],thursday[13],thursday[14],thursday[15],\n",
    "                                      thursday[16],thursday[17],thursday[18],thursday[19],\n",
    "                              thursday[20],thursday[21],thursday[22],thursday[23]],\n",
    "                            \n",
    "                            'Friday':[friday[0],friday[1],friday[2],friday[3],friday[4],friday[5],friday[6],friday[7],\n",
    "                              friday[8],friday[9],friday[10],friday[11],friday[12],friday[13],friday[14],friday[15],\n",
    "                                      friday[16],friday[17],friday[18],friday[19],\n",
    "                              friday[20],friday[21],friday[22],friday[23]],\n",
    "                            \n",
    "                            'Saturday':[saturday[0],saturday[1],saturday[2],saturday[3],saturday[4],saturday[5],saturday[6],saturday[7],\n",
    "                              saturday[8],saturday[9],saturday[10],saturday[11],saturday[12],saturday[13],saturday[14],saturday[15],\n",
    "                                      saturday[16],saturday[17],saturday[18],saturday[19],\n",
    "                              saturday[20],saturday[21],saturday[22],saturday[23]],\n",
    "                            \n",
    "                            'Sunday':[sunday[0],sunday[1],sunday[2],sunday[3],sunday[4],sunday[5],sunday[6],sunday[7],\n",
    "                              sunday[8],sunday[9],sunday[10],sunday[11],sunday[12],sunday[13],sunday[14],sunday[15],\n",
    "                                      sunday[16],sunday[17],sunday[18],sunday[19],\n",
    "                              sunday[20],sunday[21],sunday[22],sunday[23]],\n",
    "                            \n",
    "                            'Period':[0,1,2,3,4,5,6,7,8,9,10,11,12,13,14,15,16,17,18,19,20,21,22,23]}"
   ]
  },
  {
   "cell_type": "code",
   "execution_count": null,
   "id": "ef554214-01fa-432e-b0e4-269a6d52c108",
   "metadata": {},
   "outputs": [],
   "source": [
    "df_hourly_amount_per_day = pd.DataFrame(data = df_hourly_amount_per_day)"
   ]
  },
  {
   "cell_type": "markdown",
   "id": "2aba3f3c-0fe0-4aca-9575-58b956da8dfa",
   "metadata": {},
   "source": [
    "To get an overview of the the usage in all 12 months, we extract the amount of people per month."
   ]
  },
  {
   "cell_type": "code",
   "execution_count": null,
   "id": "35757252-0ba6-43da-954d-ef7b3e9ef35f",
   "metadata": {},
   "outputs": [],
   "source": [
    "def get_month (ts):\n",
    "    return ts.month"
   ]
  },
  {
   "cell_type": "code",
   "execution_count": null,
   "id": "3b038970-26e1-4e5c-bf63-ef8033e378db",
   "metadata": {},
   "outputs": [],
   "source": [
    "df['month'] = df.apply(lambda x: get_month(x.start_time), axis = 1)\n",
    "m = []\n",
    "for i in range(1, 13):\n",
    "    m.append(df.where(lambda x: (x.month == i), axis = 0).count())"
   ]
  },
  {
   "cell_type": "code",
   "execution_count": null,
   "id": "d6114856-fae4-4272-8497-ae1c6d91c81c",
   "metadata": {},
   "outputs": [],
   "source": [
    "df_monthly_amount = {'Amount':[m[0][0],m[1][1],m[2][2],m[3][3],m[4][4],m[5][5],m[6][6],m[7][7],\n",
    "                              m[8][8],m[9][9],m[10][10],m[11][11]],'Month':['Jan', 'Feb', 'Mar', 'Apr', 'May', 'Jun', 'Jul', 'Aug', 'Sep',\n",
    "                                                                         'Oct', 'Nov', 'Dec']}"
   ]
  },
  {
   "cell_type": "markdown",
   "id": "abf37335-e9cc-4ed7-b885-1123ea9b0277",
   "metadata": {},
   "source": [
    "Since we dont need this entry in our dataframe anymore we drop this column to minimize the dataframe to the essentials."
   ]
  },
  {
   "cell_type": "code",
   "execution_count": null,
   "id": "89140a3d-e44c-43e3-b5cb-eff7d63752ed",
   "metadata": {},
   "outputs": [],
   "source": [
    "df.drop(['month'], axis=1, inplace=True)"
   ]
  },
  {
   "cell_type": "code",
   "execution_count": null,
   "id": "9415d6eb-ca8b-4f1f-8294-a23bbf47b34b",
   "metadata": {},
   "outputs": [],
   "source": [
    "df_monthly_amount = pd.DataFrame(data = df_monthly_amount)"
   ]
  },
  {
   "cell_type": "markdown",
   "id": "0bd3c675-de37-458d-a2d7-b10e96b0df6c",
   "metadata": {},
   "source": [
    "We also want to visiulize the usage of bikes in correlation to the duration.\n",
    "\n",
    "First we change the unit to minutes. Therefore we add a new column."
   ]
  },
  {
   "cell_type": "code",
   "execution_count": null,
   "id": "c6ce89fd-130a-4a55-bbb3-921e44e70509",
   "metadata": {},
   "outputs": [],
   "source": [
    "df['minutes'] = df['duration_sec'] / 60"
   ]
  },
  {
   "cell_type": "markdown",
   "id": "cc8f7e11-2b8d-4009-9da6-c841312e9071",
   "metadata": {},
   "source": [
    "To round all of our entries in the dataframe we write a function to get the next 10 with a lambda operation."
   ]
  },
  {
   "cell_type": "code",
   "execution_count": null,
   "id": "1921be4f-aff3-4b21-876d-4b841b00d921",
   "metadata": {},
   "outputs": [],
   "source": [
    "def roundTo10(number):\n",
    "    return round(number/10)*10"
   ]
  },
  {
   "cell_type": "code",
   "execution_count": null,
   "id": "832e1d2b-75d5-4412-931b-0071cfe0ced2",
   "metadata": {},
   "outputs": [],
   "source": [
    "df['minutes_rounded'] = df.apply(lambda x: roundTo10(x.minutes), axis = 1)"
   ]
  },
  {
   "cell_type": "markdown",
   "id": "867e6111-6ecb-4b90-9f0a-d3ccf5f05311",
   "metadata": {},
   "source": [
    "Afterards we convert all of the unique entries into an array.\n",
    "The array is later used to create a new dataframe."
   ]
  },
  {
   "cell_type": "code",
   "execution_count": null,
   "id": "2b163953-6b16-4a76-b085-d26fffa7cf0f",
   "metadata": {},
   "outputs": [],
   "source": [
    "array = df['minutes_rounded'].unique()"
   ]
  },
  {
   "cell_type": "markdown",
   "id": "bae93b7e-8d92-40c6-ac6a-9420959169d9",
   "metadata": {},
   "source": [
    "The second Array we are creating now is used for the the amount of people."
   ]
  },
  {
   "cell_type": "code",
   "execution_count": null,
   "id": "8b4747ba-256d-488b-a8dd-ae242f69676c",
   "metadata": {},
   "outputs": [],
   "source": [
    "array2 = []\n",
    "for i in df['minutes_rounded'].unique():\n",
    "    test = df.where(lambda x: (x.minutes_rounded == i), axis = 0).count()\n",
    "    array2.append(test[0])"
   ]
  },
  {
   "cell_type": "markdown",
   "id": "1880770f-95dc-4c2b-b184-aecdf96365c0",
   "metadata": {},
   "source": [
    "Since we don't need the Minutes and Minutes_rounded column anymore, we can drop it."
   ]
  },
  {
   "cell_type": "code",
   "execution_count": null,
   "id": "3484727c-91e6-469d-9a3c-e8bbc6c05a07",
   "metadata": {},
   "outputs": [],
   "source": [
    "df.drop([\"minutes\", 'minutes_rounded'], axis=1, inplace=True)"
   ]
  },
  {
   "cell_type": "markdown",
   "id": "3ee691af-550a-412f-b551-5bf356f63950",
   "metadata": {},
   "source": [
    "From this point on we create a new dataframe.\n",
    "\n",
    "Also we are spliting the dataframe in 2 sublets so visiulize the amount even better."
   ]
  },
  {
   "cell_type": "code",
   "execution_count": null,
   "id": "6869b980-c22f-4b21-a582-3afcd3b63730",
   "metadata": {},
   "outputs": [],
   "source": [
    "df_all_minutes = {'unique_minutes':[array[0],array[1],array[2],array[3],array[4],array[5],array[6],array[7],\n",
    "                              array[8],array[9],array[10],array[11],array[12]],'people':[array2[0],array2[1],array2[2],array2[3],array[4],array[5],array[6],array[7],\n",
    "                              array2[8],array2[9],array2[10],array2[11],array2[12]]}"
   ]
  },
  {
   "cell_type": "code",
   "execution_count": null,
   "id": "1aeb42e7-a84d-4bd2-86a9-e43be84bcfdf",
   "metadata": {},
   "outputs": [],
   "source": [
    "df_all_minutes = pd.DataFrame(data = df_all_minutes)"
   ]
  },
  {
   "cell_type": "code",
   "execution_count": null,
   "id": "041737c3-ec98-492d-aecf-df9b90950c4a",
   "metadata": {},
   "outputs": [],
   "source": [
    "df_all_minutes.head(5)"
   ]
  },
  {
   "cell_type": "code",
   "execution_count": null,
   "id": "f640f6ae-b9b4-4fc4-abbe-f4c2d40786b6",
   "metadata": {},
   "outputs": [],
   "source": [
    "df_big_minutes = df_all_minutes"
   ]
  },
  {
   "cell_type": "code",
   "execution_count": null,
   "id": "58c4be60-a445-4d99-a3d0-ef84052fd5bd",
   "metadata": {},
   "outputs": [],
   "source": [
    "df_small_minutes = df_all_minutes"
   ]
  },
  {
   "cell_type": "code",
   "execution_count": null,
   "id": "5ea355da-2643-42f9-b753-ba965e80fa3d",
   "metadata": {},
   "outputs": [],
   "source": [
    "df_all_minutes.sort_values(['unique_minutes'],axis=0, ascending=True,inplace=True,na_position='first')"
   ]
  },
  {
   "cell_type": "code",
   "execution_count": null,
   "id": "b48cfc74-6cc4-4a4c-89c8-0ea53149d432",
   "metadata": {},
   "outputs": [],
   "source": [
    "df_big_minutes = df_big_minutes.drop(df_big_minutes[df_big_minutes['unique_minutes'] > 50].index)"
   ]
  },
  {
   "cell_type": "code",
   "execution_count": null,
   "id": "75f47111-29ae-4904-9ae3-ac4c48bdf25f",
   "metadata": {},
   "outputs": [],
   "source": [
    "df_small_minutes = df_small_minutes.drop(df_small_minutes[df_small_minutes['unique_minutes'] < 60].index)"
   ]
  },
  {
   "cell_type": "markdown",
   "id": "e6dc5f02-93cf-4809-97ec-a0b7ff6dc3ec",
   "metadata": {},
   "source": [
    "We can already save the current stage of our df as df_cluster<br>\n",
    "This df_cluster dataframe will be used in 1.5"
   ]
  },
  {
   "cell_type": "code",
   "execution_count": null,
   "id": "64be7813-b62b-4ca1-873c-bc02a189d2bb",
   "metadata": {},
   "outputs": [],
   "source": [
    "df_cluster = df "
   ]
  },
  {
   "cell_type": "code",
   "execution_count": null,
   "id": "a589778b-d4c0-46f1-859a-d73447bf3387",
   "metadata": {},
   "outputs": [],
   "source": [
    "df.head()"
   ]
  },
  {
   "cell_type": "markdown",
   "id": "d3c46575-5798-449d-8491-5464f00b50e7",
   "metadata": {
    "tags": []
   },
   "source": [
    "### 1.4) Visualizing Data and Distributions"
   ]
  },
  {
   "cell_type": "markdown",
   "id": "1a70c376-67cc-4067-b898-a64dcbf09212",
   "metadata": {},
   "source": [
    "Since we have now prepared the data in section 1.3) More Data preperation to visualize diagrams, we first show the distribution of all trips in the period from 2016.\n",
    "\n",
    "So the average is drawn, which is divided over 24 hours"
   ]
  },
  {
   "cell_type": "code",
   "execution_count": null,
   "id": "a4f846be-d587-4bf7-b214-58f030616f36",
   "metadata": {},
   "outputs": [],
   "source": [
    "df['start_time'].groupby([df['start_time'].dt.hour]).count().plot(kind=\"bar\")#.get_legend().remove()"
   ]
  },
  {
   "cell_type": "markdown",
   "id": "0bb6d37c-b932-4602-9c2e-4fd672aafacf",
   "metadata": {},
   "source": [
    "Since we can distinguish between weekdays and weekend days, we are plotting all 7 days of the week here"
   ]
  },
  {
   "cell_type": "code",
   "execution_count": null,
   "id": "634705d9-ded3-4d62-abf2-1d300f60288b",
   "metadata": {},
   "outputs": [],
   "source": [
    "#Monday\n",
    "plt.bar(df_hourly_amount_per_day['Period'],df_hourly_amount_per_day['Monday'])\n",
    "plt.xlabel('Hours')\n",
    "plt.ylabel('Amount of people')\n",
    "plt.title('Monday')"
   ]
  },
  {
   "cell_type": "code",
   "execution_count": null,
   "id": "6a470b86-da7e-44ae-a10f-4f3f593d53bf",
   "metadata": {},
   "outputs": [],
   "source": [
    "#Tuesday\n",
    "plt.bar(df_hourly_amount_per_day['Period'],df_hourly_amount_per_day['Tuesday'])\n",
    "plt.xlabel('Hours')\n",
    "plt.ylabel('Amount of people')\n",
    "plt.title('Tuesday')"
   ]
  },
  {
   "cell_type": "code",
   "execution_count": null,
   "id": "26949da6-0b33-4632-b30b-474dca48f092",
   "metadata": {},
   "outputs": [],
   "source": [
    "#Wednesday\n",
    "plt.bar(df_hourly_amount_per_day['Period'],df_hourly_amount_per_day['Wednesday'])\n",
    "plt.xlabel('Hours')\n",
    "plt.ylabel('Amount of people')\n",
    "plt.title('Wednesday')"
   ]
  },
  {
   "cell_type": "code",
   "execution_count": null,
   "id": "70a2d98e-4cb2-4af1-b7a8-aa78acdf3d2b",
   "metadata": {},
   "outputs": [],
   "source": [
    "#Thursday\n",
    "plt.bar(df_hourly_amount_per_day['Period'],df_hourly_amount_per_day['Thursday'])\n",
    "plt.xlabel('Hours')\n",
    "plt.ylabel('Amount of people')\n",
    "plt.title('Thursday')"
   ]
  },
  {
   "cell_type": "code",
   "execution_count": null,
   "id": "3798712d-c148-490d-b319-07376f9f4f5d",
   "metadata": {},
   "outputs": [],
   "source": [
    "#Friday\n",
    "plt.bar(df_hourly_amount_per_day['Period'],df_hourly_amount_per_day['Friday'])\n",
    "plt.xlabel('Hours')\n",
    "plt.ylabel('Amount of people')\n",
    "plt.title('Friday')"
   ]
  },
  {
   "cell_type": "code",
   "execution_count": null,
   "id": "e783e566-1232-4695-b3f6-0152fea24778",
   "metadata": {},
   "outputs": [],
   "source": [
    "#Saturday\n",
    "plt.bar(df_hourly_amount_per_day['Period'],df_hourly_amount_per_day['Saturday'])\n",
    "plt.xlabel('Hours')\n",
    "plt.ylabel('Amount of people')\n",
    "plt.title('Saturday')"
   ]
  },
  {
   "cell_type": "code",
   "execution_count": null,
   "id": "bbcfb980-6acc-4e37-b08a-cd4a2da9837b",
   "metadata": {},
   "outputs": [],
   "source": [
    "#Sunday\n",
    "plt.bar(df_hourly_amount_per_day['Period'],df_hourly_amount_per_day['Sunday'])\n",
    "plt.xlabel('Hours')\n",
    "plt.ylabel('Amount of people')\n",
    "plt.title('Sunday')"
   ]
  },
  {
   "cell_type": "markdown",
   "id": "b59b19ad-03d4-46ce-983b-1f23dcd1ce05",
   "metadata": {},
   "source": [
    "And now we can also between weekdays and weekend days, we are plotting all 7 days of the week here"
   ]
  },
  {
   "cell_type": "code",
   "execution_count": null,
   "id": "814bde90-1479-4fed-b526-cd715ced7e22",
   "metadata": {},
   "outputs": [],
   "source": [
    "plt.bar(df_monthly_amount['Month'],df_monthly_amount['Amount'])\n",
    "plt.xlabel('Month')\n",
    "plt.ylabel('Amount of people')\n",
    "plt.title('Amount of people riding bluebikes per month')"
   ]
  },
  {
   "cell_type": "markdown",
   "id": "fb8b58d9-0738-4f8e-ad6b-a0d6bc2ffaec",
   "metadata": {},
   "source": [
    "Now that we have our dataframe with values assigned to the minutes, we can use those to create 3 individual Plots."
   ]
  },
  {
   "cell_type": "code",
   "execution_count": null,
   "id": "0cc8c8f6-ec66-4aea-b16a-1f3bf5149d09",
   "metadata": {},
   "outputs": [],
   "source": [
    "plt.plot(df_all_minutes['unique_minutes'],df_all_minutes['people'])\n",
    "plt.xlabel('Minutes')\n",
    "plt.ylabel('Amount of people')"
   ]
  },
  {
   "cell_type": "code",
   "execution_count": null,
   "id": "4838d0a1-bf49-435c-a826-1c2dcdacabc2",
   "metadata": {},
   "outputs": [],
   "source": [
    "plt.plot(df_big_minutes['unique_minutes'],df_big_minutes['people'])\n",
    "plt.xlabel('Minutes')\n",
    "plt.ylabel('Amount of people')"
   ]
  },
  {
   "cell_type": "code",
   "execution_count": null,
   "id": "bf513715-3747-4a53-b2ff-f585103d9400",
   "metadata": {},
   "outputs": [],
   "source": [
    "plt.plot(df_small_minutes['unique_minutes'],df_small_minutes['people'])\n",
    "plt.xlabel('Minutes')\n",
    "plt.ylabel('Amount of people')"
   ]
  },
  {
   "cell_type": "markdown",
   "id": "6ee61c93-90e9-4793-bae7-2a21a1775090",
   "metadata": {},
   "source": [
    "In order to create a visualization of the stations, we have decided to represent them using a map.\n",
    "\n",
    "Since we won't go into detail what exactly happens with the methods used,we refer to the following link:\n",
    "\n",
    "https://towardsdatascience.com/exploring-and-visualizing-chicago-transit-data-using-pandas-and-bokeh-part-ii-intro-to-bokeh-5dca6c5ced10"
   ]
  },
  {
   "cell_type": "markdown",
   "id": "733b0069-1a7d-4e65-a003-07ca36656c9f",
   "metadata": {},
   "source": [
    "A function for transforming lat and long to mercator projection coordinates:"
   ]
  },
  {
   "cell_type": "code",
   "execution_count": null,
   "id": "50dd746e-ebd0-4619-a399-1fe465606958",
   "metadata": {},
   "outputs": [],
   "source": [
    "import math\n",
    "from ast import literal_eval\n",
    "\n",
    "def merc(Coords):\n",
    "    Coordinates = literal_eval(Coords)\n",
    "    lat = Coordinates[0]\n",
    "    lon = Coordinates[1]\n",
    "    \n",
    "    r_major = 6378137.000\n",
    "    x = r_major * math.radians(lon)\n",
    "    scale = x/lon\n",
    "    y = 180.0/math.pi * math.log(math.tan(math.pi/4.0 + \n",
    "        lat * (math.pi/180.0)/2.0)) * scale\n",
    "    return (x, y)"
   ]
  },
  {
   "cell_type": "code",
   "execution_count": null,
   "id": "abf3f593-f8b7-4e25-acc3-cdef76b3785d",
   "metadata": {},
   "outputs": [],
   "source": [
    "top_left = '(42.41568810349132, -71.15337356574248)'\n",
    "bottom_right = '(42.308814794642046, -70.9677292096557)'"
   ]
  },
  {
   "cell_type": "code",
   "execution_count": null,
   "id": "85e48c63-952f-45c8-8051-71ebf3a44f5b",
   "metadata": {},
   "outputs": [],
   "source": [
    "merc(top_left)"
   ]
  },
  {
   "cell_type": "code",
   "execution_count": null,
   "id": "7626b46e-cc54-45b2-9d49-b04d818fd919",
   "metadata": {},
   "outputs": [],
   "source": [
    "merc(bottom_right)"
   ]
  },
  {
   "cell_type": "markdown",
   "id": "9b0314f8-a717-48d6-87c8-c54b20733bcb",
   "metadata": {},
   "source": [
    "We are creating the map with boston in focus:"
   ]
  },
  {
   "cell_type": "code",
   "execution_count": null,
   "id": "753d98ef-1599-4460-b0fd-6583d571403e",
   "metadata": {},
   "outputs": [],
   "source": [
    "from bokeh.plotting import figure, show, output_notebook\n",
    "from bokeh.tile_providers import CARTODBPOSITRON, get_provider\n",
    "\n",
    "tile_provider = get_provider(CARTODBPOSITRON)\n",
    "\n",
    "p = figure(x_range=(-7920757.313562025, -7900091.4783737995), y_range=(5223452.331299398, 5207351.240481618),\n",
    "           x_axis_type=\"mercator\", y_axis_type=\"mercator\")\n",
    "p.add_tile(tile_provider)\n",
    "\n",
    "output_notebook()\n",
    "\n",
    "# show(p)"
   ]
  },
  {
   "cell_type": "markdown",
   "id": "c99b4f03-240c-4d85-a165-dacb731ad3c3",
   "metadata": {},
   "source": [
    "We are deleting the Stations 158 and 153 otherwise we would divide by 0."
   ]
  },
  {
   "cell_type": "code",
   "execution_count": null,
   "id": "40fbc8ea-d87c-41b9-bb32-b9f97da93fbd",
   "metadata": {},
   "outputs": [],
   "source": [
    "df_stations = df_stations.drop(df_stations[df_stations['start_station_id'] == 158].index)\n",
    "df_stations = df_stations.drop(df_stations[df_stations['start_station_id'] == 153].index)"
   ]
  },
  {
   "cell_type": "code",
   "execution_count": null,
   "id": "2cf052b1-0206-43bc-828f-9b4f4a3f6497",
   "metadata": {},
   "outputs": [],
   "source": [
    "df_map_stations = df_stations"
   ]
  },
  {
   "cell_type": "code",
   "execution_count": null,
   "id": "c6368834-4b30-4c84-9738-899c7ad687c3",
   "metadata": {},
   "outputs": [],
   "source": [
    "df_map_stations.head()"
   ]
  },
  {
   "cell_type": "markdown",
   "id": "589c545e-5ad8-4f4c-9a2e-ad8aed419107",
   "metadata": {},
   "source": [
    "The merc function takes a str type, therfore we have to transfor the column to str."
   ]
  },
  {
   "cell_type": "code",
   "execution_count": null,
   "id": "6f23beba-2657-4993-ab29-594414e15149",
   "metadata": {},
   "outputs": [],
   "source": [
    "def makestr(x):\n",
    "    return (str(x))"
   ]
  },
  {
   "cell_type": "code",
   "execution_count": null,
   "id": "f466799e-809c-4812-946c-aeb37a7e53c0",
   "metadata": {},
   "outputs": [],
   "source": [
    "df_map_stations['str_coords'] = df_map_stations['start_coordinates'].apply(lambda x: makestr(x))"
   ]
  },
  {
   "cell_type": "code",
   "execution_count": null,
   "id": "dd5d4c83-cbb1-4a23-a98c-c409573bdf71",
   "metadata": {},
   "outputs": [],
   "source": [
    "df_map_stations['coords_x'] = df_map_stations['str_coords'].apply(lambda x: merc(x)[0])\n",
    "df_map_stations['coords_y'] = df_map_stations['str_coords'].apply(lambda x: merc(x)[1])"
   ]
  },
  {
   "cell_type": "code",
   "execution_count": null,
   "id": "4ecaacd7-df3d-42d1-8950-7c7683b0ace9",
   "metadata": {},
   "outputs": [],
   "source": [
    "df_map_stations.head(1)"
   ]
  },
  {
   "cell_type": "markdown",
   "id": "23ca20f8-76c8-4c7f-98a1-ce8ac17dee12",
   "metadata": {},
   "source": [
    "Now we can display the stations as dots on the map:"
   ]
  },
  {
   "cell_type": "code",
   "execution_count": null,
   "id": "ec6c2911-3c2f-47ad-b43c-dbd1b82c7b29",
   "metadata": {},
   "outputs": [],
   "source": [
    "\n",
    "p = figure(x_axis_type=\"mercator\", y_axis_type=\"mercator\")\n",
    "p.add_tile(tile_provider)\n",
    "p.circle(x = df_map_stations['coords_x'],\n",
    "         y = df_map_stations['coords_y'])\n",
    "output_notebook()\n",
    "# show(p)"
   ]
  },
  {
   "cell_type": "markdown",
   "id": "648988ae-f04c-43d0-af82-44302f9cec2e",
   "metadata": {},
   "source": [
    "For the following we need the coordinates and amout_of_trips_per_station other features can be dropped:"
   ]
  },
  {
   "cell_type": "code",
   "execution_count": null,
   "id": "63401b3a-0dfe-493e-9a02-06144c97960b",
   "metadata": {},
   "outputs": [],
   "source": [
    "df_map_stations.drop(['start_station_id','start_station_name','start_station_latitude','start_station_longitude','str_coords'], axis=1, inplace=True)"
   ]
  },
  {
   "cell_type": "code",
   "execution_count": null,
   "id": "e925a12b-550c-45d2-8a98-4d150c617c33",
   "metadata": {},
   "outputs": [],
   "source": [
    "df_map_stations.head(1)"
   ]
  },
  {
   "cell_type": "code",
   "execution_count": null,
   "id": "045c183e-1efe-456a-b191-e9e4e5a0ab99",
   "metadata": {},
   "outputs": [],
   "source": [
    "Merged = df_map_stations"
   ]
  },
  {
   "cell_type": "markdown",
   "id": "79d428c5-aa03-4e37-99ac-e467fa57eb9f",
   "metadata": {},
   "source": [
    "We have to scale the circles - this was done by trial and error:"
   ]
  },
  {
   "cell_type": "code",
   "execution_count": null,
   "id": "44fad25e-8a0a-4d95-b04e-b02d1de06a9b",
   "metadata": {},
   "outputs": [],
   "source": [
    "Merged['circle_sizes'] = Merged['amout_of_trips_per_station'] / 1000"
   ]
  },
  {
   "cell_type": "markdown",
   "id": "4e1c6a9c-376a-437a-b19e-21449a2e8750",
   "metadata": {},
   "source": [
    "Now we can display the station circles with dependence on the amout_of_trips_per_station:"
   ]
  },
  {
   "cell_type": "code",
   "execution_count": null,
   "id": "fb6d5e2f-d5c1-47fe-9d22-fb0d77b99d79",
   "metadata": {},
   "outputs": [],
   "source": [
    "# range bounds supplied in web mercator coordinates\n",
    "p = figure(x_axis_type=\"mercator\", y_axis_type=\"mercator\")\n",
    "p.add_tile(tile_provider)\n",
    "p.circle(x=Merged['coords_x'],\n",
    "         y=Merged['coords_y'], \n",
    "         size=Merged['circle_sizes'],\n",
    "         line_color=\"#FF0000\", \n",
    "         fill_color=\"#FF0000\",\n",
    "         fill_alpha=0.05)\n",
    "    \n",
    "output_notebook()\n",
    "show(p)"
   ]
  },
  {
   "cell_type": "markdown",
   "id": "c17031ec-2ad4-4001-a362-4de2fcd3a620",
   "metadata": {},
   "source": [
    "Here we can observe where the true center of the most used stations is located. <br>\n",
    "This will be relevant for the clustering. Please refer to the report for further details. "
   ]
  },
  {
   "cell_type": "markdown",
   "id": "19da23c3-00f2-491e-bc39-fc7a634b5dec",
   "metadata": {
    "jp-MarkdownHeadingCollapsed": true,
    "tags": []
   },
   "source": [
    "###### screenshot of the map:"
   ]
  },
  {
   "cell_type": "markdown",
   "id": "12efe3f2-d3f5-44be-8d46-ad005dc8ac50",
   "metadata": {
    "tags": []
   },
   "source": [
    "![GitLab home](Station_Map_trips.png)"
   ]
  },
  {
   "cell_type": "markdown",
   "id": "e6c3ad40-b3ab-4b33-917e-5898461b1fd3",
   "metadata": {
    "tags": []
   },
   "source": [
    "### 1.5) Clustering"
   ]
  },
  {
   "cell_type": "code",
   "execution_count": null,
   "id": "f7983e54-fc50-485e-a223-1c1f421849ac",
   "metadata": {},
   "outputs": [],
   "source": [
    "df_cluster.head(5)"
   ]
  },
  {
   "cell_type": "markdown",
   "id": "60c842cf-7228-4f28-be08-1dc3c46023cc",
   "metadata": {},
   "source": [
    "We can see that over time our dataframe has become quite feature rich\n",
    "\n",
    "But for clustering we can only use a handful of features, therefore the following columns need to be dropped:\n",
    "\n",
    "`start_time, end_time:` we use the start hour and duration of a trip instead\n",
    "\n",
    "`start_station_id, end_station_id, start_station_name, end_station_name:` hold no valuable information for clustering\n",
    "\n",
    "`bike_id:` we are focusing on trips and not the different bikes\n",
    "\n",
    "`start_coordinates, end_coordinates:` can not be used for clustering as the algorithms can not know what these coordinates mean - instead we are using start_distance_center and end_distance_center"
   ]
  },
  {
   "cell_type": "markdown",
   "id": "747cbac9-fa9d-48d9-8d84-3f12df110469",
   "metadata": {},
   "source": [
    "Drops for all trips:"
   ]
  },
  {
   "cell_type": "code",
   "execution_count": null,
   "id": "9e34fd20-0479-490d-9368-391874b9fb32",
   "metadata": {},
   "outputs": [],
   "source": [
    "df_cluster.drop(['start_time','end_time','start_station_id','end_station_id','user_type','start_station_name','end_station_name','bike_id','start_coordinates','end_coordinates','weekday_end'], axis=1, inplace=True)"
   ]
  },
  {
   "cell_type": "code",
   "execution_count": null,
   "id": "634d0407-158f-4010-a449-e6e9184a1064",
   "metadata": {},
   "outputs": [],
   "source": [
    "df_cluster.drop([\"true_monday\",\"true_tuesday\",\"true_wednesday\",\"true_thursday\",\"true_friday\",\"true_saturday\",\"true_sunday\"], axis=1, inplace=True)"
   ]
  },
  {
   "cell_type": "markdown",
   "id": "481b8741-a5db-40e4-a6d9-60dca146e25c",
   "metadata": {},
   "source": [
    "Now we can see the 7 remaining features"
   ]
  },
  {
   "cell_type": "code",
   "execution_count": null,
   "id": "61ac7eda-62b2-4b76-8150-8b631273d250",
   "metadata": {},
   "outputs": [],
   "source": [
    "df_cluster.head(1)"
   ]
  },
  {
   "cell_type": "markdown",
   "id": "fd231200-ef23-407f-964e-01ecc9b041d3",
   "metadata": {},
   "source": [
    "We can expect to find some interesting clusters with the features above.<br>\n",
    "With `distance_km` we can differntiate long from short trips which should be interesting in combination with `start_distance_center,end_distance_center`<br>\n",
    "`start_distance_center,end_distance_center` can inform us about the relative start and end location of a trip.<br>\n",
    "`speed_kmh` should be informative as well. A commute trip can be expected to be fast and a tourist/casual is more likely to ride slower.<br> \n",
    "We have seen in 1.4 that during week days we can observe peek usage at 8am and 5pm - we can expect these to be commuting trips. With the `start_hour` feature we hope to find these pattern in a cluster. <br>\n",
    "Furthermore we have observed that peek usage during the week is much higher than on weekends - we should be able to highlight this with the feature `weekday_start`."
   ]
  },
  {
   "cell_type": "markdown",
   "id": "96d1aa9c-7970-40bb-bfdc-f792e6765b39",
   "metadata": {},
   "source": [
    "To be able to work with the weekday_start feature we have to format the strings to ints:"
   ]
  },
  {
   "cell_type": "code",
   "execution_count": null,
   "id": "7044d2fe-e51e-4476-a48a-06a146881df2",
   "metadata": {},
   "outputs": [],
   "source": [
    "df_cluster['weekday_start'] = df_cluster['weekday_start'].replace([\"Monday\",\"Tuesday\",\"Wednesday\",\"Thursday\",\"Friday\",\"Saturday\",\"Sunday\"],[0,1,2,3,4,5,6])"
   ]
  },
  {
   "cell_type": "code",
   "execution_count": null,
   "id": "d97b6e4e-0cd4-47f2-8cba-1185db19a73c",
   "metadata": {},
   "outputs": [],
   "source": [
    "df_cluster.head()"
   ]
  },
  {
   "cell_type": "markdown",
   "id": "56c37c74-4544-42f8-b0b9-8474aabac84c",
   "metadata": {},
   "source": [
    "We have tried to leave some features out and keep others, the following code is just for quick enabling/disabling of features:"
   ]
  },
  {
   "cell_type": "code",
   "execution_count": null,
   "id": "4b63b53e-1b98-459e-a441-41115ec7c8dd",
   "metadata": {},
   "outputs": [],
   "source": [
    "# df_cluster.drop(['duration_sec'], axis=1, inplace=True)\n",
    "# df_cluster.drop(['speed_kmh'], axis=1, inplace=True)\n",
    "# df_cluster.drop('start_hour', axis=1, inplace=True)\n",
    "# df_cluster.drop(\"user_type\", axis=1, inplace=True)\n",
    "# df_cluster.drop('weekday_start', axis=1, inplace=True) \n",
    "# df_cluster.drop(['start_distance_center','end_distance_center'], axis=1, inplace=True) "
   ]
  },
  {
   "cell_type": "code",
   "execution_count": null,
   "id": "781a5288-7de7-4f7e-810f-e0d54f613e1b",
   "metadata": {},
   "outputs": [],
   "source": [
    "# df_cluster['start_hour'] = df_cluster['start_hour'].replace([0,1,2,3,4,5,6,7,8,9,10,11,12,13,14,15,16,17,18,19,20,21,22,23],[0,0,0,0,0,0,0,1,1,1,0,0,0,0,0,0,2,2,2,0,0,0,0,0])\n",
    "## 0 => any hour that is not rush hour <br>\n",
    "## 1 => hours 7,8,9 <br>\n",
    "## 2 => hours 16,17,18"
   ]
  },
  {
   "cell_type": "markdown",
   "id": "467f5db6-cccb-4c93-ac45-6ffc2ab6e63d",
   "metadata": {},
   "source": [
    "Now we can get to clustering:<br>\n",
    "For the unsupervised learing case we have decided to use the K-Means algorithm.<br>\n",
    "Please refer to the report for reasoning.<br>\n",
    "Thanks to the K-Means versatility we were able to use most of the code from workshop 11 - Introduction to Unsupervised Learning and Clustering"
   ]
  },
  {
   "cell_type": "code",
   "execution_count": null,
   "id": "aed64a6e-d677-44a2-a3c5-0b278d06cf6b",
   "metadata": {},
   "outputs": [],
   "source": [
    "X = df_cluster"
   ]
  },
  {
   "cell_type": "markdown",
   "id": "68363cae-8a61-474c-b7e1-f679fc5ce39c",
   "metadata": {},
   "source": [
    "In order to use the K-Means algorithm we have to scale the data by normalizing it:"
   ]
  },
  {
   "cell_type": "code",
   "execution_count": null,
   "id": "ce3170ec-f02c-4204-bb00-4a36446d0665",
   "metadata": {},
   "outputs": [],
   "source": [
    "from sklearn.preprocessing import StandardScaler\n",
    "scaler = StandardScaler()\n",
    "scaler.fit(X)\n",
    "X_scaled = scaler.transform(X)\n",
    "\n",
    "X_scaled_df = pd.DataFrame(X_scaled, columns=X.columns, index=X.index)\n",
    "X_scaled_df.head(10)"
   ]
  },
  {
   "cell_type": "code",
   "execution_count": null,
   "id": "b82a7bb3-dacb-4d01-a190-ba976b5b044c",
   "metadata": {},
   "outputs": [],
   "source": [
    "df_scaled = X_scaled_df"
   ]
  },
  {
   "cell_type": "code",
   "execution_count": null,
   "id": "572e6822-e094-4d3d-8186-27c39832926f",
   "metadata": {},
   "outputs": [],
   "source": [
    "from sklearn.cluster import KMeans"
   ]
  },
  {
   "cell_type": "markdown",
   "id": "2e75b406-1eb6-4ce9-ad25-a0079eb72b98",
   "metadata": {},
   "source": [
    "To find out how many clusters we should expect we are applying two methods here: <br>\n",
    "1. Expert knowledge \n",
    "2. Residual loss - elbow method <br>\n",
    "\n",
    "After working with the trip data extensively we have a rough idea of how many trip archetypes we can expect. <br>\n",
    "The features we have access to make location related data very limited, therefore we can only expect to see clusters for inner city trips, outer city trips and trips that connect inner and outer city. <br>\n",
    "Furthermore do we expect to have mostly two main users: <br>\n",
    " - commuters (they would be faster und ride during weekdays)\n",
    " - casuals/tourists (they would be slower and ride during weekdays and weekends)<br>\n",
    "Combining these factors we do not expect to see more than 10 clusters."
   ]
  },
  {
   "cell_type": "markdown",
   "id": "9cd6eaf5-a49d-4a21-a797-f78179e024ce",
   "metadata": {},
   "source": [
    "For good measure we will still perform the Residual loss / Elbow method with a max k of 50:"
   ]
  },
  {
   "cell_type": "markdown",
   "id": "711668e1-5fab-4930-a593-1444b085908d",
   "metadata": {},
   "source": [
    "The following code took several hours to run. We have done that once.<br>\n",
    "Please refer to the screenshots below for the result of the Residual loss / Elbow method.<br>\n",
    "Another interesting fact:<bd> \n",
    "The plot also doesn't change much with less data - e.g. we have also run it with just 9000 random trips and the plot looked exactly the same."
   ]
  },
  {
   "cell_type": "code",
   "execution_count": null,
   "id": "5187d6b6-055d-40df-9ca5-becefaebe0e7",
   "metadata": {},
   "outputs": [],
   "source": [
    "# k_max = 50\n",
    "\n",
    "# clusters = []\n",
    "# losses = []\n",
    "\n",
    "# for k in range(k_max):\n",
    "#     model = KMeans(n_clusters=k+1)\n",
    "#     model.fit(X_scaled)\n",
    "#     clusters.append(k+1)\n",
    "#     losses.append(model.inertia_)"
   ]
  },
  {
   "cell_type": "code",
   "execution_count": null,
   "id": "41840e39-5815-42ad-b019-48583171109d",
   "metadata": {},
   "outputs": [],
   "source": [
    "# plt.plot(clusters, losses)\n",
    "# plt.show()"
   ]
  },
  {
   "cell_type": "code",
   "execution_count": null,
   "id": "13f760d4-1ea7-45b4-8774-a8949f46369a",
   "metadata": {},
   "outputs": [],
   "source": [
    "# plt.plot(clusters, losses)\n",
    "# plt.xlim([0,20])"
   ]
  },
  {
   "cell_type": "markdown",
   "id": "f826be02-9c7f-4fce-9970-2c814b203ed5",
   "metadata": {},
   "source": [
    "![GitLab home](k_max_50.png)\n",
    "![GitLab home](k_max_50_zoom_to_20.png)\n"
   ]
  },
  {
   "cell_type": "markdown",
   "id": "61e8688f-c70c-45b8-afd5-d9ae616ca06d",
   "metadata": {},
   "source": [
    "Looking at the plot we can say that 4 to 8 clusters are to be expected. <br>\n",
    "Therfore we are running the algoruithm 5 times with n_clusters going from 4 to 8.  <br>\n",
    "Then we can inspect the 5 results and settle on a final number of clusters. "
   ]
  },
  {
   "cell_type": "markdown",
   "id": "d798efe2-15d8-499d-ad8f-0c78c49109ca",
   "metadata": {},
   "source": [
    "We have inserted screenshots for your reference.<br>\n",
    "Please feel free to remove the comments from each cell to test if the clustering is working.<br>\n",
    "Be warned: each clustering takes about 30 minutes.<br>\n",
    "\n"
   ]
  },
  {
   "cell_type": "markdown",
   "id": "8e711bd0-bb1a-474d-9cd0-558a1649c6fe",
   "metadata": {
    "jp-MarkdownHeadingCollapsed": true,
    "tags": []
   },
   "source": [
    "###### Screenshot of the clustering results"
   ]
  },
  {
   "cell_type": "markdown",
   "id": "033f7ec1-23de-4ec0-a917-fba94c97ba22",
   "metadata": {
    "tags": []
   },
   "source": [
    "![GitLab home](4_clusters.png)\n",
    "![GitLab home](5_clusters.png)\n",
    "![GitLab home](6_clusters.png)\n",
    "![GitLab home](7_clusters.png)\n",
    "![GitLab home](8_clusters.png)"
   ]
  },
  {
   "cell_type": "markdown",
   "id": "ff61f0dc-91a7-4a83-9ab6-4a3d1fe9d246",
   "metadata": {
    "tags": []
   },
   "source": [
    "###### Clustering:"
   ]
  },
  {
   "cell_type": "code",
   "execution_count": null,
   "id": "e0192c52-c7e9-42c9-9691-6841b1743e35",
   "metadata": {},
   "outputs": [],
   "source": [
    "numbers = [\"zero\", \"one\", \"two\", \"three\",\"four\",\"five\",\"six\",\"seven\"]"
   ]
  },
  {
   "cell_type": "code",
   "execution_count": null,
   "id": "8cda3d3e-e536-4e5e-9a3b-9450481f6753",
   "metadata": {},
   "outputs": [],
   "source": [
    "#numbers_4 = [\"zero\", \"one\", \"two\", \"three\"]\n",
    "#four_means = KMeans(n_clusters=4, random_state = 4)\n",
    "#four_means.fit(X_scaled)\n",
    "#df_scaled[\"clusters\"] = four_means.predict(X_scaled)\n",
    "#df_scaled[\"clusters\"] = df_scaled[\"clusters\"].apply(lambda x: numbers[x])\n",
    "#plot_4 = sns.pairplot(data=df_scaled, hue=\"clusters\", hue_order = numbers_4)"
   ]
  },
  {
   "cell_type": "code",
   "execution_count": null,
   "id": "a91d8001-06c3-4b2c-ba72-168ad913475c",
   "metadata": {},
   "outputs": [],
   "source": [
    "#numbers_5 = [\"zero\", \"one\", \"two\", \"three\",\"four\"]\n",
    "#five_means = KMeans(n_clusters = 5, random_state = 5)\n",
    "#five_means.fit(X_scaled)\n",
    "#df_scaled[\"clusters\"] = five_means.predict(X_scaled)\n",
    "#df_scaled[\"clusters\"] = df_scaled[\"clusters\"].apply(lambda x: numbers[x])\n",
    "#plot_5 = sns.pairplot(data=df_scaled, hue=\"clusters\",hue_order = numbers_5)"
   ]
  },
  {
   "cell_type": "code",
   "execution_count": null,
   "id": "15071f00-2cc6-47d7-a037-cc955ce5599c",
   "metadata": {},
   "outputs": [],
   "source": [
    "#numbers_6 = [\"zero\", \"one\", \"two\", \"three\",\"four\",\"five\"]\n",
    "#six_means = KMeans(n_clusters=6, random_state = 6)\n",
    "#six_means.fit(X_scaled)\n",
    "#df_scaled[\"clusters\"] = six_means.predict(X_scaled)\n",
    "#df_scaled[\"clusters\"] = df_scaled[\"clusters\"].apply(lambda x: numbers[x])\n",
    "#plot_6 = sns.pairplot(data=df_scaled, hue=\"clusters\",hue_order = numbers_6)"
   ]
  },
  {
   "cell_type": "code",
   "execution_count": null,
   "id": "35175da2-58f4-49cd-9bc1-aa5ca3e1c02b",
   "metadata": {},
   "outputs": [],
   "source": [
    "numbers_7 = [\"zero\", \"one\", \"two\", \"three\",\"four\",\"five\",\"six\"]\n",
    "seven_means = KMeans(n_clusters=7, random_state = 7)\n",
    "seven_means.fit(X_scaled)\n",
    "df_scaled[\"clusters\"] = seven_means.predict(X_scaled)\n",
    "df_scaled[\"clusters\"] = df_scaled[\"clusters\"].apply(lambda x: numbers[x])\n",
    "plot_7 = sns.pairplot(data=df_scaled, hue=\"clusters\",hue_order = numbers_7)"
   ]
  },
  {
   "cell_type": "code",
   "execution_count": null,
   "id": "83007d40-5754-4fae-8068-a9ba127ecb35",
   "metadata": {},
   "outputs": [],
   "source": [
    "#numbers_8 = [\"zero\", \"one\", \"two\", \"three\",\"four\",\"five\",\"six\",\"seven\"]\n",
    "#eight_means = KMeans(n_clusters=8,random_state = 8)\n",
    "#eight_means.fit(X_scaled)\n",
    "#df_scaled[\"clusters\"] = eight_means.predict(X_scaled)\n",
    "#df_scaled[\"clusters\"] = df_scaled[\"clusters\"].apply(lambda x: numbers[x])\n",
    "#plot_8 = sns.pairplot(data=df_scaled, hue=\"clusters\",hue_order = numbers_8)"
   ]
  },
  {
   "cell_type": "markdown",
   "id": "c0ac8a19-d00f-4fe4-954b-800ddfffab2e",
   "metadata": {
    "tags": []
   },
   "source": [
    "## Task 2 Customer Behavior Analytics:"
   ]
  },
  {
   "cell_type": "markdown",
   "id": "ad01fd98-0312-4269-abd3-f7cf7f0024e5",
   "metadata": {},
   "source": [
    "1) Read Data\n",
    "2) Organize Data\n",
    "3) Visualization and feature selection\n",
    "4) Regression"
   ]
  },
  {
   "cell_type": "markdown",
   "id": "5b94d1e8-9809-4060-af26-f872fc713ca5",
   "metadata": {
    "tags": []
   },
   "source": [
    "### 2.1) Read Data"
   ]
  },
  {
   "cell_type": "markdown",
   "id": "c8a8fc66-0460-4d05-a359-86dcdd182d37",
   "metadata": {},
   "source": [
    "We are starting with the tripdata dataframe (initialized when we first read the csv files) "
   ]
  },
  {
   "cell_type": "code",
   "execution_count": null,
   "id": "9b3fa1ef-4424-4e06-88e9-2aa0c6e0409b",
   "metadata": {},
   "outputs": [],
   "source": [
    "# convert datetime type\n",
    "tripdata['start_time'] = pd.to_datetime(tripdata['start_time'])"
   ]
  },
  {
   "cell_type": "code",
   "execution_count": null,
   "id": "991bc98e-7f1e-4ac4-aedc-b33896c29274",
   "metadata": {},
   "outputs": [],
   "source": [
    "# check that import worked\n",
    "tripdata"
   ]
  },
  {
   "cell_type": "markdown",
   "id": "d211fb32-4d2c-4743-b66e-bd3162bfe366",
   "metadata": {},
   "source": [
    "We work with the weather_data dataframe (initialized when we first read the csv files)"
   ]
  },
  {
   "cell_type": "code",
   "execution_count": null,
   "id": "25175072-015a-4684-bec5-f438b19a4efe",
   "metadata": {},
   "outputs": [],
   "source": [
    "# convert date time type\n",
    "weather_data['date_time'] = pd.to_datetime(weather_data['date_time'])"
   ]
  },
  {
   "cell_type": "markdown",
   "id": "893e2f07-5662-4dde-a2a1-bf713c194253",
   "metadata": {
    "tags": []
   },
   "source": [
    "### 2.2) Organize Data"
   ]
  },
  {
   "cell_type": "markdown",
   "id": "d8bc201e-dcdb-4e38-b2b5-c540e1ce7a1f",
   "metadata": {},
   "source": [
    "We set the start and end date because just 2016 data is relevant and create a new dataframe with the seletected data."
   ]
  },
  {
   "cell_type": "code",
   "execution_count": null,
   "id": "1801a793-2a55-43a7-ac72-b4554edd0073",
   "metadata": {},
   "outputs": [],
   "source": [
    "start = pd.to_datetime(datetime(year=2016, month=1, day=1))\n",
    "end = pd.to_datetime(datetime(year=2017, month=1, day=1))\n",
    "\n",
    "# select weather data from 2016\n",
    "weather_data_16 = weather_data[(weather_data[\"date_time\"]>=start)&(weather_data[\"date_time\"]<=end)]"
   ]
  },
  {
   "cell_type": "markdown",
   "id": "a2a210da-bef2-4a2b-ad7d-795842702459",
   "metadata": {},
   "source": [
    "Next we organize the dataframe by sorting it and dropping rows with duplicates."
   ]
  },
  {
   "cell_type": "code",
   "execution_count": null,
   "id": "b30dc95a-3065-42cf-9d9f-9481328be52e",
   "metadata": {},
   "outputs": [],
   "source": [
    "# convert precipitation type\n",
    "weather_data_16['precip'] = weather_data_16['precip'].apply(np.int64)\n",
    "\n",
    "# sort weather data by timestamp\n",
    "weather_data_16 = weather_data_16.sort_values(by=['date_time'], ascending=True)\n",
    "\n",
    "# drop duplicate rows\n",
    "weather_data_16 = weather_data_16.drop_duplicates(subset='date_time', keep='first')\n",
    "\n",
    "# reset weather data index\n",
    "weather_data_16.index = range(8251)"
   ]
  },
  {
   "cell_type": "code",
   "execution_count": null,
   "id": "faa299f3-afb6-4c99-abdb-4aed4a791cf0",
   "metadata": {
    "scrolled": true
   },
   "outputs": [],
   "source": [
    "weather_data_16"
   ]
  },
  {
   "cell_type": "markdown",
   "id": "e69f5100-0a46-4558-bfb2-d41926aaf14f",
   "metadata": {
    "tags": []
   },
   "source": [
    "#### Focus on most popular station"
   ]
  },
  {
   "cell_type": "markdown",
   "id": "cc992862-7fbf-4877-bd3a-1cccafde3515",
   "metadata": {},
   "source": [
    "As we know from Task 1 (see 1.3) for more information), the most popular rental station by outgoing trips in the network is \"MIT at Mass Ave / Amherst St\" (station_id: 67)."
   ]
  },
  {
   "cell_type": "markdown",
   "id": "ac02bbfd-74ef-44ca-8593-e59efac8e82e",
   "metadata": {},
   "source": [
    "From now on, for the demand prediction, we focus on the most popular station, so we just look at trips from station 67."
   ]
  },
  {
   "cell_type": "code",
   "execution_count": null,
   "id": "345c1aad-8b5e-4bdd-b5be-414aa20946c8",
   "metadata": {},
   "outputs": [],
   "source": [
    "# select just the outgoing trips from station 67\n",
    "tripdata67 = tripdata.where(lambda x: (x.start_station_id == 67), axis = 0)\n",
    "\n",
    "# convert start time type\n",
    "tripdata67['start_time'] = pd.to_datetime(tripdata67['start_time'])"
   ]
  },
  {
   "cell_type": "markdown",
   "id": "63be821e-3749-4b37-9720-b58e70c712b1",
   "metadata": {},
   "source": [
    "We create a new dataframe with our tripdata, where we count the outgoing trips from station 67 per hour, drop all other data and adjust the beginning and end times so it is easier to merge the trip data with the weather data later. "
   ]
  },
  {
   "cell_type": "code",
   "execution_count": null,
   "id": "8faac5ac-3f9c-4075-b61d-c99492438199",
   "metadata": {},
   "outputs": [],
   "source": [
    "# set hourly Dataframe\n",
    "tripdata67_hourly = tripdata67.set_index('start_time')\n",
    "\n",
    "# count outoing trips per hour\n",
    "tripdata67_hourly = tripdata67_hourly.resample('H').count()\n",
    "\n",
    "# drop unnecessary columns \n",
    "tripdata67_hourly = tripdata67_hourly.drop('start_station_id', axis=1)\n",
    "tripdata67_hourly = tripdata67_hourly.drop('end_station_id', axis=1)\n",
    "tripdata67_hourly = tripdata67_hourly.drop('start_station_name', axis=1)\n",
    "tripdata67_hourly = tripdata67_hourly.drop('end_station_name', axis=1)\n",
    "tripdata67_hourly = tripdata67_hourly.drop('bike_id', axis=1)\n",
    "tripdata67_hourly = tripdata67_hourly.drop('user_type', axis=1)\n",
    "tripdata67_hourly.rename(columns = {'end_time':'trips_out'}, inplace = True)\n",
    "\n",
    "# reset index\n",
    "tripdata67_hourly = tripdata67_hourly.reset_index()\n",
    "\n",
    "# renaming start_time column (to date_time)\n",
    "tripdata67_hourly.rename(columns = {'start_time':'date_time'}, inplace = True)\n",
    "\n",
    "# setting index to new range that new data can be added\n",
    "tripdata67_hourly.index = range(8, 8782)\n",
    "\n",
    "# create data for 'front' dataframe\n",
    "data = [[pd.to_datetime('2016-01-01 00:00:00'),0],\n",
    "        [pd.to_datetime('2016-01-01 01:00:00'),0],\n",
    "        [pd.to_datetime('2016-01-01 02:00:00'),0],\n",
    "        [pd.to_datetime('2016-01-01 03:00:00'),0],\n",
    "        [pd.to_datetime('2016-01-01 04:00:00'),0],\n",
    "        [pd.to_datetime('2016-01-01 05:00:00'),0],\n",
    "        [pd.to_datetime('2016-01-01 06:00:00'),0],\n",
    "        [pd.to_datetime('2016-01-01 07:00:00'),0]]\n",
    "\n",
    "# create data for 'rear' dataframe\n",
    "data2 = [[pd.to_datetime('2016-12-31 22:00:00'),0],\n",
    "         [pd.to_datetime('2016-12-31 23:00:00'),0],\n",
    "         [pd.to_datetime('2017-01-01 00:00:00'),0]]\n",
    " \n",
    "# create help dataframes\n",
    "dfh = pd.DataFrame(data, range(8), columns=['date_time', 'trips_out'])\n",
    "dfh2 = pd.DataFrame(data2, range(8782, 8785), columns=['date_time', 'trips_out'])\n",
    "\n",
    "# add help dataframes to main dataframe\n",
    "tripdata67_hourly = tripdata67_hourly.append(dfh, ignore_index=False)\n",
    "tripdata67_hourly = tripdata67_hourly.append(dfh2, ignore_index=False)\n",
    "\n",
    "# sort main dataframe\n",
    "tripdata67_hourly = tripdata67_hourly.sort_index()"
   ]
  },
  {
   "cell_type": "code",
   "execution_count": null,
   "id": "424ef1b8-d309-4401-81fd-02200efe8765",
   "metadata": {},
   "outputs": [],
   "source": [
    "tripdata67_hourly"
   ]
  },
  {
   "cell_type": "markdown",
   "id": "fc7f7e13-d9ef-43f8-a53a-f8c95fbaba70",
   "metadata": {},
   "source": [
    "#### MERGE TRIP AND WEATHER DATA"
   ]
  },
  {
   "cell_type": "markdown",
   "id": "6a0b5fad-d27e-4f56-b87c-01eef4c5d774",
   "metadata": {},
   "source": [
    "We merge the hourly trip data with the weather data into one dataframe. Afterwards we fill any NaN values that might occur because of missing entries in the weather data."
   ]
  },
  {
   "cell_type": "code",
   "execution_count": null,
   "id": "2233d0d5-7029-446d-9026-9055f6454325",
   "metadata": {},
   "outputs": [],
   "source": [
    "# create help arrays for column values\n",
    "data_max = []\n",
    "data_min = []\n",
    "data_pre = []\n",
    "\n",
    "# iterating through dataframe \n",
    "# count_w is the current number of columns where we have weather entries\n",
    "count_w = 0\n",
    "for i in range(8785):\n",
    "    # if current timpstamp of trip data and weather data match, add weather values, otherwise add None \n",
    "    if tripdata67_hourly['date_time'].iloc[i] == weather_data_16['date_time'].iloc[count_w]:\n",
    "        data_max.append(weather_data_16['max_temp'].iloc[count_w])\n",
    "        data_min.append(weather_data_16['min_temp'].iloc[count_w])\n",
    "        data_pre.append(weather_data_16['precip'].iloc[count_w])\n",
    "        # if we found weather data, increase weather counter\n",
    "        count_w = count_w + 1\n",
    "    else:\n",
    "        data_max.append(None)\n",
    "        data_min.append(None)\n",
    "        data_pre.append(None)\n",
    "\n",
    "# convert help arrays to series\n",
    "data_max = pd.Series(data_max)\n",
    "data_min = pd.Series(data_min)\n",
    "data_pre = pd.Series(data_pre)\n",
    "\n",
    "# add new columns to trip data dataframe\n",
    "tripdata67_hourly['max_temp'] = data_max\n",
    "tripdata67_hourly['min_temp'] = data_min\n",
    "tripdata67_hourly['precip'] = data_pre\n",
    "\n",
    "# iterate through trip data dataframe\n",
    "for i in range(8785):\n",
    "    # look for NaN Values and replace them\n",
    "    if np.isnan(tripdata67_hourly['max_temp'].iloc[i]):\n",
    "        if np.isnan(tripdata67_hourly['max_temp'].iloc[i+1]):\n",
    "            tripdata67_hourly['max_temp'].iloc[i] = tripdata67_hourly['max_temp'].iloc[i-1]\n",
    "            tripdata67_hourly['min_temp'].iloc[i] = tripdata67_hourly['min_temp'].iloc[i-1]\n",
    "        else:\n",
    "            tripdata67_hourly['max_temp'].iloc[i] = (tripdata67_hourly['max_temp'].iloc[i-1]+tripdata67_hourly['max_temp'].iloc[i+1])/2\n",
    "            tripdata67_hourly['min_temp'].iloc[i] = (tripdata67_hourly['min_temp'].iloc[i-1]+tripdata67_hourly['min_temp'].iloc[i+1])/2\n",
    "        \n",
    "        tripdata67_hourly['precip'].iloc[i] = tripdata67_hourly['precip'].iloc[i-1]"
   ]
  },
  {
   "cell_type": "code",
   "execution_count": null,
   "id": "3fad5972-c2fb-4e34-8b13-f2e6c38a63e6",
   "metadata": {},
   "outputs": [],
   "source": [
    "tripdata67_hourly"
   ]
  },
  {
   "cell_type": "markdown",
   "id": "b05b442d-9a00-45a5-a527-e51708e45d60",
   "metadata": {},
   "source": [
    "#### Add features"
   ]
  },
  {
   "cell_type": "markdown",
   "id": "63840e61-423e-43ff-9d09-fa287eabb1a7",
   "metadata": {},
   "source": [
    "We select a few features that we thought give a good insight into the nature of the bike trip data and add the respective columns."
   ]
  },
  {
   "cell_type": "code",
   "execution_count": null,
   "id": "8f44cdf5-a740-423f-a23d-572f773a3117",
   "metadata": {},
   "outputs": [],
   "source": [
    "# add average temperature column\n",
    "tripdata67_hourly['avg_temp'] = (tripdata67_hourly['max_temp'] + tripdata67_hourly['min_temp'])/2\n",
    "\n",
    "# add weekday column\n",
    "tripdata67_hourly['weekday'] = tripdata67_hourly.apply(lambda x: (x.date_time.weekday()), axis=1)\n",
    "\n",
    "# add hour column\n",
    "tripdata67_hourly['hour'] = tripdata67_hourly.apply(lambda x: (x.date_time.hour), axis=1)"
   ]
  },
  {
   "cell_type": "code",
   "execution_count": null,
   "id": "3af29318-c75a-4e32-9489-fe7e1030c342",
   "metadata": {},
   "outputs": [],
   "source": [
    "tripdata67_hourly"
   ]
  },
  {
   "cell_type": "markdown",
   "id": "eb48199c-a801-4241-a741-f8df6763a370",
   "metadata": {
    "tags": []
   },
   "source": [
    "### 2.3) Visualization and feature selection"
   ]
  },
  {
   "cell_type": "markdown",
   "id": "3d21cd3e-c9de-4293-aabb-be6dd53c11ec",
   "metadata": {},
   "source": [
    "We visualize a few features to see if the data matches our expectations and if there are any obvious correlations."
   ]
  },
  {
   "cell_type": "markdown",
   "id": "79bbe582-ee86-4f10-85c6-98a51c137299",
   "metadata": {},
   "source": [
    "#### Temperature"
   ]
  },
  {
   "cell_type": "markdown",
   "id": "331c924b-1d19-4627-9220-44cb7d2cec5d",
   "metadata": {},
   "source": [
    "First we start with the average temperature (per hour) and plot it over the hole year as well as the outgoing trips per hour."
   ]
  },
  {
   "cell_type": "code",
   "execution_count": null,
   "id": "a2f667d2-8080-45d3-95ce-b695486b7db3",
   "metadata": {},
   "outputs": [],
   "source": [
    "# average temperature visualization\n",
    "fig,ax = plt.subplots(figsize=(10,4))\n",
    "ax.plot(tripdata67_hourly[\"date_time\"],tripdata67_hourly[\"avg_temp\"],\"-\")\n",
    "ax.set_xlabel(\"time\")\n",
    "ax.set_ylabel(\"temp\")\n",
    "ax.set_title(\"temp plot\")\n",
    "\n",
    "# trips per hours visualization\n",
    "fig,ax2 = plt.subplots(figsize=(10,4))\n",
    "ax2.plot(tripdata67_hourly[\"date_time\"],tripdata67_hourly[\"trips_out\"],\"-\")\n",
    "ax2.set_xlabel(\"time\")\n",
    "ax2.set_ylabel(\"trips\")\n",
    "ax2.set_title(\"trips plot\")\n",
    "\n",
    "plt.show()"
   ]
  },
  {
   "cell_type": "markdown",
   "id": "e03eec5c-0538-434b-b877-336f0602c7ca",
   "metadata": {},
   "source": [
    "Because there seems to be a correlation, we define dependent (y) and independent (x) variables for our trip demand prediction and draw the resulting scatter plot."
   ]
  },
  {
   "cell_type": "code",
   "execution_count": null,
   "id": "a14c73df-60c0-41cb-9a19-ba7a6a385d30",
   "metadata": {},
   "outputs": [],
   "source": [
    "xp = tripdata67_hourly[\"avg_temp\"]\n",
    "yp = tripdata67_hourly[\"trips_out\"]"
   ]
  },
  {
   "cell_type": "code",
   "execution_count": null,
   "id": "220bf363-ffcd-4900-8f82-41d485ba1877",
   "metadata": {},
   "outputs": [],
   "source": [
    "fig, ax = plt.subplots(figsize = (8,6))\n",
    "# plotting the data\n",
    "ax.scatter(xp, yp, marker='x',)\n",
    "ax.set_xlabel(\"Avg Temperature (°C)\")\n",
    "ax.set_ylabel(\"#Outgoing Trips (/h)\")\n",
    "\n",
    "plt.show()"
   ]
  },
  {
   "cell_type": "markdown",
   "id": "b9cc9485-4698-4950-9cd4-47f852659eec",
   "metadata": {},
   "source": [
    "The number of outgoing trips seems to rise up as the recorded temperature rises until ~25°C and then drops down again. So we expect a correlation but it's likely not linear."
   ]
  },
  {
   "cell_type": "markdown",
   "id": "2f17672a-3352-4b09-ba01-5ca44866e353",
   "metadata": {},
   "source": [
    "#### Time of day"
   ]
  },
  {
   "cell_type": "markdown",
   "id": "f1f94711-38a5-4080-9371-2871d97bd6c3",
   "metadata": {},
   "source": [
    "Next we look at the time of day, the trips are started, so we plot the starting hour and the number of outgoing trips."
   ]
  },
  {
   "cell_type": "code",
   "execution_count": null,
   "id": "19e778b6-9e6f-456f-a015-f3625c0c9de8",
   "metadata": {},
   "outputs": [],
   "source": [
    "# define dependent (y) and independent (x) variables for trip demand prediction\n",
    "\n",
    "xp2 = tripdata67_hourly[\"hour\"]\n",
    "\n",
    "yp2 = tripdata67_hourly[\"trips_out\"]\n",
    "\n",
    "fig, ax = plt.subplots(figsize = (8,6))\n",
    "# plotting the data\n",
    "ax.scatter(xp2, yp2, marker='x',)\n",
    "ax.set_xlabel(\"hour\")\n",
    "ax.set_ylabel(\"#Outgoing Trips (/h)\")\n",
    "\n",
    "plt.show()\n",
    "#saving figures (You can comment-out this line inorder not to save figures)\n",
    "#plt.savefig('summer data_peak demand.pdf')\n",
    "# note: we see that a higher average temperature in an hour correlates with the number of outgoing trips\n",
    "# (positive trend until +25°C, then negative)"
   ]
  },
  {
   "cell_type": "markdown",
   "id": "22e9cf1a-15dc-49cb-8ba4-345fe4ae079c",
   "metadata": {},
   "source": [
    "Here we clearly see that the time of day matters but we also know that the temperature changes not only with the seasons but also depending on the time of day. Furthermore, the demand between ~10am and ~7pm is always similarly high."
   ]
  },
  {
   "cell_type": "markdown",
   "id": "0fee7606-10a8-4761-b4a0-2d7f4d56f2e9",
   "metadata": {},
   "source": [
    "#### Day of week and Precipitation"
   ]
  },
  {
   "cell_type": "markdown",
   "id": "f08786ff-c0c0-45db-ae46-49046521212a",
   "metadata": {},
   "source": [
    "We also compared the number of outgoing trips per weekday and whether there was precipitation recorded. "
   ]
  },
  {
   "cell_type": "code",
   "execution_count": null,
   "id": "b836b0c5-cf5a-4099-8dd8-6e158c2cedf8",
   "metadata": {},
   "outputs": [],
   "source": [
    "xp2 = tripdata67_hourly[\"weekday\"]\n",
    "yp2 = tripdata67_hourly[\"trips_out\"]\n",
    "\n",
    "fig, ax = plt.subplots(figsize = (8,6))\n",
    "ax.scatter(xp2, yp2, marker='x',)\n",
    "ax.set_xlabel(\"weekday\")\n",
    "ax.set_ylabel(\"#Outgoing Trips (/h)\")\n",
    "\n",
    "plt.show()\n",
    "#saving figures (You can comment-out this line inorder not to save figures)\n",
    "#plt.savefig('summer data_peak demand.pdf')"
   ]
  },
  {
   "cell_type": "code",
   "execution_count": null,
   "id": "2b4cc653-3e5f-47a5-b3ad-ada5f59e13f2",
   "metadata": {},
   "outputs": [],
   "source": [
    "xp2 = tripdata67_hourly[\"precip\"]\n",
    "yp2 = tripdata67_hourly[\"trips_out\"]\n",
    "\n",
    "fig, ax = plt.subplots(figsize = (8,6))\n",
    "# Plotting the data\n",
    "ax.scatter(xp2, yp2, marker='x',)\n",
    "ax.set_xlabel(\"Precipitation\")\n",
    "ax.set_ylabel(\"#Outgoing Trips (/h)\")\n",
    "\n",
    "plt.show()\n",
    "#saving figures (You can comment-out this line inorder not to save figures)\n",
    "#plt.savefig('summer data_peak demand.pdf')"
   ]
  },
  {
   "cell_type": "markdown",
   "id": "836aa4af-8da5-4104-9416-54a6012184cd",
   "metadata": {},
   "source": [
    "We see minor changes for the weekdays and a factor of about 2 for precipitation. But because the temperature has the most significant impact on the demand, we decided to go ahead and apply the regression algorithms to the temperature feature.  "
   ]
  },
  {
   "cell_type": "markdown",
   "id": "92c31edd-6f94-42ad-8d37-674734598ba1",
   "metadata": {
    "tags": []
   },
   "source": [
    "### 2.4) Regression"
   ]
  },
  {
   "cell_type": "markdown",
   "id": "7a3f6f37-9883-4e3a-92e2-e26f20adbe4c",
   "metadata": {},
   "source": [
    "#### Polynomial regression"
   ]
  },
  {
   "cell_type": "markdown",
   "id": "dee51d4f-ae2a-4acc-b093-ae29a15e4f2e",
   "metadata": {},
   "source": [
    "As we already mentioned, the correlation of temperature and the number of outgoing trips doesn't appear to be linear, so we decided to start with a polynomial regression and look at different polynomial degrees."
   ]
  },
  {
   "cell_type": "code",
   "execution_count": null,
   "id": "1e4f1e24-1831-4303-864a-5530bbb23661",
   "metadata": {},
   "outputs": [],
   "source": [
    "# to plot a polynomial regression, we took the code from the workshop\n",
    "\n",
    "# x is the input variable\n",
    "# y is the output vaiable\n",
    "# d is degree pf polynomial regression\n",
    "\n",
    "def plot_regression_poly(x, y, d):\n",
    "    \n",
    "    # Create polynomial features\n",
    "    min_x, max_x = x.min(), x.max()\n",
    "    xs = 2*(x - min_x)/(max_x - min_x)-1  # standardize to range [-1,1]\n",
    "    X = np.array([xs**i for i in range(d,-1,-1)]).T\n",
    "    \n",
    "    # Implement polynomial regression using least squares (we use the nomal equations as derived in the lecture)\n",
    "    theta = np.linalg.solve(X.T @ X, X.T @ y)\n",
    "    xt0 = np.linspace(min_x-1, max_x+1, 400)\n",
    "    \n",
    "    # create scaled test dataset\n",
    "    xt = 2* (xt0 - min_x)/(max_x - min_x) -1\n",
    "    Xt = np.array([xt**i for i in range(d,-1,-1)]).T\n",
    "    yt = Xt @ theta\n",
    "    \n",
    "    # Plot results\n",
    "    plt.figure(figsize = (8,6))\n",
    "    plt.scatter(x, y, marker=\"x\")\n",
    "    ylim = plt.ylim()\n",
    "    plt.plot(xt0, yt, 'C1')\n",
    "    plt.xlabel(\"Temperature (°C)\")\n",
    "    plt.ylabel(\"Demand (GW)\")\n",
    "    plt.xlim([min_x-2, max_x+2])\n",
    "    plt.ylim(ylim)\n",
    "    print(theta[:7]) # prints first 3 thetas"
   ]
  },
  {
   "cell_type": "code",
   "execution_count": null,
   "id": "cd81ce9d-e29b-4a38-8c59-801d4476a375",
   "metadata": {
    "scrolled": true
   },
   "outputs": [],
   "source": [
    "plot_regression_poly(x = xp, y=yp, d = 1)"
   ]
  },
  {
   "cell_type": "code",
   "execution_count": null,
   "id": "e134cff3-755f-44f8-8c9b-fa3cd697d074",
   "metadata": {},
   "outputs": [],
   "source": [
    "plot_regression_poly(x = xp, y=yp, d = 2)"
   ]
  },
  {
   "cell_type": "code",
   "execution_count": null,
   "id": "f783b7c0-20af-47c3-bd36-87b499467590",
   "metadata": {},
   "outputs": [],
   "source": [
    "plot_regression_poly(x = xp, y=yp, d = 3)"
   ]
  },
  {
   "cell_type": "code",
   "execution_count": null,
   "id": "d462d6f2-2445-4c51-a01a-598461758673",
   "metadata": {},
   "outputs": [],
   "source": [
    "plot_regression_poly(x = xp, y=yp, d = 7)"
   ]
  },
  {
   "cell_type": "markdown",
   "id": "6759c43b-17d5-4e1f-aa82-6be2b0e2b257",
   "metadata": {},
   "source": [
    "Every degree from 3 up looks promising but 7 seems to have the best fit. To test this hypothesis, we will evaluate which degree fits best next by determining the mean squared error. "
   ]
  },
  {
   "cell_type": "markdown",
   "id": "eed5c303-8106-40a9-bb6a-467c3a9425af",
   "metadata": {},
   "source": [
    "#### train test split"
   ]
  },
  {
   "cell_type": "markdown",
   "id": "d42d4372-67eb-4647-81ce-4ddc3928f663",
   "metadata": {},
   "source": [
    "First we split the data into a training set with the usual 30-70% ratio."
   ]
  },
  {
   "cell_type": "code",
   "execution_count": null,
   "id": "32f0c138-4987-4499-91bb-9f9f21686af8",
   "metadata": {},
   "outputs": [],
   "source": [
    "# splitting the data with 70-30% split\n",
    "x_train, x_test, y_train, y_test = train_test_split(tripdata67_hourly[\"avg_temp\"], tripdata67_hourly[\"trips_out\"], test_size=0.3, random_state=42)"
   ]
  },
  {
   "cell_type": "code",
   "execution_count": null,
   "id": "ea890b06-4e06-4d4c-ad81-74fb21b2f108",
   "metadata": {},
   "outputs": [],
   "source": [
    "# plotting train and test set\n",
    "plt.figure(figsize = (8,6))\n",
    "plt.scatter(x_train, y_train, marker='x', color=\"C0\")\n",
    "plt.scatter(x_test, y_test, marker='x', color=\"C2\")\n",
    "plt.xlabel(\"Avg Temperature (°C)\")\n",
    "plt.ylabel(\"Outgoing Trips / h\")\n",
    "plt.legend(['Training set', 'Validation set'])\n",
    "plt.show()\n",
    "#plt.savefig('crossvalidation.pdf', dpi = 300)"
   ]
  },
  {
   "cell_type": "code",
   "execution_count": null,
   "id": "9b9c0a01-c197-4812-a5ba-82fff1eff8de",
   "metadata": {},
   "outputs": [],
   "source": [
    "# to determine the mean squared error, we use code from the workshop\n",
    "def ls_poly(x, y, d): #ls=lest squares\n",
    "    \n",
    "    # Create polynomial features\n",
    "    min_x, max_x = x.min(), x.max()\n",
    "    xs = 2*(x - min_x)/(max_x - min_x)-1  # standardize to range [-1,1]\n",
    "    X = np.array([xs**i for i in range(d,-1,-1)]).T\n",
    "    \n",
    "    # Implement polynomial regression using least squares (we use the nomal equations as derived in the lecture)\n",
    "    theta = np.linalg.solve(X.T @ X, X.T @ y)\n",
    "    \n",
    "    return theta"
   ]
  },
  {
   "cell_type": "code",
   "execution_count": null,
   "id": "f8378bdc-93b9-41bd-be11-9cbb9426075a",
   "metadata": {},
   "outputs": [],
   "source": [
    "min_x_train, max_x_train = x_train.min(), x_train.max()\n",
    "x_train = 2*(x_train - min_x_train)/(max_x_train - min_x_train) - 1\n",
    "x_test = 2*(x_test - min_x_train)/(max_x_train - min_x_train) - 1\n",
    "\n",
    "def poly_feat(x, degree):\n",
    "    return np.array([x**i for i in range(degree,-1,-1)]).T\n",
    "    \n",
    "maxdegree = 15\n",
    "    \n",
    "err_train = []\n",
    "abserrtrain = []\n",
    "err_cv = []\n",
    "abserrcv = []\n",
    "for i in range(maxdegree):\n",
    "    theta = ls_poly(x_train, y_train, i)\n",
    "    err_train.append(((poly_feat(x_train,i) @ theta - y_train)**2).mean())\n",
    "    err_cv.append(((poly_feat(x_test,i) @ theta - y_test)**2).mean())\n",
    "    abserrtrain.append((abs(poly_feat(x_train,i) @ theta - y_train)).mean())\n",
    "    abserrcv.append((abs(poly_feat(x_test,i) @ theta - y_test)).mean())\n",
    "\n",
    "plt.figure(figsize = (8,6))\n",
    "plt.semilogy(range(maxdegree), err_train, range(maxdegree), err_cv)\n",
    "plt.legend([\"Training\", \"Validation\"])\n",
    "plt.xlabel(\"Polynomial degree\")\n",
    "plt.ylabel(\"Mean squared error\")"
   ]
  },
  {
   "cell_type": "code",
   "execution_count": null,
   "id": "450930c6-0263-4b9c-9bee-6e29fce4d4d2",
   "metadata": {},
   "outputs": [],
   "source": [
    "abserrcv[7]"
   ]
  },
  {
   "cell_type": "code",
   "execution_count": null,
   "id": "db237bc9-40ee-40e0-b358-6d49af8b95b1",
   "metadata": {},
   "outputs": [],
   "source": [
    "abserrtrain[7]"
   ]
  },
  {
   "cell_type": "code",
   "execution_count": null,
   "id": "8942d295-39e9-4405-959e-7f145f3d0780",
   "metadata": {},
   "outputs": [],
   "source": [
    "err_train[7]"
   ]
  },
  {
   "cell_type": "code",
   "execution_count": null,
   "id": "0d0f8269-111c-4d35-a97f-ec4f0589a846",
   "metadata": {},
   "outputs": [],
   "source": [
    "err_cv[7]"
   ]
  },
  {
   "cell_type": "markdown",
   "id": "7240c07a-e13d-46d3-bd92-589667243c3c",
   "metadata": {},
   "source": [
    "As we expected, the mean squared error for the different polynomial degrees shows us that a degree of 7 has the best outcome. We expect a absolut deviation of hour prediction of about 3.7 bikes."
   ]
  },
  {
   "cell_type": "markdown",
   "id": "0c7c9837-987e-4d50-bffb-a3008401a914",
   "metadata": {},
   "source": [
    "#### Ridge regression"
   ]
  },
  {
   "cell_type": "markdown",
   "id": "8a57575d-4cea-4811-9e34-741c7075066b",
   "metadata": {},
   "source": [
    "Because we want to avoid overfitting and smoothen our function, we decided to use regularization. Therefore we will perform a ridge regression as our second regression algorithm. A polynomial degree of 35 and a value for lambda of 0.4 seem a good estimate for an accurate prediction"
   ]
  },
  {
   "cell_type": "code",
   "execution_count": null,
   "id": "2ef915c4-45ee-4b2f-959a-2a0a65eb2aef",
   "metadata": {},
   "outputs": [],
   "source": [
    "deg = 35\n",
    "lam = 0.4\n",
    "\n",
    "xp = tripdata67_hourly[\"avg_temp\"].values\n",
    "yp = tripdata67_hourly[\"trips_out\"].values\n",
    "\n",
    "# using mostly code from the workshop to use scikits ridge regression \n",
    "# initialize model\n",
    "Poly = PolynomialFeatures(degree = deg)\n",
    "\n",
    "# fit and transform xp\n",
    "X_poly = Poly.fit_transform(xp.reshape(-1,1))\n",
    "\n",
    "model_L2 = Ridge(alpha = lam, normalize = True, solver = 'lsqr') # select least squares regression as solver\n",
    "\n",
    "model_L2.fit(X_poly, yp)\n",
    "prediction = model_L2.predict(X_poly)\n",
    "\n",
    "print(\"Coefficients \", model_L2.coef_, \"\\nIntercept \", model_L2.intercept_ )"
   ]
  },
  {
   "cell_type": "code",
   "execution_count": null,
   "id": "fddab7bc-b3f8-4d86-9ad9-ec9eda6d6e4e",
   "metadata": {},
   "outputs": [],
   "source": [
    "# function for plotting\n",
    "\n",
    "def plot_scikit_output (x, y, fitted_model):\n",
    "    \n",
    "    min_x, max_x = x.min(), x.max()\n",
    "    xt0 = np.linspace(min_x-1, max_x+1, 400)\n",
    "    \n",
    "    xt0_poly = Poly.fit_transform(xt0.reshape(-1,1))\n",
    "    \n",
    "    # plotting routine\n",
    "    plt.figure(figsize = (8,6))\n",
    "    plt.scatter(x, y, marker=\"x\")\n",
    "    ylim = plt.ylim()\n",
    "    plt.plot(xt0, fitted_model.predict(xt0_poly), 'C1')\n",
    "    plt.xlabel(\"Temperature (°C)\")\n",
    "    plt.ylabel(\"Outgoing trips\")\n",
    "    plt.xlim([min_x-2, max_x+2])\n",
    "    plt.ylim(ylim)"
   ]
  },
  {
   "cell_type": "code",
   "execution_count": null,
   "id": "74206f7f-3f0d-4c49-9291-41f052f44295",
   "metadata": {},
   "outputs": [],
   "source": [
    "plot_scikit_output (xp, yp, model_L2)"
   ]
  },
  {
   "cell_type": "markdown",
   "id": "7f79a7a2-cc6c-4bdf-aa82-247a8a8d99d3",
   "metadata": {},
   "source": [
    "To evaluate the performance of the ridge regression, we look how it's mean squared error changes depending on different lambda values."
   ]
  },
  {
   "cell_type": "code",
   "execution_count": null,
   "id": "7b1e2d4b-f9e4-44c4-a9eb-c893cc9cbbd4",
   "metadata": {},
   "outputs": [],
   "source": [
    "exp1 = -4\n",
    "exp2 = 5\n",
    "\n",
    "# mostly code from the workshop to evaluate the regression performance \n",
    "def plot_L2_regression_performance (x, y, deg):\n",
    "\n",
    "    err_train = []\n",
    "    err_cv = []\n",
    "    \n",
    "    x_train, x_test, y_train, y_test = train_test_split(xp, yp, test_size=0.3,random_state=10)\n",
    "\n",
    "    for alpha in np.logspace(exp1, exp2,100):\n",
    "\n",
    "        # create poly features\n",
    "        poly_reg = PolynomialFeatures (degree = deg)\n",
    "        X_train_poly = poly_reg.fit_transform(x_train.reshape(-1,1))\n",
    "        X_test_poly = poly_reg.fit_transform(x_test.reshape(-1,1))\n",
    "\n",
    "        # fit model\n",
    "        model_L2 = Ridge(alpha = alpha, normalize = True, solver = 'lsqr') # select least squares regression as solver\n",
    "        model_L2.fit(X_train_poly, y_train)\n",
    "    \n",
    "        # compute errors\n",
    "        err_train.append(mean_squared_error(model_L2.predict(X_train_poly), y_train))\n",
    "        err_cv.append(mean_squared_error(model_L2.predict(X_test_poly), y_test))\n",
    "\n",
    "\n",
    "    plt.figure(figsize = (8,6))\n",
    "    plt.loglog(np.logspace(exp1,exp2,100), err_train, np.logspace(exp1,exp2,100), err_cv)\n",
    "    plt.legend([\"Training\", \"Validation\"])\n",
    "    plt.xlabel(\"$\\lambda$ (or alpha)\")\n",
    "    plt.ylabel(\"Mean squared error\")\n",
    "    plt.show()"
   ]
  },
  {
   "cell_type": "code",
   "execution_count": null,
   "id": "e30b5ccd-1120-4224-b696-0ba5db310041",
   "metadata": {},
   "outputs": [],
   "source": [
    "plot_L2_regression_performance(xp,yp,deg)"
   ]
  },
  {
   "cell_type": "markdown",
   "id": "84437411-9c4d-4c4c-a3b5-0f72fec87dc4",
   "metadata": {},
   "source": [
    "We see that the mean squared error of the ridge regression is similar to the mse of the regular polynomial regression up to a value of lambda of 1. So our determined lambda value of 0.4 results in a not too complex model as well as a training loss that is not too large."
   ]
  },
  {
   "cell_type": "markdown",
   "id": "a337478b-c8ae-416f-a482-625954c27c92",
   "metadata": {
    "tags": []
   },
   "source": [
    "#### Radial Basis Function"
   ]
  },
  {
   "cell_type": "markdown",
   "id": "6be2c380-429f-4d52-98b6-a08529d825f8",
   "metadata": {},
   "source": [
    "Furthermore we briefly looked at the radial basis function as another regression algorithm, but it turned out to not give as satisfying results as we hoped for."
   ]
  },
  {
   "cell_type": "code",
   "execution_count": null,
   "id": "012a36ae-d2c5-4169-bb08-99a150a5d16c",
   "metadata": {},
   "outputs": [],
   "source": [
    "# using code from the workshops to realize the RBF\n",
    "# create RBF features\n",
    "def rbf_feat(x, mu, sig):\n",
    "    return np.hstack([np.exp(-(x[:,None] - mu)**2/(2*sig**2)), np.ones((len(x),1))])\n",
    "\n",
    "def plot_regression_rbf(theta, mu, sig):\n",
    "    xt = np.linspace(-20,35, 400)\n",
    "    yt = rbf_feat(xt, mu, sig) @ theta\n",
    "    \n",
    "    plt.figure(figsize = (8,6))\n",
    "    plt.scatter(tripdata67_hourly[\"avg_temp\"], tripdata67_hourly[\"trips_out\"], marker=\"x\")\n",
    "    ylim = plt.ylim()\n",
    "    plt.plot(xt, yt, 'C1')\n",
    "    plt.xlabel(\"Temperature (C)\")\n",
    "    plt.ylabel(\"Outgoing trips\")\n",
    "    plt.xlim([-18,35])\n",
    "    plt.ylim(ylim)                  \n",
    "\n",
    "def train_rbf(x, y, n_rbf):\n",
    "    min_x, max_x = x.min(), x.max()\n",
    "    sig = (max_x - min_x)/(n_rbf-1)\n",
    "    mu = np.linspace(min_x, max_x, n_rbf-1)\n",
    "    \n",
    "    Phi = rbf_feat(x, mu, sig)\n",
    "    theta = np.linalg.solve(Phi.T @ Phi, Phi.T @ y)\n",
    "    return theta, mu, sig\n",
    "    \n",
    "x = tripdata67_hourly[\"avg_temp\"].values\n",
    "plot_regression_rbf(*train_rbf(xp, yp, 9))"
   ]
  }
 ],
 "metadata": {
  "kernelspec": {
   "display_name": "Python 3 (ipykernel)",
   "language": "python",
   "name": "python3"
  },
  "language_info": {
   "codemirror_mode": {
    "name": "ipython",
    "version": 3
   },
   "file_extension": ".py",
   "mimetype": "text/x-python",
   "name": "python",
   "nbconvert_exporter": "python",
   "pygments_lexer": "ipython3",
   "version": "3.9.7"
  }
 },
 "nbformat": 4,
 "nbformat_minor": 5
}
