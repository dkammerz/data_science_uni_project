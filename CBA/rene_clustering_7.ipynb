{
 "cells": [
  {
   "cell_type": "code",
   "execution_count": 1,
   "id": "59edf09d-42d7-4e81-8a83-2d2f44699cbf",
   "metadata": {},
   "outputs": [],
   "source": [
    "import pandas as pd\n",
    "import numpy as np\n",
    "import matplotlib.pyplot as plt\n",
    "from pandas.plotting import register_matplotlib_converters\n",
    "register_matplotlib_converters()\n",
    "import seaborn as sns\n",
    "# sns.set()\n",
    "# sns.set_style(\"white\")\n",
    "# sns.set_palette(\"GnBu_d\")\n",
    "%matplotlib inline\n",
    "\n",
    "import folium\n",
    "from folium import plugins\n",
    "from folium.plugins import HeatMap\n",
    "from datetime import datetime #for working with times objects\n",
    "from datetime import timedelta #for working with times objects\n",
    "import math\n",
    "import random\n",
    "from pathlib import Path\n",
    "\n",
    "import geopy\n",
    "from geopy.geocoders import GoogleV3\n",
    "from geopy.distance import geodesic"
   ]
  },
  {
   "cell_type": "code",
   "execution_count": 2,
   "id": "8e904062-d364-41ff-879f-0659ce505447",
   "metadata": {},
   "outputs": [],
   "source": [
    "df_cluster = pd.read_csv(\"../new_boston_2016_prep_cluster.csv\")\n",
    "# df_cluster = df"
   ]
  },
  {
   "cell_type": "code",
   "execution_count": 3,
   "id": "50230f78-822b-4328-951b-45e76f2d609b",
   "metadata": {},
   "outputs": [
    {
     "data": {
      "text/plain": [
       "1227562"
      ]
     },
     "execution_count": 3,
     "metadata": {},
     "output_type": "execute_result"
    }
   ],
   "source": [
    "len(df_cluster)"
   ]
  },
  {
   "cell_type": "markdown",
   "id": "f03ab82a-c60e-49e4-8125-21832ef59414",
   "metadata": {
    "tags": []
   },
   "source": [
    "### 1.5) Clustering"
   ]
  },
  {
   "cell_type": "code",
   "execution_count": 4,
   "id": "064c559a-5771-4ec1-810a-2929efbf278e",
   "metadata": {},
   "outputs": [
    {
     "data": {
      "text/html": [
       "<div>\n",
       "<style scoped>\n",
       "    .dataframe tbody tr th:only-of-type {\n",
       "        vertical-align: middle;\n",
       "    }\n",
       "\n",
       "    .dataframe tbody tr th {\n",
       "        vertical-align: top;\n",
       "    }\n",
       "\n",
       "    .dataframe thead th {\n",
       "        text-align: right;\n",
       "    }\n",
       "</style>\n",
       "<table border=\"1\" class=\"dataframe\">\n",
       "  <thead>\n",
       "    <tr style=\"text-align: right;\">\n",
       "      <th></th>\n",
       "      <th>Unnamed: 0</th>\n",
       "      <th>Unnamed: 0.1</th>\n",
       "      <th>start_time</th>\n",
       "      <th>end_time</th>\n",
       "      <th>start_station_id</th>\n",
       "      <th>end_station_id</th>\n",
       "      <th>start_station_name</th>\n",
       "      <th>end_station_name</th>\n",
       "      <th>bike_id</th>\n",
       "      <th>user_type</th>\n",
       "      <th>start_coordinates</th>\n",
       "      <th>end_coordinates</th>\n",
       "      <th>distance_km</th>\n",
       "      <th>duration_sec</th>\n",
       "      <th>speed_kmh</th>\n",
       "      <th>start_distance_center</th>\n",
       "      <th>end_distance_center</th>\n",
       "      <th>start_hour</th>\n",
       "      <th>weekday_start</th>\n",
       "      <th>weekday_end</th>\n",
       "    </tr>\n",
       "  </thead>\n",
       "  <tbody>\n",
       "    <tr>\n",
       "      <th>0</th>\n",
       "      <td>0</td>\n",
       "      <td>0</td>\n",
       "      <td>2016-01-01 00:08:07</td>\n",
       "      <td>2016-01-01 00:40:26</td>\n",
       "      <td>36</td>\n",
       "      <td>19</td>\n",
       "      <td>Boston Public Library - 700 Boylston St.</td>\n",
       "      <td>Buswell St. at Park Dr.</td>\n",
       "      <td>1406</td>\n",
       "      <td>Subscriber</td>\n",
       "      <td>(42.349673, -71.077303)</td>\n",
       "      <td>(42.347241, -71.105301)</td>\n",
       "      <td>2.322721</td>\n",
       "      <td>1939.0</td>\n",
       "      <td>4.312426</td>\n",
       "      <td>1.490849</td>\n",
       "      <td>2.225968</td>\n",
       "      <td>0</td>\n",
       "      <td>4</td>\n",
       "      <td>4</td>\n",
       "    </tr>\n",
       "  </tbody>\n",
       "</table>\n",
       "</div>"
      ],
      "text/plain": [
       "   Unnamed: 0  Unnamed: 0.1           start_time             end_time  \\\n",
       "0           0             0  2016-01-01 00:08:07  2016-01-01 00:40:26   \n",
       "\n",
       "   start_station_id  end_station_id                        start_station_name  \\\n",
       "0                36              19  Boston Public Library - 700 Boylston St.   \n",
       "\n",
       "          end_station_name  bike_id   user_type        start_coordinates  \\\n",
       "0  Buswell St. at Park Dr.     1406  Subscriber  (42.349673, -71.077303)   \n",
       "\n",
       "           end_coordinates  distance_km  duration_sec  speed_kmh  \\\n",
       "0  (42.347241, -71.105301)     2.322721        1939.0   4.312426   \n",
       "\n",
       "   start_distance_center  end_distance_center  start_hour  weekday_start  \\\n",
       "0               1.490849             2.225968           0              4   \n",
       "\n",
       "   weekday_end  \n",
       "0            4  "
      ]
     },
     "execution_count": 4,
     "metadata": {},
     "output_type": "execute_result"
    }
   ],
   "source": [
    "df_cluster.head(1)"
   ]
  },
  {
   "cell_type": "markdown",
   "id": "c9a14817-7264-4824-a5f8-a166dac0b026",
   "metadata": {},
   "source": [
    "We can see that over time our dataframe has become quite feature rich\n",
    "\n",
    "But for clustering we can only use a handful of features, therefore the following columns need to be dropped:\n",
    "\n",
    "`start_time, end_time:` we use the start hour and duration of a trip instead\n",
    "\n",
    "`start_station_id, end_station_id, start_station_name, end_station_name:` hold no valuable information for clustering\n",
    "\n",
    "`bike_id:` we are focusing on trips and not the different bikes\n",
    "\n",
    "`start_coordinates, end_coordinates:` can not be used for clustering as the algorithms can not know what these coordinates mean - instead we are using start_distance_center and end_distance_center"
   ]
  },
  {
   "cell_type": "code",
   "execution_count": 5,
   "id": "5fff1f89-502f-44b3-b759-9caf2e7b1fa7",
   "metadata": {},
   "outputs": [],
   "source": [
    "df_cluster.drop(['Unnamed: 0.1','Unnamed: 0','start_time','end_time','start_station_id','end_station_id','start_station_name','end_station_name','bike_id','start_coordinates','end_coordinates','weekday_end'], axis=1, inplace=True)"
   ]
  },
  {
   "cell_type": "markdown",
   "id": "b5231db2-2ad1-4e1e-aaf1-96547bd353b5",
   "metadata": {},
   "source": [
    "Now we can see the 8 remaining features"
   ]
  },
  {
   "cell_type": "code",
   "execution_count": 6,
   "id": "348821c1-fc6d-4b35-9afd-a9beae090a74",
   "metadata": {},
   "outputs": [
    {
     "data": {
      "text/html": [
       "<div>\n",
       "<style scoped>\n",
       "    .dataframe tbody tr th:only-of-type {\n",
       "        vertical-align: middle;\n",
       "    }\n",
       "\n",
       "    .dataframe tbody tr th {\n",
       "        vertical-align: top;\n",
       "    }\n",
       "\n",
       "    .dataframe thead th {\n",
       "        text-align: right;\n",
       "    }\n",
       "</style>\n",
       "<table border=\"1\" class=\"dataframe\">\n",
       "  <thead>\n",
       "    <tr style=\"text-align: right;\">\n",
       "      <th></th>\n",
       "      <th>user_type</th>\n",
       "      <th>distance_km</th>\n",
       "      <th>duration_sec</th>\n",
       "      <th>speed_kmh</th>\n",
       "      <th>start_distance_center</th>\n",
       "      <th>end_distance_center</th>\n",
       "      <th>start_hour</th>\n",
       "      <th>weekday_start</th>\n",
       "    </tr>\n",
       "  </thead>\n",
       "  <tbody>\n",
       "  </tbody>\n",
       "</table>\n",
       "</div>"
      ],
      "text/plain": [
       "Empty DataFrame\n",
       "Columns: [user_type, distance_km, duration_sec, speed_kmh, start_distance_center, end_distance_center, start_hour, weekday_start]\n",
       "Index: []"
      ]
     },
     "execution_count": 6,
     "metadata": {},
     "output_type": "execute_result"
    }
   ],
   "source": [
    "df_cluster.head(0)"
   ]
  },
  {
   "cell_type": "markdown",
   "id": "78cf7717-99f1-4907-973b-7369399a7b79",
   "metadata": {},
   "source": []
  },
  {
   "cell_type": "code",
   "execution_count": 7,
   "id": "e276f81b-2c5d-49b8-975a-1f02a927ad1d",
   "metadata": {},
   "outputs": [],
   "source": [
    "df_cluster['user_type'] = df_cluster['user_type'].replace(['Customer','Subscriber'],[0,1])\n",
    "# user_type:\n",
    "# 0 = Customer\n",
    "# 1 = Subscriber"
   ]
  },
  {
   "cell_type": "code",
   "execution_count": 8,
   "id": "f90a1c4b-a992-4010-ad03-14316441a8ae",
   "metadata": {},
   "outputs": [],
   "source": [
    "# df_cluster['weekday_start'] = df_cluster['weekday_start'].replace([0,1,2,3,4,5,6],[0,0,0,0,0,1,1])\n",
    "# df_cluster['weekday_end'] = df_cluster['weekday_end'].replace([0,1,2,3,4,5,6],[0,0,0,0,0,1,1])\n",
    "# 0 -> workday\n",
    "# 1 -> weekend "
   ]
  },
  {
   "cell_type": "code",
   "execution_count": 9,
   "id": "8db7c6fb-50f3-4403-833c-075362e72fcf",
   "metadata": {},
   "outputs": [],
   "source": [
    "# df_cluster.drop(['duration_sec'], axis=1, inplace=True)\n",
    "# df_cluster.drop(['speed_kmh'], axis=1, inplace=True)\n",
    "# df_cluster.drop('start_hour', axis=1, inplace=True)\n",
    "df_cluster.drop(\"user_type\", axis=1, inplace=True)\n",
    "# df_cluster.drop('weekday_start', axis=1, inplace=True) \n",
    "# df_cluster.drop(['start_distance_center','end_distance_center'], axis=1, inplace=True) "
   ]
  },
  {
   "cell_type": "markdown",
   "id": "fe2befec-eac6-4af8-b607-e724e7f4b5d7",
   "metadata": {
    "tags": []
   },
   "source": [
    "#### All Cluster"
   ]
  },
  {
   "cell_type": "markdown",
   "id": "d6c0fc9f-d554-4a7a-a894-82cc11fbb387",
   "metadata": {},
   "source": [
    "X -> df_cluster bei workshop"
   ]
  },
  {
   "cell_type": "code",
   "execution_count": 10,
   "id": "b34fcb86-5185-444a-a381-e8b7e37af88c",
   "metadata": {},
   "outputs": [],
   "source": [
    "X = df_cluster"
   ]
  },
  {
   "cell_type": "code",
   "execution_count": 11,
   "id": "27c62716-8e53-43ee-8856-316ab013cc65",
   "metadata": {},
   "outputs": [
    {
     "data": {
      "text/html": [
       "<div>\n",
       "<style scoped>\n",
       "    .dataframe tbody tr th:only-of-type {\n",
       "        vertical-align: middle;\n",
       "    }\n",
       "\n",
       "    .dataframe tbody tr th {\n",
       "        vertical-align: top;\n",
       "    }\n",
       "\n",
       "    .dataframe thead th {\n",
       "        text-align: right;\n",
       "    }\n",
       "</style>\n",
       "<table border=\"1\" class=\"dataframe\">\n",
       "  <thead>\n",
       "    <tr style=\"text-align: right;\">\n",
       "      <th></th>\n",
       "      <th>distance_km</th>\n",
       "      <th>duration_sec</th>\n",
       "      <th>speed_kmh</th>\n",
       "      <th>start_distance_center</th>\n",
       "      <th>end_distance_center</th>\n",
       "      <th>start_hour</th>\n",
       "      <th>weekday_start</th>\n",
       "    </tr>\n",
       "  </thead>\n",
       "  <tbody>\n",
       "    <tr>\n",
       "      <th>0</th>\n",
       "      <td>0.372217</td>\n",
       "      <td>1.564819</td>\n",
       "      <td>-1.370620</td>\n",
       "      <td>-0.912488</td>\n",
       "      <td>-0.371260</td>\n",
       "      <td>-2.892635</td>\n",
       "      <td>0.639277</td>\n",
       "    </tr>\n",
       "    <tr>\n",
       "      <th>1</th>\n",
       "      <td>0.372217</td>\n",
       "      <td>1.549223</td>\n",
       "      <td>-1.364143</td>\n",
       "      <td>-0.912488</td>\n",
       "      <td>-0.371260</td>\n",
       "      <td>-2.892635</td>\n",
       "      <td>0.639277</td>\n",
       "    </tr>\n",
       "    <tr>\n",
       "      <th>2</th>\n",
       "      <td>0.372217</td>\n",
       "      <td>1.387591</td>\n",
       "      <td>-1.292397</td>\n",
       "      <td>-0.912488</td>\n",
       "      <td>-0.371260</td>\n",
       "      <td>-2.892635</td>\n",
       "      <td>0.639277</td>\n",
       "    </tr>\n",
       "    <tr>\n",
       "      <th>3</th>\n",
       "      <td>0.372217</td>\n",
       "      <td>1.352146</td>\n",
       "      <td>-1.275440</td>\n",
       "      <td>-0.912488</td>\n",
       "      <td>-0.371260</td>\n",
       "      <td>-2.892635</td>\n",
       "      <td>0.639277</td>\n",
       "    </tr>\n",
       "    <tr>\n",
       "      <th>4</th>\n",
       "      <td>-0.208537</td>\n",
       "      <td>0.149836</td>\n",
       "      <td>-0.884696</td>\n",
       "      <td>-0.912488</td>\n",
       "      <td>0.152522</td>\n",
       "      <td>-2.892635</td>\n",
       "      <td>0.639277</td>\n",
       "    </tr>\n",
       "    <tr>\n",
       "      <th>5</th>\n",
       "      <td>-0.648585</td>\n",
       "      <td>-0.724959</td>\n",
       "      <td>0.622296</td>\n",
       "      <td>0.356323</td>\n",
       "      <td>-1.562253</td>\n",
       "      <td>-2.892635</td>\n",
       "      <td>0.639277</td>\n",
       "    </tr>\n",
       "    <tr>\n",
       "      <th>6</th>\n",
       "      <td>1.494028</td>\n",
       "      <td>0.336988</td>\n",
       "      <td>0.761884</td>\n",
       "      <td>0.058861</td>\n",
       "      <td>1.633134</td>\n",
       "      <td>-2.892635</td>\n",
       "      <td>0.639277</td>\n",
       "    </tr>\n",
       "    <tr>\n",
       "      <th>7</th>\n",
       "      <td>-0.772882</td>\n",
       "      <td>-0.542060</td>\n",
       "      <td>-0.587706</td>\n",
       "      <td>1.536931</td>\n",
       "      <td>-0.547849</td>\n",
       "      <td>-2.892635</td>\n",
       "      <td>0.639277</td>\n",
       "    </tr>\n",
       "    <tr>\n",
       "      <th>8</th>\n",
       "      <td>-0.862973</td>\n",
       "      <td>-0.780253</td>\n",
       "      <td>0.175197</td>\n",
       "      <td>1.279682</td>\n",
       "      <td>0.309060</td>\n",
       "      <td>-2.892635</td>\n",
       "      <td>0.639277</td>\n",
       "    </tr>\n",
       "    <tr>\n",
       "      <th>9</th>\n",
       "      <td>-1.007851</td>\n",
       "      <td>-0.863905</td>\n",
       "      <td>0.129299</td>\n",
       "      <td>0.644137</td>\n",
       "      <td>1.278979</td>\n",
       "      <td>-2.892635</td>\n",
       "      <td>0.639277</td>\n",
       "    </tr>\n",
       "  </tbody>\n",
       "</table>\n",
       "</div>"
      ],
      "text/plain": [
       "   distance_km  duration_sec  speed_kmh  start_distance_center  \\\n",
       "0     0.372217      1.564819  -1.370620              -0.912488   \n",
       "1     0.372217      1.549223  -1.364143              -0.912488   \n",
       "2     0.372217      1.387591  -1.292397              -0.912488   \n",
       "3     0.372217      1.352146  -1.275440              -0.912488   \n",
       "4    -0.208537      0.149836  -0.884696              -0.912488   \n",
       "5    -0.648585     -0.724959   0.622296               0.356323   \n",
       "6     1.494028      0.336988   0.761884               0.058861   \n",
       "7    -0.772882     -0.542060  -0.587706               1.536931   \n",
       "8    -0.862973     -0.780253   0.175197               1.279682   \n",
       "9    -1.007851     -0.863905   0.129299               0.644137   \n",
       "\n",
       "   end_distance_center  start_hour  weekday_start  \n",
       "0            -0.371260   -2.892635       0.639277  \n",
       "1            -0.371260   -2.892635       0.639277  \n",
       "2            -0.371260   -2.892635       0.639277  \n",
       "3            -0.371260   -2.892635       0.639277  \n",
       "4             0.152522   -2.892635       0.639277  \n",
       "5            -1.562253   -2.892635       0.639277  \n",
       "6             1.633134   -2.892635       0.639277  \n",
       "7            -0.547849   -2.892635       0.639277  \n",
       "8             0.309060   -2.892635       0.639277  \n",
       "9             1.278979   -2.892635       0.639277  "
      ]
     },
     "execution_count": 11,
     "metadata": {},
     "output_type": "execute_result"
    }
   ],
   "source": [
    "from sklearn.preprocessing import StandardScaler\n",
    "scaler = StandardScaler()\n",
    "scaler.fit(X)\n",
    "X_scaled = scaler.transform(X)\n",
    "\n",
    "# create a df out of array\n",
    "X_scaled_df = pd.DataFrame(X_scaled, columns=X.columns, index=X.index)\n",
    "X_scaled_df.head(10)"
   ]
  },
  {
   "cell_type": "code",
   "execution_count": 12,
   "id": "490b950c-237a-415c-af62-001f5264cccb",
   "metadata": {},
   "outputs": [],
   "source": [
    "df_scaled = X_scaled_df"
   ]
  },
  {
   "cell_type": "code",
   "execution_count": 13,
   "id": "17b4f03a-3f4a-4428-8670-5a6f331e3d5b",
   "metadata": {},
   "outputs": [],
   "source": [
    "from sklearn.cluster import KMeans"
   ]
  },
  {
   "cell_type": "code",
   "execution_count": 14,
   "id": "8d73689f-a0ec-4945-9d92-978440babb73",
   "metadata": {},
   "outputs": [],
   "source": [
    "numbers = [\"zero\", \"one\", \"two\", \"three\",\"four\",\"five\",\"six\",\"seven\"]"
   ]
  },
  {
   "cell_type": "code",
   "execution_count": 15,
   "id": "4318da08-4698-481e-84aa-6724b3a1d741",
   "metadata": {},
   "outputs": [],
   "source": [
    "# # refit algorithm\n",
    "# two_means = KMeans(n_clusters=2)\n",
    "# two_means.fit(X_scaled)\n",
    "\n",
    "# # match records to clusters by calling predict\n",
    "# # two_means.predict(X_scaled)\n",
    "\n",
    "# df_scaled[\"clusters\"] = two_means.predict(X_scaled)\n",
    "# df_scaled[\"clusters\"] = df_scaled[\"clusters\"].apply(lambda x: numbers[x])\n",
    "# sns.pairplot(data=df_scaled, hue=\"clusters\")"
   ]
  },
  {
   "cell_type": "code",
   "execution_count": 16,
   "id": "00247756-6502-425d-a90c-01233e73a2af",
   "metadata": {},
   "outputs": [],
   "source": [
    "# three_means = KMeans(n_clusters=3)\n",
    "# three_means.fit(X_scaled)\n",
    "# df_scaled[\"clusters\"] = three_means.predict(X_scaled)\n",
    "# df_scaled[\"clusters\"] = df_scaled[\"clusters\"].apply(lambda x: numbers[x])\n",
    "# sns.pairplot(data=df_scaled, hue=\"clusters\")"
   ]
  },
  {
   "cell_type": "code",
   "execution_count": 17,
   "id": "8fc86e86-51df-4a9a-93a5-df173dbcf230",
   "metadata": {},
   "outputs": [],
   "source": [
    "# four_means = KMeans(n_clusters=4)\n",
    "# four_means.fit(X_scaled)\n",
    "# df_scaled[\"clusters\"] = four_means.predict(X_scaled)\n",
    "# df_scaled[\"clusters\"] = df_scaled[\"clusters\"].apply(lambda x: numbers[x])\n",
    "# sns.pairplot(data=df_scaled, hue=\"clusters\")"
   ]
  },
  {
   "cell_type": "code",
   "execution_count": 18,
   "id": "c046b39a-14a2-418f-9297-722dccea81b1",
   "metadata": {},
   "outputs": [],
   "source": [
    "# five_means = KMeans(n_clusters=5)\n",
    "# five_means.fit(X_scaled)\n",
    "# df_scaled[\"clusters\"] = five_means.predict(X_scaled)\n",
    "# df_scaled[\"clusters\"] = df_scaled[\"clusters\"].apply(lambda x: numbers[x])\n",
    "# sns.pairplot(data=df_scaled, hue=\"clusters\")"
   ]
  },
  {
   "cell_type": "code",
   "execution_count": 19,
   "id": "2733f041-5f7f-4306-97c5-10324535bc62",
   "metadata": {},
   "outputs": [],
   "source": [
    "# six_means = KMeans(n_clusters=6)\n",
    "# six_means.fit(X_scaled)\n",
    "# df_scaled[\"clusters\"] = six_means.predict(X_scaled)\n",
    "# df_scaled[\"clusters\"] = df_scaled[\"clusters\"].apply(lambda x: numbers[x])\n",
    "# sns.pairplot(data=df_scaled, hue=\"clusters\")"
   ]
  },
  {
   "cell_type": "code",
   "execution_count": null,
   "id": "b7a4dc06-5c48-4224-ae23-1945bb0047b6",
   "metadata": {},
   "outputs": [],
   "source": [
    "numbers_7 = [\"zero\", \"one\", \"two\", \"three\",\"four\",\"five\",\"six\"]\n",
    "seven_means = KMeans(n_clusters=7, random_state = 7)\n",
    "seven_means.fit(X_scaled)\n",
    "df_scaled[\"clusters\"] = seven_means.predict(X_scaled)\n",
    "df_scaled[\"clusters\"] = df_scaled[\"clusters\"].apply(lambda x: numbers[x])\n",
    "plot_7 = sns.pairplot(data=df_scaled, hue=\"clusters\",hue_order = numbers_7)"
   ]
  },
  {
   "cell_type": "code",
   "execution_count": null,
   "id": "412f1881-7935-425f-94eb-8ca6b232ae36",
   "metadata": {},
   "outputs": [],
   "source": [
    "plot_7.figure.savefig('C:/Users/rfrei/Desktop/1200000_7.png',dpi = 300)\n"
   ]
  },
  {
   "cell_type": "code",
   "execution_count": null,
   "id": "d80dd18f-c229-4a51-ae2e-e48a5ad3d719",
   "metadata": {},
   "outputs": [],
   "source": [
    "# eight_means = KMeans(n_clusters=8)\n",
    "# eight_means.fit(X_scaled)\n",
    "# df_scaled[\"clusters\"] = eight_means.predict(X_scaled)\n",
    "# df_scaled[\"clusters\"] = df_scaled[\"clusters\"].apply(lambda x: numbers[x])\n",
    "# sns.pairplot(data=df_scaled, hue=\"clusters\")"
   ]
  },
  {
   "cell_type": "code",
   "execution_count": null,
   "id": "69aa073e-e859-417d-9afa-6dfabb75f423",
   "metadata": {},
   "outputs": [],
   "source": []
  },
  {
   "cell_type": "code",
   "execution_count": null,
   "id": "1def9842-118b-43a8-bcd3-225f23bc7324",
   "metadata": {},
   "outputs": [],
   "source": []
  },
  {
   "cell_type": "code",
   "execution_count": null,
   "id": "34cc08ed-8664-4fc7-ae6a-69b83d63d842",
   "metadata": {},
   "outputs": [],
   "source": []
  },
  {
   "cell_type": "code",
   "execution_count": null,
   "id": "fb939c47-dc6d-42f5-b32b-2c1b2f760d3e",
   "metadata": {},
   "outputs": [],
   "source": []
  },
  {
   "cell_type": "code",
   "execution_count": null,
   "id": "29a4066a-ad25-4ed1-9524-303aa3e7049a",
   "metadata": {},
   "outputs": [],
   "source": []
  },
  {
   "cell_type": "code",
   "execution_count": null,
   "id": "fee2c564-1234-403e-ba61-17eeefe0e0cd",
   "metadata": {},
   "outputs": [],
   "source": []
  },
  {
   "cell_type": "code",
   "execution_count": null,
   "id": "fa694546-307b-4d87-a9fe-2a0fbb09ff09",
   "metadata": {},
   "outputs": [],
   "source": []
  }
 ],
 "metadata": {
  "kernelspec": {
   "display_name": "Python 3 (ipykernel)",
   "language": "python",
   "name": "python3"
  },
  "language_info": {
   "codemirror_mode": {
    "name": "ipython",
    "version": 3
   },
   "file_extension": ".py",
   "mimetype": "text/x-python",
   "name": "python",
   "nbconvert_exporter": "python",
   "pygments_lexer": "ipython3",
   "version": "3.9.7"
  }
 },
 "nbformat": 4,
 "nbformat_minor": 5
}
