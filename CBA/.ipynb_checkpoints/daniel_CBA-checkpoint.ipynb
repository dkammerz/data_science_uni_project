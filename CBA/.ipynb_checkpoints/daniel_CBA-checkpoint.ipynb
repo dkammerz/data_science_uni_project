{
 "cells": [
  {
   "cell_type": "markdown",
   "id": "7e05b50f-c420-4d9b-b9b5-421dc00bd79a",
   "metadata": {},
   "source": [
    "## `Data Vipers`"
   ]
  },
  {
   "cell_type": "code",
   "execution_count": 84,
   "id": "9c97ecb0-d2b3-4833-9ee5-aa30566cacbc",
   "metadata": {},
   "outputs": [],
   "source": [
    "import pandas as pd\n",
    "import numpy as np\n",
    "import matplotlib.pyplot as plt\n",
    "from pandas.plotting import register_matplotlib_converters\n",
    "register_matplotlib_converters()\n",
    "\n",
    "import folium\n",
    "from folium import plugins\n",
    "from folium.plugins import HeatMap\n",
    "from folium.plugins import MarkerCluster\n",
    "from datetime import datetime #for working with times objects\n",
    "from datetime import timedelta #for working with times objects\n",
    "import math\n",
    "import random\n",
    "from pathlib import Path\n",
    "\n",
    "import geopy\n",
    "from geopy.geocoders import GoogleV3\n",
    "from geopy.distance import geodesic"
   ]
  },
  {
   "cell_type": "code",
   "execution_count": 2,
   "id": "59c16ea2-94b9-4b3b-b136-2b2f43bbd970",
   "metadata": {},
   "outputs": [],
   "source": [
    "def get_date (ts):\n",
    "    return ts.date()\n",
    "\n",
    "def get_month (ts):\n",
    "    return ts.month\n",
    "\n",
    "def get_weekday (ts):\n",
    "    return ts.weekday()\n",
    "\n",
    "def get_hour (ts):\n",
    "    return ts.hour\n",
    "\n",
    "def get_minute (ts):\n",
    "    return ts.minute\n",
    "\n",
    "def calc_distances(start_point,end_point):\n",
    "    return geopy.distance.geodesic( start_point, end_point ).km\n",
    "\n",
    "def calc_durations(end_time,start_time):\n",
    "    return (end_time - start_time).total_seconds()\n",
    "\n",
    "def getTrueWeekday(weekday_start,day):\n",
    "    return (weekday_start == day)"
   ]
  },
  {
   "cell_type": "markdown",
   "id": "a2ca600e-f5ea-47a1-976e-f5efefc95dee",
   "metadata": {},
   "source": [
    "\n"
   ]
  },
  {
   "cell_type": "code",
   "execution_count": 3,
   "id": "7951bcca-aa8b-4d4b-b899-28e4352e263a",
   "metadata": {},
   "outputs": [],
   "source": [
    "df = pd.read_csv(\"../boston_2016_distance_duration_speed.csv\")\n",
    "df[\"start_time\"] = pd.to_datetime(df[\"start_time\"],format=\"%Y-%m-%d %H:%M:%S\") # FORMAT %Y-%m-%d %H:%M:%S beachte - und :\n",
    "df[\"end_time\"] = pd.to_datetime(df[\"end_time\"],format=\"%Y-%m-%d %H:%M:%S\")"
   ]
  },
  {
   "cell_type": "code",
   "execution_count": 4,
   "id": "205b5ca7-1d61-43cc-8dab-a98cf85adb2e",
   "metadata": {},
   "outputs": [
    {
     "name": "stdout",
     "output_type": "stream",
     "text": [
      "1800\n"
     ]
    }
   ],
   "source": [
    "print(len(df[\"bike_id\"].unique()))"
   ]
  },
  {
   "cell_type": "code",
   "execution_count": 5,
   "id": "41a4ebc2-d038-4a8c-b831-8a4b7386acb6",
   "metadata": {},
   "outputs": [
    {
     "name": "stdout",
     "output_type": "stream",
     "text": [
      "274\n"
     ]
    }
   ],
   "source": [
    "print(len(df[\"start_station_name\"].unique()))"
   ]
  },
  {
   "cell_type": "code",
   "execution_count": 6,
   "id": "29ded214-e76d-4c99-9dd0-8bd9ef51c96f",
   "metadata": {},
   "outputs": [],
   "source": [
    "df2 = pd.read_csv(\"../all_station_id_with_amounts.csv\")"
   ]
  },
  {
   "cell_type": "code",
   "execution_count": 86,
   "id": "830c417a-8b4e-471f-b6d4-f8701c3cefc4",
   "metadata": {},
   "outputs": [],
   "source": [
    "pd.set_option('display.max_columns', None)"
   ]
  },
  {
   "cell_type": "code",
   "execution_count": 8,
   "id": "2b7842ff-39cb-4f6b-ab70-130ccaf764fe",
   "metadata": {},
   "outputs": [],
   "source": [
    "#Daten von BlueBikes\n",
    "\n",
    "# df_bluebikes_01 = pd.read_csv(\"201601-hubway-tripdata.csv\")\n",
    "# df_bluebikes_02 = pd.read_csv(\"201602-hubway-tripdata.csv\")\n",
    "# df_bluebikes_03 = pd.read_csv(\"201603-hubway-tripdata.csv\")\n",
    "# df_bluebikes_04 = pd.read_csv(\"201604-hubway-tripdata.csv\")\n",
    "# df_bluebikes_05 = pd.read_csv(\"201605-hubway-tripdata.csv\")\n",
    "# df_bluebikes_06 = pd.read_csv(\"201606-hubway-tripdata.csv\")\n",
    "# df_bluebikes_07 = pd.read_csv(\"201607-hubway-tripdata.csv\")\n",
    "# df_bluebikes_08 = pd.read_csv(\"201608-hubway-tripdata.csv\")\n",
    "# df_bluebikes_09 = pd.read_csv(\"201609-hubway-tripdata.csv\")\n",
    "# df_bluebikes_10 = pd.read_csv(\"201610-hubway-tripdata.csv\")\n",
    "# df_bluebikes_11 = pd.read_csv(\"201611-hubway-tripdata.csv\")\n",
    "# df_bluebikes_12 = pd.read_csv(\"201612-hubway-tripdata.csv\")"
   ]
  },
  {
   "cell_type": "code",
   "execution_count": 9,
   "id": "21310f1a-ed6b-4251-a563-30b6e3ff2da2",
   "metadata": {},
   "outputs": [],
   "source": [
    "#Daten von Bluebikes MeRgEd\n",
    "\n",
    "# df_bluebikes_all = pd.concat([df_bluebikes_01, \n",
    "#                             df_bluebikes_02,\n",
    "#                             df_bluebikes_03,\n",
    "#                             df_bluebikes_03,\n",
    "#                             df_bluebikes_04,\n",
    "#                             df_bluebikes_05,\n",
    "#                             df_bluebikes_06,\n",
    "#                             df_bluebikes_07,\n",
    "#                             df_bluebikes_08,\n",
    "#                             df_bluebikes_09,\n",
    "#                             df_bluebikes_10,\n",
    "#                             df_bluebikes_11,\n",
    "#                             df_bluebikes_12], axis=0)"
   ]
  },
  {
   "cell_type": "code",
   "execution_count": 10,
   "id": "60a60291-ba6b-4f35-9cb7-6d171d1aebb3",
   "metadata": {},
   "outputs": [],
   "source": [
    "# print(len(df_bluebikes_all[\"start station id\"].unique()))"
   ]
  },
  {
   "cell_type": "code",
   "execution_count": 11,
   "id": "a445bdd7-6f58-42b3-9152-8042c9b70af3",
   "metadata": {},
   "outputs": [],
   "source": [
    "#Unique Cords exportiert\n",
    "\n",
    "# df_bluebikes_all.drop(['tripduration','starttime','stoptime','end station id', 'end station name', 'end station latitude','end station longitude', 'bikeid', 'usertype', 'birth year','gender'], axis=1, inplace=True)\n",
    "# df_bluebikes_all.sort_values([\"start station id\"],axis=0, ascending=True,inplace=True,na_position='first')\n",
    "# df_bluebikes_all = df_bluebikes_all.drop_duplicates(subset=['start station id'])\n",
    "# filepath = Path('C:/Users/rfrei/Desktop/all_station_id.csv')\n",
    "# filepath.parent.mkdir(parents=True, exist_ok=True)\n",
    "# df_bluebikes_all.to_csv(filepath)"
   ]
  },
  {
   "cell_type": "code",
   "execution_count": 12,
   "id": "aa115c2e-9703-4b72-9c10-f8a41af5ad6f",
   "metadata": {},
   "outputs": [],
   "source": [
    "#BlueBikes Station_ID einlesen\n",
    "\n",
    "#all_station_id = pd.read_csv(\"all_station_id.csv\")"
   ]
  },
  {
   "cell_type": "code",
   "execution_count": 13,
   "id": "f65d6210-91a0-44cb-99c9-e35e60a1a39b",
   "metadata": {},
   "outputs": [],
   "source": [
    "#ID's der einzelnen Stations werden als Float - Platzhalter den jeweiligen Routen hinzugefügt, damit\n",
    "#diese dann anschließend mit 'Lat' und 'Long' Coords ersetzt werden können\n",
    "\n",
    "df[\"start_lat\"] = pd.to_numeric(df[\"start_station_id\"], downcast=\"float\")\n",
    "df[\"start_long\"] = pd.to_numeric(df[\"start_station_id\"], downcast=\"float\")\n",
    "df[\"end_lat\"] = pd.to_numeric(df[\"end_station_id\"], downcast=\"float\")\n",
    "df[\"end_long\"] = pd.to_numeric(df[\"end_station_id\"], downcast=\"float\")"
   ]
  },
  {
   "cell_type": "code",
   "execution_count": 14,
   "id": "5119f6a4-7025-4335-91c9-b63634e70d09",
   "metadata": {},
   "outputs": [],
   "source": [
    "#Hier werden die Float - Platzhalter dann mit den jeweiligen Cords ersetzt"
   ]
  },
  {
   "cell_type": "code",
   "execution_count": 15,
   "id": "6724d905-a3b1-4c3b-990e-f84bc8a1b06e",
   "metadata": {},
   "outputs": [],
   "source": [
    "df['start_lat'] = df['start_lat'].replace([1,3,4,5,6,7,8,9,10,11,12,13,14,15,16,17,19,20,21,22,23,24,25,26,27,29,30,31,32,33,35,36,37,38,39,40,41,42,43,44,45,46,47,48,49,50,51,52,53,54,55,56,57,58,59,60,61,63,64,65,66,67,68,69,70,71,72,73,74,75,76,77,78,79,80,81,82,84,85,87,88,89,90,91,92,93,94,95,96,97,98,99,100,102,103,104,105,106,107,108,109,110,111,112,113,114,115,116,117,118,119,120,121,122,124,125,126,128,129,130,131,133,134,135,136,137,138,139,140,141,142,143,145,146,149,150,151,152,153,158,159,160,161,162,163,167,169,170,171,173,174,175,176,177,178,179,180,183,184,185,186,189,190,192,193,194,195,196,197,199,200,201,202,203,204,205,207,208,209,210,211,212,213,214,215,216,217,218,219],[42.387151,42.340021,42.345392,42.341814,42.361174,42.35328743453294,42.353334,42.351246,42.350406,42.338629,42.335911,42.336437,42.337171,42.361667,42.34807412317439,42.365064,42.347241,42.35977,42.345959,42.352175,42.35892,42.351205,42.341332,42.341522,42.331184,42.363732,42.334073,42.348833,42.34519428944095,42.348706,42.355402,42.349673,42.357402,42.366222,42.33849279283789,42.363871,42.352261,42.352033,42.357143,42.360613,42.344706,42.343864,42.362811,42.356755,42.351146,42.350989,42.3348756,42.34872432400896,42.350851,42.354979,42.347265,42.328654,42.340799,42.355596,42.351356,42.360624982690496,42.348762,42.344023,42.3511,42.3475,42.348607,42.3581,42.36507,42.341598,42.37199165408676,42.383405,42.362613,42.373231,42.373268,42.36346469304347,42.366426,42.386844,42.379637,42.37842,42.3619622,42.352409,42.339335,42.366981,42.378338,42.366621,42.374035,42.379011,42.370677,42.366277,42.3139036,42.320494,42.375603,42.372969,42.373379,42.36919031768079,42.371848,42.385582,42.396969,42.400877,42.346563,42.380287,42.357218503176526,42.325333,42.3625,42.377945,42.36588481543564,42.376369,42.40449,42.39082,42.330716,42.402763,42.387995,42.370803,42.366095,42.397828,42.335741,42.356052,42.335693,42.345733,42.309054,42.320998,42.315692,42.320561,42.377022,42.31756858003556,42.322701,42.310579,42.350413,42.344827,42.344796,42.398365,42.326599,42.361589,42.388966,42.36356015842989,42.396105,42.369885,42.392766,42.336448,42.363796,42.344137,42.358155,42.345901,42.3601,42.3601,42.32797270205962,42.337596,42.3391085,42.309796,42.344792,42.317642,42.378965,42.303469,42.37408991426522,42.310599,42.34900494405213,42.34894857235593,42.38674802045056,42.36264779118595,42.35957320109044,42.35560121327927,42.37478628706384,42.39558845716709,42.35775309465199,42.36544486137399,42.3482032222746,42.3624278429124,42.36559770612416,42.354686,42.33289074055233,42.38614141163957,42.3720597013741,42.31787329345602,42.321678,42.31884382360106,42.33282815812448,42.316873,42.308035,42.309566,42.324069,42.30791912678712,42.35480179069945,42.35057,42.37980321246644,42.38337841883669,42.36489045541549,42.3688385713652,42.369562869377,42.37536686015489,42.37078454600501,42.38244736415864,42.38673178529929,42.351586001198456,42.37430131617823])"
   ]
  },
  {
   "cell_type": "code",
   "execution_count": 16,
   "id": "b54f17a4-7e81-4320-91cf-b5c2559bfaf9",
   "metadata": {},
   "outputs": [],
   "source": [
    "df['start_long'] = df['start_long'].replace([1,3,4,5,6,7,8,9,10,11,12,13,14,15,16,17,19,20,21,22,23,24,25,26,27,29,30,31,32,33,35,36,37,38,39,40,41,42,43,44,45,46,47,48,49,50,51,52,53,54,55,56,57,58,59,60,61,63,64,65,66,67,68,69,70,71,72,73,74,75,76,77,78,79,80,81,82,84,85,87,88,89,90,91,92,93,94,95,96,97,98,99,100,102,103,104,105,106,107,108,109,110,111,112,113,114,115,116,117,118,119,120,121,122,124,125,126,128,129,130,131,133,134,135,136,137,138,139,140,141,142,143,145,146,149,150,151,152,153,158,159,160,161,162,163,167,169,170,171,173,174,175,176,177,178,179,180,183,184,185,186,189,190,192,193,194,195,196,197,199,200,201,202,203,204,205,207,208,209,210,211,212,213,214,215,216,217,218,219],[-71.075978,-71.100812,-71.069616,-71.090179,-71.065142,-71.04438900947571,-71.137313,-71.115639,-71.108279,-71.1065,-71.088496,-71.073089,-71.102797,-71.13802,-71.07657015323639,-71.119233,-71.105301,-71.051601,-71.082578,-71.055547,-71.057629,-71.043983,-71.076847,-71.068922,-71.095171,-71.124565,-71.105221,-71.041747,-71.1016970872879,-71.097009,-71.058087,-71.077303,-71.147782,-71.059914,-71.07401937246323,-71.050877,-71.123831,-71.070627,-71.050699,-71.057452,-71.097515,-71.085918,-71.056067,-71.055407,-71.066289,-71.073644,-71.0790969,-71.08583986759186,-71.089886,-71.063348,-71.088088,-71.084198,-71.081572,-71.07278,-71.059367,-71.0708999633789,-71.082383,-71.057054,-71.0496,-71.0441,-71.13401,-71.093198,-71.1031,-71.123338,-71.12226963043213,-71.107593,-71.084105,-71.120886,-71.118579,-71.10057324171066,-71.105495,-71.09812,-71.095319,-71.105668,-71.0920526,-71.062679,-71.13493,-71.076472,-71.048927,-71.114214,-71.101427,-71.119945,-71.076529,-71.09169,-71.0405121,-71.051122,-71.064608,-71.094445,-71.111075,-71.11714124679565,-71.060292,-71.113341,-71.123024,-71.116772,-71.128374,-71.125107,-71.1138716340065,-71.075354,-71.08822,-71.116865,-71.06454849243164,-71.114025,-71.123413,-71.10942,-71.057044,-71.126908,-71.119084,-71.104412,-71.086388,-71.130516,-71.03877,-71.069849,-71.045859,-71.100694,-71.11543,-71.110833,-71.098634,-71.06198,-71.056605,-71.06403708501603,-71.099533,-71.107341,-71.07655,-71.028664,-71.031614,-71.107818,-71.066498,-71.107437,-71.132788,-71.08216792345047,-71.139459,-71.069957,-71.129042,-71.023739,-71.129164,-71.052608,-71.052163,-71.063187,-71.0589,-71.0589,-71.11089706420898,-71.096391,-71.0514432,-71.092225,-71.044024,-71.056664,-71.068607,-71.085347,-71.06905996799469,-71.053927,-71.1604106426239,-71.15027189254761,-71.11901879310608,-71.10006093978882,-71.10129475593567,-71.10394477844238,-71.13320231437683,-71.14260613918304,-71.10393404960632,-71.08277142047882,-71.0376513004303,-71.08495473861694,-71.06424808502197,-71.053292,-71.11658334732056,-71.07828140258789,-71.07202649116516,-71.08243077993393,-71.091822,-71.06975734233856,-71.08126938343048,-71.091955,-71.081159,-71.072863,-71.083162,-71.06502056121826,-71.15025043487549,-71.166491,-71.02744817733765,-71.01612031481636,-71.0350424052376,-71.03976666949166,-71.03942692279814,-71.03135883808136,-71.04426160454749,-71.0302323102951,-71.00621223455164,-71.04569256305693,-71.03808671246952])"
   ]
  },
  {
   "cell_type": "code",
   "execution_count": 17,
   "id": "342c6e07-3e39-456b-ae2d-15504fd7a5d6",
   "metadata": {},
   "outputs": [],
   "source": [
    "df['end_lat'] = df['end_lat'].replace([1,3,4,5,6,7,8,9,10,11,12,13,14,15,16,17,19,20,21,22,23,24,25,26,27,29,30,31,32,33,35,36,37,38,39,40,41,42,43,44,45,46,47,48,49,50,51,52,53,54,55,56,57,58,59,60,61,63,64,65,66,67,68,69,70,71,72,73,74,75,76,77,78,79,80,81,82,84,85,87,88,89,90,91,92,93,94,95,96,97,98,99,100,102,103,104,105,106,107,108,109,110,111,112,113,114,115,116,117,118,119,120,121,122,124,125,126,128,129,130,131,133,134,135,136,137,138,139,140,141,142,143,145,146,149,150,151,152,153,158,159,160,161,162,163,167,169,170,171,173,174,175,176,177,178,179,180,183,184,185,186,189,190,192,193,194,195,196,197,199,200,201,202,203,204,205,207,208,209,210,211,212,213,214,215,216,217,218,219],[42.387151,42.340021,42.345392,42.341814,42.361174,42.35328743453294,42.353334,42.351246,42.350406,42.338629,42.335911,42.336437,42.337171,42.361667,42.34807412317439,42.365064,42.347241,42.35977,42.345959,42.352175,42.35892,42.351205,42.341332,42.341522,42.331184,42.363732,42.334073,42.348833,42.34519428944095,42.348706,42.355402,42.349673,42.357402,42.366222,42.33849279283789,42.363871,42.352261,42.352033,42.357143,42.360613,42.344706,42.343864,42.362811,42.356755,42.351146,42.350989,42.3348756,42.34872432400896,42.350851,42.354979,42.347265,42.328654,42.340799,42.355596,42.351356,42.360624982690496,42.348762,42.344023,42.3511,42.3475,42.348607,42.3581,42.36507,42.341598,42.37199165408676,42.383405,42.362613,42.373231,42.373268,42.36346469304347,42.366426,42.386844,42.379637,42.37842,42.3619622,42.352409,42.339335,42.366981,42.378338,42.366621,42.374035,42.379011,42.370677,42.366277,42.3139036,42.320494,42.375603,42.372969,42.373379,42.36919031768079,42.371848,42.385582,42.396969,42.400877,42.346563,42.380287,42.357218503176526,42.325333,42.3625,42.377945,42.36588481543564,42.376369,42.40449,42.39082,42.330716,42.402763,42.387995,42.370803,42.366095,42.397828,42.335741,42.356052,42.335693,42.345733,42.309054,42.320998,42.315692,42.320561,42.377022,42.31756858003556,42.322701,42.310579,42.350413,42.344827,42.344796,42.398365,42.326599,42.361589,42.388966,42.36356015842989,42.396105,42.369885,42.392766,42.336448,42.363796,42.344137,42.358155,42.345901,42.3601,42.3601,42.32797270205962,42.337596,42.3391085,42.309796,42.344792,42.317642,42.378965,42.303469,42.37408991426522,42.310599,42.34900494405213,42.34894857235593,42.38674802045056,42.36264779118595,42.35957320109044,42.35560121327927,42.37478628706384,42.39558845716709,42.35775309465199,42.36544486137399,42.3482032222746,42.3624278429124,42.36559770612416,42.354686,42.33289074055233,42.38614141163957,42.3720597013741,42.31787329345602,42.321678,42.31884382360106,42.33282815812448,42.316873,42.308035,42.309566,42.324069,42.30791912678712,42.35480179069945,42.35057,42.37980321246644,42.38337841883669,42.36489045541549,42.3688385713652,42.369562869377,42.37536686015489,42.37078454600501,42.38244736415864,42.38673178529929,42.351586001198456,42.37430131617823])"
   ]
  },
  {
   "cell_type": "code",
   "execution_count": 18,
   "id": "e1a3aa0f-55cd-4a6c-870b-b070302fb94f",
   "metadata": {},
   "outputs": [],
   "source": [
    "df['end_long'] = df['end_long'].replace([1,3,4,5,6,7,8,9,10,11,12,13,14,15,16,17,19,20,21,22,23,24,25,26,27,29,30,31,32,33,35,36,37,38,39,40,41,42,43,44,45,46,47,48,49,50,51,52,53,54,55,56,57,58,59,60,61,63,64,65,66,67,68,69,70,71,72,73,74,75,76,77,78,79,80,81,82,84,85,87,88,89,90,91,92,93,94,95,96,97,98,99,100,102,103,104,105,106,107,108,109,110,111,112,113,114,115,116,117,118,119,120,121,122,124,125,126,128,129,130,131,133,134,135,136,137,138,139,140,141,142,143,145,146,149,150,151,152,153,158,159,160,161,162,163,167,169,170,171,173,174,175,176,177,178,179,180,183,184,185,186,189,190,192,193,194,195,196,197,199,200,201,202,203,204,205,207,208,209,210,211,212,213,214,215,216,217,218,219],[-71.075978,-71.100812,-71.069616,-71.090179,-71.065142,-71.04438900947571,-71.137313,-71.115639,-71.108279,-71.1065,-71.088496,-71.073089,-71.102797,-71.13802,-71.07657015323639,-71.119233,-71.105301,-71.051601,-71.082578,-71.055547,-71.057629,-71.043983,-71.076847,-71.068922,-71.095171,-71.124565,-71.105221,-71.041747,-71.1016970872879,-71.097009,-71.058087,-71.077303,-71.147782,-71.059914,-71.07401937246323,-71.050877,-71.123831,-71.070627,-71.050699,-71.057452,-71.097515,-71.085918,-71.056067,-71.055407,-71.066289,-71.073644,-71.0790969,-71.08583986759186,-71.089886,-71.063348,-71.088088,-71.084198,-71.081572,-71.07278,-71.059367,-71.0708999633789,-71.082383,-71.057054,-71.0496,-71.0441,-71.13401,-71.093198,-71.1031,-71.123338,-71.12226963043213,-71.107593,-71.084105,-71.120886,-71.118579,-71.10057324171066,-71.105495,-71.09812,-71.095319,-71.105668,-71.0920526,-71.062679,-71.13493,-71.076472,-71.048927,-71.114214,-71.101427,-71.119945,-71.076529,-71.09169,-71.0405121,-71.051122,-71.064608,-71.094445,-71.111075,-71.11714124679565,-71.060292,-71.113341,-71.123024,-71.116772,-71.128374,-71.125107,-71.1138716340065,-71.075354,-71.08822,-71.116865,-71.06454849243164,-71.114025,-71.123413,-71.10942,-71.057044,-71.126908,-71.119084,-71.104412,-71.086388,-71.130516,-71.03877,-71.069849,-71.045859,-71.100694,-71.11543,-71.110833,-71.098634,-71.06198,-71.056605,-71.06403708501603,-71.099533,-71.107341,-71.07655,-71.028664,-71.031614,-71.107818,-71.066498,-71.107437,-71.132788,-71.08216792345047,-71.139459,-71.069957,-71.129042,-71.023739,-71.129164,-71.052608,-71.052163,-71.063187,-71.0589,-71.0589,-71.11089706420898,-71.096391,-71.0514432,-71.092225,-71.044024,-71.056664,-71.068607,-71.085347,-71.06905996799469,-71.053927,-71.1604106426239,-71.15027189254761,-71.11901879310608,-71.10006093978882,-71.10129475593567,-71.10394477844238,-71.13320231437683,-71.14260613918304,-71.10393404960632,-71.08277142047882,-71.0376513004303,-71.08495473861694,-71.06424808502197,-71.053292,-71.11658334732056,-71.07828140258789,-71.07202649116516,-71.08243077993393,-71.091822,-71.06975734233856,-71.08126938343048,-71.091955,-71.081159,-71.072863,-71.083162,-71.06502056121826,-71.15025043487549,-71.166491,-71.02744817733765,-71.01612031481636,-71.0350424052376,-71.03976666949166,-71.03942692279814,-71.03135883808136,-71.04426160454749,-71.0302323102951,-71.00621223455164,-71.04569256305693,-71.03808671246952])"
   ]
  },
  {
   "cell_type": "code",
   "execution_count": 19,
   "id": "471cebc7-566a-4061-8c31-abf45450b553",
   "metadata": {},
   "outputs": [],
   "source": [
    "#Anschließend werden aus 'lat' und 'long' die Coords gebildet"
   ]
  },
  {
   "cell_type": "code",
   "execution_count": 20,
   "id": "be9130ad-0a2d-42e0-aba4-86a99481b0f5",
   "metadata": {},
   "outputs": [],
   "source": [
    "df[\"start_coordinates2\"] = list(zip(df[\"start_lat\"],df[\"start_long\"]))"
   ]
  },
  {
   "cell_type": "code",
   "execution_count": 21,
   "id": "610d9c3b-aac7-48f7-a176-3efa0b9e1bcb",
   "metadata": {},
   "outputs": [],
   "source": [
    "df[\"end_coordinates2\"] = list(zip(df[\"end_lat\"],df[\"end_long\"]))"
   ]
  },
  {
   "cell_type": "code",
   "execution_count": 22,
   "id": "46d0103f-5210-4a94-97d3-5711af21b27e",
   "metadata": {},
   "outputs": [],
   "source": [
    " df.drop(['start_lat','end_lat','start_long','end_long'], axis=1, inplace=True)"
   ]
  },
  {
   "cell_type": "code",
   "execution_count": 23,
   "id": "b0a4d57b-d117-4ba9-a5eb-f298b5d79144",
   "metadata": {},
   "outputs": [],
   "source": [
    "#df['Distance (KM)'] = df.apply(lambda row: calc_distances(row.start_coordinates, row.end_coordinates), axis=1)"
   ]
  },
  {
   "cell_type": "code",
   "execution_count": 24,
   "id": "84c2c041-ec58-494b-b6f2-b3f1839df1c3",
   "metadata": {},
   "outputs": [],
   "source": [
    "# df[\"Duration (Seconds)\"] = df.apply(lambda row: calc_durations(row.end_time,row.start_time), axis=1)"
   ]
  },
  {
   "cell_type": "code",
   "execution_count": 25,
   "id": "1a0e8ece-41c3-4ece-9cb0-26277c0546f4",
   "metadata": {},
   "outputs": [],
   "source": [
    "# df.head(598581) Trip mit 8D OPS 03 Canada 01 hat Coordinates 0,0 ......WTF"
   ]
  },
  {
   "cell_type": "code",
   "execution_count": 26,
   "id": "a20053d1-2256-4e94-bc47-345901b730ef",
   "metadata": {},
   "outputs": [],
   "source": [
    "# df['Distance (KM)'] = df.apply(lambda row: calc_distances(row.start_coordinates, row.end_coordinates), axis=1)"
   ]
  },
  {
   "cell_type": "code",
   "execution_count": 27,
   "id": "6fecca28-0f95-43e8-9f55-a47bb14e7a7c",
   "metadata": {},
   "outputs": [],
   "source": [
    "# df[\"Speed (km/h)\"] = (df[\"Distance (KM)\"]/(df[\"Duration (Seconds)\"]/3600))"
   ]
  },
  {
   "cell_type": "code",
   "execution_count": 28,
   "id": "1fdf3aa9-01cd-446f-8741-099c0b0f64c4",
   "metadata": {},
   "outputs": [],
   "source": [
    "# df.sort_values([\"Speed (km/h)\"],axis=0, ascending=False,inplace=True,na_position='first')"
   ]
  },
  {
   "cell_type": "code",
   "execution_count": 29,
   "id": "0f90e8c7-fe21-4b23-aeaf-568758b528bd",
   "metadata": {},
   "outputs": [],
   "source": [
    "# df.drop([\"Unnamed: 0\"], axis=1, inplace=True)"
   ]
  },
  {
   "cell_type": "code",
   "execution_count": 30,
   "id": "fd5bf3c7-aee5-4a23-83d2-d6ebf227da1b",
   "metadata": {},
   "outputs": [],
   "source": [
    "# df.drop([598580], axis=0, inplace=True)\n",
    "# df.drop([598729], axis=0, inplace=True)\n",
    "# df.drop([1072609], axis=0, inplace=True)"
   ]
  },
  {
   "cell_type": "code",
   "execution_count": 31,
   "id": "ee5a64f6-b46f-45e2-9fd2-eefb596632b4",
   "metadata": {},
   "outputs": [],
   "source": [
    "# df.drop([88647], axis=0, inplace=True)\n",
    "# df.drop([88649], axis=0, inplace=True)\n",
    "# df.drop([17997], axis=0, inplace=True)\n",
    "# df.drop([89416], axis=0, inplace=True)\n",
    "# df.drop([824312], axis=0, inplace=True)\n",
    "# df.drop([1143845], axis=0, inplace=True)"
   ]
  },
  {
   "cell_type": "code",
   "execution_count": 32,
   "id": "ff9bdf30-e12f-4f5b-9e65-9f0b7ee101a0",
   "metadata": {},
   "outputs": [],
   "source": [
    "# filepath = Path('C:/Users/rfrei/Desktop/boston_2016_distance_duration_speed.csv')\n",
    "# filepath.parent.mkdir(parents=True, exist_ok=True)\n",
    "# df.to_csv(filepath)"
   ]
  },
  {
   "cell_type": "code",
   "execution_count": 33,
   "id": "e5b707ff-8d2b-4c88-bc40-bc9d15e0ab2d",
   "metadata": {},
   "outputs": [],
   "source": [
    "def calc_weekday(day):\n",
    "    return (day).weekday()"
   ]
  },
  {
   "cell_type": "code",
   "execution_count": 34,
   "id": "39538d16-ea1c-4a21-abf1-3cb58b93eaa6",
   "metadata": {},
   "outputs": [],
   "source": [
    "def get_hour(hour):\n",
    "    return (hour).hour"
   ]
  },
  {
   "cell_type": "code",
   "execution_count": 35,
   "id": "eaf481c8-736f-4715-8412-389c8c512659",
   "metadata": {},
   "outputs": [],
   "source": [
    "df['weekday_start'] = df.apply(lambda row: calc_weekday(row.start_time), axis=1)"
   ]
  },
  {
   "cell_type": "code",
   "execution_count": 36,
   "id": "6545f630-dce6-441b-a324-00fb14147080",
   "metadata": {},
   "outputs": [],
   "source": [
    "df['weekday_end'] = df.apply(lambda row: calc_weekday(row.end_time), axis=1)"
   ]
  },
  {
   "cell_type": "code",
   "execution_count": 37,
   "id": "28dda7c7-2e91-4797-bf0b-11ce87bcb407",
   "metadata": {},
   "outputs": [],
   "source": [
    "df['weekday_start'] = df['weekday_start'].replace([0,1,2,3,4,5,6],['Montag','Dienstag','Mittwoch','Donnerstag','Freitag','Samstag','Sonntag'])\n",
    "df['weekday_end'] = df['weekday_end'].replace([0,1,2,3,4,5,6],['Montag','Dienstag','Mittwoch','Donnerstag','Freitag','Samstag','Sonntag'])"
   ]
  },
  {
   "cell_type": "code",
   "execution_count": 38,
   "id": "d9ca821d-b9e3-4e14-9d02-5873ed84c42b",
   "metadata": {},
   "outputs": [],
   "source": [
    "#df['start_hour'] = df.apply(lambda row: get_hour(row.start_time), axis=1)\n",
    "#print(get_hour(df['start_time'][0]))\n",
    "#print(df['start_time'][3232].hour)"
   ]
  },
  {
   "cell_type": "code",
   "execution_count": 39,
   "id": "62fe22d7-5238-49ae-a891-4c254b9637bb",
   "metadata": {},
   "outputs": [
    {
     "data": {
      "text/plain": [
       "<AxesSubplot:xlabel='start_time'>"
      ]
     },
     "execution_count": 39,
     "metadata": {},
     "output_type": "execute_result"
    },
    {
     "data": {
      "image/png": "[encoded data removed]",
      "text/plain": [
       "<Figure size 432x288 with 1 Axes>"
      ]
     },
     "metadata": {
      "needs_background": "light"
     },
     "output_type": "display_data"
    }
   ],
   "source": [
    "df['start_time'].groupby([df['start_time'].dt.hour]).count().plot(kind=\"bar\")#.get_legend().remove()\n",
    "#ALLE ZUSAMMEN"
   ]
  },
  {
   "cell_type": "code",
   "execution_count": 40,
   "id": "9d44d4d7-c69a-4a79-a0de-5996e53030fd",
   "metadata": {
    "tags": []
   },
   "outputs": [],
   "source": [
    "df['true_montag'] = (df.apply(lambda x: getTrueWeekday(x.weekday_start, 'Montag'), axis = 1))\n",
    "df['true_dienstag'] = (df.apply(lambda x: getTrueWeekday(x.weekday_start, 'Dienstag'), axis = 1))\n",
    "df['true_mittwoch'] = (df.apply(lambda x: getTrueWeekday(x.weekday_start, 'Mittwoch'), axis = 1))\n",
    "df['true_donnerstag'] = (df.apply(lambda x: getTrueWeekday(x.weekday_start, 'Donnerstag'), axis = 1))\n",
    "df['true_freitag'] = (df.apply(lambda x: getTrueWeekday(x.weekday_start, 'Freitag'), axis = 1))\n",
    "df['true_samstag'] = (df.apply(lambda x: getTrueWeekday(x.weekday_start, 'Samstag'), axis = 1))\n",
    "df['true_sonntag'] = (df.apply(lambda x: getTrueWeekday(x.weekday_start, 'Sonntag'), axis = 1))"
   ]
  },
  {
   "cell_type": "code",
   "execution_count": 41,
   "id": "94e86416-b4d4-4577-8896-30a317713af1",
   "metadata": {},
   "outputs": [],
   "source": [
    "mo = df.where(lambda x: (x.true_montag == True), axis = 0).groupby([df['start_time'].dt.hour]).count()\n",
    "di = df.where(lambda x: (x.true_dienstag == True), axis = 0).groupby([df['start_time'].dt.hour]).count()\n",
    "mi = df.where(lambda x: (x.true_mittwoch == True), axis = 0).groupby([df['start_time'].dt.hour]).count()\n",
    "do = df.where(lambda x: (x.true_donnerstag == True), axis = 0).groupby([df['start_time'].dt.hour]).count()\n",
    "fr = df.where(lambda x: (x.true_freitag == True), axis = 0).groupby([df['start_time'].dt.hour]).count()\n",
    "sa = df.where(lambda x: (x.true_samstag == True), axis = 0).groupby([df['start_time'].dt.hour]).count()\n",
    "so = df.where(lambda x: (x.true_sonntag == True), axis = 0).groupby([df['start_time'].dt.hour]).count()"
   ]
  },
  {
   "cell_type": "code",
   "execution_count": 42,
   "id": "183701d7-4766-410b-aa70-a2c3e007e951",
   "metadata": {},
   "outputs": [],
   "source": [
    "montag = []\n",
    "dienstag = []\n",
    "mittwoch = []\n",
    "donnerstag = []\n",
    "freitag = []\n",
    "samstag = []\n",
    "sonntag = []\n",
    "for i in range(0, 24):\n",
    "    montag.append(mo['start_time'][i])\n",
    "    dienstag.append(di['start_time'][i])\n",
    "    mittwoch.append(mi['start_time'][i])\n",
    "    donnerstag.append(do['start_time'][i])\n",
    "    freitag.append(fr['start_time'][i])\n",
    "    samstag.append(sa['start_time'][i])\n",
    "    sonntag.append(so['start_time'][i])\n"
   ]
  },
  {
   "cell_type": "code",
   "execution_count": 43,
   "id": "09940ff0-7f12-4e68-a67a-41d9e1a5ff63",
   "metadata": {},
   "outputs": [],
   "source": [
    "df_hourly_amount_per_day = {'Montag':[montag[0],montag[1],montag[2],montag[3],montag[4],montag[5],montag[6],montag[7],\n",
    "                              montag[8],montag[9],montag[10],montag[11],montag[12],montag[13],montag[14],montag[15],\n",
    "                                      montag[16],montag[17],montag[18],montag[19],\n",
    "                              montag[20],montag[21],montag[22],montag[23]],\n",
    "                            \n",
    "                            'Dienstag':[dienstag[0],dienstag[1],dienstag[2],dienstag[3],dienstag[4],dienstag[5],dienstag[6],dienstag[7],\n",
    "                              dienstag[8],dienstag[9],dienstag[10],dienstag[11],dienstag[12],dienstag[13],dienstag[14],dienstag[15],\n",
    "                                      dienstag[16],dienstag[17],dienstag[18],dienstag[19],\n",
    "                              dienstag[20],dienstag[21],dienstag[22],dienstag[23]],\n",
    "                            \n",
    "                            'Mittwoch':[mittwoch[0],mittwoch[1],mittwoch[2],mittwoch[3],mittwoch[4],mittwoch[5],mittwoch[6],mittwoch[7],\n",
    "                              mittwoch[8],mittwoch[9],mittwoch[10],mittwoch[11],mittwoch[12],mittwoch[13],mittwoch[14],mittwoch[15],\n",
    "                                      mittwoch[16],mittwoch[17],mittwoch[18],mittwoch[19],\n",
    "                              mittwoch[20],mittwoch[21],mittwoch[22],mittwoch[23]],\n",
    "                            \n",
    "                            'Donnerstag':[donnerstag[0],donnerstag[1],donnerstag[2],donnerstag[3],donnerstag[4],donnerstag[5],donnerstag[6],donnerstag[7],\n",
    "                              donnerstag[8],donnerstag[9],donnerstag[10],donnerstag[11],donnerstag[12],donnerstag[13],donnerstag[14],donnerstag[15],\n",
    "                                      donnerstag[16],donnerstag[17],donnerstag[18],donnerstag[19],\n",
    "                              donnerstag[20],donnerstag[21],donnerstag[22],donnerstag[23]],\n",
    "                            \n",
    "                            'Freitag':[freitag[0],freitag[1],freitag[2],freitag[3],freitag[4],freitag[5],freitag[6],freitag[7],\n",
    "                              freitag[8],freitag[9],freitag[10],freitag[11],freitag[12],freitag[13],freitag[14],freitag[15],\n",
    "                                      freitag[16],freitag[17],freitag[18],freitag[19],\n",
    "                              freitag[20],freitag[21],freitag[22],freitag[23]],\n",
    "                            \n",
    "                            'Samstag':[samstag[0],samstag[1],samstag[2],samstag[3],samstag[4],samstag[5],samstag[6],samstag[7],\n",
    "                              samstag[8],samstag[9],samstag[10],samstag[11],samstag[12],samstag[13],samstag[14],samstag[15],\n",
    "                                      samstag[16],samstag[17],samstag[18],samstag[19],\n",
    "                              samstag[20],samstag[21],samstag[22],samstag[23]],\n",
    "                            \n",
    "                            'Sonntag':[sonntag[0],sonntag[1],sonntag[2],sonntag[3],sonntag[4],sonntag[5],sonntag[6],sonntag[7],\n",
    "                              sonntag[8],sonntag[9],sonntag[10],sonntag[11],sonntag[12],sonntag[13],sonntag[14],sonntag[15],\n",
    "                                      sonntag[16],sonntag[17],sonntag[18],sonntag[19],\n",
    "                              sonntag[20],sonntag[21],sonntag[22],sonntag[23]],\n",
    "                            \n",
    "                            'Zeitraum':[0,1,2,3,4,5,6,7,8,9,10,11,12,13,14,15,16,17,18,19,20,21,22,23]}"
   ]
  },
  {
   "cell_type": "code",
   "execution_count": 44,
   "id": "f2ade10c-4932-4e07-bf64-c3e0cb908931",
   "metadata": {},
   "outputs": [],
   "source": [
    "df_hourly_amount_per_day = pd.DataFrame(data = df_hourly_amount_per_day)"
   ]
  },
  {
   "cell_type": "code",
   "execution_count": 46,
   "id": "b1f21329-f9a8-47fc-9dbe-b5e23f394f2f",
   "metadata": {},
   "outputs": [
    {
     "data": {
      "text/plain": [
       "Text(0.5, 1.0, 'Monday')"
      ]
     },
     "execution_count": 46,
     "metadata": {},
     "output_type": "execute_result"
    },
    {
     "data": {
      "image/png": "[encoded data removed]",
      "text/plain": [
       "<Figure size 432x288 with 1 Axes>"
      ]
     },
     "metadata": {
      "needs_background": "light"
     },
     "output_type": "display_data"
    }
   ],
   "source": [
    "#Montag\n",
    "plt.bar(df_hourly_amount_per_day['Zeitraum'],df_hourly_amount_per_day['Montag'])\n",
    "plt.xlabel('Hours')\n",
    "plt.ylabel('Amount of people')\n",
    "plt.title('Monday')"
   ]
  },
  {
   "cell_type": "code",
   "execution_count": 47,
   "id": "946c96ca-6c1b-4b01-a7b7-24f64417abd9",
   "metadata": {},
   "outputs": [
    {
     "data": {
      "text/plain": [
       "Text(0.5, 1.0, 'Tuesday')"
      ]
     },
     "execution_count": 47,
     "metadata": {},
     "output_type": "execute_result"
    },
    {
     "data": {
      "image/png": "[encoded data removed]",
      "text/plain": [
       "<Figure size 432x288 with 1 Axes>"
      ]
     },
     "metadata": {
      "needs_background": "light"
     },
     "output_type": "display_data"
    }
   ],
   "source": [
    "#Dienstag\n",
    "plt.bar(df_hourly_amount_per_day['Zeitraum'],df_hourly_amount_per_day['Dienstag'])\n",
    "plt.xlabel('Hours')\n",
    "plt.ylabel('Amount of people')\n",
    "plt.title('Tuesday')"
   ]
  },
  {
   "cell_type": "code",
   "execution_count": 48,
   "id": "f731c926-cb34-49bc-8c50-b610fba68659",
   "metadata": {},
   "outputs": [
    {
     "data": {
      "text/plain": [
       "Text(0.5, 1.0, 'Wednesday')"
      ]
     },
     "execution_count": 48,
     "metadata": {},
     "output_type": "execute_result"
    },
    {
     "data": {
      "image/png": "[encoded data removed]",
      "text/plain": [
       "<Figure size 432x288 with 1 Axes>"
      ]
     },
     "metadata": {
      "needs_background": "light"
     },
     "output_type": "display_data"
    }
   ],
   "source": [
    "#Mittwoch\n",
    "plt.bar(df_hourly_amount_per_day['Zeitraum'],df_hourly_amount_per_day['Mittwoch'])\n",
    "plt.xlabel('Hours')\n",
    "plt.ylabel('Amount of people')\n",
    "plt.title('Wednesday')"
   ]
  },
  {
   "cell_type": "code",
   "execution_count": 49,
   "id": "66bfe4a2-4250-4b8b-9c88-d1aabcf1bc00",
   "metadata": {},
   "outputs": [
    {
     "data": {
      "text/plain": [
       "Text(0.5, 1.0, 'Thursday')"
      ]
     },
     "execution_count": 49,
     "metadata": {},
     "output_type": "execute_result"
    },
    {
     "data": {
      "image/png": "[encoded data removed]",
      "text/plain": [
       "<Figure size 432x288 with 1 Axes>"
      ]
     },
     "metadata": {
      "needs_background": "light"
     },
     "output_type": "display_data"
    }
   ],
   "source": [
    "#Donnerstag\n",
    "plt.bar(df_hourly_amount_per_day['Zeitraum'],df_hourly_amount_per_day['Donnerstag'])\n",
    "plt.xlabel('Hours')\n",
    "plt.ylabel('Amount of people')\n",
    "plt.title('Thursday')"
   ]
  },
  {
   "cell_type": "code",
   "execution_count": 50,
   "id": "fb204786-0fe6-4560-80fa-cb65f7efb26e",
   "metadata": {},
   "outputs": [
    {
     "data": {
      "text/plain": [
       "Text(0.5, 1.0, 'Friday')"
      ]
     },
     "execution_count": 50,
     "metadata": {},
     "output_type": "execute_result"
    },
    {
     "data": {
      "image/png": "[encoded data removed]",
      "text/plain": [
       "<Figure size 432x288 with 1 Axes>"
      ]
     },
     "metadata": {
      "needs_background": "light"
     },
     "output_type": "display_data"
    }
   ],
   "source": [
    "#Freitag\n",
    "plt.bar(df_hourly_amount_per_day['Zeitraum'],df_hourly_amount_per_day['Freitag'])\n",
    "plt.xlabel('Hours')\n",
    "plt.ylabel('Amount of people')\n",
    "plt.title('Friday')"
   ]
  },
  {
   "cell_type": "code",
   "execution_count": 51,
   "id": "aefb3fcc-55ce-4f14-a043-35676594098e",
   "metadata": {},
   "outputs": [
    {
     "data": {
      "text/plain": [
       "Text(0.5, 1.0, 'Saturday')"
      ]
     },
     "execution_count": 51,
     "metadata": {},
     "output_type": "execute_result"
    },
    {
     "data": {
      "image/png": "[encoded data removed]",
      "text/plain": [
       "<Figure size 432x288 with 1 Axes>"
      ]
     },
     "metadata": {
      "needs_background": "light"
     },
     "output_type": "display_data"
    }
   ],
   "source": [
    "#Samstag\n",
    "plt.bar(df_hourly_amount_per_day['Zeitraum'],df_hourly_amount_per_day['Samstag'])\n",
    "plt.xlabel('Hours')\n",
    "plt.ylabel('Amount of people')\n",
    "plt.title('Saturday')"
   ]
  },
  {
   "cell_type": "code",
   "execution_count": 52,
   "id": "5376fc9b-fbe6-4db8-900b-fb82af297c81",
   "metadata": {},
   "outputs": [
    {
     "data": {
      "text/plain": [
       "Text(0.5, 1.0, 'Sunday')"
      ]
     },
     "execution_count": 52,
     "metadata": {},
     "output_type": "execute_result"
    },
    {
     "data": {
      "image/png": "[encoded data removed]",
      "text/plain": [
       "<Figure size 432x288 with 1 Axes>"
      ]
     },
     "metadata": {
      "needs_background": "light"
     },
     "output_type": "display_data"
    }
   ],
   "source": [
    "#Sonntag\n",
    "plt.bar(df_hourly_amount_per_day['Zeitraum'],df_hourly_amount_per_day['Sonntag'])\n",
    "plt.xlabel('Hours')\n",
    "plt.ylabel('Amount of people')\n",
    "plt.title('Sunday')"
   ]
  },
  {
   "cell_type": "code",
   "execution_count": 53,
   "id": "86e216b3-0695-4383-a2e5-abdff22622dc",
   "metadata": {},
   "outputs": [],
   "source": [
    "#EINZELNE TAGE\n",
    "#df.where(lambda x: (x.true_montag == True), axis = 0).groupby([df['start_time'].dt.hour]).count().plot(kind=\"bar\").get_legend().remove()\n",
    "#df.where(lambda x: (x.true_dienstag == True), axis = 0).groupby([df['start_time'].dt.hour]).count().plot(kind=\"bar\").get_legend().remove()\n",
    "#df.where(lambda x: (x.true_mittwoch == True), axis = 0).groupby([df['start_time'].dt.hour]).count().plot(kind=\"bar\").get_legend().remove()\n",
    "#df.where(lambda x: (x.true_donnerstag == True), axis = 0).groupby([df['start_time'].dt.hour]).count().plot(kind=\"bar\").get_legend().remove()\n",
    "#df.where(lambda x: (x.true_freitag == True), axis = 0).groupby([df['start_time'].dt.hour]).count().plot(kind=\"bar\").get_legend().remove()\n",
    "#df.where(lambda x: (x.true_samstag == True), axis = 0).groupby([df['start_time'].dt.hour]).count().plot(kind=\"bar\").get_legend().remove()\n",
    "#df.where(lambda x: (x.true_sonntag == True), axis = 0).groupby([df['start_time'].dt.hour]).count().plot(kind=\"bar\").get_legend().remove()"
   ]
  },
  {
   "cell_type": "code",
   "execution_count": 54,
   "id": "2da0bf1a-8a83-472b-b26a-1486594773ee",
   "metadata": {},
   "outputs": [],
   "source": [
    "df['month'] = df.apply(lambda x: get_month(x.start_time), axis = 1)\n",
    "m = []\n",
    "for i in range(1, 13):\n",
    "    m.append(df.where(lambda x: (x.month == i), axis = 0).count())"
   ]
  },
  {
   "cell_type": "code",
   "execution_count": 55,
   "id": "6963bece-06ae-48e5-b840-adbdc54d6d93",
   "metadata": {},
   "outputs": [],
   "source": [
    "df_monthly_amount = {'Amount':[m[0][0],m[1][1],m[2][2],m[3][3],m[4][4],m[5][5],m[6][6],m[7][7],\n",
    "                              m[8][8],m[9][9],m[10][10],m[11][11]],'Month':['Jan', 'Feb', 'Mar', 'Apr', 'May', 'Jun', 'Jul', 'Aug', 'Sep',\n",
    "                                                                         'Oct', 'Nov', 'Dec']}"
   ]
  },
  {
   "cell_type": "code",
   "execution_count": 56,
   "id": "0662fcba-a0ff-4a6e-84fd-c01d42d52049",
   "metadata": {},
   "outputs": [],
   "source": [
    "df.drop(['month'], axis=1, inplace=True)"
   ]
  },
  {
   "cell_type": "code",
   "execution_count": 57,
   "id": "5bcd8950-b7ee-42cf-a1e4-ecf11f8c6668",
   "metadata": {},
   "outputs": [],
   "source": [
    "df_monthly_amount = pd.DataFrame(data = df_monthly_amount)"
   ]
  },
  {
   "cell_type": "code",
   "execution_count": 59,
   "id": "2f9fec6f-15da-451f-ad23-c3d3d614e53e",
   "metadata": {
    "tags": []
   },
   "outputs": [
    {
     "data": {
      "text/plain": [
       "Text(0.5, 1.0, 'Amount of people riding bluebikes per month')"
      ]
     },
     "execution_count": 59,
     "metadata": {},
     "output_type": "execute_result"
    },
    {
     "data": {
      "image/png": "[encoded data removed]",
      "text/plain": [
       "<Figure size 432x288 with 1 Axes>"
      ]
     },
     "metadata": {
      "needs_background": "light"
     },
     "output_type": "display_data"
    }
   ],
   "source": [
    "plt.bar(df_monthly_amount['Month'],df_monthly_amount['Amount'])\n",
    "plt.xlabel('Month')\n",
    "plt.ylabel('Amount of people')\n",
    "plt.title('Amount of people riding bluebikes per month')"
   ]
  },
  {
   "cell_type": "code",
   "execution_count": 60,
   "id": "62d10b97-83b4-454d-bc41-bddf16d76df6",
   "metadata": {},
   "outputs": [],
   "source": [
    "df.drop([\"Unnamed: 0\"], axis=1, inplace=True)\n",
    "# Drop Trips with the 8D OPS stations\n",
    "df.drop([598580], axis=0, inplace=True)\n",
    "df.drop([598729], axis=0, inplace=True)\n",
    "df.drop([1072609], axis=0, inplace=True)\n",
    "#########################################\n",
    "\n",
    "# Löschen alle die schneller als 30km/h sind\n",
    "df.drop([88647], axis=0, inplace=True)\n",
    "df.drop([88649], axis=0, inplace=True)\n",
    "df.drop([17997], axis=0, inplace=True)\n",
    "df.drop([89416], axis=0, inplace=True)\n",
    "df.drop([824312], axis=0, inplace=True)\n",
    "df.drop([1143845], axis=0, inplace=True)\n",
    "#########################################\n",
    "\n",
    "# Löschen alle die speed < 0 haben\n",
    "df.drop([1114233], axis=0, inplace=True)\n",
    "df.drop([1114235], axis=0, inplace=True)\n",
    "df.drop([1114234], axis=0, inplace=True)\n",
    "#########################################\n",
    "\n",
    "# Löscht alle Roundtrips - machen wa doch nicht \n",
    "#df = df.drop(df[df['Distance (KM)'] == 0].index)\n",
    "# Löscht alle Trips die länger als 8Std sind\n",
    "df = df.drop(df[df['Duration (Seconds)'] > 28800].index)\n",
    "# Löscht alle Trips die kürzer als 1min sind - gibt keine die kürzer als 61sek sind :)\n",
    "#df = df.drop(df[df['Duration (Seconds)'] <= 60].index)"
   ]
  },
  {
   "cell_type": "code",
   "execution_count": 61,
   "id": "fd276bd2-87fc-4563-847c-6acc23d6c9b4",
   "metadata": {},
   "outputs": [],
   "source": [
    "df.rename(columns = {'Duration (Seconds)':'Duration_Seconds'}, inplace = True)"
   ]
  },
  {
   "cell_type": "markdown",
   "id": "df06d945-b928-4995-99a2-3996e7d61b20",
   "metadata": {},
   "source": [
    "**Adding parameters to visualize the duration a bike was used per minutes**\n",
    "\n",
    "Since we got our duration in seconds to be more precise, we need the minutes now so our plot won't look as bad as with seconds.\n",
    "\n",
    "Furthermore we round the minutes to the nearest 10. This means, that the graph shows us the the time duration in steps (0 - 10, 10 - 20, 20 - 30, and so on."
   ]
  },
  {
   "cell_type": "code",
   "execution_count": 62,
   "id": "4200e5df-f980-4ea1-aff2-22b6a19aa02a",
   "metadata": {},
   "outputs": [],
   "source": [
    "df['Minutes'] = df['Duration_Seconds'] / 60"
   ]
  },
  {
   "cell_type": "markdown",
   "id": "6bb0e992-3712-4718-8ed5-e83a5755c02e",
   "metadata": {},
   "source": [
    "To round all of our entries in the dataframe we write a function to get the next 10 with a lambda operation."
   ]
  },
  {
   "cell_type": "code",
   "execution_count": 88,
   "id": "9f861943-5157-4f0c-9c43-c52934df74df",
   "metadata": {},
   "outputs": [],
   "source": [
    "def roundTo10(number):\n",
    "    return round(number/10)*10"
   ]
  },
  {
   "cell_type": "code",
   "execution_count": 63,
   "id": "7a1fa5ad-59d5-44f9-9a78-f3976dbd917b",
   "metadata": {},
   "outputs": [],
   "source": [
    "df['Minutes_rounded'] = df.apply(lambda x: roundTo10(x.Minutes), axis = 1)"
   ]
  },
  {
   "cell_type": "markdown",
   "id": "bb4e87ba-e0c2-48f0-8141-4321c72c8b12",
   "metadata": {},
   "source": [
    "Afterards we convert all of the unique entries into an array.\n",
    "The array is later used to create a new dataframe."
   ]
  },
  {
   "cell_type": "code",
   "execution_count": 64,
   "id": "c0274405-e733-40fa-8d5b-66ca42cc768c",
   "metadata": {},
   "outputs": [],
   "source": [
    "array = df['Minutes_rounded'].unique()"
   ]
  },
  {
   "cell_type": "markdown",
   "id": "ca6c39a7-4fcd-4c2b-995e-58249a358025",
   "metadata": {},
   "source": [
    "The second Array we are creating now is used for the the amount of people."
   ]
  },
  {
   "cell_type": "code",
   "execution_count": 65,
   "id": "699a2afb-a78a-4ebf-85e5-fca6888e6a63",
   "metadata": {},
   "outputs": [],
   "source": [
    "array2 = []\n",
    "for i in df['Minutes_rounded'].unique():\n",
    "    test = df.where(lambda x: (x.Minutes_rounded == i), axis = 0).count()\n",
    "    array2.append(test[0])"
   ]
  },
  {
   "cell_type": "markdown",
   "id": "391da9e0-208c-455c-a718-b9e2928251bb",
   "metadata": {},
   "source": [
    "Since we don't need the Minutes and Minutes_rounded column anymore, we can drop it."
   ]
  },
  {
   "cell_type": "code",
   "execution_count": 87,
   "id": "8394399c-99b5-437f-8bde-b720970b69ed",
   "metadata": {},
   "outputs": [],
   "source": [
    "df.drop([\"Minutes\", 'Minutes_rounded'], axis=1, inplace=True)"
   ]
  },
  {
   "cell_type": "markdown",
   "id": "9f5a8dde-59f6-497f-a7b2-37ffd0ca103b",
   "metadata": {},
   "source": [
    "From this point on we create a new dataframe.\n",
    "\n",
    "Also we are spliting the dataframe in 2 sublets so visiulize the amount even better."
   ]
  },
  {
   "cell_type": "code",
   "execution_count": 66,
   "id": "c1a6f804-6163-4299-bbb5-f498857205ab",
   "metadata": {},
   "outputs": [],
   "source": [
    "df_alle_minuten = {'unique_minutes':[array[0],array[1],array[2],array[3],array[4],array[5],array[6],array[7],\n",
    "                              array[8],array[9],array[10],array[11],array[12],array[13],array[14],array[15],array[16],array[17],array[18],array[19],\n",
    "                              array[20],array[21],array[22],array[23],array[24],array[25],array[26],array[27],array[28],array[29],array[30],array[31],\n",
    "                              array[32],array[32],array[33],array[34],array[35],array[36],array[37],array[38],array[39],array[40],array[41],array[42],\n",
    "                              array[43],array[44],array[45],array[46], array[47], array[48]],'people':[array2[0],array2[1],array2[2],array2[3],array[4],array[5],array[6],array[7],\n",
    "                              array2[8],array2[9],array2[10],array2[11],array2[12],array2[13],array2[14],array2[15],array2[16],array2[17],array2[18],array2[19],\n",
    "                              array2[20],array2[21],array2[22],array2[23],array2[24],array2[25],array2[26],array2[27],array2[28],array2[29],array2[30],array2[31],\n",
    "                              array2[32],array2[32],array2[33],array2[34],array2[35],array2[36],array2[37],array2[38],array2[39],array2[40],array2[41],array2[42],\n",
    "                              array2[43],array2[44],array2[45],array2[46], array2[47], array2[48]]}"
   ]
  },
  {
   "cell_type": "code",
   "execution_count": 67,
   "id": "8f72f03c-69cd-44a7-9cf8-759c7bb13875",
   "metadata": {},
   "outputs": [],
   "source": [
    "df_alle_minuten = pd.DataFrame(data = df_alle_minuten)"
   ]
  },
  {
   "cell_type": "code",
   "execution_count": 89,
   "id": "19c8f4ca-d239-4a57-b85a-d2bac31aebcb",
   "metadata": {},
   "outputs": [
    {
     "data": {
      "text/html": [
       "<div>\n",
       "<style scoped>\n",
       "    .dataframe tbody tr th:only-of-type {\n",
       "        vertical-align: middle;\n",
       "    }\n",
       "\n",
       "    .dataframe tbody tr th {\n",
       "        vertical-align: top;\n",
       "    }\n",
       "\n",
       "    .dataframe thead th {\n",
       "        text-align: right;\n",
       "    }\n",
       "</style>\n",
       "<table border=\"1\" class=\"dataframe\">\n",
       "  <thead>\n",
       "    <tr style=\"text-align: right;\">\n",
       "      <th></th>\n",
       "      <th>unique_minutes</th>\n",
       "      <th>people</th>\n",
       "    </tr>\n",
       "  </thead>\n",
       "  <tbody>\n",
       "    <tr>\n",
       "      <th>3</th>\n",
       "      <td>0</td>\n",
       "      <td>171645</td>\n",
       "    </tr>\n",
       "    <tr>\n",
       "      <th>2</th>\n",
       "      <td>10</td>\n",
       "      <td>651119</td>\n",
       "    </tr>\n",
       "    <tr>\n",
       "      <th>1</th>\n",
       "      <td>20</td>\n",
       "      <td>272797</td>\n",
       "    </tr>\n",
       "    <tr>\n",
       "      <th>0</th>\n",
       "      <td>30</td>\n",
       "      <td>81854</td>\n",
       "    </tr>\n",
       "    <tr>\n",
       "      <th>10</th>\n",
       "      <td>40</td>\n",
       "      <td>21417</td>\n",
       "    </tr>\n",
       "    <tr>\n",
       "      <th>11</th>\n",
       "      <td>50</td>\n",
       "      <td>10465</td>\n",
       "    </tr>\n",
       "    <tr>\n",
       "      <th>12</th>\n",
       "      <td>60</td>\n",
       "      <td>6185</td>\n",
       "    </tr>\n",
       "    <tr>\n",
       "      <th>19</th>\n",
       "      <td>70</td>\n",
       "      <td>3859</td>\n",
       "    </tr>\n",
       "    <tr>\n",
       "      <th>9</th>\n",
       "      <td>80</td>\n",
       "      <td>2796</td>\n",
       "    </tr>\n",
       "    <tr>\n",
       "      <th>8</th>\n",
       "      <td>90</td>\n",
       "      <td>2155</td>\n",
       "    </tr>\n",
       "    <tr>\n",
       "      <th>18</th>\n",
       "      <td>100</td>\n",
       "      <td>1539</td>\n",
       "    </tr>\n",
       "    <tr>\n",
       "      <th>7</th>\n",
       "      <td>110</td>\n",
       "      <td>110</td>\n",
       "    </tr>\n",
       "    <tr>\n",
       "      <th>6</th>\n",
       "      <td>120</td>\n",
       "      <td>120</td>\n",
       "    </tr>\n",
       "    <tr>\n",
       "      <th>17</th>\n",
       "      <td>130</td>\n",
       "      <td>735</td>\n",
       "    </tr>\n",
       "    <tr>\n",
       "      <th>21</th>\n",
       "      <td>140</td>\n",
       "      <td>671</td>\n",
       "    </tr>\n",
       "    <tr>\n",
       "      <th>23</th>\n",
       "      <td>150</td>\n",
       "      <td>488</td>\n",
       "    </tr>\n",
       "    <tr>\n",
       "      <th>22</th>\n",
       "      <td>160</td>\n",
       "      <td>388</td>\n",
       "    </tr>\n",
       "    <tr>\n",
       "      <th>26</th>\n",
       "      <td>170</td>\n",
       "      <td>374</td>\n",
       "    </tr>\n",
       "    <tr>\n",
       "      <th>5</th>\n",
       "      <td>180</td>\n",
       "      <td>180</td>\n",
       "    </tr>\n",
       "    <tr>\n",
       "      <th>4</th>\n",
       "      <td>190</td>\n",
       "      <td>190</td>\n",
       "    </tr>\n",
       "    <tr>\n",
       "      <th>13</th>\n",
       "      <td>200</td>\n",
       "      <td>290</td>\n",
       "    </tr>\n",
       "    <tr>\n",
       "      <th>37</th>\n",
       "      <td>210</td>\n",
       "      <td>199</td>\n",
       "    </tr>\n",
       "    <tr>\n",
       "      <th>35</th>\n",
       "      <td>220</td>\n",
       "      <td>202</td>\n",
       "    </tr>\n",
       "    <tr>\n",
       "      <th>43</th>\n",
       "      <td>230</td>\n",
       "      <td>174</td>\n",
       "    </tr>\n",
       "    <tr>\n",
       "      <th>28</th>\n",
       "      <td>240</td>\n",
       "      <td>155</td>\n",
       "    </tr>\n",
       "    <tr>\n",
       "      <th>33</th>\n",
       "      <td>250</td>\n",
       "      <td>142</td>\n",
       "    </tr>\n",
       "    <tr>\n",
       "      <th>32</th>\n",
       "      <td>250</td>\n",
       "      <td>142</td>\n",
       "    </tr>\n",
       "    <tr>\n",
       "      <th>36</th>\n",
       "      <td>260</td>\n",
       "      <td>119</td>\n",
       "    </tr>\n",
       "    <tr>\n",
       "      <th>39</th>\n",
       "      <td>270</td>\n",
       "      <td>116</td>\n",
       "    </tr>\n",
       "    <tr>\n",
       "      <th>20</th>\n",
       "      <td>280</td>\n",
       "      <td>91</td>\n",
       "    </tr>\n",
       "    <tr>\n",
       "      <th>45</th>\n",
       "      <td>290</td>\n",
       "      <td>83</td>\n",
       "    </tr>\n",
       "    <tr>\n",
       "      <th>29</th>\n",
       "      <td>300</td>\n",
       "      <td>61</td>\n",
       "    </tr>\n",
       "    <tr>\n",
       "      <th>31</th>\n",
       "      <td>310</td>\n",
       "      <td>76</td>\n",
       "    </tr>\n",
       "    <tr>\n",
       "      <th>14</th>\n",
       "      <td>320</td>\n",
       "      <td>63</td>\n",
       "    </tr>\n",
       "    <tr>\n",
       "      <th>16</th>\n",
       "      <td>330</td>\n",
       "      <td>65</td>\n",
       "    </tr>\n",
       "    <tr>\n",
       "      <th>24</th>\n",
       "      <td>340</td>\n",
       "      <td>57</td>\n",
       "    </tr>\n",
       "    <tr>\n",
       "      <th>15</th>\n",
       "      <td>350</td>\n",
       "      <td>69</td>\n",
       "    </tr>\n",
       "    <tr>\n",
       "      <th>40</th>\n",
       "      <td>360</td>\n",
       "      <td>51</td>\n",
       "    </tr>\n",
       "    <tr>\n",
       "      <th>48</th>\n",
       "      <td>370</td>\n",
       "      <td>43</td>\n",
       "    </tr>\n",
       "    <tr>\n",
       "      <th>49</th>\n",
       "      <td>380</td>\n",
       "      <td>28</td>\n",
       "    </tr>\n",
       "    <tr>\n",
       "      <th>30</th>\n",
       "      <td>390</td>\n",
       "      <td>41</td>\n",
       "    </tr>\n",
       "    <tr>\n",
       "      <th>27</th>\n",
       "      <td>400</td>\n",
       "      <td>43</td>\n",
       "    </tr>\n",
       "    <tr>\n",
       "      <th>42</th>\n",
       "      <td>410</td>\n",
       "      <td>41</td>\n",
       "    </tr>\n",
       "    <tr>\n",
       "      <th>34</th>\n",
       "      <td>420</td>\n",
       "      <td>38</td>\n",
       "    </tr>\n",
       "    <tr>\n",
       "      <th>38</th>\n",
       "      <td>430</td>\n",
       "      <td>32</td>\n",
       "    </tr>\n",
       "    <tr>\n",
       "      <th>25</th>\n",
       "      <td>440</td>\n",
       "      <td>38</td>\n",
       "    </tr>\n",
       "    <tr>\n",
       "      <th>46</th>\n",
       "      <td>450</td>\n",
       "      <td>25</td>\n",
       "    </tr>\n",
       "    <tr>\n",
       "      <th>41</th>\n",
       "      <td>460</td>\n",
       "      <td>24</td>\n",
       "    </tr>\n",
       "    <tr>\n",
       "      <th>47</th>\n",
       "      <td>470</td>\n",
       "      <td>26</td>\n",
       "    </tr>\n",
       "    <tr>\n",
       "      <th>44</th>\n",
       "      <td>480</td>\n",
       "      <td>11</td>\n",
       "    </tr>\n",
       "  </tbody>\n",
       "</table>\n",
       "</div>"
      ],
      "text/plain": [
       "    unique_minutes  people\n",
       "3                0  171645\n",
       "2               10  651119\n",
       "1               20  272797\n",
       "0               30   81854\n",
       "10              40   21417\n",
       "11              50   10465\n",
       "12              60    6185\n",
       "19              70    3859\n",
       "9               80    2796\n",
       "8               90    2155\n",
       "18             100    1539\n",
       "7              110     110\n",
       "6              120     120\n",
       "17             130     735\n",
       "21             140     671\n",
       "23             150     488\n",
       "22             160     388\n",
       "26             170     374\n",
       "5              180     180\n",
       "4              190     190\n",
       "13             200     290\n",
       "37             210     199\n",
       "35             220     202\n",
       "43             230     174\n",
       "28             240     155\n",
       "33             250     142\n",
       "32             250     142\n",
       "36             260     119\n",
       "39             270     116\n",
       "20             280      91\n",
       "45             290      83\n",
       "29             300      61\n",
       "31             310      76\n",
       "14             320      63\n",
       "16             330      65\n",
       "24             340      57\n",
       "15             350      69\n",
       "40             360      51\n",
       "48             370      43\n",
       "49             380      28\n",
       "30             390      41\n",
       "27             400      43\n",
       "42             410      41\n",
       "34             420      38\n",
       "38             430      32\n",
       "25             440      38\n",
       "46             450      25\n",
       "41             460      24\n",
       "47             470      26\n",
       "44             480      11"
      ]
     },
     "execution_count": 89,
     "metadata": {},
     "output_type": "execute_result"
    }
   ],
   "source": [
    "df_alle_minuten"
   ]
  },
  {
   "cell_type": "code",
   "execution_count": 69,
   "id": "b4ca7169-36c9-4b93-8508-08d837038dfb",
   "metadata": {},
   "outputs": [],
   "source": [
    "df_große_minuten = df_alle_minuten"
   ]
  },
  {
   "cell_type": "code",
   "execution_count": 70,
   "id": "1c1e2978-0d15-4e61-9de8-4a0eab45440c",
   "metadata": {},
   "outputs": [],
   "source": [
    "df_kleine_minuten = df_alle_minuten"
   ]
  },
  {
   "cell_type": "code",
   "execution_count": 71,
   "id": "85d29aa4-245a-407d-8ae6-358bc02c10b3",
   "metadata": {},
   "outputs": [],
   "source": [
    "df_alle_minuten.sort_values(['unique_minutes'],axis=0, ascending=True,inplace=True,na_position='first')"
   ]
  },
  {
   "cell_type": "code",
   "execution_count": 72,
   "id": "7b388d30-26d3-4544-827c-a7666d4cd072",
   "metadata": {},
   "outputs": [],
   "source": [
    "df_große_minuten = df_große_minuten.drop(df_große_minuten[df_große_minuten['unique_minutes'] > 50].index)"
   ]
  },
  {
   "cell_type": "code",
   "execution_count": 73,
   "id": "d90478f7-1c08-4811-a038-fbab0dd78ee1",
   "metadata": {},
   "outputs": [],
   "source": [
    "df_kleine_minuten = df_kleine_minuten.drop(df_kleine_minuten[df_kleine_minuten['unique_minutes'] < 60].index)"
   ]
  },
  {
   "cell_type": "markdown",
   "id": "d677713a-b509-46c0-bebc-4255a5e6241d",
   "metadata": {},
   "source": [
    "Now that we have our dataframe with values assigned to the minutes, we can use those to create 3 individual Plots."
   ]
  },
  {
   "cell_type": "code",
   "execution_count": 80,
   "id": "22ab1a17-543a-42e0-8d53-684fe79daada",
   "metadata": {},
   "outputs": [
    {
     "data": {
      "text/plain": [
       "Text(0, 0.5, 'Amount of people')"
      ]
     },
     "execution_count": 80,
     "metadata": {},
     "output_type": "execute_result"
    },
    {
     "data": {
      "image/png": "[encoded data removed]",
      "text/plain": [
       "<Figure size 432x288 with 1 Axes>"
      ]
     },
     "metadata": {
      "needs_background": "light"
     },
     "output_type": "display_data"
    }
   ],
   "source": [
    "plt.plot(df_alle_minuten['unique_minutes'],df_alle_minuten['people'])\n",
    "plt.xlabel('Minutes')\n",
    "plt.ylabel('Amount of people')"
   ]
  },
  {
   "cell_type": "code",
   "execution_count": 75,
   "id": "e91f3f7d-84c6-40c1-94ea-c9397aa6c51b",
   "metadata": {},
   "outputs": [
    {
     "data": {
      "text/plain": [
       "Text(0, 0.5, 'Amount of people')"
      ]
     },
     "execution_count": 75,
     "metadata": {},
     "output_type": "execute_result"
    },
    {
     "data": {
      "image/png": "[encoded data removed]",
      "text/plain": [
       "<Figure size 432x288 with 1 Axes>"
      ]
     },
     "metadata": {
      "needs_background": "light"
     },
     "output_type": "display_data"
    }
   ],
   "source": [
    "plt.plot(df_große_minuten['unique_minutes'],df_große_minuten['people'])\n",
    "plt.xlabel('Minutes')\n",
    "plt.ylabel('Amount of people')"
   ]
  },
  {
   "cell_type": "code",
   "execution_count": 76,
   "id": "94dfe35b-6e5c-48d2-8992-2d9d9b01f69a",
   "metadata": {},
   "outputs": [
    {
     "data": {
      "text/plain": [
       "Text(0, 0.5, 'Amount of people')"
      ]
     },
     "execution_count": 76,
     "metadata": {},
     "output_type": "execute_result"
    },
    {
     "data": {
      "image/png": "[encoded data removed]",
      "text/plain": [
       "<Figure size 432x288 with 1 Axes>"
      ]
     },
     "metadata": {
      "needs_background": "light"
     },
     "output_type": "display_data"
    }
   ],
   "source": [
    "plt.plot(df_kleine_minuten['unique_minutes'],df_kleine_minuten['people'])\n",
    "plt.xlabel('Minutes')\n",
    "plt.ylabel('Amount of people')"
   ]
  },
  {
   "cell_type": "markdown",
   "id": "d51e7b76-58b9-4ce2-862a-486ec9588288",
   "metadata": {},
   "source": [
    "As you can see the majority of people are using the bike for around 10 - 20 minutes.\n",
    "\n"
   ]
  }
 ],
 "metadata": {
  "kernelspec": {
   "display_name": "Python 3 (ipykernel)",
   "language": "python",
   "name": "python3"
  },
  "language_info": {
   "codemirror_mode": {
    "name": "ipython",
    "version": 3
   },
   "file_extension": ".py",
   "mimetype": "text/x-python",
   "name": "python",
   "nbconvert_exporter": "python",
   "pygments_lexer": "ipython3",
   "version": "3.9.7"
  }
 },
 "nbformat": 4,
 "nbformat_minor": 5
}
