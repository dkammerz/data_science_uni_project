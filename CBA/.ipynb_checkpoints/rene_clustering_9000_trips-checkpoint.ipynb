{
 "cells": [
  {
   "cell_type": "code",
   "execution_count": 1,
   "id": "59edf09d-42d7-4e81-8a83-2d2f44699cbf",
   "metadata": {},
   "outputs": [
    {
     "ename": "KeyboardInterrupt",
     "evalue": "",
     "output_type": "error",
     "traceback": [
      "\u001b[1;31m---------------------------------------------------------------------------\u001b[0m",
      "\u001b[1;31mKeyboardInterrupt\u001b[0m                         Traceback (most recent call last)",
      "\u001b[1;32m~\\AppData\\Local\\Temp/ipykernel_13300/1066047685.py\u001b[0m in \u001b[0;36m<module>\u001b[1;34m\u001b[0m\n\u001b[1;32m----> 1\u001b[1;33m \u001b[1;32mimport\u001b[0m \u001b[0mpandas\u001b[0m \u001b[1;32mas\u001b[0m \u001b[0mpd\u001b[0m\u001b[1;33m\u001b[0m\u001b[1;33m\u001b[0m\u001b[0m\n\u001b[0m\u001b[0;32m      2\u001b[0m \u001b[1;32mimport\u001b[0m \u001b[0mnumpy\u001b[0m \u001b[1;32mas\u001b[0m \u001b[0mnp\u001b[0m\u001b[1;33m\u001b[0m\u001b[1;33m\u001b[0m\u001b[0m\n\u001b[0;32m      3\u001b[0m \u001b[1;32mimport\u001b[0m \u001b[0mmatplotlib\u001b[0m\u001b[1;33m.\u001b[0m\u001b[0mpyplot\u001b[0m \u001b[1;32mas\u001b[0m \u001b[0mplt\u001b[0m\u001b[1;33m\u001b[0m\u001b[1;33m\u001b[0m\u001b[0m\n\u001b[0;32m      4\u001b[0m \u001b[1;32mfrom\u001b[0m \u001b[0mpandas\u001b[0m\u001b[1;33m.\u001b[0m\u001b[0mplotting\u001b[0m \u001b[1;32mimport\u001b[0m \u001b[0mregister_matplotlib_converters\u001b[0m\u001b[1;33m\u001b[0m\u001b[1;33m\u001b[0m\u001b[0m\n\u001b[0;32m      5\u001b[0m \u001b[0mregister_matplotlib_converters\u001b[0m\u001b[1;33m(\u001b[0m\u001b[1;33m)\u001b[0m\u001b[1;33m\u001b[0m\u001b[1;33m\u001b[0m\u001b[0m\n",
      "\u001b[1;32m~\\anaconda3\\lib\\site-packages\\pandas\\__init__.py\u001b[0m in \u001b[0;36m<module>\u001b[1;34m\u001b[0m\n\u001b[0;32m     48\u001b[0m \u001b[1;32mimport\u001b[0m \u001b[0mpandas\u001b[0m\u001b[1;33m.\u001b[0m\u001b[0mcore\u001b[0m\u001b[1;33m.\u001b[0m\u001b[0mconfig_init\u001b[0m\u001b[1;33m\u001b[0m\u001b[1;33m\u001b[0m\u001b[0m\n\u001b[0;32m     49\u001b[0m \u001b[1;33m\u001b[0m\u001b[0m\n\u001b[1;32m---> 50\u001b[1;33m from pandas.core.api import (\n\u001b[0m\u001b[0;32m     51\u001b[0m     \u001b[1;31m# dtype\u001b[0m\u001b[1;33m\u001b[0m\u001b[1;33m\u001b[0m\u001b[0m\n\u001b[0;32m     52\u001b[0m     \u001b[0mInt8Dtype\u001b[0m\u001b[1;33m,\u001b[0m\u001b[1;33m\u001b[0m\u001b[1;33m\u001b[0m\u001b[0m\n",
      "\u001b[1;32m~\\anaconda3\\lib\\site-packages\\pandas\\core\\api.py\u001b[0m in \u001b[0;36m<module>\u001b[1;34m\u001b[0m\n\u001b[0;32m     27\u001b[0m     \u001b[0mvalue_counts\u001b[0m\u001b[1;33m,\u001b[0m\u001b[1;33m\u001b[0m\u001b[1;33m\u001b[0m\u001b[0m\n\u001b[0;32m     28\u001b[0m )\n\u001b[1;32m---> 29\u001b[1;33m \u001b[1;32mfrom\u001b[0m \u001b[0mpandas\u001b[0m\u001b[1;33m.\u001b[0m\u001b[0mcore\u001b[0m\u001b[1;33m.\u001b[0m\u001b[0marrays\u001b[0m \u001b[1;32mimport\u001b[0m \u001b[0mCategorical\u001b[0m\u001b[1;33m\u001b[0m\u001b[1;33m\u001b[0m\u001b[0m\n\u001b[0m\u001b[0;32m     30\u001b[0m \u001b[1;32mfrom\u001b[0m \u001b[0mpandas\u001b[0m\u001b[1;33m.\u001b[0m\u001b[0mcore\u001b[0m\u001b[1;33m.\u001b[0m\u001b[0marrays\u001b[0m\u001b[1;33m.\u001b[0m\u001b[0mboolean\u001b[0m \u001b[1;32mimport\u001b[0m \u001b[0mBooleanDtype\u001b[0m\u001b[1;33m\u001b[0m\u001b[1;33m\u001b[0m\u001b[0m\n\u001b[0;32m     31\u001b[0m from pandas.core.arrays.floating import (\n",
      "\u001b[1;32m~\\anaconda3\\lib\\site-packages\\pandas\\core\\arrays\\__init__.py\u001b[0m in \u001b[0;36m<module>\u001b[1;34m\u001b[0m\n\u001b[0;32m      5\u001b[0m )\n\u001b[0;32m      6\u001b[0m \u001b[1;32mfrom\u001b[0m \u001b[0mpandas\u001b[0m\u001b[1;33m.\u001b[0m\u001b[0mcore\u001b[0m\u001b[1;33m.\u001b[0m\u001b[0marrays\u001b[0m\u001b[1;33m.\u001b[0m\u001b[0mboolean\u001b[0m \u001b[1;32mimport\u001b[0m \u001b[0mBooleanArray\u001b[0m\u001b[1;33m\u001b[0m\u001b[1;33m\u001b[0m\u001b[0m\n\u001b[1;32m----> 7\u001b[1;33m \u001b[1;32mfrom\u001b[0m \u001b[0mpandas\u001b[0m\u001b[1;33m.\u001b[0m\u001b[0mcore\u001b[0m\u001b[1;33m.\u001b[0m\u001b[0marrays\u001b[0m\u001b[1;33m.\u001b[0m\u001b[0mcategorical\u001b[0m \u001b[1;32mimport\u001b[0m \u001b[0mCategorical\u001b[0m\u001b[1;33m\u001b[0m\u001b[1;33m\u001b[0m\u001b[0m\n\u001b[0m\u001b[0;32m      8\u001b[0m \u001b[1;32mfrom\u001b[0m \u001b[0mpandas\u001b[0m\u001b[1;33m.\u001b[0m\u001b[0mcore\u001b[0m\u001b[1;33m.\u001b[0m\u001b[0marrays\u001b[0m\u001b[1;33m.\u001b[0m\u001b[0mdatetimes\u001b[0m \u001b[1;32mimport\u001b[0m \u001b[0mDatetimeArray\u001b[0m\u001b[1;33m\u001b[0m\u001b[1;33m\u001b[0m\u001b[0m\n\u001b[0;32m      9\u001b[0m \u001b[1;32mfrom\u001b[0m \u001b[0mpandas\u001b[0m\u001b[1;33m.\u001b[0m\u001b[0mcore\u001b[0m\u001b[1;33m.\u001b[0m\u001b[0marrays\u001b[0m\u001b[1;33m.\u001b[0m\u001b[0mfloating\u001b[0m \u001b[1;32mimport\u001b[0m \u001b[0mFloatingArray\u001b[0m\u001b[1;33m\u001b[0m\u001b[1;33m\u001b[0m\u001b[0m\n",
      "\u001b[1;32m~\\anaconda3\\lib\\site-packages\\pandas\\core\\arrays\\categorical.py\u001b[0m in \u001b[0;36m<module>\u001b[1;34m\u001b[0m\n\u001b[0;32m    111\u001b[0m \u001b[1;32mfrom\u001b[0m \u001b[0mpandas\u001b[0m\u001b[1;33m.\u001b[0m\u001b[0mcore\u001b[0m\u001b[1;33m.\u001b[0m\u001b[0mops\u001b[0m\u001b[1;33m.\u001b[0m\u001b[0mcommon\u001b[0m \u001b[1;32mimport\u001b[0m \u001b[0munpack_zerodim_and_defer\u001b[0m\u001b[1;33m\u001b[0m\u001b[1;33m\u001b[0m\u001b[0m\n\u001b[0;32m    112\u001b[0m \u001b[1;32mfrom\u001b[0m \u001b[0mpandas\u001b[0m\u001b[1;33m.\u001b[0m\u001b[0mcore\u001b[0m\u001b[1;33m.\u001b[0m\u001b[0msorting\u001b[0m \u001b[1;32mimport\u001b[0m \u001b[0mnargsort\u001b[0m\u001b[1;33m\u001b[0m\u001b[1;33m\u001b[0m\u001b[0m\n\u001b[1;32m--> 113\u001b[1;33m \u001b[1;32mfrom\u001b[0m \u001b[0mpandas\u001b[0m\u001b[1;33m.\u001b[0m\u001b[0mcore\u001b[0m\u001b[1;33m.\u001b[0m\u001b[0mstrings\u001b[0m\u001b[1;33m.\u001b[0m\u001b[0mobject_array\u001b[0m \u001b[1;32mimport\u001b[0m \u001b[0mObjectStringArrayMixin\u001b[0m\u001b[1;33m\u001b[0m\u001b[1;33m\u001b[0m\u001b[0m\n\u001b[0m\u001b[0;32m    114\u001b[0m \u001b[1;33m\u001b[0m\u001b[0m\n\u001b[0;32m    115\u001b[0m \u001b[1;32mfrom\u001b[0m \u001b[0mpandas\u001b[0m\u001b[1;33m.\u001b[0m\u001b[0mio\u001b[0m\u001b[1;33m.\u001b[0m\u001b[0mformats\u001b[0m \u001b[1;32mimport\u001b[0m \u001b[0mconsole\u001b[0m\u001b[1;33m\u001b[0m\u001b[1;33m\u001b[0m\u001b[0m\n",
      "\u001b[1;32m~\\anaconda3\\lib\\site-packages\\pandas\\core\\strings\\__init__.py\u001b[0m in \u001b[0;36m<module>\u001b[1;34m\u001b[0m\n\u001b[0;32m     28\u001b[0m \u001b[1;31m#     - ArrowStringArray\u001b[0m\u001b[1;33m\u001b[0m\u001b[1;33m\u001b[0m\u001b[0m\n\u001b[0;32m     29\u001b[0m \u001b[1;33m\u001b[0m\u001b[0m\n\u001b[1;32m---> 30\u001b[1;33m \u001b[1;32mfrom\u001b[0m \u001b[0mpandas\u001b[0m\u001b[1;33m.\u001b[0m\u001b[0mcore\u001b[0m\u001b[1;33m.\u001b[0m\u001b[0mstrings\u001b[0m\u001b[1;33m.\u001b[0m\u001b[0maccessor\u001b[0m \u001b[1;32mimport\u001b[0m \u001b[0mStringMethods\u001b[0m\u001b[1;33m\u001b[0m\u001b[1;33m\u001b[0m\u001b[0m\n\u001b[0m\u001b[0;32m     31\u001b[0m \u001b[1;32mfrom\u001b[0m \u001b[0mpandas\u001b[0m\u001b[1;33m.\u001b[0m\u001b[0mcore\u001b[0m\u001b[1;33m.\u001b[0m\u001b[0mstrings\u001b[0m\u001b[1;33m.\u001b[0m\u001b[0mbase\u001b[0m \u001b[1;32mimport\u001b[0m \u001b[0mBaseStringArrayMethods\u001b[0m\u001b[1;33m\u001b[0m\u001b[1;33m\u001b[0m\u001b[0m\n\u001b[0;32m     32\u001b[0m \u001b[1;33m\u001b[0m\u001b[0m\n",
      "\u001b[1;32m~\\anaconda3\\lib\\importlib\\_bootstrap.py\u001b[0m in \u001b[0;36m_find_and_load\u001b[1;34m(name, import_)\u001b[0m\n",
      "\u001b[1;32m~\\anaconda3\\lib\\importlib\\_bootstrap.py\u001b[0m in \u001b[0;36m_find_and_load_unlocked\u001b[1;34m(name, import_)\u001b[0m\n",
      "\u001b[1;32m~\\anaconda3\\lib\\importlib\\_bootstrap.py\u001b[0m in \u001b[0;36m_load_unlocked\u001b[1;34m(spec)\u001b[0m\n",
      "\u001b[1;32m~\\anaconda3\\lib\\importlib\\_bootstrap_external.py\u001b[0m in \u001b[0;36mexec_module\u001b[1;34m(self, module)\u001b[0m\n",
      "\u001b[1;32m~\\anaconda3\\lib\\importlib\\_bootstrap_external.py\u001b[0m in \u001b[0;36mget_code\u001b[1;34m(self, fullname)\u001b[0m\n",
      "\u001b[1;32m~\\anaconda3\\lib\\importlib\\_bootstrap_external.py\u001b[0m in \u001b[0;36mget_data\u001b[1;34m(self, path)\u001b[0m\n",
      "\u001b[1;31mKeyboardInterrupt\u001b[0m: "
     ]
    }
   ],
   "source": [
    "import pandas as pd\n",
    "import numpy as np\n",
    "import matplotlib.pyplot as plt\n",
    "from pandas.plotting import register_matplotlib_converters\n",
    "register_matplotlib_converters()\n",
    "import seaborn as sns\n",
    "# sns.set()\n",
    "# sns.set_style(\"white\")\n",
    "# sns.set_palette(\"GnBu_d\")\n",
    "%matplotlib inline\n",
    "\n",
    "import folium\n",
    "from folium import plugins\n",
    "from folium.plugins import HeatMap\n",
    "from datetime import datetime #for working with times objects\n",
    "from datetime import timedelta #for working with times objects\n",
    "import math\n",
    "import random\n",
    "from pathlib import Path\n",
    "\n",
    "import geopy\n",
    "from geopy.geocoders import GoogleV3\n",
    "from geopy.distance import geodesic"
   ]
  },
  {
   "cell_type": "code",
   "execution_count": null,
   "id": "8e904062-d364-41ff-879f-0659ce505447",
   "metadata": {},
   "outputs": [],
   "source": [
    "df_cluster = pd.read_csv(\"../boston_2016_prep_cluster.csv\")\n",
    "# df_cluster = df"
   ]
  },
  {
   "cell_type": "code",
   "execution_count": null,
   "id": "50230f78-822b-4328-951b-45e76f2d609b",
   "metadata": {},
   "outputs": [],
   "source": [
    "len(df_cluster)"
   ]
  },
  {
   "cell_type": "code",
   "execution_count": null,
   "id": "a9cf7753-d666-4bcd-8e24-97fce24ad0b3",
   "metadata": {},
   "outputs": [],
   "source": [
    "df_cluster = df_cluster.drop(df_cluster[df_cluster.index % 2 == 0].index)\n",
    "df_cluster = df_cluster.reset_index()\n",
    "len(df_cluster)"
   ]
  },
  {
   "cell_type": "code",
   "execution_count": null,
   "id": "c3fae5fe-1ce3-4efb-81ea-079e12f3a370",
   "metadata": {},
   "outputs": [],
   "source": [
    "df_cluster = df_cluster.drop(df_cluster[df_cluster.index % 2 == 0].index)\n",
    "df_cluster = df_cluster.reset_index()\n",
    "len(df_cluster)"
   ]
  },
  {
   "cell_type": "code",
   "execution_count": null,
   "id": "caca1e11-dd9e-486b-a8ee-e5ece7b1896a",
   "metadata": {},
   "outputs": [],
   "source": [
    "df_cluster.drop(['level_0'], axis=1, inplace=True)\n",
    "df_cluster = df_cluster.drop(df_cluster[df_cluster.index % 2 == 0].index)\n",
    "df_cluster = df_cluster.reset_index()\n",
    "len(df_cluster)"
   ]
  },
  {
   "cell_type": "code",
   "execution_count": null,
   "id": "7d323ae1-d319-4a2f-91db-c9ec4d69d38f",
   "metadata": {},
   "outputs": [],
   "source": [
    "df_cluster.drop(['level_0'], axis=1, inplace=True)\n",
    "df_cluster = df_cluster.drop(df_cluster[df_cluster.index % 2 == 0].index)\n",
    "df_cluster = df_cluster.reset_index()\n",
    "len(df_cluster)"
   ]
  },
  {
   "cell_type": "code",
   "execution_count": null,
   "id": "ecdb0bb9-dee9-44fb-8cb3-2868b8dc205a",
   "metadata": {},
   "outputs": [],
   "source": [
    "df_cluster.drop(['level_0'], axis=1, inplace=True)\n",
    "df_cluster = df_cluster.drop(df_cluster[df_cluster.index % 2 == 0].index)\n",
    "df_cluster = df_cluster.reset_index()\n",
    "len(df_cluster)"
   ]
  },
  {
   "cell_type": "code",
   "execution_count": null,
   "id": "8cb0bf73-ca35-4cc2-9a1c-d534544b6f83",
   "metadata": {},
   "outputs": [],
   "source": [
    "df_cluster.drop(['level_0'], axis=1, inplace=True)\n",
    "df_cluster = df_cluster.drop(df_cluster[df_cluster.index % 2 == 0].index)\n",
    "df_cluster = df_cluster.reset_index()\n",
    "len(df_cluster)"
   ]
  },
  {
   "cell_type": "code",
   "execution_count": null,
   "id": "f7e6ef8e-2557-4756-88ee-01da78625300",
   "metadata": {},
   "outputs": [],
   "source": [
    "df_cluster.drop(['level_0'], axis=1, inplace=True)\n",
    "df_cluster = df_cluster.drop(df_cluster[df_cluster.index % 2 == 0].index)\n",
    "df_cluster = df_cluster.reset_index()\n",
    "len(df_cluster)"
   ]
  },
  {
   "cell_type": "code",
   "execution_count": null,
   "id": "064c559a-5771-4ec1-810a-2929efbf278e",
   "metadata": {},
   "outputs": [],
   "source": [
    "df_cluster.head(1)"
   ]
  },
  {
   "cell_type": "code",
   "execution_count": null,
   "id": "5fff1f89-502f-44b3-b759-9caf2e7b1fa7",
   "metadata": {},
   "outputs": [],
   "source": [
    "df_cluster.drop(['index','level_0','Unnamed: 0','start_time','end_time','start_station_id','end_station_id','start_station_name','end_station_name','bike_id','start_coordinates','end_coordinates','weekday_end'], axis=1, inplace=True)"
   ]
  },
  {
   "cell_type": "code",
   "execution_count": null,
   "id": "476e94e4-b161-4b3c-b9df-dd8a78df0c3f",
   "metadata": {},
   "outputs": [],
   "source": [
    "df_customer = df_cluster.drop(df_cluster[df_cluster['user_type'] == \"Subscriber\"].index)\n",
    "df_subscriber = df_cluster.drop(df_cluster[df_cluster['user_type'] == \"Customer\"].index)"
   ]
  },
  {
   "cell_type": "code",
   "execution_count": null,
   "id": "e276f81b-2c5d-49b8-975a-1f02a927ad1d",
   "metadata": {},
   "outputs": [],
   "source": [
    "# df_cluster['user_type'] = df_cluster['user_type'].replace(['Customer','Subscriber'],[0,1])\n",
    "# user_type:\n",
    "# 0 = Customer\n",
    "# 1 = Subscriber"
   ]
  },
  {
   "cell_type": "code",
   "execution_count": null,
   "id": "f90a1c4b-a992-4010-ad03-14316441a8ae",
   "metadata": {},
   "outputs": [],
   "source": [
    "# df_cluster['weekday_start'] = df_cluster['weekday_start'].replace([0,1,2,3,4,5,6],[0,0,0,0,0,1,1])\n",
    "# df_cluster['weekday_end'] = df_cluster['weekday_end'].replace([0,1,2,3,4,5,6],[0,0,0,0,0,1,1])\n",
    "# 0 -> workday\n",
    "# 1 -> weekend "
   ]
  },
  {
   "cell_type": "code",
   "execution_count": null,
   "id": "8db7c6fb-50f3-4403-833c-075362e72fcf",
   "metadata": {},
   "outputs": [],
   "source": [
    "# df_cluster.drop(['duration_sec'], axis=1, inplace=True)\n",
    "# df_cluster = df_cluster.drop(df_cluster[df_cluster['duration_sec'] > 7200].index)\n",
    "# df_cluster.drop(['speed_kmh'], axis=1, inplace=True)\n",
    "# df_cluster.drop('start_hour', axis=1, inplace=True)\n",
    "# df_cluster.drop(\"user_type\", axis=1, inplace=True)\n",
    "# df_cluster.drop('weekday_start', axis=1, inplace=True) "
   ]
  },
  {
   "cell_type": "markdown",
   "id": "64d776d2-843b-44cd-9069-e41b5781289f",
   "metadata": {
    "tags": []
   },
   "source": [
    "## Customer Cluster"
   ]
  },
  {
   "cell_type": "code",
   "execution_count": null,
   "id": "3778737d-125a-43d2-9304-651cee058965",
   "metadata": {},
   "outputs": [],
   "source": [
    "XC = df_cluster"
   ]
  },
  {
   "cell_type": "code",
   "execution_count": null,
   "id": "131ba553-bde5-453a-83a1-52265ee31865",
   "metadata": {},
   "outputs": [],
   "source": [
    "from sklearn.preprocessing import StandardScaler\n",
    "scaler = StandardScaler()\n",
    "scaler.fit(XC)\n",
    "XC_scaled = scaler.transform(XC)\n",
    "\n",
    "# create a df out of array\n",
    "XC_scaled_df = pd.DataFrame(XC_scaled, columns=X.columns, index=X.index)\n",
    "XC_scaled_df.head(10)"
   ]
  },
  {
   "cell_type": "code",
   "execution_count": null,
   "id": "2b3d296e-9a19-4724-9c96-e06d03298efc",
   "metadata": {},
   "outputs": [],
   "source": [
    "df_C_scaled = XC_scaled_df"
   ]
  },
  {
   "cell_type": "code",
   "execution_count": null,
   "id": "47a66891-7af0-4c55-abca-044783c3a2cc",
   "metadata": {},
   "outputs": [],
   "source": [
    "from sklearn.cluster import KMeans"
   ]
  },
  {
   "cell_type": "code",
   "execution_count": null,
   "id": "3604c3f4-c985-4cc0-a59f-8e5d330f1684",
   "metadata": {},
   "outputs": [],
   "source": [
    "k_max = 50  # We have 147 datapoints, more than 50 clusters are definitely not reasonable!\n",
    "\n",
    "clusters = []\n",
    "losses = []\n",
    "\n",
    "for k in range(k_max):\n",
    "    model = KMeans(n_clusters=k+1)\n",
    "    model.fit(XC_scaled)\n",
    "    clusters.append(k+1)\n",
    "    losses.append(model.inertia_)"
   ]
  },
  {
   "cell_type": "code",
   "execution_count": null,
   "id": "c96cc5f2-6104-497d-a4e9-a042aade20be",
   "metadata": {},
   "outputs": [],
   "source": [
    "plt.plot(clusters, losses)\n",
    "plt.show()"
   ]
  },
  {
   "cell_type": "code",
   "execution_count": null,
   "id": "b5f39e7e-dd15-471b-8837-ff30dfbc05fc",
   "metadata": {},
   "outputs": [],
   "source": [
    "plt.plot(clusters, losses)\n",
    "plt.xlim([0,20])"
   ]
  },
  {
   "cell_type": "code",
   "execution_count": null,
   "id": "78116f7e-7c09-4a7e-8e7b-5559b0442498",
   "metadata": {},
   "outputs": [],
   "source": [
    "df_customer.head(10)"
   ]
  },
  {
   "cell_type": "markdown",
   "id": "bae15c97-931a-4080-a3e5-0054092e85d1",
   "metadata": {
    "tags": []
   },
   "source": [
    "## Subscriber Cluster"
   ]
  },
  {
   "cell_type": "code",
   "execution_count": null,
   "id": "bcb9fedf-9d54-4378-93b2-57e19fcf1da6",
   "metadata": {},
   "outputs": [],
   "source": [
    "XS = df_cluster"
   ]
  },
  {
   "cell_type": "code",
   "execution_count": null,
   "id": "73452f16-6066-418e-b976-23f67fe385b0",
   "metadata": {},
   "outputs": [],
   "source": [
    "from sklearn.preprocessing import StandardScaler\n",
    "scaler = StandardScaler()\n",
    "scaler.fit(XS)\n",
    "XC_scaled = scaler.transform(XS)\n",
    "\n",
    "# create a df out of array\n",
    "XS_scaled_df = pd.DataFrame(XS_scaled, columns=XS.columns, index=XS.index)\n",
    "XS_scaled_df.head(10)"
   ]
  },
  {
   "cell_type": "code",
   "execution_count": null,
   "id": "f5b850de-5463-4624-a5fe-6ee3760a41f4",
   "metadata": {},
   "outputs": [],
   "source": [
    "df_S_scaled = XS_scaled_df"
   ]
  },
  {
   "cell_type": "code",
   "execution_count": null,
   "id": "ce899332-913a-4d5c-8428-11b421b61886",
   "metadata": {},
   "outputs": [],
   "source": [
    "from sklearn.cluster import KMeans"
   ]
  },
  {
   "cell_type": "code",
   "execution_count": null,
   "id": "bda06fea-8661-4007-89d7-93c55a1c5b2d",
   "metadata": {},
   "outputs": [],
   "source": [
    "k_max = 50  # We have 147 datapoints, more than 50 clusters are definitely not reasonable!\n",
    "\n",
    "clusters = []\n",
    "losses = []\n",
    "\n",
    "for k in range(k_max):\n",
    "    model = KMeans(n_clusters=k+1)\n",
    "    model.fit(XS_scaled)\n",
    "    clusters.append(k+1)\n",
    "    losses.append(model.inertia_)"
   ]
  },
  {
   "cell_type": "code",
   "execution_count": null,
   "id": "3a7c1cf0-4eee-49c3-8dba-3ce882d737fa",
   "metadata": {},
   "outputs": [],
   "source": [
    "plt.plot(clusters, losses)\n",
    "plt.show()"
   ]
  },
  {
   "cell_type": "code",
   "execution_count": null,
   "id": "2e753ebb-71da-4861-8709-29a0b889b08f",
   "metadata": {},
   "outputs": [],
   "source": [
    "plt.plot(clusters, losses)\n",
    "plt.xlim([0,20])"
   ]
  },
  {
   "cell_type": "code",
   "execution_count": null,
   "id": "30d52293-2209-4258-a485-57a67ea27f6e",
   "metadata": {},
   "outputs": [],
   "source": [
    "df_subscriber.head(10)"
   ]
  },
  {
   "cell_type": "markdown",
   "id": "fe2befec-eac6-4af8-b607-e724e7f4b5d7",
   "metadata": {
    "tags": []
   },
   "source": [
    "## All Cluster"
   ]
  },
  {
   "cell_type": "markdown",
   "id": "d6c0fc9f-d554-4a7a-a894-82cc11fbb387",
   "metadata": {},
   "source": [
    "X -> df_cluster bei workshop"
   ]
  },
  {
   "cell_type": "code",
   "execution_count": null,
   "id": "b34fcb86-5185-444a-a381-e8b7e37af88c",
   "metadata": {},
   "outputs": [],
   "source": [
    "X = df_cluster"
   ]
  },
  {
   "cell_type": "code",
   "execution_count": null,
   "id": "27c62716-8e53-43ee-8856-316ab013cc65",
   "metadata": {},
   "outputs": [],
   "source": [
    "from sklearn.preprocessing import StandardScaler\n",
    "scaler = StandardScaler()\n",
    "scaler.fit(X)\n",
    "X_scaled = scaler.transform(X)\n",
    "\n",
    "# create a df out of array\n",
    "X_scaled_df = pd.DataFrame(X_scaled, columns=X.columns, index=X.index)\n",
    "X_scaled_df.head(10)"
   ]
  },
  {
   "cell_type": "code",
   "execution_count": null,
   "id": "490b950c-237a-415c-af62-001f5264cccb",
   "metadata": {},
   "outputs": [],
   "source": [
    "df_scaled = X_scaled_df"
   ]
  },
  {
   "cell_type": "code",
   "execution_count": null,
   "id": "17b4f03a-3f4a-4428-8670-5a6f331e3d5b",
   "metadata": {},
   "outputs": [],
   "source": [
    "from sklearn.cluster import KMeans"
   ]
  },
  {
   "cell_type": "code",
   "execution_count": null,
   "id": "0100069e-4b1e-444f-bd86-fe6029876b8c",
   "metadata": {},
   "outputs": [],
   "source": [
    "k_max = 50  # We have 147 datapoints, more than 50 clusters are definitely not reasonable!\n",
    "\n",
    "clusters = []\n",
    "losses = []\n",
    "\n",
    "for k in range(k_max):\n",
    "    model = KMeans(n_clusters=k+1)\n",
    "    model.fit(X_scaled)\n",
    "    clusters.append(k+1)\n",
    "    losses.append(model.inertia_)"
   ]
  },
  {
   "cell_type": "code",
   "execution_count": null,
   "id": "cb327847-ab44-4d76-a489-4a15dc371827",
   "metadata": {},
   "outputs": [],
   "source": [
    "plt.plot(clusters, losses)\n",
    "plt.show()"
   ]
  },
  {
   "cell_type": "code",
   "execution_count": null,
   "id": "6863b886-6487-44ca-a241-8bd095d540c5",
   "metadata": {},
   "outputs": [],
   "source": [
    "plt.plot(clusters, losses)\n",
    "plt.xlim([0,20])"
   ]
  },
  {
   "cell_type": "code",
   "execution_count": null,
   "id": "8d73689f-a0ec-4945-9d92-978440babb73",
   "metadata": {},
   "outputs": [],
   "source": [
    "numbers = [\"zero\", \"one\", \"two\", \"three\",\"four\",\"five\",\"six\"]"
   ]
  },
  {
   "cell_type": "code",
   "execution_count": null,
   "id": "4318da08-4698-481e-84aa-6724b3a1d741",
   "metadata": {},
   "outputs": [],
   "source": [
    "# # refit algorithm\n",
    "# two_means = KMeans(n_clusters=2)\n",
    "# two_means.fit(X_scaled)\n",
    "\n",
    "# # match records to clusters by calling predict\n",
    "# # two_means.predict(X_scaled)\n",
    "\n",
    "# df_scaled[\"clusters\"] = two_means.predict(X_scaled)\n",
    "# df_scaled[\"clusters\"] = df_scaled[\"clusters\"].apply(lambda x: numbers[x])\n",
    "# sns.pairplot(data=df_scaled, hue=\"clusters\")"
   ]
  },
  {
   "cell_type": "code",
   "execution_count": null,
   "id": "00247756-6502-425d-a90c-01233e73a2af",
   "metadata": {},
   "outputs": [],
   "source": [
    "# three_means = KMeans(n_clusters=3)\n",
    "# three_means.fit(X_scaled)\n",
    "# df_scaled[\"clusters\"] = three_means.predict(X_scaled)\n",
    "# df_scaled[\"clusters\"] = df_scaled[\"clusters\"].apply(lambda x: numbers[x])\n",
    "# sns.pairplot(data=df_scaled, hue=\"clusters\")"
   ]
  },
  {
   "cell_type": "code",
   "execution_count": null,
   "id": "8fc86e86-51df-4a9a-93a5-df173dbcf230",
   "metadata": {},
   "outputs": [],
   "source": [
    "four_means = KMeans(n_clusters=4)\n",
    "four_means.fit(X_scaled)\n",
    "df_scaled[\"clusters\"] = four_means.predict(X_scaled)\n",
    "df_scaled[\"clusters\"] = df_scaled[\"clusters\"].apply(lambda x: numbers[x])\n",
    "sns.pairplot(data=df_scaled, hue=\"clusters\")"
   ]
  },
  {
   "cell_type": "code",
   "execution_count": null,
   "id": "c046b39a-14a2-418f-9297-722dccea81b1",
   "metadata": {},
   "outputs": [],
   "source": [
    "five_means = KMeans(n_clusters=5)\n",
    "five_means.fit(X_scaled)\n",
    "df_scaled[\"clusters\"] = five_means.predict(X_scaled)\n",
    "df_scaled[\"clusters\"] = df_scaled[\"clusters\"].apply(lambda x: numbers[x])\n",
    "sns.pairplot(data=df_scaled, hue=\"clusters\")"
   ]
  },
  {
   "cell_type": "code",
   "execution_count": null,
   "id": "2733f041-5f7f-4306-97c5-10324535bc62",
   "metadata": {},
   "outputs": [],
   "source": [
    "six_means = KMeans(n_clusters=6)\n",
    "six_means.fit(X_scaled)\n",
    "df_scaled[\"clusters\"] = six_means.predict(X_scaled)\n",
    "df_scaled[\"clusters\"] = df_scaled[\"clusters\"].apply(lambda x: numbers[x])\n",
    "sns.pairplot(data=df_scaled, hue=\"clusters\")"
   ]
  },
  {
   "cell_type": "code",
   "execution_count": null,
   "id": "b7a4dc06-5c48-4224-ae23-1945bb0047b6",
   "metadata": {},
   "outputs": [],
   "source": [
    "# seven_means = KMeans(n_clusters=7)\n",
    "# seven_means.fit(X_scaled)\n",
    "# df_scaled[\"clusters\"] = seven_means.predict(X_scaled)\n",
    "# df_scaled[\"clusters\"] = df_scaled[\"clusters\"].apply(lambda x: numbers[x])\n",
    "# sns.pairplot(data=df_scaled, hue=\"clusters\")"
   ]
  },
  {
   "cell_type": "code",
   "execution_count": null,
   "id": "cd117a47-354f-43ef-beb3-7ef13fec7a52",
   "metadata": {},
   "outputs": [],
   "source": []
  }
 ],
 "metadata": {
  "kernelspec": {
   "display_name": "Python 3 (ipykernel)",
   "language": "python",
   "name": "python3"
  },
  "language_info": {
   "codemirror_mode": {
    "name": "ipython",
    "version": 3
   },
   "file_extension": ".py",
   "mimetype": "text/x-python",
   "name": "python",
   "nbconvert_exporter": "python",
   "pygments_lexer": "ipython3",
   "version": "3.9.7"
  }
 },
 "nbformat": 4,
 "nbformat_minor": 5
}
