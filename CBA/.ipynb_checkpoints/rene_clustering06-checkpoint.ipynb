{
 "cells": [
  {
   "cell_type": "code",
   "execution_count": 1,
   "id": "59edf09d-42d7-4e81-8a83-2d2f44699cbf",
   "metadata": {},
   "outputs": [],
   "source": [
    "import pandas as pd\n",
    "import numpy as np\n",
    "import matplotlib.pyplot as plt\n",
    "from pandas.plotting import register_matplotlib_converters\n",
    "register_matplotlib_converters()\n",
    "import seaborn as sns\n",
    "# sns.set()\n",
    "# sns.set_style(\"white\")\n",
    "# sns.set_palette(\"GnBu_d\")\n",
    "%matplotlib inline\n",
    "\n",
    "import folium\n",
    "from folium import plugins\n",
    "from folium.plugins import HeatMap\n",
    "from datetime import datetime #for working with times objects\n",
    "from datetime import timedelta #for working with times objects\n",
    "import math\n",
    "import random\n",
    "from pathlib import Path\n",
    "\n",
    "import geopy\n",
    "from geopy.geocoders import GoogleV3\n",
    "from geopy.distance import geodesic"
   ]
  },
  {
   "cell_type": "code",
   "execution_count": null,
   "id": "8e904062-d364-41ff-879f-0659ce505447",
   "metadata": {},
   "outputs": [],
   "source": [
    "read_once_df = pd.read_csv(\"../boston_2016_prep_cluster.csv\")"
   ]
  },
  {
   "cell_type": "code",
   "execution_count": null,
   "id": "eb337568-a680-46d3-9523-55e744c68ec4",
   "metadata": {},
   "outputs": [],
   "source": [
    "df = read_once_df\n",
    "df[\"start_time\"] = pd.to_datetime(df[\"start_time\"],format=\"%Y-%m-%d %H:%M:%S\") # FORMAT %Y-%m-%d %H:%M:%S beachte - und :\n",
    "df[\"end_time\"] = pd.to_datetime(df[\"end_time\"],format=\"%Y-%m-%d %H:%M:%S\")"
   ]
  },
  {
   "cell_type": "code",
   "execution_count": null,
   "id": "e276f81b-2c5d-49b8-975a-1f02a927ad1d",
   "metadata": {},
   "outputs": [],
   "source": [
    "# df['user_type'] = df['user_type'].replace(['Customer','Subscriber'],[0,1])\n",
    "# user_type -> \n",
    "# 0 = Customer\n",
    "# 1 = Subscriber"
   ]
  },
  {
   "cell_type": "code",
   "execution_count": null,
   "id": "50230f78-822b-4328-951b-45e76f2d609b",
   "metadata": {},
   "outputs": [],
   "source": [
    "len(df)"
   ]
  },
  {
   "cell_type": "code",
   "execution_count": null,
   "id": "064c559a-5771-4ec1-810a-2929efbf278e",
   "metadata": {},
   "outputs": [],
   "source": [
    "df.head(0)"
   ]
  },
  {
   "cell_type": "code",
   "execution_count": null,
   "id": "5fff1f89-502f-44b3-b759-9caf2e7b1fa7",
   "metadata": {},
   "outputs": [],
   "source": [
    "df.drop(['Unnamed: 0','start_time','end_time','start_station_id','end_station_id','start_station_name','end_station_name','bike_id','start_coordinates','end_coordinates'], axis=1, inplace=True)"
   ]
  },
  {
   "cell_type": "code",
   "execution_count": null,
   "id": "78116f7e-7c09-4a7e-8e7b-5559b0442498",
   "metadata": {},
   "outputs": [],
   "source": [
    "df.head(5)"
   ]
  },
  {
   "cell_type": "markdown",
   "id": "d6c0fc9f-d554-4a7a-a894-82cc11fbb387",
   "metadata": {},
   "source": [
    "X -> df bei workshop"
   ]
  },
  {
   "cell_type": "code",
   "execution_count": null,
   "id": "b34fcb86-5185-444a-a381-e8b7e37af88c",
   "metadata": {},
   "outputs": [],
   "source": [
    "X = df"
   ]
  },
  {
   "cell_type": "code",
   "execution_count": null,
   "id": "94dec9f7-8e4f-48d7-8d45-fb0656b294fe",
   "metadata": {},
   "outputs": [],
   "source": [
    "X = df.drop(\"user_type\", axis=1)\n",
    "y = df[\"user_type\"]\n",
    "X.head()"
   ]
  },
  {
   "cell_type": "code",
   "execution_count": null,
   "id": "64ae052b-f833-4074-8788-63a6f446fe37",
   "metadata": {},
   "outputs": [],
   "source": [
    "y.head()"
   ]
  },
  {
   "cell_type": "code",
   "execution_count": null,
   "id": "27c62716-8e53-43ee-8856-316ab013cc65",
   "metadata": {},
   "outputs": [],
   "source": [
    "from sklearn.preprocessing import StandardScaler\n",
    "scaler = StandardScaler()\n",
    "scaler.fit(X)\n",
    "X_scaled = scaler.transform(X)\n",
    "\n",
    "# create a df out of array\n",
    "X_scaled_df = pd.DataFrame(X_scaled, columns=X.columns, index=X.index)\n",
    "X_scaled_df.head()"
   ]
  },
  {
   "cell_type": "code",
   "execution_count": null,
   "id": "490b950c-237a-415c-af62-001f5264cccb",
   "metadata": {},
   "outputs": [],
   "source": [
    "df_scaled = X_scaled_df\n",
    "df_scaled[\"user_type\"] = df[\"user_type\"]"
   ]
  },
  {
   "cell_type": "code",
   "execution_count": null,
   "id": "f5bd5d0c-a27d-47cb-b4b9-fc144df96a6f",
   "metadata": {},
   "outputs": [],
   "source": [
    "# sns.pairplot(data=df_scaled, hue=\"user_type\")"
   ]
  },
  {
   "cell_type": "code",
   "execution_count": null,
   "id": "17b4f03a-3f4a-4428-8670-5a6f331e3d5b",
   "metadata": {},
   "outputs": [],
   "source": [
    "from sklearn.cluster import KMeans"
   ]
  },
  {
   "cell_type": "code",
   "execution_count": null,
   "id": "0100069e-4b1e-444f-bd86-fe6029876b8c",
   "metadata": {},
   "outputs": [],
   "source": [
    "# k_max = 50  # We have 147 datapoints, more than 50 clusters are definitely not reasonable!\n",
    "\n",
    "# clusters = []\n",
    "# losses = []\n",
    "\n",
    "# for k in range(k_max):\n",
    "#     model = KMeans(n_clusters=k+1)\n",
    "#     model.fit(X_scaled)\n",
    "#     clusters.append(k+1)\n",
    "#     losses.append(model.inertia_)"
   ]
  },
  {
   "cell_type": "code",
   "execution_count": null,
   "id": "cb327847-ab44-4d76-a489-4a15dc371827",
   "metadata": {},
   "outputs": [],
   "source": [
    "# plt.plot(clusters, losses)\n",
    "# plt.show()"
   ]
  },
  {
   "cell_type": "code",
   "execution_count": null,
   "id": "6863b886-6487-44ca-a241-8bd095d540c5",
   "metadata": {},
   "outputs": [],
   "source": [
    "# plt.plot(clusters, losses)\n",
    "# plt.xlim([0,20])"
   ]
  },
  {
   "cell_type": "code",
   "execution_count": null,
   "id": "4318da08-4698-481e-84aa-6724b3a1d741",
   "metadata": {},
   "outputs": [],
   "source": [
    "numbers = [\"zero\", \"one\", \"two\", \"three\",\"four\",\"five\"]"
   ]
  },
  {
   "cell_type": "code",
   "execution_count": null,
   "id": "00247756-6502-425d-a90c-01233e73a2af",
   "metadata": {},
   "outputs": [],
   "source": [
    "six_means = KMeans(n_clusters=6)\n",
    "six_means.fit(X_scaled)\n",
    "df_scaled[\"clusters\"] = six_means.predict(X_scaled)\n",
    "df_scaled[\"clusters\"] = df_scaled[\"clusters\"].apply(lambda x: numbers[x])\n",
    "sns.pairplot(data=df_scaled, hue=\"clusters\")"
   ]
  }
 ],
 "metadata": {
  "kernelspec": {
   "display_name": "Python 3 (ipykernel)",
   "language": "python",
   "name": "python3"
  },
  "language_info": {
   "codemirror_mode": {
    "name": "ipython",
    "version": 3
   },
   "file_extension": ".py",
   "mimetype": "text/x-python",
   "name": "python",
   "nbconvert_exporter": "python",
   "pygments_lexer": "ipython3",
   "version": "3.9.7"
  }
 },
 "nbformat": 4,
 "nbformat_minor": 5
}
