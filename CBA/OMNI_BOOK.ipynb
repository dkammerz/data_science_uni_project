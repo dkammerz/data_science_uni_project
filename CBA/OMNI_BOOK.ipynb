{
 "cells": [
  {
   "cell_type": "markdown",
   "id": "adabe303-ee1e-46c0-9289-9f45b9113b0f",
   "metadata": {},
   "source": [
    "# `DSML_WS_02` - Data Vipers - `Team Assignment`"
   ]
  },
  {
   "cell_type": "markdown",
   "id": "3dccb40d-9b79-4168-845c-3ef56d774420",
   "metadata": {},
   "source": [
    "Importing the needed Python Libraries"
   ]
  },
  {
   "cell_type": "code",
   "execution_count": 1,
   "id": "9c97ecb0-d2b3-4833-9ee5-aa30566cacbc",
   "metadata": {},
   "outputs": [],
   "source": [
    "import pandas as pd\n",
    "import numpy as np\n",
    "import matplotlib.pyplot as plt\n",
    "from pandas.plotting import register_matplotlib_converters\n",
    "register_matplotlib_converters()\n",
    "# import seaborn as sns\n",
    "# sns.set()\n",
    "# sns.set_style(\"white\")\n",
    "# sns.set_palette(\"GnBu_d\")\n",
    "\n",
    "# also import these \"new\" libraries \n",
    "# Note: you may have to download an add them to your environment (using e.g. 'conda install -c conda-forge folium')\n",
    "\n",
    "import folium\n",
    "from folium import plugins\n",
    "from folium.plugins import HeatMap\n",
    "from datetime import datetime #for working with times objects\n",
    "from datetime import timedelta #for working with times objects\n",
    "import math\n",
    "import random\n",
    "from pathlib import Path\n",
    "\n",
    "import geopy\n",
    "from geopy.geocoders import GoogleV3\n",
    "from geopy.distance import geodesic"
   ]
  },
  {
   "cell_type": "markdown",
   "id": "f216412b-b39f-4023-b968-82844a1ce068",
   "metadata": {
    "tags": []
   },
   "source": [
    "## Task 1 Customer Behavior Analytics:"
   ]
  },
  {
   "cell_type": "markdown",
   "id": "8e3422c0-4dfc-48be-9cc1-680c75e8a102",
   "metadata": {},
   "source": [
    "1) Data Preparation\n",
    "2) Data Cleaning\n",
    "3) More Data Preperation\n",
    "4) Visualizing Data and Distributions\n",
    "5) Clustering"
   ]
  },
  {
   "cell_type": "markdown",
   "id": "42d6dbda-259a-4f86-8e9e-a1b7d4d9312d",
   "metadata": {
    "tags": []
   },
   "source": [
    "### 1.1) Data preparation"
   ]
  },
  {
   "cell_type": "markdown",
   "id": "7c0d4f7b-293a-4f3f-9731-50fac0d890dc",
   "metadata": {},
   "source": [
    "We are working with the provided dataframe \n",
    "\n",
    "Formatting the datetime columns from string to datetime format"
   ]
  },
  {
   "cell_type": "code",
   "execution_count": 2,
   "id": "7951bcca-aa8b-4d4b-b899-28e4352e263a",
   "metadata": {},
   "outputs": [],
   "source": [
    "df = pd.read_csv(\"../boston_2016.csv\")\n",
    "df[\"start_time\"] = pd.to_datetime(df[\"start_time\"],format=\"%Y-%m-%d %H:%M:%S\") # FORMAT %Y-%m-%d %H:%M:%S beachte - und :\n",
    "df[\"end_time\"] = pd.to_datetime(df[\"end_time\"],format=\"%Y-%m-%d %H:%M:%S\")"
   ]
  },
  {
   "cell_type": "code",
   "execution_count": 3,
   "id": "417b670b-f745-4a08-b126-1e81ecbb509b",
   "metadata": {},
   "outputs": [
    {
     "data": {
      "text/html": [
       "<div>\n",
       "<style scoped>\n",
       "    .dataframe tbody tr th:only-of-type {\n",
       "        vertical-align: middle;\n",
       "    }\n",
       "\n",
       "    .dataframe tbody tr th {\n",
       "        vertical-align: top;\n",
       "    }\n",
       "\n",
       "    .dataframe thead th {\n",
       "        text-align: right;\n",
       "    }\n",
       "</style>\n",
       "<table border=\"1\" class=\"dataframe\">\n",
       "  <thead>\n",
       "    <tr style=\"text-align: right;\">\n",
       "      <th></th>\n",
       "      <th>start_time</th>\n",
       "      <th>end_time</th>\n",
       "      <th>start_station_id</th>\n",
       "      <th>end_station_id</th>\n",
       "      <th>start_station_name</th>\n",
       "      <th>end_station_name</th>\n",
       "      <th>bike_id</th>\n",
       "      <th>user_type</th>\n",
       "    </tr>\n",
       "  </thead>\n",
       "  <tbody>\n",
       "    <tr>\n",
       "      <th>0</th>\n",
       "      <td>2016-01-01 00:08:07</td>\n",
       "      <td>2016-01-01 00:40:26</td>\n",
       "      <td>36</td>\n",
       "      <td>19</td>\n",
       "      <td>Boston Public Library - 700 Boylston St.</td>\n",
       "      <td>Buswell St. at Park Dr.</td>\n",
       "      <td>1406</td>\n",
       "      <td>Subscriber</td>\n",
       "    </tr>\n",
       "  </tbody>\n",
       "</table>\n",
       "</div>"
      ],
      "text/plain": [
       "           start_time            end_time  start_station_id  end_station_id  \\\n",
       "0 2016-01-01 00:08:07 2016-01-01 00:40:26                36              19   \n",
       "\n",
       "                         start_station_name         end_station_name  bike_id  \\\n",
       "0  Boston Public Library - 700 Boylston St.  Buswell St. at Park Dr.     1406   \n",
       "\n",
       "    user_type  \n",
       "0  Subscriber  "
      ]
     },
     "execution_count": 3,
     "metadata": {},
     "output_type": "execute_result"
    }
   ],
   "source": [
    "df.head(1)"
   ]
  },
  {
   "cell_type": "code",
   "execution_count": 4,
   "id": "205b5ca7-1d61-43cc-8dab-a98cf85adb2e",
   "metadata": {},
   "outputs": [
    {
     "name": "stdout",
     "output_type": "stream",
     "text": [
      "1802\n"
     ]
    }
   ],
   "source": [
    "print(len(df[\"bike_id\"].unique()))"
   ]
  },
  {
   "cell_type": "code",
   "execution_count": 5,
   "id": "41a4ebc2-d038-4a8c-b831-8a4b7386acb6",
   "metadata": {},
   "outputs": [
    {
     "name": "stdout",
     "output_type": "stream",
     "text": [
      "276\n"
     ]
    }
   ],
   "source": [
    "print(len(df[\"start_station_name\"].unique()))"
   ]
  },
  {
   "cell_type": "code",
   "execution_count": 6,
   "id": "39efdcbf-94f6-4b3f-9c7a-fdcad396f6e9",
   "metadata": {},
   "outputs": [
    {
     "name": "stdout",
     "output_type": "stream",
     "text": [
      "189\n"
     ]
    }
   ],
   "source": [
    "print(len(df[\"start_station_id\"].unique()))"
   ]
  },
  {
   "cell_type": "markdown",
   "id": "efb207fa-e247-467f-8a19-200b7b5722fd",
   "metadata": {},
   "source": [
    "There are redundant station_names in the data frame, therfore we are working with the station ID's as they are unique"
   ]
  },
  {
   "cell_type": "markdown",
   "id": "996f1198-ab02-410f-aa52-3604eb5c4555",
   "metadata": {},
   "source": [
    "We are also taking information from the official BlueBikes Boston dataframes:\n",
    "\n",
    "https://www.bluebikes.com/system-data"
   ]
  },
  {
   "cell_type": "code",
   "execution_count": 7,
   "id": "2b7842ff-39cb-4f6b-ab70-130ccaf764fe",
   "metadata": {},
   "outputs": [],
   "source": [
    "df_bluebikes_01 = pd.read_csv(\"Bluebikes_Trip_data/201601-hubway-tripdata.csv\")\n",
    "df_bluebikes_02 = pd.read_csv(\"Bluebikes_Trip_data/201602-hubway-tripdata.csv\")\n",
    "df_bluebikes_03 = pd.read_csv(\"Bluebikes_Trip_data/201603-hubway-tripdata.csv\")\n",
    "df_bluebikes_04 = pd.read_csv(\"Bluebikes_Trip_data/201604-hubway-tripdata.csv\")\n",
    "df_bluebikes_05 = pd.read_csv(\"Bluebikes_Trip_data/201605-hubway-tripdata.csv\")\n",
    "df_bluebikes_06 = pd.read_csv(\"Bluebikes_Trip_data/201606-hubway-tripdata.csv\")\n",
    "df_bluebikes_07 = pd.read_csv(\"Bluebikes_Trip_data/201607-hubway-tripdata.csv\")\n",
    "df_bluebikes_08 = pd.read_csv(\"Bluebikes_Trip_data/201608-hubway-tripdata.csv\")\n",
    "df_bluebikes_09 = pd.read_csv(\"Bluebikes_Trip_data/201609-hubway-tripdata.csv\")\n",
    "df_bluebikes_10 = pd.read_csv(\"Bluebikes_Trip_data/201610-hubway-tripdata.csv\")\n",
    "df_bluebikes_11 = pd.read_csv(\"Bluebikes_Trip_data/201611-hubway-tripdata.csv\")\n",
    "df_bluebikes_12 = pd.read_csv(\"Bluebikes_Trip_data/201612-hubway-tripdata.csv\")"
   ]
  },
  {
   "cell_type": "code",
   "execution_count": 8,
   "id": "21310f1a-ed6b-4251-a563-30b6e3ff2da2",
   "metadata": {},
   "outputs": [],
   "source": [
    "df_bluebikes_all = pd.concat([df_bluebikes_01, \n",
    "                            df_bluebikes_02,\n",
    "                            df_bluebikes_03,\n",
    "                            df_bluebikes_03,\n",
    "                            df_bluebikes_04,\n",
    "                            df_bluebikes_05,\n",
    "                            df_bluebikes_06,\n",
    "                            df_bluebikes_07,\n",
    "                            df_bluebikes_08,\n",
    "                            df_bluebikes_09,\n",
    "                            df_bluebikes_10,\n",
    "                            df_bluebikes_11,\n",
    "                            df_bluebikes_12], axis=0)"
   ]
  },
  {
   "cell_type": "code",
   "execution_count": 9,
   "id": "60a60291-ba6b-4f35-9cb7-6d171d1aebb3",
   "metadata": {},
   "outputs": [
    {
     "name": "stdout",
     "output_type": "stream",
     "text": [
      "189\n"
     ]
    }
   ],
   "source": [
    "print(len(df_bluebikes_all[\"start station id\"].unique()))"
   ]
  },
  {
   "cell_type": "markdown",
   "id": "08dd9dab-8b60-424d-9824-17b5b10769c5",
   "metadata": {},
   "source": [
    "the amount of unique station ID's matches the one from our data frame"
   ]
  },
  {
   "cell_type": "markdown",
   "id": "b8145256-57bb-46a3-8397-917f218c6c11",
   "metadata": {
    "tags": []
   },
   "source": [
    "We are using the following data from these dataframes:\n",
    "- start station latitude\n",
    "- end station latitude\n",
    "- start station longitude\n",
    "- end station longitude\n",
    "\n",
    "from all unique stations (189 in total)"
   ]
  },
  {
   "cell_type": "code",
   "execution_count": 10,
   "id": "a445bdd7-6f58-42b3-9152-8042c9b70af3",
   "metadata": {},
   "outputs": [],
   "source": [
    "df_bluebikes_all.drop(['tripduration','starttime','stoptime','end station id', 'end station name', 'end station latitude','end station longitude', 'bikeid', 'usertype', 'birth year','gender'], axis=1, inplace=True)\n",
    "\n",
    "df_bluebikes_all.rename(columns = {'start station id':'start_station_id'}, inplace = True)\n",
    "df_bluebikes_all.rename(columns = {'start station latitude':'start_station_latitude'}, inplace = True)\n",
    "df_bluebikes_all.rename(columns = {'start station longitude':'start_station_longitude'}, inplace = True)\n",
    "df_bluebikes_all.rename(columns = {'start station name':'start_station_name'}, inplace = True)\n",
    "\n",
    "df_bluebikes_all.sort_values([\"start_station_id\"],axis=0, ascending=True,inplace=True,na_position='first')\n",
    "df_bluebikes_all = df_bluebikes_all.drop_duplicates(subset=['start_station_id'])\n",
    "\n",
    "df_stations = df_bluebikes_all"
   ]
  },
  {
   "cell_type": "markdown",
   "id": "c2e7e4a9-184e-4238-8bc0-1eff853a169a",
   "metadata": {},
   "source": [
    "We are exporting this as \"all_station_id.csv\" file for easier access."
   ]
  },
  {
   "cell_type": "code",
   "execution_count": 11,
   "id": "43660b39-b930-4061-9c49-f33b1e490d22",
   "metadata": {},
   "outputs": [],
   "source": [
    "# filepath = Path('C:/Users/rfrei/Desktop/all_station_id.csv')\n",
    "# filepath.parent.mkdir(parents=True, exist_ok=True)\n",
    "# df_stations.to_csv(filepath)"
   ]
  },
  {
   "cell_type": "code",
   "execution_count": 12,
   "id": "969178bc-0377-45b7-bf5e-8e3d5a174606",
   "metadata": {},
   "outputs": [],
   "source": [
    "df_stations = df_stations.reset_index()\n",
    "df_stations.drop(['index'], axis=1, inplace=True)\n"
   ]
  },
  {
   "cell_type": "code",
   "execution_count": 13,
   "id": "1e39ea4d-a2a8-4935-803b-98510d6e30a9",
   "metadata": {},
   "outputs": [
    {
     "data": {
      "text/html": [
       "<div>\n",
       "<style scoped>\n",
       "    .dataframe tbody tr th:only-of-type {\n",
       "        vertical-align: middle;\n",
       "    }\n",
       "\n",
       "    .dataframe tbody tr th {\n",
       "        vertical-align: top;\n",
       "    }\n",
       "\n",
       "    .dataframe thead th {\n",
       "        text-align: right;\n",
       "    }\n",
       "</style>\n",
       "<table border=\"1\" class=\"dataframe\">\n",
       "  <thead>\n",
       "    <tr style=\"text-align: right;\">\n",
       "      <th></th>\n",
       "      <th>start_station_id</th>\n",
       "      <th>start_station_name</th>\n",
       "      <th>start_station_latitude</th>\n",
       "      <th>start_station_longitude</th>\n",
       "    </tr>\n",
       "  </thead>\n",
       "  <tbody>\n",
       "    <tr>\n",
       "      <th>0</th>\n",
       "      <td>1</td>\n",
       "      <td>18 Dorrance Warehouse</td>\n",
       "      <td>42.387151</td>\n",
       "      <td>-71.075978</td>\n",
       "    </tr>\n",
       "  </tbody>\n",
       "</table>\n",
       "</div>"
      ],
      "text/plain": [
       "   start_station_id     start_station_name  start_station_latitude  \\\n",
       "0                 1  18 Dorrance Warehouse               42.387151   \n",
       "\n",
       "   start_station_longitude  \n",
       "0               -71.075978  "
      ]
     },
     "execution_count": 13,
     "metadata": {},
     "output_type": "execute_result"
    }
   ],
   "source": [
    "df_stations.head(1)"
   ]
  },
  {
   "cell_type": "markdown",
   "id": "7f8ac4ed-6b8a-40c1-9fc6-887dcd61d58c",
   "metadata": {},
   "source": [
    "Now we are mapping the lat, long of start and end station to our dataframe (warning: this process might be a bit unorthodox but it is working)."
   ]
  },
  {
   "cell_type": "code",
   "execution_count": 14,
   "id": "f65d6210-91a0-44cb-99c9-e35e60a1a39b",
   "metadata": {},
   "outputs": [],
   "source": [
    "df[\"start_lat\"] = pd.to_numeric(df[\"start_station_id\"], downcast=\"float\")\n",
    "df[\"start_long\"] = pd.to_numeric(df[\"start_station_id\"], downcast=\"float\")\n",
    "df[\"end_lat\"] = pd.to_numeric(df[\"end_station_id\"], downcast=\"float\")\n",
    "df[\"end_long\"] = pd.to_numeric(df[\"end_station_id\"], downcast=\"float\")"
   ]
  },
  {
   "cell_type": "markdown",
   "id": "3f505b14-41f8-4df5-a115-3821eafaa5ae",
   "metadata": {},
   "source": [
    "The columns above are placeholders.\n",
    "\n",
    "They are used for the  replace methods which are going to place the correct lat, long to the specific row with the matching station ID.\n",
    "\n",
    "Because we only have 189 stations we were able to prepare the matching ID's and lat, long in a rather manual fasion. But this way it is also very effecient. "
   ]
  },
  {
   "cell_type": "code",
   "execution_count": 15,
   "id": "6724d905-a3b1-4c3b-990e-f84bc8a1b06e",
   "metadata": {},
   "outputs": [],
   "source": [
    "df['start_lat'] = df['start_lat'].replace([1,3,4,5,6,7,8,9,10,11,12,13,14,15,16,17,19,20,21,22,23,24,25,26,27,29,30,31,32,33,35,36,37,38,39,40,41,42,43,44,45,46,47,48,49,50,51,52,53,54,55,56,57,58,59,60,61,63,64,65,66,67,68,69,70,71,72,73,74,75,76,77,78,79,80,81,82,84,85,87,88,89,90,91,92,93,94,95,96,97,98,99,100,102,103,104,105,106,107,108,109,110,111,112,113,114,115,116,117,118,119,120,121,122,124,125,126,128,129,130,131,133,134,135,136,137,138,139,140,141,142,143,145,146,149,150,151,152,153,158,159,160,161,162,163,167,169,170,171,173,174,175,176,177,178,179,180,183,184,185,186,189,190,192,193,194,195,196,197,199,200,201,202,203,204,205,207,208,209,210,211,212,213,214,215,216,217,218,219],[42.387151,42.340021,42.345392,42.341814,42.361174,42.35328743453294,42.353334,42.351246,42.350406,42.338629,42.335911,42.336437,42.337171,42.361667,42.34807412317439,42.365064,42.347241,42.35977,42.345959,42.352175,42.35892,42.351205,42.341332,42.341522,42.331184,42.363732,42.334073,42.348833,42.34519428944095,42.348706,42.355402,42.349673,42.357402,42.366222,42.33849279283789,42.363871,42.352261,42.352033,42.357143,42.360613,42.344706,42.343864,42.362811,42.356755,42.351146,42.350989,42.3348756,42.34872432400896,42.350851,42.354979,42.347265,42.328654,42.340799,42.355596,42.351356,42.360624982690496,42.348762,42.344023,42.3511,42.3475,42.348607,42.3581,42.36507,42.341598,42.37199165408676,42.383405,42.362613,42.373231,42.373268,42.36346469304347,42.366426,42.386844,42.379637,42.37842,42.3619622,42.352409,42.339335,42.366981,42.378338,42.366621,42.374035,42.379011,42.370677,42.366277,42.3139036,42.320494,42.375603,42.372969,42.373379,42.36919031768079,42.371848,42.385582,42.396969,42.400877,42.346563,42.380287,42.357218503176526,42.325333,42.3625,42.377945,42.36588481543564,42.376369,42.40449,42.39082,42.330716,42.402763,42.387995,42.370803,42.366095,42.397828,42.335741,42.356052,42.335693,42.345733,42.309054,42.320998,42.315692,42.320561,42.377022,42.31756858003556,42.322701,42.310579,42.350413,42.344827,42.344796,42.398365,42.326599,42.361589,42.388966,42.36356015842989,42.396105,42.369885,42.392766,42.336448,42.363796,42.344137,42.358155,42.345901,42.3601,42.3601,42.32797270205962,42.337596,42.3391085,42.309796,42.344792,42.317642,42.378965,42.303469,42.37408991426522,42.310599,42.34900494405213,42.34894857235593,42.38674802045056,42.36264779118595,42.35957320109044,42.35560121327927,42.37478628706384,42.39558845716709,42.35775309465199,42.36544486137399,42.3482032222746,42.3624278429124,42.36559770612416,42.354686,42.33289074055233,42.38614141163957,42.3720597013741,42.31787329345602,42.321678,42.31884382360106,42.33282815812448,42.316873,42.308035,42.309566,42.324069,42.30791912678712,42.35480179069945,42.35057,42.37980321246644,42.38337841883669,42.36489045541549,42.3688385713652,42.369562869377,42.37536686015489,42.37078454600501,42.38244736415864,42.38673178529929,42.351586001198456,42.37430131617823])"
   ]
  },
  {
   "cell_type": "code",
   "execution_count": 16,
   "id": "b54f17a4-7e81-4320-91cf-b5c2559bfaf9",
   "metadata": {},
   "outputs": [],
   "source": [
    "df['start_long'] = df['start_long'].replace([1,3,4,5,6,7,8,9,10,11,12,13,14,15,16,17,19,20,21,22,23,24,25,26,27,29,30,31,32,33,35,36,37,38,39,40,41,42,43,44,45,46,47,48,49,50,51,52,53,54,55,56,57,58,59,60,61,63,64,65,66,67,68,69,70,71,72,73,74,75,76,77,78,79,80,81,82,84,85,87,88,89,90,91,92,93,94,95,96,97,98,99,100,102,103,104,105,106,107,108,109,110,111,112,113,114,115,116,117,118,119,120,121,122,124,125,126,128,129,130,131,133,134,135,136,137,138,139,140,141,142,143,145,146,149,150,151,152,153,158,159,160,161,162,163,167,169,170,171,173,174,175,176,177,178,179,180,183,184,185,186,189,190,192,193,194,195,196,197,199,200,201,202,203,204,205,207,208,209,210,211,212,213,214,215,216,217,218,219],[-71.075978,-71.100812,-71.069616,-71.090179,-71.065142,-71.04438900947571,-71.137313,-71.115639,-71.108279,-71.1065,-71.088496,-71.073089,-71.102797,-71.13802,-71.07657015323639,-71.119233,-71.105301,-71.051601,-71.082578,-71.055547,-71.057629,-71.043983,-71.076847,-71.068922,-71.095171,-71.124565,-71.105221,-71.041747,-71.1016970872879,-71.097009,-71.058087,-71.077303,-71.147782,-71.059914,-71.07401937246323,-71.050877,-71.123831,-71.070627,-71.050699,-71.057452,-71.097515,-71.085918,-71.056067,-71.055407,-71.066289,-71.073644,-71.0790969,-71.08583986759186,-71.089886,-71.063348,-71.088088,-71.084198,-71.081572,-71.07278,-71.059367,-71.0708999633789,-71.082383,-71.057054,-71.0496,-71.0441,-71.13401,-71.093198,-71.1031,-71.123338,-71.12226963043213,-71.107593,-71.084105,-71.120886,-71.118579,-71.10057324171066,-71.105495,-71.09812,-71.095319,-71.105668,-71.0920526,-71.062679,-71.13493,-71.076472,-71.048927,-71.114214,-71.101427,-71.119945,-71.076529,-71.09169,-71.0405121,-71.051122,-71.064608,-71.094445,-71.111075,-71.11714124679565,-71.060292,-71.113341,-71.123024,-71.116772,-71.128374,-71.125107,-71.1138716340065,-71.075354,-71.08822,-71.116865,-71.06454849243164,-71.114025,-71.123413,-71.10942,-71.057044,-71.126908,-71.119084,-71.104412,-71.086388,-71.130516,-71.03877,-71.069849,-71.045859,-71.100694,-71.11543,-71.110833,-71.098634,-71.06198,-71.056605,-71.06403708501603,-71.099533,-71.107341,-71.07655,-71.028664,-71.031614,-71.107818,-71.066498,-71.107437,-71.132788,-71.08216792345047,-71.139459,-71.069957,-71.129042,-71.023739,-71.129164,-71.052608,-71.052163,-71.063187,-71.0589,-71.0589,-71.11089706420898,-71.096391,-71.0514432,-71.092225,-71.044024,-71.056664,-71.068607,-71.085347,-71.06905996799469,-71.053927,-71.1604106426239,-71.15027189254761,-71.11901879310608,-71.10006093978882,-71.10129475593567,-71.10394477844238,-71.13320231437683,-71.14260613918304,-71.10393404960632,-71.08277142047882,-71.0376513004303,-71.08495473861694,-71.06424808502197,-71.053292,-71.11658334732056,-71.07828140258789,-71.07202649116516,-71.08243077993393,-71.091822,-71.06975734233856,-71.08126938343048,-71.091955,-71.081159,-71.072863,-71.083162,-71.06502056121826,-71.15025043487549,-71.166491,-71.02744817733765,-71.01612031481636,-71.0350424052376,-71.03976666949166,-71.03942692279814,-71.03135883808136,-71.04426160454749,-71.0302323102951,-71.00621223455164,-71.04569256305693,-71.03808671246952])"
   ]
  },
  {
   "cell_type": "code",
   "execution_count": 17,
   "id": "342c6e07-3e39-456b-ae2d-15504fd7a5d6",
   "metadata": {},
   "outputs": [],
   "source": [
    "df['end_lat'] = df['end_lat'].replace([1,3,4,5,6,7,8,9,10,11,12,13,14,15,16,17,19,20,21,22,23,24,25,26,27,29,30,31,32,33,35,36,37,38,39,40,41,42,43,44,45,46,47,48,49,50,51,52,53,54,55,56,57,58,59,60,61,63,64,65,66,67,68,69,70,71,72,73,74,75,76,77,78,79,80,81,82,84,85,87,88,89,90,91,92,93,94,95,96,97,98,99,100,102,103,104,105,106,107,108,109,110,111,112,113,114,115,116,117,118,119,120,121,122,124,125,126,128,129,130,131,133,134,135,136,137,138,139,140,141,142,143,145,146,149,150,151,152,153,158,159,160,161,162,163,167,169,170,171,173,174,175,176,177,178,179,180,183,184,185,186,189,190,192,193,194,195,196,197,199,200,201,202,203,204,205,207,208,209,210,211,212,213,214,215,216,217,218,219],[42.387151,42.340021,42.345392,42.341814,42.361174,42.35328743453294,42.353334,42.351246,42.350406,42.338629,42.335911,42.336437,42.337171,42.361667,42.34807412317439,42.365064,42.347241,42.35977,42.345959,42.352175,42.35892,42.351205,42.341332,42.341522,42.331184,42.363732,42.334073,42.348833,42.34519428944095,42.348706,42.355402,42.349673,42.357402,42.366222,42.33849279283789,42.363871,42.352261,42.352033,42.357143,42.360613,42.344706,42.343864,42.362811,42.356755,42.351146,42.350989,42.3348756,42.34872432400896,42.350851,42.354979,42.347265,42.328654,42.340799,42.355596,42.351356,42.360624982690496,42.348762,42.344023,42.3511,42.3475,42.348607,42.3581,42.36507,42.341598,42.37199165408676,42.383405,42.362613,42.373231,42.373268,42.36346469304347,42.366426,42.386844,42.379637,42.37842,42.3619622,42.352409,42.339335,42.366981,42.378338,42.366621,42.374035,42.379011,42.370677,42.366277,42.3139036,42.320494,42.375603,42.372969,42.373379,42.36919031768079,42.371848,42.385582,42.396969,42.400877,42.346563,42.380287,42.357218503176526,42.325333,42.3625,42.377945,42.36588481543564,42.376369,42.40449,42.39082,42.330716,42.402763,42.387995,42.370803,42.366095,42.397828,42.335741,42.356052,42.335693,42.345733,42.309054,42.320998,42.315692,42.320561,42.377022,42.31756858003556,42.322701,42.310579,42.350413,42.344827,42.344796,42.398365,42.326599,42.361589,42.388966,42.36356015842989,42.396105,42.369885,42.392766,42.336448,42.363796,42.344137,42.358155,42.345901,42.3601,42.3601,42.32797270205962,42.337596,42.3391085,42.309796,42.344792,42.317642,42.378965,42.303469,42.37408991426522,42.310599,42.34900494405213,42.34894857235593,42.38674802045056,42.36264779118595,42.35957320109044,42.35560121327927,42.37478628706384,42.39558845716709,42.35775309465199,42.36544486137399,42.3482032222746,42.3624278429124,42.36559770612416,42.354686,42.33289074055233,42.38614141163957,42.3720597013741,42.31787329345602,42.321678,42.31884382360106,42.33282815812448,42.316873,42.308035,42.309566,42.324069,42.30791912678712,42.35480179069945,42.35057,42.37980321246644,42.38337841883669,42.36489045541549,42.3688385713652,42.369562869377,42.37536686015489,42.37078454600501,42.38244736415864,42.38673178529929,42.351586001198456,42.37430131617823])"
   ]
  },
  {
   "cell_type": "code",
   "execution_count": 18,
   "id": "e1a3aa0f-55cd-4a6c-870b-b070302fb94f",
   "metadata": {},
   "outputs": [],
   "source": [
    "df['end_long'] = df['end_long'].replace([1,3,4,5,6,7,8,9,10,11,12,13,14,15,16,17,19,20,21,22,23,24,25,26,27,29,30,31,32,33,35,36,37,38,39,40,41,42,43,44,45,46,47,48,49,50,51,52,53,54,55,56,57,58,59,60,61,63,64,65,66,67,68,69,70,71,72,73,74,75,76,77,78,79,80,81,82,84,85,87,88,89,90,91,92,93,94,95,96,97,98,99,100,102,103,104,105,106,107,108,109,110,111,112,113,114,115,116,117,118,119,120,121,122,124,125,126,128,129,130,131,133,134,135,136,137,138,139,140,141,142,143,145,146,149,150,151,152,153,158,159,160,161,162,163,167,169,170,171,173,174,175,176,177,178,179,180,183,184,185,186,189,190,192,193,194,195,196,197,199,200,201,202,203,204,205,207,208,209,210,211,212,213,214,215,216,217,218,219],[-71.075978,-71.100812,-71.069616,-71.090179,-71.065142,-71.04438900947571,-71.137313,-71.115639,-71.108279,-71.1065,-71.088496,-71.073089,-71.102797,-71.13802,-71.07657015323639,-71.119233,-71.105301,-71.051601,-71.082578,-71.055547,-71.057629,-71.043983,-71.076847,-71.068922,-71.095171,-71.124565,-71.105221,-71.041747,-71.1016970872879,-71.097009,-71.058087,-71.077303,-71.147782,-71.059914,-71.07401937246323,-71.050877,-71.123831,-71.070627,-71.050699,-71.057452,-71.097515,-71.085918,-71.056067,-71.055407,-71.066289,-71.073644,-71.0790969,-71.08583986759186,-71.089886,-71.063348,-71.088088,-71.084198,-71.081572,-71.07278,-71.059367,-71.0708999633789,-71.082383,-71.057054,-71.0496,-71.0441,-71.13401,-71.093198,-71.1031,-71.123338,-71.12226963043213,-71.107593,-71.084105,-71.120886,-71.118579,-71.10057324171066,-71.105495,-71.09812,-71.095319,-71.105668,-71.0920526,-71.062679,-71.13493,-71.076472,-71.048927,-71.114214,-71.101427,-71.119945,-71.076529,-71.09169,-71.0405121,-71.051122,-71.064608,-71.094445,-71.111075,-71.11714124679565,-71.060292,-71.113341,-71.123024,-71.116772,-71.128374,-71.125107,-71.1138716340065,-71.075354,-71.08822,-71.116865,-71.06454849243164,-71.114025,-71.123413,-71.10942,-71.057044,-71.126908,-71.119084,-71.104412,-71.086388,-71.130516,-71.03877,-71.069849,-71.045859,-71.100694,-71.11543,-71.110833,-71.098634,-71.06198,-71.056605,-71.06403708501603,-71.099533,-71.107341,-71.07655,-71.028664,-71.031614,-71.107818,-71.066498,-71.107437,-71.132788,-71.08216792345047,-71.139459,-71.069957,-71.129042,-71.023739,-71.129164,-71.052608,-71.052163,-71.063187,-71.0589,-71.0589,-71.11089706420898,-71.096391,-71.0514432,-71.092225,-71.044024,-71.056664,-71.068607,-71.085347,-71.06905996799469,-71.053927,-71.1604106426239,-71.15027189254761,-71.11901879310608,-71.10006093978882,-71.10129475593567,-71.10394477844238,-71.13320231437683,-71.14260613918304,-71.10393404960632,-71.08277142047882,-71.0376513004303,-71.08495473861694,-71.06424808502197,-71.053292,-71.11658334732056,-71.07828140258789,-71.07202649116516,-71.08243077993393,-71.091822,-71.06975734233856,-71.08126938343048,-71.091955,-71.081159,-71.072863,-71.083162,-71.06502056121826,-71.15025043487549,-71.166491,-71.02744817733765,-71.01612031481636,-71.0350424052376,-71.03976666949166,-71.03942692279814,-71.03135883808136,-71.04426160454749,-71.0302323102951,-71.00621223455164,-71.04569256305693,-71.03808671246952])"
   ]
  },
  {
   "cell_type": "markdown",
   "id": "758ea60d-351c-4cad-b13f-334c916e061c",
   "metadata": {},
   "source": [
    "From the lat, long we can create new columns with the coordinates."
   ]
  },
  {
   "cell_type": "code",
   "execution_count": 19,
   "id": "be9130ad-0a2d-42e0-aba4-86a99481b0f5",
   "metadata": {},
   "outputs": [],
   "source": [
    "df[\"start_coordinates\"] = list(zip(df[\"start_lat\"],df[\"start_long\"]))"
   ]
  },
  {
   "cell_type": "code",
   "execution_count": 20,
   "id": "610d9c3b-aac7-48f7-a176-3efa0b9e1bcb",
   "metadata": {},
   "outputs": [],
   "source": [
    "df[\"end_coordinates\"] = list(zip(df[\"end_lat\"],df[\"end_long\"]))"
   ]
  },
  {
   "cell_type": "markdown",
   "id": "fa16e0a4-7109-4c7f-aec8-b31cdc6ee008",
   "metadata": {},
   "source": [
    "Now the lat, long columns are not needed anymore."
   ]
  },
  {
   "cell_type": "code",
   "execution_count": 21,
   "id": "46d0103f-5210-4a94-97d3-5711af21b27e",
   "metadata": {},
   "outputs": [],
   "source": [
    " df.drop(['start_lat','end_lat','start_long','end_long'], axis=1, inplace=True)"
   ]
  },
  {
   "cell_type": "code",
   "execution_count": 22,
   "id": "90aa71a7-9155-4fa5-963e-1abf7a6ad1db",
   "metadata": {},
   "outputs": [
    {
     "data": {
      "text/html": [
       "<div>\n",
       "<style scoped>\n",
       "    .dataframe tbody tr th:only-of-type {\n",
       "        vertical-align: middle;\n",
       "    }\n",
       "\n",
       "    .dataframe tbody tr th {\n",
       "        vertical-align: top;\n",
       "    }\n",
       "\n",
       "    .dataframe thead th {\n",
       "        text-align: right;\n",
       "    }\n",
       "</style>\n",
       "<table border=\"1\" class=\"dataframe\">\n",
       "  <thead>\n",
       "    <tr style=\"text-align: right;\">\n",
       "      <th></th>\n",
       "      <th>start_time</th>\n",
       "      <th>end_time</th>\n",
       "      <th>start_station_id</th>\n",
       "      <th>end_station_id</th>\n",
       "      <th>start_station_name</th>\n",
       "      <th>end_station_name</th>\n",
       "      <th>bike_id</th>\n",
       "      <th>user_type</th>\n",
       "      <th>start_coordinates</th>\n",
       "      <th>end_coordinates</th>\n",
       "    </tr>\n",
       "  </thead>\n",
       "  <tbody>\n",
       "    <tr>\n",
       "      <th>0</th>\n",
       "      <td>2016-01-01 00:08:07</td>\n",
       "      <td>2016-01-01 00:40:26</td>\n",
       "      <td>36</td>\n",
       "      <td>19</td>\n",
       "      <td>Boston Public Library - 700 Boylston St.</td>\n",
       "      <td>Buswell St. at Park Dr.</td>\n",
       "      <td>1406</td>\n",
       "      <td>Subscriber</td>\n",
       "      <td>(42.349673, -71.077303)</td>\n",
       "      <td>(42.347241, -71.105301)</td>\n",
       "    </tr>\n",
       "  </tbody>\n",
       "</table>\n",
       "</div>"
      ],
      "text/plain": [
       "           start_time            end_time  start_station_id  end_station_id  \\\n",
       "0 2016-01-01 00:08:07 2016-01-01 00:40:26                36              19   \n",
       "\n",
       "                         start_station_name         end_station_name  bike_id  \\\n",
       "0  Boston Public Library - 700 Boylston St.  Buswell St. at Park Dr.     1406   \n",
       "\n",
       "    user_type        start_coordinates          end_coordinates  \n",
       "0  Subscriber  (42.349673, -71.077303)  (42.347241, -71.105301)  "
      ]
     },
     "execution_count": 22,
     "metadata": {},
     "output_type": "execute_result"
    }
   ],
   "source": [
    "df.head(1)"
   ]
  },
  {
   "cell_type": "markdown",
   "id": "540701a3-cf30-4e52-833b-c0cce678dbb1",
   "metadata": {},
   "source": [
    "Now we are creating new columns for the following trip-level features:\n",
    "- distance\n",
    "- duration\n",
    "- speed\n",
    "\n",
    "we need the following methods:"
   ]
  },
  {
   "cell_type": "code",
   "execution_count": 23,
   "id": "fd0989c6-c436-452a-bc9a-ced377733e3d",
   "metadata": {},
   "outputs": [],
   "source": [
    "def calc_distances(start_point,end_point):\n",
    "    return geopy.distance.geodesic( start_point, end_point ).km\n",
    "\n",
    "def calc_durations(end_time,start_time):\n",
    "    return (end_time - start_time).total_seconds()"
   ]
  },
  {
   "cell_type": "markdown",
   "id": "701498fd-cedf-41f5-9800-cfe21810d4fb",
   "metadata": {},
   "source": [
    "The distance between start and end station is calculated using the geopy function.\n",
    "This gives us the bee-line between two stations. Trips where start and end are equal will therefore have a distance of 0km. (This takes a few minutes)"
   ]
  },
  {
   "cell_type": "code",
   "execution_count": 24,
   "id": "1205ed41-410d-419d-a7b0-4c3fe702a633",
   "metadata": {},
   "outputs": [],
   "source": [
    "df['distance_km'] = df.apply(lambda row: calc_distances(row.start_coordinates, row.end_coordinates), axis=1)"
   ]
  },
  {
   "cell_type": "markdown",
   "id": "f1bbcc72-19ec-41d8-a2c2-88ca5cd32543",
   "metadata": {},
   "source": [
    "The duration can be calculated from the earlier formatted start and end time stamps."
   ]
  },
  {
   "cell_type": "code",
   "execution_count": 25,
   "id": "ff8c8345-b82e-496f-8577-28281fa3033c",
   "metadata": {},
   "outputs": [],
   "source": [
    "df[\"duration_sec\"] = df.apply(lambda row: calc_durations(row.end_time,row.start_time), axis=1)"
   ]
  },
  {
   "cell_type": "markdown",
   "id": "40f6ca19-08f0-49de-9591-c7e7642c60d5",
   "metadata": {},
   "source": [
    "Now we can calculate the average speed of each trip:"
   ]
  },
  {
   "cell_type": "code",
   "execution_count": 26,
   "id": "a1b2f4b7-edbe-4a0d-aa7d-7b7a60b33e05",
   "metadata": {},
   "outputs": [],
   "source": [
    "df[\"speed_kmh\"] = (df[\"distance_km\"]/(df[\"duration_sec\"]/3600))"
   ]
  },
  {
   "cell_type": "code",
   "execution_count": 27,
   "id": "8c6b5120-e45d-4455-963b-e9ebc3429937",
   "metadata": {},
   "outputs": [
    {
     "data": {
      "text/html": [
       "<div>\n",
       "<style scoped>\n",
       "    .dataframe tbody tr th:only-of-type {\n",
       "        vertical-align: middle;\n",
       "    }\n",
       "\n",
       "    .dataframe tbody tr th {\n",
       "        vertical-align: top;\n",
       "    }\n",
       "\n",
       "    .dataframe thead th {\n",
       "        text-align: right;\n",
       "    }\n",
       "</style>\n",
       "<table border=\"1\" class=\"dataframe\">\n",
       "  <thead>\n",
       "    <tr style=\"text-align: right;\">\n",
       "      <th></th>\n",
       "      <th>start_time</th>\n",
       "      <th>end_time</th>\n",
       "      <th>start_station_id</th>\n",
       "      <th>end_station_id</th>\n",
       "      <th>start_station_name</th>\n",
       "      <th>end_station_name</th>\n",
       "      <th>bike_id</th>\n",
       "      <th>user_type</th>\n",
       "      <th>start_coordinates</th>\n",
       "      <th>end_coordinates</th>\n",
       "      <th>distance_km</th>\n",
       "      <th>duration_sec</th>\n",
       "      <th>speed_kmh</th>\n",
       "    </tr>\n",
       "  </thead>\n",
       "  <tbody>\n",
       "    <tr>\n",
       "      <th>0</th>\n",
       "      <td>2016-01-01 00:08:07</td>\n",
       "      <td>2016-01-01 00:40:26</td>\n",
       "      <td>36</td>\n",
       "      <td>19</td>\n",
       "      <td>Boston Public Library - 700 Boylston St.</td>\n",
       "      <td>Buswell St. at Park Dr.</td>\n",
       "      <td>1406</td>\n",
       "      <td>Subscriber</td>\n",
       "      <td>(42.349673, -71.077303)</td>\n",
       "      <td>(42.347241, -71.105301)</td>\n",
       "      <td>2.322721</td>\n",
       "      <td>1939.0</td>\n",
       "      <td>4.312426</td>\n",
       "    </tr>\n",
       "  </tbody>\n",
       "</table>\n",
       "</div>"
      ],
      "text/plain": [
       "           start_time            end_time  start_station_id  end_station_id  \\\n",
       "0 2016-01-01 00:08:07 2016-01-01 00:40:26                36              19   \n",
       "\n",
       "                         start_station_name         end_station_name  bike_id  \\\n",
       "0  Boston Public Library - 700 Boylston St.  Buswell St. at Park Dr.     1406   \n",
       "\n",
       "    user_type        start_coordinates          end_coordinates  distance_km  \\\n",
       "0  Subscriber  (42.349673, -71.077303)  (42.347241, -71.105301)     2.322721   \n",
       "\n",
       "   duration_sec  speed_kmh  \n",
       "0        1939.0   4.312426  "
      ]
     },
     "execution_count": 27,
     "metadata": {},
     "output_type": "execute_result"
    }
   ],
   "source": [
    "df.head(1)"
   ]
  },
  {
   "cell_type": "markdown",
   "id": "02ae8e73-de80-46f9-9611-35bdddf71ec2",
   "metadata": {
    "tags": []
   },
   "source": [
    "### 1.2) Data Cleaning"
   ]
  },
  {
   "cell_type": "markdown",
   "id": "20e02040-571a-4a76-b8f3-71a22469105a",
   "metadata": {},
   "source": [
    "Now we are taking a look at the data and will clean up any errors that might come from bluebikes' data"
   ]
  },
  {
   "cell_type": "markdown",
   "id": "f4c4eff9-9d7d-4010-8543-e8d45b7898ea",
   "metadata": {},
   "source": [
    "The station with name \"8D OPS 01\" and \"8D OPS 03\" must be a system error:\n",
    "\n",
    "8D OPS 01 (ID: 158) has the coordinates 45.505086,-73.566921 - which is in canada\n",
    "\n",
    "8D OPS 03 (ID: 153) has the coordinates 0,0 - which is in the atlantic ocean\n",
    "\n",
    "we are deleting trips that inlcude these stations:"
   ]
  },
  {
   "cell_type": "code",
   "execution_count": 28,
   "id": "bb68a48f-7fb8-412e-8bf1-940a189a3c2b",
   "metadata": {},
   "outputs": [
    {
     "data": {
      "text/plain": [
       "1236203"
      ]
     },
     "execution_count": 28,
     "metadata": {},
     "output_type": "execute_result"
    }
   ],
   "source": [
    "len(df)"
   ]
  },
  {
   "cell_type": "code",
   "execution_count": 29,
   "id": "72385b3d-3196-4742-9409-d7be10118cff",
   "metadata": {},
   "outputs": [
    {
     "name": "stdout",
     "output_type": "stream",
     "text": [
      "df:  1236200\n",
      "df_stations:  189\n"
     ]
    }
   ],
   "source": [
    "df = df.drop(df[df['start_station_id'] == 158].index)\n",
    "df = df.drop(df[df['start_station_id'] == 153].index)\n",
    "df = df.drop(df[df['end_station_id'] == 158].index)\n",
    "df = df.drop(df[df['end_station_id'] == 153].index)\n",
    "\n",
    "# df_stations = df_stations.drop(df_stations[df_stations['start_station_id'] == 158].index)\n",
    "# df_stations = df_stations.drop(df_stations[df_stations['start_station_id'] == 153].index)\n",
    "\n",
    "print(\"df: \",len(df))\n",
    "print(\"df_stations: \",len(df_stations))"
   ]
  },
  {
   "cell_type": "markdown",
   "id": "b3c2a28b-9635-4f80-aaf3-8d81db17a763",
   "metadata": {},
   "source": [
    "We have decided that any average speed above 30 km/h can not be achieved with a rental bike in city traffic, therefore we are deleting those:"
   ]
  },
  {
   "cell_type": "code",
   "execution_count": 30,
   "id": "897e785e-f931-4d36-bbe8-fce374fc7d2e",
   "metadata": {},
   "outputs": [
    {
     "data": {
      "text/plain": [
       "1236192"
      ]
     },
     "execution_count": 30,
     "metadata": {},
     "output_type": "execute_result"
    }
   ],
   "source": [
    "df = df.drop(df[df['speed_kmh'] > 30].index)\n",
    "len(df)"
   ]
  },
  {
   "cell_type": "markdown",
   "id": "17c22a8a-a0c5-43e2-b3a6-c5d67f170934",
   "metadata": {},
   "source": [
    "Trips with an average negative speed also don't make sense - we are deleting them:"
   ]
  },
  {
   "cell_type": "code",
   "execution_count": 31,
   "id": "9db9157e-daea-4687-a3df-a796d4f141d1",
   "metadata": {},
   "outputs": [
    {
     "data": {
      "text/plain": [
       "1236189"
      ]
     },
     "execution_count": 31,
     "metadata": {},
     "output_type": "execute_result"
    }
   ],
   "source": [
    "df = df.drop(df[df['speed_kmh'] < 0].index)\n",
    "len(df)"
   ]
  },
  {
   "cell_type": "markdown",
   "id": "c264e0bd-4a59-4952-a2cb-4ffe46d883bf",
   "metadata": {},
   "source": [
    "We are also deleting every trip that is longer than 8 hours, it is very likely that these are not real trips but rather a bike that has been forgotten to be locked."
   ]
  },
  {
   "cell_type": "code",
   "execution_count": 32,
   "id": "a95fa494-0d9f-4a4b-b71a-6278cee45163",
   "metadata": {},
   "outputs": [
    {
     "data": {
      "text/plain": [
       "1233608"
      ]
     },
     "execution_count": 32,
     "metadata": {},
     "output_type": "execute_result"
    }
   ],
   "source": [
    "df = df.drop(df[df['duration_sec'] > 28800].index)\n",
    "len(df)"
   ]
  },
  {
   "cell_type": "markdown",
   "id": "eac58e0c-9284-4eb0-ab66-c8ce8885b369",
   "metadata": {
    "tags": []
   },
   "source": [
    "### 1.3) More Data preparation"
   ]
  },
  {
   "cell_type": "markdown",
   "id": "64604338-4c61-46fa-9f34-5298b1bda4f7",
   "metadata": {},
   "source": [
    "Now we are preparing the data with visualization and clustering in mind."
   ]
  },
  {
   "cell_type": "markdown",
   "id": "de3b41a0-5c3f-4232-a65c-51bc0d2b7ad2",
   "metadata": {
    "tags": []
   },
   "source": [
    "#### df_stations"
   ]
  },
  {
   "cell_type": "markdown",
   "id": "5ac109f6-02b7-476a-bac9-4a4e73be7f5b",
   "metadata": {
    "tags": []
   },
   "source": [
    "##### Trips per Station"
   ]
  },
  {
   "cell_type": "code",
   "execution_count": 33,
   "id": "b79520a9-0dd4-4bb7-98f0-06073e9d79c3",
   "metadata": {},
   "outputs": [],
   "source": [
    "Trips_per_Station = []"
   ]
  },
  {
   "cell_type": "markdown",
   "id": "83f72976-9748-4d91-8840-14e4207d95b1",
   "metadata": {},
   "source": [
    "Since we got the length of our dataframe, we can count how many departures we are now able to use a lambda function to understand the departures at the individual stations."
   ]
  },
  {
   "cell_type": "code",
   "execution_count": 34,
   "id": "3bf1e1ce-bd73-4687-aecc-4e87be8f91f2",
   "metadata": {},
   "outputs": [],
   "source": [
    "for i in df_stations.start_station_id:\n",
    "    Trip = (df.where(lambda x: (x.start_station_id == i), axis = 0))\n",
    "    Trips_per_Station.append(len(df) - Trip['start_station_id'].isnull().sum())"
   ]
  },
  {
   "cell_type": "code",
   "execution_count": 35,
   "id": "2f465d27-ce19-4b1d-b87b-9a32d0830a4e",
   "metadata": {},
   "outputs": [
    {
     "name": "stdout",
     "output_type": "stream",
     "text": [
      "[78, 4682, 8984, 7078, 11683, 4583, 4161, 9527, 9633, 8583, 8006, 7782, 8781, 2618, 15059, 6572, 7232, 10937, 12085, 31457, 14556, 7714, 8444, 7963, 5012, 3726, 6305, 5392, 9246, 13884, 9458, 16666, 1323, 9057, 9235, 10849, 8637, 13991, 11082, 7783, 10113, 13220, 13982, 8053, 7675, 8577, 2838, 9234, 17112, 11682, 12002, 1489, 779, 14333, 7965, 15834, 12788, 3336, 9641, 2995, 5077, 35611, 24086, 6247, 8798, 5790, 10651, 11774, 23132, 11462, 14270, 2190, 5537, 6478, 21158, 10468, 2928, 9132, 5358, 10353, 13154, 7870, 12048, 14647, 1062, 1532, 5514, 11446, 10042, 9823, 11378, 3528, 10449, 2276, 3213, 6404, 12278, 512, 14403, 8596, 12788, 9476, 1707, 1370, 2449, 3230, 10212, 9703, 7147, 5525, 4015, 8807, 4849, 3602, 2449, 2651, 1052, 1044, 2479, 722, 3708, 2836, 5973, 3418, 4382, 1613, 935, 6157, 2904, 6630, 3138, 6288, 1887, 3028, 6254, 5156, 7585, 6504, 0, 0, 1739, 4677, 5041, 394, 4949, 1078, 2865, 431, 2406, 504, 1051, 1990, 3313, 11739, 15218, 17475, 2402, 404, 782, 565, 4693, 17985, 8915, 5236, 3082, 1332, 1062, 294, 244, 140, 670, 196, 112, 61, 76, 77, 185, 195, 31, 45, 82, 176, 97, 165, 45, 43, 70, 1413, 23]\n"
     ]
    }
   ],
   "source": [
    "print(Trips_per_Station)"
   ]
  },
  {
   "cell_type": "markdown",
   "id": "51b31cb2-047f-43a3-8b85-2550ff5af3e1",
   "metadata": {},
   "source": [
    "To check for completeness, we compare the length of the array with the number of unique stations."
   ]
  },
  {
   "cell_type": "code",
   "execution_count": 36,
   "id": "5d229c21-74b6-4326-8020-806235483395",
   "metadata": {},
   "outputs": [
    {
     "data": {
      "text/plain": [
       "189"
      ]
     },
     "execution_count": 36,
     "metadata": {},
     "output_type": "execute_result"
    }
   ],
   "source": [
    "len(Trips_per_Station)"
   ]
  },
  {
   "cell_type": "markdown",
   "id": "72555b7f-f743-4923-8280-91cf5bb99858",
   "metadata": {},
   "source": [
    "Since this is the case, we can enter the 189 entries directly into the dataframe of the stations."
   ]
  },
  {
   "cell_type": "code",
   "execution_count": 37,
   "id": "83ee296d-5c15-4049-a883-4cb6384b63fb",
   "metadata": {},
   "outputs": [],
   "source": [
    "df_stations['amout_of_trips_per_station'] = Trips_per_Station"
   ]
  },
  {
   "cell_type": "code",
   "execution_count": 38,
   "id": "540c249f-32ed-471d-9203-467b19dceabf",
   "metadata": {},
   "outputs": [
    {
     "data": {
      "text/plain": [
       "1233608"
      ]
     },
     "execution_count": 38,
     "metadata": {},
     "output_type": "execute_result"
    }
   ],
   "source": [
    "sum(df_stations['amout_of_trips_per_station'])"
   ]
  },
  {
   "cell_type": "markdown",
   "id": "4565112f-0679-4de8-9dbd-3d4e1a3f33bd",
   "metadata": {},
   "source": [
    "Here you can also clearly see the demand for students.\n",
    "\n",
    "The most used station is one at MIT"
   ]
  },
  {
   "cell_type": "code",
   "execution_count": 39,
   "id": "93b81c56-5372-4d23-9ba5-2f6200c5186f",
   "metadata": {},
   "outputs": [],
   "source": [
    "df_stations.sort_values(['amout_of_trips_per_station'],axis=0, ascending=False,inplace=True,na_position='first')"
   ]
  },
  {
   "cell_type": "code",
   "execution_count": 40,
   "id": "e9a8e2f4-1965-4fd6-86ab-32182908152f",
   "metadata": {},
   "outputs": [
    {
     "data": {
      "text/html": [
       "<div>\n",
       "<style scoped>\n",
       "    .dataframe tbody tr th:only-of-type {\n",
       "        vertical-align: middle;\n",
       "    }\n",
       "\n",
       "    .dataframe tbody tr th {\n",
       "        vertical-align: top;\n",
       "    }\n",
       "\n",
       "    .dataframe thead th {\n",
       "        text-align: right;\n",
       "    }\n",
       "</style>\n",
       "<table border=\"1\" class=\"dataframe\">\n",
       "  <thead>\n",
       "    <tr style=\"text-align: right;\">\n",
       "      <th></th>\n",
       "      <th>start_station_id</th>\n",
       "      <th>start_station_name</th>\n",
       "      <th>start_station_latitude</th>\n",
       "      <th>start_station_longitude</th>\n",
       "      <th>amout_of_trips_per_station</th>\n",
       "    </tr>\n",
       "  </thead>\n",
       "  <tbody>\n",
       "    <tr>\n",
       "      <th>61</th>\n",
       "      <td>67</td>\n",
       "      <td>MIT at Mass Ave / Amherst St</td>\n",
       "      <td>42.358100</td>\n",
       "      <td>-71.093198</td>\n",
       "      <td>35611</td>\n",
       "    </tr>\n",
       "    <tr>\n",
       "      <th>19</th>\n",
       "      <td>22</td>\n",
       "      <td>South Station - 700 Atlantic Ave.</td>\n",
       "      <td>42.352175</td>\n",
       "      <td>-71.055547</td>\n",
       "      <td>31457</td>\n",
       "    </tr>\n",
       "    <tr>\n",
       "      <th>62</th>\n",
       "      <td>68</td>\n",
       "      <td>Central Square at Mass Ave / Essex St</td>\n",
       "      <td>42.365070</td>\n",
       "      <td>-71.103100</td>\n",
       "      <td>24086</td>\n",
       "    </tr>\n",
       "    <tr>\n",
       "      <th>68</th>\n",
       "      <td>74</td>\n",
       "      <td>Harvard Square at Mass Ave/ Dunster</td>\n",
       "      <td>42.373268</td>\n",
       "      <td>-71.118579</td>\n",
       "      <td>23132</td>\n",
       "    </tr>\n",
       "    <tr>\n",
       "      <th>74</th>\n",
       "      <td>80</td>\n",
       "      <td>MIT Stata Center at Vassar St / Main St</td>\n",
       "      <td>42.361962</td>\n",
       "      <td>-71.092053</td>\n",
       "      <td>21158</td>\n",
       "    </tr>\n",
       "  </tbody>\n",
       "</table>\n",
       "</div>"
      ],
      "text/plain": [
       "    start_station_id                       start_station_name  \\\n",
       "61                67             MIT at Mass Ave / Amherst St   \n",
       "19                22        South Station - 700 Atlantic Ave.   \n",
       "62                68    Central Square at Mass Ave / Essex St   \n",
       "68                74      Harvard Square at Mass Ave/ Dunster   \n",
       "74                80  MIT Stata Center at Vassar St / Main St   \n",
       "\n",
       "    start_station_latitude  start_station_longitude  \\\n",
       "61               42.358100               -71.093198   \n",
       "19               42.352175               -71.055547   \n",
       "62               42.365070               -71.103100   \n",
       "68               42.373268               -71.118579   \n",
       "74               42.361962               -71.092053   \n",
       "\n",
       "    amout_of_trips_per_station  \n",
       "61                       35611  \n",
       "19                       31457  \n",
       "62                       24086  \n",
       "68                       23132  \n",
       "74                       21158  "
      ]
     },
     "execution_count": 40,
     "metadata": {},
     "output_type": "execute_result"
    }
   ],
   "source": [
    "df_stations.head(5)"
   ]
  },
  {
   "cell_type": "markdown",
   "id": "e0624f1a-d8c6-49ea-b52d-9aa139f7559f",
   "metadata": {
    "tags": []
   },
   "source": [
    "##### Dinstance from city center"
   ]
  },
  {
   "cell_type": "code",
   "execution_count": 41,
   "id": "f2994e26-c1cb-4a4d-8645-47adf8655296",
   "metadata": {},
   "outputs": [],
   "source": [
    "df_stations[\"start_coordinates\"] = list(zip(df_stations[\"start_station_latitude\"],df_stations[\"start_station_longitude\"]))"
   ]
  },
  {
   "cell_type": "code",
   "execution_count": 42,
   "id": "287e5a1d-9b09-498c-a8c4-708c7b33895f",
   "metadata": {},
   "outputs": [
    {
     "data": {
      "text/plain": [
       "tuple"
      ]
     },
     "execution_count": 42,
     "metadata": {},
     "output_type": "execute_result"
    }
   ],
   "source": [
    "center_point = (42.36041042227672,-71.05799197093351)\n",
    "type(center_point)"
   ]
  },
  {
   "cell_type": "code",
   "execution_count": 43,
   "id": "202a300d-248b-460d-839d-daf28cc2d00d",
   "metadata": {},
   "outputs": [],
   "source": [
    "def calc_distances_from_center(start_coordinates):\n",
    "    return geopy.distance.geodesic( start_coordinates,center_point).km"
   ]
  },
  {
   "cell_type": "code",
   "execution_count": 44,
   "id": "ed54c38b-c70a-42d0-9c0c-3127c90577d7",
   "metadata": {},
   "outputs": [],
   "source": [
    "df_stations['distance_center_(km)'] = df_stations.apply(lambda row: calc_distances_from_center(row.start_coordinates), axis=1)"
   ]
  },
  {
   "cell_type": "code",
   "execution_count": 45,
   "id": "aa192799-c499-4451-8af5-e088e61bfb1e",
   "metadata": {},
   "outputs": [
    {
     "data": {
      "text/html": [
       "<div>\n",
       "<style scoped>\n",
       "    .dataframe tbody tr th:only-of-type {\n",
       "        vertical-align: middle;\n",
       "    }\n",
       "\n",
       "    .dataframe tbody tr th {\n",
       "        vertical-align: top;\n",
       "    }\n",
       "\n",
       "    .dataframe thead th {\n",
       "        text-align: right;\n",
       "    }\n",
       "</style>\n",
       "<table border=\"1\" class=\"dataframe\">\n",
       "  <thead>\n",
       "    <tr style=\"text-align: right;\">\n",
       "      <th></th>\n",
       "      <th>start_station_id</th>\n",
       "      <th>start_station_name</th>\n",
       "      <th>start_station_latitude</th>\n",
       "      <th>start_station_longitude</th>\n",
       "      <th>amout_of_trips_per_station</th>\n",
       "      <th>start_coordinates</th>\n",
       "      <th>distance_center_(km)</th>\n",
       "    </tr>\n",
       "  </thead>\n",
       "  <tbody>\n",
       "    <tr>\n",
       "      <th>0</th>\n",
       "      <td>1</td>\n",
       "      <td>18 Dorrance Warehouse</td>\n",
       "      <td>42.387151</td>\n",
       "      <td>-71.075978</td>\n",
       "      <td>78</td>\n",
       "      <td>(42.387151, -71.075978)</td>\n",
       "      <td>3.319275</td>\n",
       "    </tr>\n",
       "  </tbody>\n",
       "</table>\n",
       "</div>"
      ],
      "text/plain": [
       "   start_station_id     start_station_name  start_station_latitude  \\\n",
       "0                 1  18 Dorrance Warehouse               42.387151   \n",
       "\n",
       "   start_station_longitude  amout_of_trips_per_station  \\\n",
       "0               -71.075978                          78   \n",
       "\n",
       "         start_coordinates  distance_center_(km)  \n",
       "0  (42.387151, -71.075978)              3.319275  "
      ]
     },
     "execution_count": 45,
     "metadata": {},
     "output_type": "execute_result"
    }
   ],
   "source": [
    "df_stations.sort_index(inplace=True)\n",
    "df_stations.head(1)"
   ]
  },
  {
   "cell_type": "markdown",
   "id": "a33f8904-fcca-4a31-93ab-1d9742b7e670",
   "metadata": {
    "tags": []
   },
   "source": [
    "#### df"
   ]
  },
  {
   "cell_type": "markdown",
   "id": "e2a00570-f291-43b5-b8ec-dea072b3bd83",
   "metadata": {},
   "source": [
    "For the clustering we are creating two new features: \n",
    "- start station distance from the city center\n",
    "- end station distance from the city center\n",
    "\n",
    "These are very useful for determining where a trip has started and ended.\n",
    "\n",
    "We are again using these \"manual\" replace methods as we only have to add 187 unique values: "
   ]
  },
  {
   "cell_type": "code",
   "execution_count": 46,
   "id": "6a2748e6-7d4a-4209-872c-576d42d2633d",
   "metadata": {},
   "outputs": [],
   "source": [
    "df[\"start_distance_center\"] = pd.to_numeric(df[\"start_station_id\"], downcast=\"float\")\n",
    "df['start_distance_center'] = df['start_distance_center'].replace([1,3,4,5,6,7,8,9,10,11,12,13,14,15,16,17,19,20,21,22,23,24,25,26,27,29,30,31,32,33,35,36,37,38,39,40,41,42,43,44,45,46,47,48,49,50,51,52,53,54,55,56,57,58,59,60,61,63,64,65,66,67,68,69,70,71,72,73,74,75,76,77,78,79,80,81,82,84,85,87,88,89,90,91,92,93,94,95,96,97,98,99,100,102,103,104,105,106,107,108,109,110,111,112,113,114,115,116,117,118,119,120,121,122,124,125,126,128,129,130,131,133,134,135,136,137,138,139,140,141,142,143,145,146,149,150,151,152,153,158,159,160,161,162,163,167,169,170,171,173,174,175,176,177,178,179,180,183,184,185,186,189,190,192,193,194,195,196,197,199,200,201,202,203,204,205,207,208,209,210,211,212,213,214,215,216,217,218,219],[3.319274536957586,4.1925465912009425,1.9236113959222407,3.36158328176426,0.5951027715279874,1.3718584965133345,6.582064660303654,4.8572719961183815,4.289507334305973,4.672127506031023,3.704521116556498,2.939187826624499,4.5047893609953515,6.594248754784122,2.05442487758448,5.071361349287967,4.1632693962289435,0.5312852924906886,2.584610624890342,0.9367073810973997,0.16823530294678202,1.5419749489568133,2.627668711831343,2.283235338944895,4.463751921350105,5.4966454730103536,4.8686322934192905,1.8561230946642178,3.9778788149267386,3.4675472072013167,0.5563918225967195,1.9884360834105614,7.404767049772989,0.6646853696629188,2.7697110629371102,0.7009346465441912,5.4992924676229915,1.3962653004526964,0.7019381593422324,0.04985126119504434,3.6941963361830634,2.9448723364401976,0.31024710411954176,0.45850275858499456,1.235437515131699,1.6607631112163037,3.327066457690298,2.6361272481931675,2.8341234567623865,0.7474673246460856,2.8776160031617666,4.135994177841228,2.9189569924379533,1.330515604450698,1.0121268970103436,1.063646343348046,2.390088204279554,1.8219567139232307,1.2440273507935085,1.834839703304569,6.39883838866267,2.911714632904851,3.751808234761259,5.775418757472539,5.448849685699467,4.818218679270047,2.165064082985522,5.37295327618513,5.191087345939687,3.524196824582678,3.969830669477492,4.421018814492567,3.7435700488069075,4.407255602456548,2.8112241743213238,0.9690594603544959,6.7577918281195615,1.6882543553085483,2.126786382766547,4.682530676682679,3.884782952864341,5.505452396854765,1.9058418303470508,2.8514318606477227,5.363061914723275,4.469909333674339,1.7734101302355052,3.3109855270145805,4.60379869888554,4.969119695561541,1.284539907307756,5.347986877389787,6.721373836714284,6.606000145638279,5.999358230914682,5.952773058601211,4.617206162638111,4.150764756860341,2.5009863370111476,5.225917344381738,0.8133295096597801,4.944220388952593,7.280173724221451,5.417699535449694,3.299381184722451,7.371851218788853,5.891295376949093,3.9942993787092975,2.422932572722438,7.276716781871105,3.1650761615519447,1.0902259187118508,2.921959349592853,3.8776715425698223,7.412938526915765,6.1747730372337974,5.99101970110232,4.438653167349732,1.8487548518814403,4.784870624723547,5.409646388332889,6.868777847912298,1.8897003913912853,2.9724234322318175,2.780590018695162,5.883335218421322,3.8206175910825833,4.075425886217481,6.929082161440743,2.022102353251452,7.793472541988049,1.4419030408538378,6.867309184295081,3.8795052054058665,5.875156807588726,1.8612874660996686,0.5416336293667842,1.6675759805536159,0.08236985594742767,0.08236985594742767,5.655827728382,4.053746489787602,2.426963138965921,6.290415600618327,2.081901268632164,4.751971168122593,2.238845143321019,6.714847876747223,1.77204683484134,5.543175689003397,8.532755562112904,7.708725612094792,5.815855498949218,3.4745472901506314,3.5685884445186513,3.823314939632896,6.397737207804816,7.989504488929313,3.7963545181645038,2.1165058229399905,2.155731861858681,2.2324762885417417,0.773056364637191,0.7444873610690533,5.714299238746588,3.3109013946074373,1.7352154808562676,5.136335924528769,5.126653492409666,4.717914784795355,3.614695108631244,5.587662338110994,6.123146177842336,5.779237460888748,4.538485667572326,5.859425095169567,7.6262278925067095,9.005603974832427,3.312092507480438,4.2899317716343255,1.9549543923839896,1.7693115509782562,1.8364022343498916,2.7519062763076314,1.6146767789784822,3.349642740340357,5.1707964140593194,1.4098358672329185,2.2515126294199335])"
   ]
  },
  {
   "cell_type": "code",
   "execution_count": 47,
   "id": "2b5d067a-5b92-42f1-8b78-0243f4ba4542",
   "metadata": {},
   "outputs": [],
   "source": [
    "df[\"end_distance_center\"] = pd.to_numeric(df[\"end_station_id\"], downcast=\"float\")\n",
    "df['end_distance_center'] = df['end_distance_center'].replace([1,3,4,5,6,7,8,9,10,11,12,13,14,15,16,17,19,20,21,22,23,24,25,26,27,29,30,31,32,33,35,36,37,38,39,40,41,42,43,44,45,46,47,48,49,50,51,52,53,54,55,56,57,58,59,60,61,63,64,65,66,67,68,69,70,71,72,73,74,75,76,77,78,79,80,81,82,84,85,87,88,89,90,91,92,93,94,95,96,97,98,99,100,102,103,104,105,106,107,108,109,110,111,112,113,114,115,116,117,118,119,120,121,122,124,125,126,128,129,130,131,133,134,135,136,137,138,139,140,141,142,143,145,146,149,150,151,152,153,158,159,160,161,162,163,167,169,170,171,173,174,175,176,177,178,179,180,183,184,185,186,189,190,192,193,194,195,196,197,199,200,201,202,203,204,205,207,208,209,210,211,212,213,214,215,216,217,218,219],[3.319274536957586,4.1925465912009425,1.9236113959222407,3.36158328176426,0.5951027715279874,1.3718584965133345,6.582064660303654,4.8572719961183815,4.289507334305973,4.672127506031023,3.704521116556498,2.939187826624499,4.5047893609953515,6.594248754784122,2.05442487758448,5.071361349287967,4.1632693962289435,0.5312852924906886,2.584610624890342,0.9367073810973997,0.16823530294678202,1.5419749489568133,2.627668711831343,2.283235338944895,4.463751921350105,5.4966454730103536,4.8686322934192905,1.8561230946642178,3.9778788149267386,3.4675472072013167,0.5563918225967195,1.9884360834105614,7.404767049772989,0.6646853696629188,2.7697110629371102,0.7009346465441912,5.4992924676229915,1.3962653004526964,0.7019381593422324,0.04985126119504434,3.6941963361830634,2.9448723364401976,0.31024710411954176,0.45850275858499456,1.235437515131699,1.6607631112163037,3.327066457690298,2.6361272481931675,2.8341234567623865,0.7474673246460856,2.8776160031617666,4.135994177841228,2.9189569924379533,1.330515604450698,1.0121268970103436,1.063646343348046,2.390088204279554,1.8219567139232307,1.2440273507935085,1.834839703304569,6.39883838866267,2.911714632904851,3.751808234761259,5.775418757472539,5.448849685699467,4.818218679270047,2.165064082985522,5.37295327618513,5.191087345939687,3.524196824582678,3.969830669477492,4.421018814492567,3.7435700488069075,4.407255602456548,2.8112241743213238,0.9690594603544959,6.7577918281195615,1.6882543553085483,2.126786382766547,4.682530676682679,3.884782952864341,5.505452396854765,1.9058418303470508,2.8514318606477227,5.363061914723275,4.469909333674339,1.7734101302355052,3.3109855270145805,4.60379869888554,4.969119695561541,1.284539907307756,5.347986877389787,6.721373836714284,6.606000145638279,5.999358230914682,5.952773058601211,4.617206162638111,4.150764756860341,2.5009863370111476,5.225917344381738,0.8133295096597801,4.944220388952593,7.280173724221451,5.417699535449694,3.299381184722451,7.371851218788853,5.891295376949093,3.9942993787092975,2.422932572722438,7.276716781871105,3.1650761615519447,1.0902259187118508,2.921959349592853,3.8776715425698223,7.412938526915765,6.1747730372337974,5.99101970110232,4.438653167349732,1.8487548518814403,4.784870624723547,5.409646388332889,6.868777847912298,1.8897003913912853,2.9724234322318175,2.780590018695162,5.883335218421322,3.8206175910825833,4.075425886217481,6.929082161440743,2.022102353251452,7.793472541988049,1.4419030408538378,6.867309184295081,3.8795052054058665,5.875156807588726,1.8612874660996686,0.5416336293667842,1.6675759805536159,0.08236985594742767,0.08236985594742767,5.655827728382,4.053746489787602,2.426963138965921,6.290415600618327,2.081901268632164,4.751971168122593,2.238845143321019,6.714847876747223,1.77204683484134,5.543175689003397,8.532755562112904,7.708725612094792,5.815855498949218,3.4745472901506314,3.5685884445186513,3.823314939632896,6.397737207804816,7.989504488929313,3.7963545181645038,2.1165058229399905,2.155731861858681,2.2324762885417417,0.773056364637191,0.7444873610690533,5.714299238746588,3.3109013946074373,1.7352154808562676,5.136335924528769,5.126653492409666,4.717914784795355,3.614695108631244,5.587662338110994,6.123146177842336,5.779237460888748,4.538485667572326,5.859425095169567,7.6262278925067095,9.005603974832427,3.312092507480438,4.2899317716343255,1.9549543923839896,1.7693115509782562,1.8364022343498916,2.7519062763076314,1.6146767789784822,3.349642740340357,5.1707964140593194,1.4098358672329185,2.2515126294199335])"
   ]
  },
  {
   "cell_type": "code",
   "execution_count": 48,
   "id": "286d10fb-469c-438c-bde3-05c2f7a1483d",
   "metadata": {},
   "outputs": [],
   "source": [
    "def get_hour (ts):\n",
    "    return ts.hour"
   ]
  },
  {
   "cell_type": "code",
   "execution_count": 49,
   "id": "c97cbcf7-a3a0-4f26-be28-a9e921db2fd3",
   "metadata": {},
   "outputs": [],
   "source": [
    "df['start_hour'] = df.apply(lambda row: get_hour(row.start_time), axis=1)"
   ]
  },
  {
   "cell_type": "code",
   "execution_count": 50,
   "id": "1cff35ea-4c59-4de2-836b-4f27f9ace1ca",
   "metadata": {},
   "outputs": [],
   "source": [
    "# filepath = Path('C:/Users/rfrei/Desktop/boston_2016_prep_cluster.csv')\n",
    "# filepath.parent.mkdir(parents=True, exist_ok=True)\n",
    "# df.to_csv(filepath)"
   ]
  },
  {
   "cell_type": "code",
   "execution_count": 51,
   "id": "43e7cd5b-ce39-4546-a796-ed0553565b15",
   "metadata": {},
   "outputs": [],
   "source": [
    "# df_cluster = df ##### PREP FOR CLUSTER READY"
   ]
  },
  {
   "cell_type": "markdown",
   "id": "ae0c5178-962b-48ad-bc5c-f3ca40a51603",
   "metadata": {
    "tags": []
   },
   "source": [
    "##### Weekdays and Weekends\n"
   ]
  },
  {
   "cell_type": "markdown",
   "id": "72ebff6d-d22c-4688-941e-9686ad60b3f8",
   "metadata": {
    "tags": []
   },
   "source": [
    "For the predicted demand, it is important to know what the demand looks like on weekdays and weekends.\n",
    "\n",
    "Therefore we are able to extract the day from the timestamp."
   ]
  },
  {
   "cell_type": "code",
   "execution_count": 52,
   "id": "5ca779c0-dd74-4140-a08f-13b434d5b1e6",
   "metadata": {},
   "outputs": [],
   "source": [
    "def calc_weekday(day):\n",
    "    return (day).weekday()"
   ]
  },
  {
   "cell_type": "code",
   "execution_count": 53,
   "id": "ee3a4340-c252-4246-9782-16423f46a27d",
   "metadata": {},
   "outputs": [],
   "source": [
    "df['weekday_start'] = df.apply(lambda row: calc_weekday(row.start_time), axis=1)"
   ]
  },
  {
   "cell_type": "code",
   "execution_count": 54,
   "id": "30320650-2c90-4b0c-a5e6-ebdd16341a60",
   "metadata": {
    "tags": []
   },
   "outputs": [],
   "source": [
    "df['weekday_end'] = df.apply(lambda row: calc_weekday(row.end_time), axis=1)"
   ]
  },
  {
   "cell_type": "code",
   "execution_count": 55,
   "id": "50cbbe19-d6df-44c3-95bc-b5e425420cb5",
   "metadata": {},
   "outputs": [
    {
     "data": {
      "text/html": [
       "<div>\n",
       "<style scoped>\n",
       "    .dataframe tbody tr th:only-of-type {\n",
       "        vertical-align: middle;\n",
       "    }\n",
       "\n",
       "    .dataframe tbody tr th {\n",
       "        vertical-align: top;\n",
       "    }\n",
       "\n",
       "    .dataframe thead th {\n",
       "        text-align: right;\n",
       "    }\n",
       "</style>\n",
       "<table border=\"1\" class=\"dataframe\">\n",
       "  <thead>\n",
       "    <tr style=\"text-align: right;\">\n",
       "      <th></th>\n",
       "      <th>start_time</th>\n",
       "      <th>end_time</th>\n",
       "      <th>start_station_id</th>\n",
       "      <th>end_station_id</th>\n",
       "      <th>start_station_name</th>\n",
       "      <th>end_station_name</th>\n",
       "      <th>bike_id</th>\n",
       "      <th>user_type</th>\n",
       "      <th>start_coordinates</th>\n",
       "      <th>end_coordinates</th>\n",
       "      <th>distance_km</th>\n",
       "      <th>duration_sec</th>\n",
       "      <th>speed_kmh</th>\n",
       "      <th>start_distance_center</th>\n",
       "      <th>end_distance_center</th>\n",
       "      <th>start_hour</th>\n",
       "      <th>weekday_start</th>\n",
       "      <th>weekday_end</th>\n",
       "    </tr>\n",
       "  </thead>\n",
       "  <tbody>\n",
       "    <tr>\n",
       "      <th>0</th>\n",
       "      <td>2016-01-01 00:08:07</td>\n",
       "      <td>2016-01-01 00:40:26</td>\n",
       "      <td>36</td>\n",
       "      <td>19</td>\n",
       "      <td>Boston Public Library - 700 Boylston St.</td>\n",
       "      <td>Buswell St. at Park Dr.</td>\n",
       "      <td>1406</td>\n",
       "      <td>Subscriber</td>\n",
       "      <td>(42.349673, -71.077303)</td>\n",
       "      <td>(42.347241, -71.105301)</td>\n",
       "      <td>2.322721</td>\n",
       "      <td>1939.0</td>\n",
       "      <td>4.312426</td>\n",
       "      <td>1.988436</td>\n",
       "      <td>4.163269</td>\n",
       "      <td>0</td>\n",
       "      <td>4</td>\n",
       "      <td>4</td>\n",
       "    </tr>\n",
       "  </tbody>\n",
       "</table>\n",
       "</div>"
      ],
      "text/plain": [
       "           start_time            end_time  start_station_id  end_station_id  \\\n",
       "0 2016-01-01 00:08:07 2016-01-01 00:40:26                36              19   \n",
       "\n",
       "                         start_station_name         end_station_name  bike_id  \\\n",
       "0  Boston Public Library - 700 Boylston St.  Buswell St. at Park Dr.     1406   \n",
       "\n",
       "    user_type        start_coordinates          end_coordinates  distance_km  \\\n",
       "0  Subscriber  (42.349673, -71.077303)  (42.347241, -71.105301)     2.322721   \n",
       "\n",
       "   duration_sec  speed_kmh  start_distance_center  end_distance_center  \\\n",
       "0        1939.0   4.312426               1.988436             4.163269   \n",
       "\n",
       "   start_hour  weekday_start  weekday_end  \n",
       "0           0              4            4  "
      ]
     },
     "execution_count": 55,
     "metadata": {},
     "output_type": "execute_result"
    }
   ],
   "source": [
    "df.head(1)"
   ]
  },
  {
   "cell_type": "markdown",
   "id": "3ec9dbcb-4ea5-42ef-871a-9f18c24398fe",
   "metadata": {},
   "source": [
    "Since Phyton can return a number correlating to the day (0 equals monday, 4 equals friday, and so on) we are replacing those numbers with day names."
   ]
  },
  {
   "cell_type": "code",
   "execution_count": 56,
   "id": "09c30a25-79de-474b-adad-56ecbdd991c3",
   "metadata": {},
   "outputs": [],
   "source": [
    "df['weekday_start'] = df['weekday_start'].replace([0,1,2,3,4,5,6],['Monday','Tuesday','Wednesday','Thursday','Friday','Saturday','Sunday'])\n",
    "df['weekday_end'] = df['weekday_end'].replace([0,1,2,3,4,5,6],['Monday','Tuesday','Wednesday','DonneThursdayrstag','Friday','Saturday','Sunday'])"
   ]
  },
  {
   "cell_type": "code",
   "execution_count": 57,
   "id": "7a5c8c6b-46ac-4b29-a669-65c58486c675",
   "metadata": {},
   "outputs": [
    {
     "data": {
      "text/html": [
       "<div>\n",
       "<style scoped>\n",
       "    .dataframe tbody tr th:only-of-type {\n",
       "        vertical-align: middle;\n",
       "    }\n",
       "\n",
       "    .dataframe tbody tr th {\n",
       "        vertical-align: top;\n",
       "    }\n",
       "\n",
       "    .dataframe thead th {\n",
       "        text-align: right;\n",
       "    }\n",
       "</style>\n",
       "<table border=\"1\" class=\"dataframe\">\n",
       "  <thead>\n",
       "    <tr style=\"text-align: right;\">\n",
       "      <th></th>\n",
       "      <th>start_time</th>\n",
       "      <th>end_time</th>\n",
       "      <th>start_station_id</th>\n",
       "      <th>end_station_id</th>\n",
       "      <th>start_station_name</th>\n",
       "      <th>end_station_name</th>\n",
       "      <th>bike_id</th>\n",
       "      <th>user_type</th>\n",
       "      <th>start_coordinates</th>\n",
       "      <th>end_coordinates</th>\n",
       "      <th>distance_km</th>\n",
       "      <th>duration_sec</th>\n",
       "      <th>speed_kmh</th>\n",
       "      <th>start_distance_center</th>\n",
       "      <th>end_distance_center</th>\n",
       "      <th>start_hour</th>\n",
       "      <th>weekday_start</th>\n",
       "      <th>weekday_end</th>\n",
       "    </tr>\n",
       "  </thead>\n",
       "  <tbody>\n",
       "    <tr>\n",
       "      <th>0</th>\n",
       "      <td>2016-01-01 00:08:07</td>\n",
       "      <td>2016-01-01 00:40:26</td>\n",
       "      <td>36</td>\n",
       "      <td>19</td>\n",
       "      <td>Boston Public Library - 700 Boylston St.</td>\n",
       "      <td>Buswell St. at Park Dr.</td>\n",
       "      <td>1406</td>\n",
       "      <td>Subscriber</td>\n",
       "      <td>(42.349673, -71.077303)</td>\n",
       "      <td>(42.347241, -71.105301)</td>\n",
       "      <td>2.322721</td>\n",
       "      <td>1939.0</td>\n",
       "      <td>4.312426</td>\n",
       "      <td>1.988436</td>\n",
       "      <td>4.163269</td>\n",
       "      <td>0</td>\n",
       "      <td>Friday</td>\n",
       "      <td>Friday</td>\n",
       "    </tr>\n",
       "  </tbody>\n",
       "</table>\n",
       "</div>"
      ],
      "text/plain": [
       "           start_time            end_time  start_station_id  end_station_id  \\\n",
       "0 2016-01-01 00:08:07 2016-01-01 00:40:26                36              19   \n",
       "\n",
       "                         start_station_name         end_station_name  bike_id  \\\n",
       "0  Boston Public Library - 700 Boylston St.  Buswell St. at Park Dr.     1406   \n",
       "\n",
       "    user_type        start_coordinates          end_coordinates  distance_km  \\\n",
       "0  Subscriber  (42.349673, -71.077303)  (42.347241, -71.105301)     2.322721   \n",
       "\n",
       "   duration_sec  speed_kmh  start_distance_center  end_distance_center  \\\n",
       "0        1939.0   4.312426               1.988436             4.163269   \n",
       "\n",
       "   start_hour weekday_start weekday_end  \n",
       "0           0        Friday      Friday  "
      ]
     },
     "execution_count": 57,
     "metadata": {},
     "output_type": "execute_result"
    }
   ],
   "source": [
    "df.head(1)"
   ]
  },
  {
   "cell_type": "markdown",
   "id": "2b74aee2-68aa-4356-921c-9eb31d106add",
   "metadata": {},
   "source": [
    "To distinguish between weekdays and weekend days, creating a new column for each day in the dataframe."
   ]
  },
  {
   "cell_type": "code",
   "execution_count": 58,
   "id": "993365e8-80a0-47c4-b1b3-64fc11289e06",
   "metadata": {},
   "outputs": [],
   "source": [
    "def getTrueWeekday(weekday_start,day):\n",
    "    return (weekday_start == day)"
   ]
  },
  {
   "cell_type": "code",
   "execution_count": 59,
   "id": "77fb24f0-ab83-4ebb-8604-207936892bd8",
   "metadata": {},
   "outputs": [],
   "source": [
    "df['true_monday'] = (df.apply(lambda x: getTrueWeekday(x.weekday_start, 'Monday'), axis = 1))\n",
    "df['true_tuesday'] = (df.apply(lambda x: getTrueWeekday(x.weekday_start, 'Tuesday'), axis = 1))\n",
    "df['true_wednesday'] = (df.apply(lambda x: getTrueWeekday(x.weekday_start, 'Wednesday'), axis = 1))\n",
    "df['true_thursday'] = (df.apply(lambda x: getTrueWeekday(x.weekday_start, 'Thursday'), axis = 1))\n",
    "df['true_friday'] = (df.apply(lambda x: getTrueWeekday(x.weekday_start, 'Friday'), axis = 1))\n",
    "df['true_saturday'] = (df.apply(lambda x: getTrueWeekday(x.weekday_start, 'Saturday'), axis = 1))\n",
    "df['true_sunday'] = (df.apply(lambda x: getTrueWeekday(x.weekday_start, 'Sunday'), axis = 1))"
   ]
  },
  {
   "cell_type": "markdown",
   "id": "cb3b4967-a25a-4049-a6d1-20ac9e774895",
   "metadata": {},
   "source": [
    "The problem with the method above is, that is return True and False booleans.\n",
    "\n",
    "So if the day is a Monday it will return True on column 'true_monday'. Therefore it will obviously return False if its a tuesday.\n",
    "\n",
    "Since we are grouping by 'start_time'.dt.hour we'll end up with 24 results for monday.\n",
    "The same goes for each other day.\n",
    "\n",
    "We separate the values and fill them into arrays."
   ]
  },
  {
   "cell_type": "code",
   "execution_count": 60,
   "id": "588c8ea1-a8f3-4bca-9b04-3d261bc0a4c3",
   "metadata": {},
   "outputs": [],
   "source": [
    "mo = df.where(lambda x: (x.true_monday == True), axis = 0).groupby([df['start_time'].dt.hour]).count()\n",
    "tu = df.where(lambda x: (x.true_tuesday == True), axis = 0).groupby([df['start_time'].dt.hour]).count()\n",
    "we = df.where(lambda x: (x.true_wednesday == True), axis = 0).groupby([df['start_time'].dt.hour]).count()\n",
    "th = df.where(lambda x: (x.true_thursday == True), axis = 0).groupby([df['start_time'].dt.hour]).count()\n",
    "fr = df.where(lambda x: (x.true_friday == True), axis = 0).groupby([df['start_time'].dt.hour]).count()\n",
    "sa = df.where(lambda x: (x.true_saturday == True), axis = 0).groupby([df['start_time'].dt.hour]).count()\n",
    "su = df.where(lambda x: (x.true_sunday == True), axis = 0).groupby([df['start_time'].dt.hour]).count()"
   ]
  },
  {
   "cell_type": "code",
   "execution_count": 61,
   "id": "680c72b0-1d6c-4cf8-8461-e49d54582656",
   "metadata": {},
   "outputs": [],
   "source": [
    "monday = []\n",
    "tuesday = []\n",
    "wednesday = []\n",
    "thursday = []\n",
    "friday = []\n",
    "saturday = []\n",
    "sunday = []\n",
    "for i in range(0, 24):\n",
    "    monday.append(mo['start_time'][i])\n",
    "    tuesday.append(tu['start_time'][i])\n",
    "    wednesday.append(we['start_time'][i])\n",
    "    thursday.append(th['start_time'][i])\n",
    "    friday.append(fr['start_time'][i])\n",
    "    saturday.append(sa['start_time'][i])\n",
    "    sunday.append(su['start_time'][i])"
   ]
  },
  {
   "cell_type": "markdown",
   "id": "7ced1524-ada0-4993-8f2f-348906f61c97",
   "metadata": {},
   "source": [
    "Then we create a new dataframe with informations we need to plot the results later on."
   ]
  },
  {
   "cell_type": "code",
   "execution_count": 62,
   "id": "e1415ed7-8f27-4b18-bab0-f52989f4ae16",
   "metadata": {},
   "outputs": [],
   "source": [
    "df_hourly_amount_per_day = {'Monday':[monday[0],monday[1],monday[2],monday[3],monday[4],monday[5],monday[6],monday[7],\n",
    "                              monday[8],monday[9],monday[10],monday[11],monday[12],monday[13],monday[14],monday[15],\n",
    "                                      monday[16],monday[17],monday[18],monday[19],\n",
    "                              monday[20],monday[21],monday[22],monday[23]],\n",
    "                            \n",
    "                            'Tuesday':[tuesday[0],tuesday[1],tuesday[2],tuesday[3],tuesday[4],tuesday[5],tuesday[6],tuesday[7],\n",
    "                              tuesday[8],tuesday[9],tuesday[10],tuesday[11],tuesday[12],tuesday[13],tuesday[14],tuesday[15],\n",
    "                                      tuesday[16],tuesday[17],tuesday[18],tuesday[19],\n",
    "                              tuesday[20],tuesday[21],tuesday[22],tuesday[23]],\n",
    "                            \n",
    "                            'Wednesday':[wednesday[0],wednesday[1],wednesday[2],wednesday[3],wednesday[4],wednesday[5],wednesday[6],wednesday[7],\n",
    "                              wednesday[8],wednesday[9],wednesday[10],wednesday[11],wednesday[12],wednesday[13],wednesday[14],wednesday[15],\n",
    "                                      wednesday[16],wednesday[17],wednesday[18],wednesday[19],\n",
    "                              wednesday[20],wednesday[21],wednesday[22],wednesday[23]],\n",
    "                            \n",
    "                            'Thursday':[thursday[0],thursday[1],thursday[2],thursday[3],thursday[4],thursday[5],thursday[6],thursday[7],\n",
    "                                thursday[8],thursday[9],thursday[10],thursday[11],thursday[12],thursday[13],thursday[14],thursday[15],\n",
    "                                      thursday[16],thursday[17],thursday[18],thursday[19],\n",
    "                              thursday[20],thursday[21],thursday[22],thursday[23]],\n",
    "                            \n",
    "                            'Friday':[friday[0],friday[1],friday[2],friday[3],friday[4],friday[5],friday[6],friday[7],\n",
    "                              friday[8],friday[9],friday[10],friday[11],friday[12],friday[13],friday[14],friday[15],\n",
    "                                      friday[16],friday[17],friday[18],friday[19],\n",
    "                              friday[20],friday[21],friday[22],friday[23]],\n",
    "                            \n",
    "                            'Saturday':[saturday[0],saturday[1],saturday[2],saturday[3],saturday[4],saturday[5],saturday[6],saturday[7],\n",
    "                              saturday[8],saturday[9],saturday[10],saturday[11],saturday[12],saturday[13],saturday[14],saturday[15],\n",
    "                                      saturday[16],saturday[17],saturday[18],saturday[19],\n",
    "                              saturday[20],saturday[21],saturday[22],saturday[23]],\n",
    "                            \n",
    "                            'Sunday':[sunday[0],sunday[1],sunday[2],sunday[3],sunday[4],sunday[5],sunday[6],sunday[7],\n",
    "                              sunday[8],sunday[9],sunday[10],sunday[11],sunday[12],sunday[13],sunday[14],sunday[15],\n",
    "                                      sunday[16],sunday[17],sunday[18],sunday[19],\n",
    "                              sunday[20],sunday[21],sunday[22],sunday[23]],\n",
    "                            \n",
    "                            'Period':[0,1,2,3,4,5,6,7,8,9,10,11,12,13,14,15,16,17,18,19,20,21,22,23]}"
   ]
  },
  {
   "cell_type": "code",
   "execution_count": 63,
   "id": "b6482553-a764-4ab4-9bc0-98fc100b2670",
   "metadata": {},
   "outputs": [],
   "source": [
    "df_hourly_amount_per_day = pd.DataFrame(data = df_hourly_amount_per_day)"
   ]
  },
  {
   "cell_type": "markdown",
   "id": "b54bdbe7-64b9-47fd-9c7d-20372edb4590",
   "metadata": {},
   "source": [
    "To get an overview of the the usage in all 12 months, we extract the amount of people per month."
   ]
  },
  {
   "cell_type": "code",
   "execution_count": 64,
   "id": "bb88f9ab-6c1a-4570-96d0-f0bc8ad16610",
   "metadata": {},
   "outputs": [],
   "source": [
    "def get_month (ts):\n",
    "    return ts.month"
   ]
  },
  {
   "cell_type": "code",
   "execution_count": 65,
   "id": "5349205c-4d70-4d7b-8ef0-657c564c9b59",
   "metadata": {},
   "outputs": [],
   "source": [
    "df['month'] = df.apply(lambda x: get_month(x.start_time), axis = 1)\n",
    "m = []\n",
    "for i in range(1, 13):\n",
    "    m.append(df.where(lambda x: (x.month == i), axis = 0).count())"
   ]
  },
  {
   "cell_type": "code",
   "execution_count": 66,
   "id": "5d59e38a-9bfb-402d-bd46-a7f93b5ffc5b",
   "metadata": {},
   "outputs": [],
   "source": [
    "df_monthly_amount = {'Amount':[m[0][0],m[1][1],m[2][2],m[3][3],m[4][4],m[5][5],m[6][6],m[7][7],\n",
    "                              m[8][8],m[9][9],m[10][10],m[11][11]],'Month':['Jan', 'Feb', 'Mar', 'Apr', 'May', 'Jun', 'Jul', 'Aug', 'Sep',\n",
    "                                                                         'Oct', 'Nov', 'Dec']}"
   ]
  },
  {
   "cell_type": "markdown",
   "id": "037e6a9d-84d3-4f3c-b1a7-053874b79aa5",
   "metadata": {},
   "source": [
    "Since we dont need this entry in our dataframe anymore we drop this column to minimize the dataframe to the essentials."
   ]
  },
  {
   "cell_type": "code",
   "execution_count": 67,
   "id": "5a07b047-eaf3-4a7c-9488-6e2394a8c9ee",
   "metadata": {},
   "outputs": [],
   "source": [
    "df.drop(['month'], axis=1, inplace=True)"
   ]
  },
  {
   "cell_type": "code",
   "execution_count": 68,
   "id": "445f8c79-8e7d-4764-a9f3-9402db8345b5",
   "metadata": {},
   "outputs": [],
   "source": [
    "df_monthly_amount = pd.DataFrame(data = df_monthly_amount)"
   ]
  },
  {
   "cell_type": "markdown",
   "id": "35ed27c5-23b5-4d83-8359-f04778d0a89d",
   "metadata": {},
   "source": [
    "We also want to visiulize the usage of bikes in correlation to the duration.\n",
    "\n",
    "First we change the unit to minutes. Therefore we add a new column."
   ]
  },
  {
   "cell_type": "code",
   "execution_count": 69,
   "id": "3014e954-cad7-46a7-873b-be0ad4e1714b",
   "metadata": {},
   "outputs": [],
   "source": [
    "df['minutes'] = df['duration_sec'] / 60"
   ]
  },
  {
   "cell_type": "markdown",
   "id": "01b2f5c4-8a06-4821-9f7a-8ec4024ef523",
   "metadata": {},
   "source": [
    "To round all of our entries in the dataframe we write a function to get the next 10 with a lambda operation."
   ]
  },
  {
   "cell_type": "code",
   "execution_count": 70,
   "id": "d1bca858-1379-41e7-8df5-f28b8791abab",
   "metadata": {},
   "outputs": [],
   "source": [
    "def roundTo10(number):\n",
    "    return round(number/10)*10"
   ]
  },
  {
   "cell_type": "code",
   "execution_count": 71,
   "id": "837b6b08-987b-4f6d-9e0f-055f4cd25852",
   "metadata": {},
   "outputs": [],
   "source": [
    "df['minutes_rounded'] = df.apply(lambda x: roundTo10(x.minutes), axis = 1)"
   ]
  },
  {
   "cell_type": "markdown",
   "id": "9a4126b5-d43d-4903-a5e1-8fabebb5144a",
   "metadata": {},
   "source": [
    "Afterards we convert all of the unique entries into an array.\n",
    "The array is later used to create a new dataframe."
   ]
  },
  {
   "cell_type": "code",
   "execution_count": 72,
   "id": "dd923489-472d-4540-9577-e9865d198e5a",
   "metadata": {},
   "outputs": [],
   "source": [
    "array = df['minutes_rounded'].unique()"
   ]
  },
  {
   "cell_type": "markdown",
   "id": "960ffb6f-bcd6-40d2-bfb3-0f909514421f",
   "metadata": {},
   "source": [
    "The second Array we are creating now is used for the the amount of people."
   ]
  },
  {
   "cell_type": "code",
   "execution_count": 73,
   "id": "391ac7f2-5371-4214-b10f-054545a8a38e",
   "metadata": {},
   "outputs": [],
   "source": [
    "array2 = []\n",
    "for i in df['minutes_rounded'].unique():\n",
    "    test = df.where(lambda x: (x.minutes_rounded == i), axis = 0).count()\n",
    "    array2.append(test[0])"
   ]
  },
  {
   "cell_type": "markdown",
   "id": "03729725-b6da-4eba-9c13-8d57340ac553",
   "metadata": {},
   "source": [
    "Since we don't need the Minutes and Minutes_rounded column anymore, we can drop it."
   ]
  },
  {
   "cell_type": "code",
   "execution_count": 74,
   "id": "e562a296-b9bf-43d1-88b1-2c751447dbde",
   "metadata": {},
   "outputs": [],
   "source": [
    "df.drop([\"minutes\", 'minutes_rounded'], axis=1, inplace=True)"
   ]
  },
  {
   "cell_type": "markdown",
   "id": "0984b6af-cc88-4f39-a65c-868e5793d92f",
   "metadata": {},
   "source": [
    "From this point on we create a new dataframe.\n",
    "\n",
    "Also we are spliting the dataframe in 2 sublets so visiulize the amount even better."
   ]
  },
  {
   "cell_type": "code",
   "execution_count": 75,
   "id": "ef35393e-786f-4d54-a856-5c4fddcc598e",
   "metadata": {},
   "outputs": [],
   "source": [
    "df_all_minutes = {'unique_minutes':[array[0],array[1],array[2],array[3],array[4],array[5],array[6],array[7],\n",
    "                              array[8],array[9],array[10],array[11],array[12],array[13],array[14],array[15],array[16],array[17],array[18],array[19],\n",
    "                              array[20],array[21],array[22],array[23],array[24],array[25],array[26],array[27],array[28],array[29],array[30],array[31],\n",
    "                              array[32],array[32],array[33],array[34],array[35],array[36],array[37],array[38],array[39],array[40],array[41],array[42],\n",
    "                              array[43],array[44],array[45],array[46], array[47], array[48]],'people':[array2[0],array2[1],array2[2],array2[3],array[4],array[5],array[6],array[7],\n",
    "                              array2[8],array2[9],array2[10],array2[11],array2[12],array2[13],array2[14],array2[15],array2[16],array2[17],array2[18],array2[19],\n",
    "                              array2[20],array2[21],array2[22],array2[23],array2[24],array2[25],array2[26],array2[27],array2[28],array2[29],array2[30],array2[31],\n",
    "                              array2[32],array2[32],array2[33],array2[34],array2[35],array2[36],array2[37],array2[38],array2[39],array2[40],array2[41],array2[42],\n",
    "                              array2[43],array2[44],array2[45],array2[46], array2[47], array2[48]]}"
   ]
  },
  {
   "cell_type": "code",
   "execution_count": 76,
   "id": "c83dff70-5fd1-4abc-a64c-d83283e5df77",
   "metadata": {},
   "outputs": [],
   "source": [
    "df_all_minutes = pd.DataFrame(data = df_all_minutes)"
   ]
  },
  {
   "cell_type": "code",
   "execution_count": 77,
   "id": "9b6b0531-e20a-4f42-9f0d-f7cd88454455",
   "metadata": {},
   "outputs": [
    {
     "data": {
      "text/html": [
       "<div>\n",
       "<style scoped>\n",
       "    .dataframe tbody tr th:only-of-type {\n",
       "        vertical-align: middle;\n",
       "    }\n",
       "\n",
       "    .dataframe tbody tr th {\n",
       "        vertical-align: top;\n",
       "    }\n",
       "\n",
       "    .dataframe thead th {\n",
       "        text-align: right;\n",
       "    }\n",
       "</style>\n",
       "<table border=\"1\" class=\"dataframe\">\n",
       "  <thead>\n",
       "    <tr style=\"text-align: right;\">\n",
       "      <th></th>\n",
       "      <th>unique_minutes</th>\n",
       "      <th>people</th>\n",
       "    </tr>\n",
       "  </thead>\n",
       "  <tbody>\n",
       "    <tr>\n",
       "      <th>0</th>\n",
       "      <td>30</td>\n",
       "      <td>81855</td>\n",
       "    </tr>\n",
       "    <tr>\n",
       "      <th>1</th>\n",
       "      <td>20</td>\n",
       "      <td>272798</td>\n",
       "    </tr>\n",
       "    <tr>\n",
       "      <th>2</th>\n",
       "      <td>10</td>\n",
       "      <td>651123</td>\n",
       "    </tr>\n",
       "    <tr>\n",
       "      <th>3</th>\n",
       "      <td>0</td>\n",
       "      <td>171647</td>\n",
       "    </tr>\n",
       "    <tr>\n",
       "      <th>4</th>\n",
       "      <td>190</td>\n",
       "      <td>190</td>\n",
       "    </tr>\n",
       "  </tbody>\n",
       "</table>\n",
       "</div>"
      ],
      "text/plain": [
       "   unique_minutes  people\n",
       "0              30   81855\n",
       "1              20  272798\n",
       "2              10  651123\n",
       "3               0  171647\n",
       "4             190     190"
      ]
     },
     "execution_count": 77,
     "metadata": {},
     "output_type": "execute_result"
    }
   ],
   "source": [
    "df_all_minutes.head(5)"
   ]
  },
  {
   "cell_type": "code",
   "execution_count": 78,
   "id": "a845175e-0c7d-4022-8dad-ff65711421b1",
   "metadata": {},
   "outputs": [],
   "source": [
    "df_big_minutes = df_all_minutes"
   ]
  },
  {
   "cell_type": "code",
   "execution_count": 83,
   "id": "131fa6fb-0f3c-403b-aa4b-69fa0f2d2e1e",
   "metadata": {},
   "outputs": [],
   "source": [
    "df_small_minutes = df_all_minutes"
   ]
  },
  {
   "cell_type": "code",
   "execution_count": 84,
   "id": "8b06403c-d742-4993-9d5f-9881dfbdab0e",
   "metadata": {},
   "outputs": [],
   "source": [
    "df_all_minutes.sort_values(['unique_minutes'],axis=0, ascending=True,inplace=True,na_position='first')"
   ]
  },
  {
   "cell_type": "code",
   "execution_count": 85,
   "id": "aa39592b-4480-4835-9133-008701bccbfd",
   "metadata": {},
   "outputs": [],
   "source": [
    "df_big_minutes = df_big_minutes.drop(df_big_minutes[df_big_minutes['unique_minutes'] > 50].index)"
   ]
  },
  {
   "cell_type": "code",
   "execution_count": 86,
   "id": "94a8eed6-2315-4342-89a8-096d35d5fc0e",
   "metadata": {},
   "outputs": [],
   "source": [
    "df_small_minutes = df_small_minutes.drop(df_small_minutes[df_small_minutes['unique_minutes'] < 60].index)"
   ]
  },
  {
   "cell_type": "code",
   "execution_count": null,
   "id": "32790e7a-17a9-4bd3-afac-c0f5fc0afb07",
   "metadata": {},
   "outputs": [],
   "source": []
  },
  {
   "cell_type": "code",
   "execution_count": null,
   "id": "46db64c0-3438-4e3b-b65d-07c6c1532d3c",
   "metadata": {},
   "outputs": [],
   "source": []
  },
  {
   "cell_type": "code",
   "execution_count": null,
   "id": "bb81a4ff-e16f-4aaf-90ff-d01ddcc6edc5",
   "metadata": {},
   "outputs": [],
   "source": []
  },
  {
   "cell_type": "code",
   "execution_count": null,
   "id": "ab460528-6ebe-4bb4-9497-9cbb30ef407e",
   "metadata": {},
   "outputs": [],
   "source": []
  },
  {
   "cell_type": "code",
   "execution_count": null,
   "id": "2184422c-38d0-47cc-9ae7-ec6da80271c1",
   "metadata": {},
   "outputs": [],
   "source": []
  },
  {
   "cell_type": "code",
   "execution_count": null,
   "id": "07863543-9771-42a7-8e04-2103a0d939ae",
   "metadata": {},
   "outputs": [],
   "source": []
  },
  {
   "cell_type": "code",
   "execution_count": null,
   "id": "20086198-c835-473b-8f5d-9da8e4b608fe",
   "metadata": {},
   "outputs": [],
   "source": []
  },
  {
   "cell_type": "code",
   "execution_count": null,
   "id": "c721b9ea-ad8b-4f2c-a80a-22759bea14d2",
   "metadata": {},
   "outputs": [],
   "source": []
  },
  {
   "cell_type": "markdown",
   "id": "ceb2dc25-df38-4963-ba2b-24d6243694d5",
   "metadata": {
    "tags": []
   },
   "source": [
    "### 1.4) Visualizing Data and Distributions"
   ]
  },
  {
   "cell_type": "markdown",
   "id": "9c6e1a90-3705-4357-b34d-d80d8786c583",
   "metadata": {},
   "source": [
    "Since we have now prepared the data in section 1.3) More Data preperation to visualize diagrams, we first show the distribution of all trips in the period from 2016.\n",
    "\n",
    "So the average is drawn, which is divided over 24 hours"
   ]
  },
  {
   "cell_type": "code",
   "execution_count": 87,
   "id": "0055c69f-155e-44b1-8901-885f3d209dce",
   "metadata": {},
   "outputs": [
    {
     "data": {
      "text/plain": [
       "<AxesSubplot:xlabel='start_time'>"
      ]
     },
     "execution_count": 87,
     "metadata": {},
     "output_type": "execute_result"
    },
    {
     "data": {
      "image/png": "[encoded data removed]",
      "text/plain": [
       "<Figure size 432x288 with 1 Axes>"
      ]
     },
     "metadata": {
      "needs_background": "light"
     },
     "output_type": "display_data"
    }
   ],
   "source": [
    "df['start_time'].groupby([df['start_time'].dt.hour]).count().plot(kind=\"bar\")#.get_legend().remove()"
   ]
  },
  {
   "cell_type": "markdown",
   "id": "ddafd282-b053-4d47-9eed-5231c451366f",
   "metadata": {},
   "source": [
    "Since we can distinguish between weekdays and weekend days, we are plotting all 7 days of the week here"
   ]
  },
  {
   "cell_type": "code",
   "execution_count": 88,
   "id": "96246112-fb96-4686-b080-89cd57b04bda",
   "metadata": {},
   "outputs": [
    {
     "data": {
      "text/plain": [
       "Text(0.5, 1.0, 'Monday')"
      ]
     },
     "execution_count": 88,
     "metadata": {},
     "output_type": "execute_result"
    },
    {
     "data": {
      "image/png": "[encoded data removed]",
      "text/plain": [
       "<Figure size 432x288 with 1 Axes>"
      ]
     },
     "metadata": {
      "needs_background": "light"
     },
     "output_type": "display_data"
    }
   ],
   "source": [
    "#Monday\n",
    "plt.bar(df_hourly_amount_per_day['Period'],df_hourly_amount_per_day['Monday'])\n",
    "plt.xlabel('Hours')\n",
    "plt.ylabel('Amount of people')\n",
    "plt.title('Monday')"
   ]
  },
  {
   "cell_type": "code",
   "execution_count": 89,
   "id": "30e2f64a-4188-4de2-aff0-1ed3723436ac",
   "metadata": {},
   "outputs": [
    {
     "data": {
      "text/plain": [
       "Text(0.5, 1.0, 'Tuesday')"
      ]
     },
     "execution_count": 89,
     "metadata": {},
     "output_type": "execute_result"
    },
    {
     "data": {
      "image/png": "[encoded data removed]",
      "text/plain": [
       "<Figure size 432x288 with 1 Axes>"
      ]
     },
     "metadata": {
      "needs_background": "light"
     },
     "output_type": "display_data"
    }
   ],
   "source": [
    "#Tuesday\n",
    "plt.bar(df_hourly_amount_per_day['Period'],df_hourly_amount_per_day['Tuesday'])\n",
    "plt.xlabel('Hours')\n",
    "plt.ylabel('Amount of people')\n",
    "plt.title('Tuesday')"
   ]
  },
  {
   "cell_type": "code",
   "execution_count": 90,
   "id": "877b1fc9-cd91-42c0-abf9-cc297cc06647",
   "metadata": {},
   "outputs": [
    {
     "data": {
      "text/plain": [
       "Text(0.5, 1.0, 'Wednesday')"
      ]
     },
     "execution_count": 90,
     "metadata": {},
     "output_type": "execute_result"
    },
    {
     "data": {
      "image/png": "[encoded data removed]",
      "text/plain": [
       "<Figure size 432x288 with 1 Axes>"
      ]
     },
     "metadata": {
      "needs_background": "light"
     },
     "output_type": "display_data"
    }
   ],
   "source": [
    "#Wednesday\n",
    "plt.bar(df_hourly_amount_per_day['Period'],df_hourly_amount_per_day['Wednesday'])\n",
    "plt.xlabel('Hours')\n",
    "plt.ylabel('Amount of people')\n",
    "plt.title('Wednesday')"
   ]
  },
  {
   "cell_type": "code",
   "execution_count": 91,
   "id": "e4dcdf05-23c0-4547-8267-a340f15fbddc",
   "metadata": {},
   "outputs": [
    {
     "data": {
      "text/plain": [
       "Text(0.5, 1.0, 'Thursday')"
      ]
     },
     "execution_count": 91,
     "metadata": {},
     "output_type": "execute_result"
    },
    {
     "data": {
      "image/png": "[encoded data removed]",
      "text/plain": [
       "<Figure size 432x288 with 1 Axes>"
      ]
     },
     "metadata": {
      "needs_background": "light"
     },
     "output_type": "display_data"
    }
   ],
   "source": [
    "#Thursday\n",
    "plt.bar(df_hourly_amount_per_day['Period'],df_hourly_amount_per_day['Thursday'])\n",
    "plt.xlabel('Hours')\n",
    "plt.ylabel('Amount of people')\n",
    "plt.title('Thursday')"
   ]
  },
  {
   "cell_type": "code",
   "execution_count": 92,
   "id": "c3e00d3a-5867-4b19-8980-5afa8559178a",
   "metadata": {},
   "outputs": [
    {
     "data": {
      "text/plain": [
       "Text(0.5, 1.0, 'Friday')"
      ]
     },
     "execution_count": 92,
     "metadata": {},
     "output_type": "execute_result"
    },
    {
     "data": {
      "image/png": "[encoded data removed]",
      "text/plain": [
       "<Figure size 432x288 with 1 Axes>"
      ]
     },
     "metadata": {
      "needs_background": "light"
     },
     "output_type": "display_data"
    }
   ],
   "source": [
    "#Friday\n",
    "plt.bar(df_hourly_amount_per_day['Period'],df_hourly_amount_per_day['Friday'])\n",
    "plt.xlabel('Hours')\n",
    "plt.ylabel('Amount of people')\n",
    "plt.title('Friday')"
   ]
  },
  {
   "cell_type": "code",
   "execution_count": 93,
   "id": "59814384-8b43-4add-9b58-83a7af80ca95",
   "metadata": {},
   "outputs": [
    {
     "data": {
      "text/plain": [
       "Text(0.5, 1.0, 'Saturday')"
      ]
     },
     "execution_count": 93,
     "metadata": {},
     "output_type": "execute_result"
    },
    {
     "data": {
      "image/png": "[encoded data removed]",
      "text/plain": [
       "<Figure size 432x288 with 1 Axes>"
      ]
     },
     "metadata": {
      "needs_background": "light"
     },
     "output_type": "display_data"
    }
   ],
   "source": [
    "#Saturday\n",
    "plt.bar(df_hourly_amount_per_day['Period'],df_hourly_amount_per_day['Saturday'])\n",
    "plt.xlabel('Hours')\n",
    "plt.ylabel('Amount of people')\n",
    "plt.title('Saturday')"
   ]
  },
  {
   "cell_type": "code",
   "execution_count": 94,
   "id": "3eecbbc3-5a6d-4a3e-86de-7102d227c702",
   "metadata": {},
   "outputs": [
    {
     "data": {
      "text/plain": [
       "Text(0.5, 1.0, 'Sunday')"
      ]
     },
     "execution_count": 94,
     "metadata": {},
     "output_type": "execute_result"
    },
    {
     "data": {
      "image/png": "[encoded data removed]",
      "text/plain": [
       "<Figure size 432x288 with 1 Axes>"
      ]
     },
     "metadata": {
      "needs_background": "light"
     },
     "output_type": "display_data"
    }
   ],
   "source": [
    "#Sunday\n",
    "plt.bar(df_hourly_amount_per_day['Period'],df_hourly_amount_per_day['Sunday'])\n",
    "plt.xlabel('Hours')\n",
    "plt.ylabel('Amount of people')\n",
    "plt.title('Sunday')"
   ]
  },
  {
   "cell_type": "markdown",
   "id": "192fe7f0-2669-4249-badd-386b7e433a4e",
   "metadata": {},
   "source": [
    "And now we can also between weekdays and weekend days, we are plotting all 7 days of the week here"
   ]
  },
  {
   "cell_type": "code",
   "execution_count": 95,
   "id": "3a452290-bed9-4b43-bdac-1c1f08277411",
   "metadata": {},
   "outputs": [
    {
     "data": {
      "text/plain": [
       "Text(0.5, 1.0, 'Amount of people riding bluebikes per month')"
      ]
     },
     "execution_count": 95,
     "metadata": {},
     "output_type": "execute_result"
    },
    {
     "data": {
      "image/png": "[encoded data removed]",
      "text/plain": [
       "<Figure size 432x288 with 1 Axes>"
      ]
     },
     "metadata": {
      "needs_background": "light"
     },
     "output_type": "display_data"
    }
   ],
   "source": [
    "plt.bar(df_monthly_amount['Month'],df_monthly_amount['Amount'])\n",
    "plt.xlabel('Month')\n",
    "plt.ylabel('Amount of people')\n",
    "plt.title('Amount of people riding bluebikes per month')"
   ]
  },
  {
   "cell_type": "markdown",
   "id": "61a677c7-7f1c-46a2-b200-279d9b4c2fed",
   "metadata": {},
   "source": [
    "Now that we have our dataframe with values assigned to the minutes, we can use those to create 3 individual Plots."
   ]
  },
  {
   "cell_type": "code",
   "execution_count": 96,
   "id": "ef3ee580-fec5-4665-9918-0f6cf20415f2",
   "metadata": {},
   "outputs": [
    {
     "data": {
      "text/plain": [
       "Text(0, 0.5, 'Amount of people')"
      ]
     },
     "execution_count": 96,
     "metadata": {},
     "output_type": "execute_result"
    },
    {
     "data": {
      "image/png": "[encoded data removed]",
      "text/plain": [
       "<Figure size 432x288 with 1 Axes>"
      ]
     },
     "metadata": {
      "needs_background": "light"
     },
     "output_type": "display_data"
    }
   ],
   "source": [
    "plt.plot(df_all_minutes['unique_minutes'],df_all_minutes['people'])\n",
    "plt.xlabel('Minutes')\n",
    "plt.ylabel('Amount of people')"
   ]
  },
  {
   "cell_type": "code",
   "execution_count": 97,
   "id": "09fd66c9-598a-459c-a91a-37fa18d34b0e",
   "metadata": {},
   "outputs": [
    {
     "data": {
      "text/plain": [
       "Text(0, 0.5, 'Amount of people')"
      ]
     },
     "execution_count": 97,
     "metadata": {},
     "output_type": "execute_result"
    },
    {
     "data": {
      "image/png": "[encoded data removed]",
      "text/plain": [
       "<Figure size 432x288 with 1 Axes>"
      ]
     },
     "metadata": {
      "needs_background": "light"
     },
     "output_type": "display_data"
    }
   ],
   "source": [
    "plt.plot(df_big_minutes['unique_minutes'],df_big_minutes['people'])\n",
    "plt.xlabel('Minutes')\n",
    "plt.ylabel('Amount of people')"
   ]
  },
  {
   "cell_type": "code",
   "execution_count": 98,
   "id": "36fb3660-abb1-4e94-b4a4-08cb0698a76b",
   "metadata": {},
   "outputs": [
    {
     "data": {
      "text/plain": [
       "Text(0, 0.5, 'Amount of people')"
      ]
     },
     "execution_count": 98,
     "metadata": {},
     "output_type": "execute_result"
    },
    {
     "data": {
      "image/png": "[encoded data removed]",
      "text/plain": [
       "<Figure size 432x288 with 1 Axes>"
      ]
     },
     "metadata": {
      "needs_background": "light"
     },
     "output_type": "display_data"
    }
   ],
   "source": [
    "plt.plot(df_small_minutes['unique_minutes'],df_small_minutes['people'])\n",
    "plt.xlabel('Minutes')\n",
    "plt.ylabel('Amount of people')"
   ]
  },
  {
   "cell_type": "markdown",
   "id": "9759a273-6dcd-4d8f-969f-7bad0023cd3d",
   "metadata": {
    "tags": []
   },
   "source": [
    "### 1.5) Clustering"
   ]
  },
  {
   "cell_type": "code",
   "execution_count": null,
   "id": "b94d292c-5374-4c0c-9662-d4b6efa5c21a",
   "metadata": {},
   "outputs": [],
   "source": []
  },
  {
   "cell_type": "code",
   "execution_count": null,
   "id": "8cfe2d80-e37d-4370-9ec8-8d96c5c6d907",
   "metadata": {},
   "outputs": [],
   "source": []
  },
  {
   "cell_type": "code",
   "execution_count": null,
   "id": "d38ba64e-13fa-4aa0-b1d6-7e3998130877",
   "metadata": {},
   "outputs": [],
   "source": []
  },
  {
   "cell_type": "code",
   "execution_count": null,
   "id": "2bbd3750-1d93-4932-97fe-5a0540ef2bb7",
   "metadata": {},
   "outputs": [],
   "source": []
  },
  {
   "cell_type": "code",
   "execution_count": null,
   "id": "a7ae86b9-2f49-4a3a-ac71-f43d1d61f05c",
   "metadata": {},
   "outputs": [],
   "source": []
  },
  {
   "cell_type": "code",
   "execution_count": null,
   "id": "75076428-0932-4994-b9eb-7ddc1534ea5e",
   "metadata": {},
   "outputs": [],
   "source": []
  },
  {
   "cell_type": "code",
   "execution_count": null,
   "id": "55304120-a9f8-4f09-a498-c45fdcd39955",
   "metadata": {},
   "outputs": [],
   "source": []
  }
 ],
 "metadata": {
  "kernelspec": {
   "display_name": "Python 3 (ipykernel)",
   "language": "python",
   "name": "python3"
  },
  "language_info": {
   "codemirror_mode": {
    "name": "ipython",
    "version": 3
   },
   "file_extension": ".py",
   "mimetype": "text/x-python",
   "name": "python",
   "nbconvert_exporter": "python",
   "pygments_lexer": "ipython3",
   "version": "3.9.7"
  }
 },
 "nbformat": 4,
 "nbformat_minor": 5
}
