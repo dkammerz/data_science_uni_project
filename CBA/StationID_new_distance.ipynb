{
 "cells": [
  {
   "cell_type": "code",
   "execution_count": 1,
   "id": "70599eb0-9c12-426d-9784-ea70dab654a8",
   "metadata": {},
   "outputs": [],
   "source": [
    "import pandas as pd\n",
    "import numpy as np\n",
    "import matplotlib.pyplot as plt\n",
    "from pandas.plotting import register_matplotlib_converters\n",
    "register_matplotlib_converters()\n",
    "# import seaborn as sns\n",
    "# sns.set()\n",
    "# sns.set_style(\"white\")\n",
    "# sns.set_palette(\"GnBu_d\")\n",
    "\n",
    "# also import these \"new\" libraries \n",
    "# Note: you may have to download an add them to your environment (using e.g. 'conda install -c conda-forge folium')\n",
    "\n",
    "import folium\n",
    "from folium import plugins\n",
    "from folium.plugins import HeatMap\n",
    "from datetime import datetime #for working with times objects\n",
    "from datetime import timedelta #for working with times objects\n",
    "import math\n",
    "import random\n",
    "from pathlib import Path\n",
    "\n",
    "import geopy\n",
    "from geopy.geocoders import GoogleV3\n",
    "from geopy.distance import geodesic"
   ]
  },
  {
   "cell_type": "code",
   "execution_count": 2,
   "id": "d4658d1c-474d-45da-b49d-5215b905072c",
   "metadata": {},
   "outputs": [],
   "source": [
    "df_stations = pd.read_csv(\"../all_station_id.csv\")"
   ]
  },
  {
   "cell_type": "code",
   "execution_count": 3,
   "id": "a6f22a70-427e-4c9d-a0e5-5c36c78e587c",
   "metadata": {},
   "outputs": [],
   "source": [
    "df = pd.read_csv(\"../boston_2016_distance_duration_speed.csv\")"
   ]
  },
  {
   "cell_type": "code",
   "execution_count": 4,
   "id": "b9cd7e21-8999-4d2e-8f64-96abb40de0da",
   "metadata": {},
   "outputs": [],
   "source": [
    "# df.drop([\"Unnamed: 0\"], axis=1, inplace=True)\n",
    "# # Drop Trips with the 8D OPS stations\n",
    "# df.drop([598580], axis=0, inplace=True)\n",
    "# df.drop([598729], axis=0, inplace=True)\n",
    "# df.drop([1072609], axis=0, inplace=True)\n",
    "# #########################################\n",
    "\n",
    "# # Löschen alle die schneller als 30km/h sind\n",
    "# df.drop([88647], axis=0, inplace=True)\n",
    "# df.drop([88649], axis=0, inplace=True)\n",
    "# df.drop([17997], axis=0, inplace=True)\n",
    "# df.drop([89416], axis=0, inplace=True)\n",
    "# df.drop([824312], axis=0, inplace=True)\n",
    "# df.drop([1143845], axis=0, inplace=True)\n",
    "# #########################################\n",
    "\n",
    "# # Löschen alle die speed < 0 haben\n",
    "# df.drop([1114233], axis=0, inplace=True)\n",
    "# df.drop([1114235], axis=0, inplace=True)\n",
    "# df.drop([1114234], axis=0, inplace=True)\n",
    "# #########################################\n",
    "\n",
    "# # Löscht alle Roundtrips - machen wa doch nicht \n",
    "# #df = df.drop(df[df['Distance (KM)'] == 0].index)\n",
    "# # Löscht alle Trips die länger als 8Std sind\n",
    "# df = df.drop(df[df['Duration (Seconds)'] > 28800].index)\n",
    "# # Löscht alle Trips die kürzer als 1min sind - gibt keine die kürzer als 61sek sind :)\n",
    "# #df = df.drop(df[df['Duration (Seconds)'] <= 60].index)"
   ]
  },
  {
   "cell_type": "code",
   "execution_count": 5,
   "id": "106457ef-6021-4878-a7af-f63ee7811c53",
   "metadata": {},
   "outputs": [],
   "source": [
    "df.rename(columns = {'Speed (km/h)':'speed_kmh'}, inplace = True)\n",
    "df.rename(columns = {'Duration (Seconds)':'duration_sec'}, inplace = True)\n",
    "df.rename(columns = {'Distance (KM)':'distance_km'}, inplace = True)"
   ]
  },
  {
   "cell_type": "code",
   "execution_count": 6,
   "id": "b024680d-5e9d-496e-9cbd-ea38db519a5a",
   "metadata": {},
   "outputs": [],
   "source": [
    "df = df.drop(df[df['start_station_id'] == 158].index)\n",
    "df = df.drop(df[df['start_station_id'] == 153].index)\n",
    "df = df.drop(df[df['end_station_id'] == 158].index)\n",
    "df = df.drop(df[df['end_station_id'] == 153].index)\n",
    "\n",
    "# df_stations = df_stations.drop(df_stations[df_stations['start_station_id'] == 158].index)\n",
    "# df_stations = df_stations.drop(df_stations[df_stations['start_station_id'] == 153].index)\n"
   ]
  },
  {
   "cell_type": "code",
   "execution_count": 7,
   "id": "dbaddd33-d57d-422b-819c-a4cd3556741a",
   "metadata": {},
   "outputs": [],
   "source": [
    "df = df.drop(df[df['speed_kmh'] > 30].index)"
   ]
  },
  {
   "cell_type": "code",
   "execution_count": 8,
   "id": "8f9468c9-5242-4eb9-8043-0389c308f851",
   "metadata": {},
   "outputs": [],
   "source": [
    "df = df.drop(df[df['speed_kmh'] < 0].index)"
   ]
  },
  {
   "cell_type": "code",
   "execution_count": 9,
   "id": "ba013cf9-6ec4-4f9a-b31e-134f597535e3",
   "metadata": {},
   "outputs": [],
   "source": [
    "df = df.drop(df[df['duration_sec'] > 28800].index)"
   ]
  },
  {
   "cell_type": "code",
   "execution_count": 10,
   "id": "c2225bb4-c2f1-405a-ad3f-f108267025e0",
   "metadata": {},
   "outputs": [
    {
     "name": "stdout",
     "output_type": "stream",
     "text": [
      "df:  1233608\n",
      "df_stations:  189\n"
     ]
    }
   ],
   "source": [
    "print(\"df: \",len(df))\n",
    "print(\"df_stations: \",len(df_stations))"
   ]
  },
  {
   "cell_type": "code",
   "execution_count": 11,
   "id": "12f2fd27-d40b-4b9b-819f-ad56ee83c57f",
   "metadata": {},
   "outputs": [],
   "source": [
    "# dingo = (df.where(lambda x: (x.start_station_id == 8.0), axis = 0))\n",
    "# len(df) - dingo['start_station_id'].isnull().sum()"
   ]
  },
  {
   "cell_type": "code",
   "execution_count": 12,
   "id": "27a8782a-724d-486f-b06e-569b7559949e",
   "metadata": {},
   "outputs": [],
   "source": [
    "DasDingo = []"
   ]
  },
  {
   "cell_type": "code",
   "execution_count": 13,
   "id": "c20a253e-5965-4f8e-969d-3d93e7bf0ca7",
   "metadata": {},
   "outputs": [],
   "source": [
    "for i in df_stations.start_station_id:\n",
    "    dingo = (df.where(lambda x: (x.start_station_id == i), axis = 0))\n",
    "    DasDingo.append(len(df) - dingo['start_station_id'].isnull().sum())"
   ]
  },
  {
   "cell_type": "code",
   "execution_count": 14,
   "id": "0965bb53-cc4a-4094-b76f-2e6114fd15e7",
   "metadata": {},
   "outputs": [
    {
     "name": "stdout",
     "output_type": "stream",
     "text": [
      "[78, 4682, 8984, 7078, 11683, 4583, 4161, 9527, 9633, 8583, 8006, 7782, 8781, 2618, 15059, 6572, 7232, 10937, 12085, 31457, 14556, 7714, 8444, 7963, 5012, 3726, 6305, 5392, 9246, 13884, 9458, 16666, 1323, 9057, 9235, 10849, 8637, 13991, 11082, 7783, 10113, 13220, 13982, 8053, 7675, 8577, 2838, 9234, 17112, 11682, 12002, 1489, 779, 14333, 7965, 15834, 12788, 3336, 9641, 2995, 5077, 35611, 24086, 6247, 8798, 5790, 10651, 11774, 23132, 11462, 14270, 2190, 5537, 6478, 21158, 10468, 2928, 9132, 5358, 10353, 13154, 7870, 12048, 14647, 1062, 1532, 5514, 11446, 10042, 9823, 11378, 3528, 10449, 2276, 3213, 6404, 12278, 512, 14403, 8596, 12788, 9476, 1707, 1370, 2449, 3230, 10212, 9703, 7147, 5525, 4015, 8807, 4849, 3602, 2449, 2651, 1052, 1044, 2479, 722, 3708, 2836, 5973, 3418, 4382, 1613, 935, 6157, 2904, 6630, 3138, 6288, 1887, 3028, 6254, 5156, 7585, 6504, 0, 0, 1739, 4677, 5041, 394, 4949, 1078, 2865, 431, 2406, 504, 1051, 1990, 3313, 11739, 15218, 17475, 2402, 404, 782, 565, 4693, 17985, 8915, 5236, 3082, 1332, 1062, 294, 244, 140, 670, 196, 112, 61, 76, 77, 185, 195, 31, 45, 82, 176, 97, 165, 45, 43, 70, 1413, 23]\n"
     ]
    }
   ],
   "source": [
    "print(DasDingo)"
   ]
  },
  {
   "cell_type": "code",
   "execution_count": 15,
   "id": "1e2957ab-94ef-49e8-96e5-6dc2632c67fd",
   "metadata": {},
   "outputs": [
    {
     "data": {
      "text/plain": [
       "189"
      ]
     },
     "execution_count": 15,
     "metadata": {},
     "output_type": "execute_result"
    }
   ],
   "source": [
    "len(DasDingo)"
   ]
  },
  {
   "cell_type": "code",
   "execution_count": 16,
   "id": "b4097686-bee7-46f9-be8a-ba6553950d11",
   "metadata": {},
   "outputs": [],
   "source": [
    "#df['amout_of_trips_per_station'] = DasDingo(lambda x: (x.DasDingo), axis = 0)\n",
    "df_stations['amout_of_trips_per_station'] = pd.DataFrame (DasDingo, columns = ['amout_of_trips_per_station'])"
   ]
  },
  {
   "cell_type": "code",
   "execution_count": 17,
   "id": "7c86c863-0734-409d-9f1b-177ff582e0dd",
   "metadata": {},
   "outputs": [
    {
     "data": {
      "text/html": [
       "<div>\n",
       "<style scoped>\n",
       "    .dataframe tbody tr th:only-of-type {\n",
       "        vertical-align: middle;\n",
       "    }\n",
       "\n",
       "    .dataframe tbody tr th {\n",
       "        vertical-align: top;\n",
       "    }\n",
       "\n",
       "    .dataframe thead th {\n",
       "        text-align: right;\n",
       "    }\n",
       "</style>\n",
       "<table border=\"1\" class=\"dataframe\">\n",
       "  <thead>\n",
       "    <tr style=\"text-align: right;\">\n",
       "      <th></th>\n",
       "      <th>Unnamed: 0</th>\n",
       "      <th>start_station_id</th>\n",
       "      <th>start_station_name</th>\n",
       "      <th>start_station_latitude</th>\n",
       "      <th>start_station_longitude</th>\n",
       "      <th>amout_of_trips_per_station</th>\n",
       "    </tr>\n",
       "  </thead>\n",
       "  <tbody>\n",
       "    <tr>\n",
       "      <th>0</th>\n",
       "      <td>4748</td>\n",
       "      <td>1</td>\n",
       "      <td>18 Dorrance Warehouse</td>\n",
       "      <td>42.387151</td>\n",
       "      <td>-71.075978</td>\n",
       "      <td>78</td>\n",
       "    </tr>\n",
       "    <tr>\n",
       "      <th>1</th>\n",
       "      <td>26681</td>\n",
       "      <td>3</td>\n",
       "      <td>Colleges of the Fenway</td>\n",
       "      <td>42.340021</td>\n",
       "      <td>-71.100812</td>\n",
       "      <td>4682</td>\n",
       "    </tr>\n",
       "    <tr>\n",
       "      <th>2</th>\n",
       "      <td>97049</td>\n",
       "      <td>4</td>\n",
       "      <td>Tremont St. at Berkeley St.</td>\n",
       "      <td>42.345392</td>\n",
       "      <td>-71.069616</td>\n",
       "      <td>8984</td>\n",
       "    </tr>\n",
       "    <tr>\n",
       "      <th>3</th>\n",
       "      <td>161457</td>\n",
       "      <td>5</td>\n",
       "      <td>Northeastern U / North Parking Lot</td>\n",
       "      <td>42.341814</td>\n",
       "      <td>-71.090179</td>\n",
       "      <td>7078</td>\n",
       "    </tr>\n",
       "    <tr>\n",
       "      <th>4</th>\n",
       "      <td>103358</td>\n",
       "      <td>6</td>\n",
       "      <td>Cambridge St. at Joy St.</td>\n",
       "      <td>42.361174</td>\n",
       "      <td>-71.065142</td>\n",
       "      <td>11683</td>\n",
       "    </tr>\n",
       "  </tbody>\n",
       "</table>\n",
       "</div>"
      ],
      "text/plain": [
       "   Unnamed: 0  start_station_id                  start_station_name  \\\n",
       "0        4748                 1               18 Dorrance Warehouse   \n",
       "1       26681                 3              Colleges of the Fenway   \n",
       "2       97049                 4         Tremont St. at Berkeley St.   \n",
       "3      161457                 5  Northeastern U / North Parking Lot   \n",
       "4      103358                 6            Cambridge St. at Joy St.   \n",
       "\n",
       "   start_station_latitude  start_station_longitude  amout_of_trips_per_station  \n",
       "0               42.387151               -71.075978                          78  \n",
       "1               42.340021               -71.100812                        4682  \n",
       "2               42.345392               -71.069616                        8984  \n",
       "3               42.341814               -71.090179                        7078  \n",
       "4               42.361174               -71.065142                       11683  "
      ]
     },
     "execution_count": 17,
     "metadata": {},
     "output_type": "execute_result"
    }
   ],
   "source": [
    "df_stations.head()"
   ]
  },
  {
   "cell_type": "code",
   "execution_count": 18,
   "id": "d93beb75-847d-4ab6-adfd-2e835d23c9ef",
   "metadata": {},
   "outputs": [
    {
     "data": {
      "text/plain": [
       "1233608"
      ]
     },
     "execution_count": 18,
     "metadata": {},
     "output_type": "execute_result"
    }
   ],
   "source": [
    "sum(df_stations['amout_of_trips_per_station'])"
   ]
  },
  {
   "cell_type": "code",
   "execution_count": 19,
   "id": "e38ff297-12b8-4459-8e9c-96839919d07a",
   "metadata": {},
   "outputs": [],
   "source": [
    "df_stations.sort_values(['amout_of_trips_per_station'],axis=0, ascending=False,inplace=True,na_position='first')"
   ]
  },
  {
   "cell_type": "code",
   "execution_count": 20,
   "id": "8fd88163-6630-434f-aebe-ac6ae474e0a1",
   "metadata": {},
   "outputs": [
    {
     "data": {
      "text/html": [
       "<div>\n",
       "<style scoped>\n",
       "    .dataframe tbody tr th:only-of-type {\n",
       "        vertical-align: middle;\n",
       "    }\n",
       "\n",
       "    .dataframe tbody tr th {\n",
       "        vertical-align: top;\n",
       "    }\n",
       "\n",
       "    .dataframe thead th {\n",
       "        text-align: right;\n",
       "    }\n",
       "</style>\n",
       "<table border=\"1\" class=\"dataframe\">\n",
       "  <thead>\n",
       "    <tr style=\"text-align: right;\">\n",
       "      <th></th>\n",
       "      <th>Unnamed: 0</th>\n",
       "      <th>start_station_id</th>\n",
       "      <th>start_station_name</th>\n",
       "      <th>start_station_latitude</th>\n",
       "      <th>start_station_longitude</th>\n",
       "      <th>amout_of_trips_per_station</th>\n",
       "    </tr>\n",
       "  </thead>\n",
       "  <tbody>\n",
       "    <tr>\n",
       "      <th>61</th>\n",
       "      <td>97694</td>\n",
       "      <td>67</td>\n",
       "      <td>MIT at Mass Ave / Amherst St</td>\n",
       "      <td>42.358100</td>\n",
       "      <td>-71.093198</td>\n",
       "      <td>35611</td>\n",
       "    </tr>\n",
       "    <tr>\n",
       "      <th>19</th>\n",
       "      <td>57721</td>\n",
       "      <td>22</td>\n",
       "      <td>South Station - 700 Atlantic Ave.</td>\n",
       "      <td>42.352175</td>\n",
       "      <td>-71.055547</td>\n",
       "      <td>31457</td>\n",
       "    </tr>\n",
       "    <tr>\n",
       "      <th>62</th>\n",
       "      <td>41216</td>\n",
       "      <td>68</td>\n",
       "      <td>Central Square at Mass Ave / Essex St</td>\n",
       "      <td>42.365070</td>\n",
       "      <td>-71.103100</td>\n",
       "      <td>24086</td>\n",
       "    </tr>\n",
       "    <tr>\n",
       "      <th>68</th>\n",
       "      <td>20008</td>\n",
       "      <td>74</td>\n",
       "      <td>Harvard Square at Mass Ave/ Dunster</td>\n",
       "      <td>42.373268</td>\n",
       "      <td>-71.118579</td>\n",
       "      <td>23132</td>\n",
       "    </tr>\n",
       "    <tr>\n",
       "      <th>74</th>\n",
       "      <td>6903</td>\n",
       "      <td>80</td>\n",
       "      <td>MIT Stata Center at Vassar St / Main St</td>\n",
       "      <td>42.361962</td>\n",
       "      <td>-71.092053</td>\n",
       "      <td>21158</td>\n",
       "    </tr>\n",
       "  </tbody>\n",
       "</table>\n",
       "</div>"
      ],
      "text/plain": [
       "    Unnamed: 0  start_station_id                       start_station_name  \\\n",
       "61       97694                67             MIT at Mass Ave / Amherst St   \n",
       "19       57721                22        South Station - 700 Atlantic Ave.   \n",
       "62       41216                68    Central Square at Mass Ave / Essex St   \n",
       "68       20008                74      Harvard Square at Mass Ave/ Dunster   \n",
       "74        6903                80  MIT Stata Center at Vassar St / Main St   \n",
       "\n",
       "    start_station_latitude  start_station_longitude  \\\n",
       "61               42.358100               -71.093198   \n",
       "19               42.352175               -71.055547   \n",
       "62               42.365070               -71.103100   \n",
       "68               42.373268               -71.118579   \n",
       "74               42.361962               -71.092053   \n",
       "\n",
       "    amout_of_trips_per_station  \n",
       "61                       35611  \n",
       "19                       31457  \n",
       "62                       24086  \n",
       "68                       23132  \n",
       "74                       21158  "
      ]
     },
     "execution_count": 20,
     "metadata": {},
     "output_type": "execute_result"
    }
   ],
   "source": [
    "df_stations.head()"
   ]
  },
  {
   "cell_type": "code",
   "execution_count": 21,
   "id": "fb93b4e3-562c-4874-b6e6-cdb82c2ecad9",
   "metadata": {},
   "outputs": [],
   "source": [
    "df_stations[\"start_coordinates\"] = list(zip(df_stations[\"start_station_latitude\"],df_stations[\"start_station_longitude\"]))"
   ]
  },
  {
   "cell_type": "code",
   "execution_count": 22,
   "id": "fe14b0ef-e6e0-44f1-9827-138dac269113",
   "metadata": {},
   "outputs": [
    {
     "data": {
      "text/plain": [
       "tuple"
      ]
     },
     "execution_count": 22,
     "metadata": {},
     "output_type": "execute_result"
    }
   ],
   "source": [
    "# center_point = (42.36041042227672,-71.05799197093351)\n",
    "center_point = (42.357998, -71.080980)\n",
    "type(center_point)"
   ]
  },
  {
   "cell_type": "code",
   "execution_count": 23,
   "id": "ad7d0ee4-6c8c-4dea-9132-e37040fbb73e",
   "metadata": {},
   "outputs": [],
   "source": [
    "def calc_distances_from_center(start_coordinates):\n",
    "    return geopy.distance.geodesic( start_coordinates,center_point).km"
   ]
  },
  {
   "cell_type": "code",
   "execution_count": 24,
   "id": "60654afb-fdbf-4e56-9e69-e7fdc0fb816c",
   "metadata": {},
   "outputs": [],
   "source": [
    "df_stations['distance_center_(km)'] = df_stations.apply(lambda row: calc_distances_from_center(row.start_coordinates), axis=1)"
   ]
  },
  {
   "cell_type": "code",
   "execution_count": 25,
   "id": "8f651c5a-6fb0-4be3-932f-835922eb857a",
   "metadata": {},
   "outputs": [
    {
     "data": {
      "text/html": [
       "<div>\n",
       "<style scoped>\n",
       "    .dataframe tbody tr th:only-of-type {\n",
       "        vertical-align: middle;\n",
       "    }\n",
       "\n",
       "    .dataframe tbody tr th {\n",
       "        vertical-align: top;\n",
       "    }\n",
       "\n",
       "    .dataframe thead th {\n",
       "        text-align: right;\n",
       "    }\n",
       "</style>\n",
       "<table border=\"1\" class=\"dataframe\">\n",
       "  <thead>\n",
       "    <tr style=\"text-align: right;\">\n",
       "      <th></th>\n",
       "      <th>Unnamed: 0</th>\n",
       "      <th>start_station_id</th>\n",
       "      <th>start_station_name</th>\n",
       "      <th>start_station_latitude</th>\n",
       "      <th>start_station_longitude</th>\n",
       "      <th>amout_of_trips_per_station</th>\n",
       "      <th>start_coordinates</th>\n",
       "      <th>distance_center_(km)</th>\n",
       "    </tr>\n",
       "  </thead>\n",
       "  <tbody>\n",
       "    <tr>\n",
       "      <th>61</th>\n",
       "      <td>97694</td>\n",
       "      <td>67</td>\n",
       "      <td>MIT at Mass Ave / Amherst St</td>\n",
       "      <td>42.358100</td>\n",
       "      <td>-71.093198</td>\n",
       "      <td>35611</td>\n",
       "      <td>(42.3581, -71.093198)</td>\n",
       "      <td>1.006640</td>\n",
       "    </tr>\n",
       "    <tr>\n",
       "      <th>19</th>\n",
       "      <td>57721</td>\n",
       "      <td>22</td>\n",
       "      <td>South Station - 700 Atlantic Ave.</td>\n",
       "      <td>42.352175</td>\n",
       "      <td>-71.055547</td>\n",
       "      <td>31457</td>\n",
       "      <td>(42.352175, -71.055547)</td>\n",
       "      <td>2.192949</td>\n",
       "    </tr>\n",
       "    <tr>\n",
       "      <th>62</th>\n",
       "      <td>41216</td>\n",
       "      <td>68</td>\n",
       "      <td>Central Square at Mass Ave / Essex St</td>\n",
       "      <td>42.365070</td>\n",
       "      <td>-71.103100</td>\n",
       "      <td>24086</td>\n",
       "      <td>(42.36507, -71.1031)</td>\n",
       "      <td>1.984362</td>\n",
       "    </tr>\n",
       "    <tr>\n",
       "      <th>68</th>\n",
       "      <td>20008</td>\n",
       "      <td>74</td>\n",
       "      <td>Harvard Square at Mass Ave/ Dunster</td>\n",
       "      <td>42.373268</td>\n",
       "      <td>-71.118579</td>\n",
       "      <td>23132</td>\n",
       "      <td>(42.373268, -71.118579)</td>\n",
       "      <td>3.531259</td>\n",
       "    </tr>\n",
       "    <tr>\n",
       "      <th>74</th>\n",
       "      <td>6903</td>\n",
       "      <td>80</td>\n",
       "      <td>MIT Stata Center at Vassar St / Main St</td>\n",
       "      <td>42.361962</td>\n",
       "      <td>-71.092053</td>\n",
       "      <td>21158</td>\n",
       "      <td>(42.3619622, -71.0920526)</td>\n",
       "      <td>1.012909</td>\n",
       "    </tr>\n",
       "  </tbody>\n",
       "</table>\n",
       "</div>"
      ],
      "text/plain": [
       "    Unnamed: 0  start_station_id                       start_station_name  \\\n",
       "61       97694                67             MIT at Mass Ave / Amherst St   \n",
       "19       57721                22        South Station - 700 Atlantic Ave.   \n",
       "62       41216                68    Central Square at Mass Ave / Essex St   \n",
       "68       20008                74      Harvard Square at Mass Ave/ Dunster   \n",
       "74        6903                80  MIT Stata Center at Vassar St / Main St   \n",
       "\n",
       "    start_station_latitude  start_station_longitude  \\\n",
       "61               42.358100               -71.093198   \n",
       "19               42.352175               -71.055547   \n",
       "62               42.365070               -71.103100   \n",
       "68               42.373268               -71.118579   \n",
       "74               42.361962               -71.092053   \n",
       "\n",
       "    amout_of_trips_per_station          start_coordinates  \\\n",
       "61                       35611      (42.3581, -71.093198)   \n",
       "19                       31457    (42.352175, -71.055547)   \n",
       "62                       24086       (42.36507, -71.1031)   \n",
       "68                       23132    (42.373268, -71.118579)   \n",
       "74                       21158  (42.3619622, -71.0920526)   \n",
       "\n",
       "    distance_center_(km)  \n",
       "61              1.006640  \n",
       "19              2.192949  \n",
       "62              1.984362  \n",
       "68              3.531259  \n",
       "74              1.012909  "
      ]
     },
     "execution_count": 25,
     "metadata": {},
     "output_type": "execute_result"
    }
   ],
   "source": [
    "df_stations.sort_values(['amout_of_trips_per_station'],axis=0, ascending=False,inplace=True,na_position='first')\n",
    "# df_stations.sort_index(inplace=True)\n",
    "df_stations.head(5)"
   ]
  },
  {
   "cell_type": "code",
   "execution_count": 26,
   "id": "315f3666-fa50-42df-9bb0-9c32cd1477d5",
   "metadata": {},
   "outputs": [],
   "source": [
    "# filepath = Path('/Users/daniel/Desktop/boston_2016_distance_duration_speed.csv')\n",
    "filepath = Path('C:/Users/rfrei/Desktop/all_station_id_amounts_distance.csv')\n",
    "filepath.parent.mkdir(parents=True, exist_ok=True)\n",
    "df_stations.to_csv(filepath)"
   ]
  }
 ],
 "metadata": {
  "kernelspec": {
   "display_name": "Python 3 (ipykernel)",
   "language": "python",
   "name": "python3"
  },
  "language_info": {
   "codemirror_mode": {
    "name": "ipython",
    "version": 3
   },
   "file_extension": ".py",
   "mimetype": "text/x-python",
   "name": "python",
   "nbconvert_exporter": "python",
   "pygments_lexer": "ipython3",
   "version": "3.9.7"
  }
 },
 "nbformat": 4,
 "nbformat_minor": 5
}
