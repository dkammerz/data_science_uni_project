{
 "cells": [
  {
   "cell_type": "code",
   "execution_count": 1,
   "id": "59edf09d-42d7-4e81-8a83-2d2f44699cbf",
   "metadata": {},
   "outputs": [],
   "source": [
    "import pandas as pd\n",
    "import numpy as np\n",
    "import matplotlib.pyplot as plt\n",
    "from pandas.plotting import register_matplotlib_converters\n",
    "register_matplotlib_converters()\n",
    "import seaborn as sns\n",
    "# sns.set()\n",
    "# sns.set_style(\"white\")\n",
    "# sns.set_palette(\"GnBu_d\")\n",
    "%matplotlib inline\n",
    "\n",
    "import folium\n",
    "from folium import plugins\n",
    "from folium.plugins import HeatMap\n",
    "from datetime import datetime #for working with times objects\n",
    "from datetime import timedelta #for working with times objects\n",
    "import math\n",
    "import random\n",
    "from pathlib import Path\n",
    "\n",
    "import geopy\n",
    "from geopy.geocoders import GoogleV3\n",
    "from geopy.distance import geodesic"
   ]
  },
  {
   "cell_type": "code",
   "execution_count": 2,
   "id": "8e904062-d364-41ff-879f-0659ce505447",
   "metadata": {},
   "outputs": [],
   "source": [
    "read_once_df = pd.read_csv(\"../boston_2016_prep_cluster.csv\")"
   ]
  },
  {
   "cell_type": "code",
   "execution_count": 3,
   "id": "eb337568-a680-46d3-9523-55e744c68ec4",
   "metadata": {},
   "outputs": [],
   "source": [
    "df = read_once_df\n",
    "df[\"start_time\"] = pd.to_datetime(df[\"start_time\"],format=\"%Y-%m-%d %H:%M:%S\") # FORMAT %Y-%m-%d %H:%M:%S beachte - und :\n",
    "df[\"end_time\"] = pd.to_datetime(df[\"end_time\"],format=\"%Y-%m-%d %H:%M:%S\")"
   ]
  },
  {
   "cell_type": "code",
   "execution_count": 4,
   "id": "e276f81b-2c5d-49b8-975a-1f02a927ad1d",
   "metadata": {},
   "outputs": [],
   "source": [
    "# df['user_type'] = df['user_type'].replace(['Customer','Subscriber'],[0,1])\n",
    "# user_type -> \n",
    "# 0 = Customer\n",
    "# 1 = Subscriber"
   ]
  },
  {
   "cell_type": "code",
   "execution_count": 5,
   "id": "50230f78-822b-4328-951b-45e76f2d609b",
   "metadata": {},
   "outputs": [
    {
     "data": {
      "text/plain": [
       "1233600"
      ]
     },
     "execution_count": 5,
     "metadata": {},
     "output_type": "execute_result"
    }
   ],
   "source": [
    "len(df)"
   ]
  },
  {
   "cell_type": "code",
   "execution_count": 6,
   "id": "064c559a-5771-4ec1-810a-2929efbf278e",
   "metadata": {},
   "outputs": [
    {
     "data": {
      "text/html": [
       "<div>\n",
       "<style scoped>\n",
       "    .dataframe tbody tr th:only-of-type {\n",
       "        vertical-align: middle;\n",
       "    }\n",
       "\n",
       "    .dataframe tbody tr th {\n",
       "        vertical-align: top;\n",
       "    }\n",
       "\n",
       "    .dataframe thead th {\n",
       "        text-align: right;\n",
       "    }\n",
       "</style>\n",
       "<table border=\"1\" class=\"dataframe\">\n",
       "  <thead>\n",
       "    <tr style=\"text-align: right;\">\n",
       "      <th></th>\n",
       "      <th>Unnamed: 0</th>\n",
       "      <th>start_time</th>\n",
       "      <th>end_time</th>\n",
       "      <th>start_station_id</th>\n",
       "      <th>end_station_id</th>\n",
       "      <th>start_station_name</th>\n",
       "      <th>end_station_name</th>\n",
       "      <th>bike_id</th>\n",
       "      <th>user_type</th>\n",
       "      <th>start_coordinates</th>\n",
       "      <th>end_coordinates</th>\n",
       "      <th>Distance (KM)</th>\n",
       "      <th>Duration (Seconds)</th>\n",
       "      <th>Speed (km/h)</th>\n",
       "      <th>start_hour</th>\n",
       "      <th>start_distance_center</th>\n",
       "      <th>end_distance_center</th>\n",
       "    </tr>\n",
       "  </thead>\n",
       "  <tbody>\n",
       "  </tbody>\n",
       "</table>\n",
       "</div>"
      ],
      "text/plain": [
       "Empty DataFrame\n",
       "Columns: [Unnamed: 0, start_time, end_time, start_station_id, end_station_id, start_station_name, end_station_name, bike_id, user_type, start_coordinates, end_coordinates, Distance (KM), Duration (Seconds), Speed (km/h), start_hour, start_distance_center, end_distance_center]\n",
       "Index: []"
      ]
     },
     "execution_count": 6,
     "metadata": {},
     "output_type": "execute_result"
    }
   ],
   "source": [
    "df.head(0)"
   ]
  },
  {
   "cell_type": "code",
   "execution_count": 7,
   "id": "5fff1f89-502f-44b3-b759-9caf2e7b1fa7",
   "metadata": {},
   "outputs": [],
   "source": [
    "df.drop(['Unnamed: 0','start_time','end_time','start_station_id','end_station_id','start_station_name','end_station_name','bike_id','start_coordinates','end_coordinates'], axis=1, inplace=True)"
   ]
  },
  {
   "cell_type": "code",
   "execution_count": 8,
   "id": "78116f7e-7c09-4a7e-8e7b-5559b0442498",
   "metadata": {},
   "outputs": [
    {
     "data": {
      "text/html": [
       "<div>\n",
       "<style scoped>\n",
       "    .dataframe tbody tr th:only-of-type {\n",
       "        vertical-align: middle;\n",
       "    }\n",
       "\n",
       "    .dataframe tbody tr th {\n",
       "        vertical-align: top;\n",
       "    }\n",
       "\n",
       "    .dataframe thead th {\n",
       "        text-align: right;\n",
       "    }\n",
       "</style>\n",
       "<table border=\"1\" class=\"dataframe\">\n",
       "  <thead>\n",
       "    <tr style=\"text-align: right;\">\n",
       "      <th></th>\n",
       "      <th>user_type</th>\n",
       "      <th>Distance (KM)</th>\n",
       "      <th>Duration (Seconds)</th>\n",
       "      <th>Speed (km/h)</th>\n",
       "      <th>start_hour</th>\n",
       "      <th>start_distance_center</th>\n",
       "      <th>end_distance_center</th>\n",
       "    </tr>\n",
       "  </thead>\n",
       "  <tbody>\n",
       "    <tr>\n",
       "      <th>0</th>\n",
       "      <td>Subscriber</td>\n",
       "      <td>2.322721</td>\n",
       "      <td>1939.0</td>\n",
       "      <td>4.312426</td>\n",
       "      <td>0</td>\n",
       "      <td>1.988436</td>\n",
       "      <td>4.163269</td>\n",
       "    </tr>\n",
       "    <tr>\n",
       "      <th>1</th>\n",
       "      <td>Subscriber</td>\n",
       "      <td>2.322721</td>\n",
       "      <td>1928.0</td>\n",
       "      <td>4.337030</td>\n",
       "      <td>0</td>\n",
       "      <td>1.988436</td>\n",
       "      <td>4.163269</td>\n",
       "    </tr>\n",
       "    <tr>\n",
       "      <th>2</th>\n",
       "      <td>Subscriber</td>\n",
       "      <td>2.322721</td>\n",
       "      <td>1814.0</td>\n",
       "      <td>4.609589</td>\n",
       "      <td>0</td>\n",
       "      <td>1.988436</td>\n",
       "      <td>4.163269</td>\n",
       "    </tr>\n",
       "    <tr>\n",
       "      <th>3</th>\n",
       "      <td>Subscriber</td>\n",
       "      <td>2.322721</td>\n",
       "      <td>1789.0</td>\n",
       "      <td>4.674004</td>\n",
       "      <td>0</td>\n",
       "      <td>1.988436</td>\n",
       "      <td>4.163269</td>\n",
       "    </tr>\n",
       "    <tr>\n",
       "      <th>4</th>\n",
       "      <td>Customer</td>\n",
       "      <td>1.609739</td>\n",
       "      <td>941.0</td>\n",
       "      <td>6.158407</td>\n",
       "      <td>0</td>\n",
       "      <td>1.988436</td>\n",
       "      <td>2.911715</td>\n",
       "    </tr>\n",
       "  </tbody>\n",
       "</table>\n",
       "</div>"
      ],
      "text/plain": [
       "    user_type  Distance (KM)  Duration (Seconds)  Speed (km/h)  start_hour  \\\n",
       "0  Subscriber       2.322721              1939.0      4.312426           0   \n",
       "1  Subscriber       2.322721              1928.0      4.337030           0   \n",
       "2  Subscriber       2.322721              1814.0      4.609589           0   \n",
       "3  Subscriber       2.322721              1789.0      4.674004           0   \n",
       "4    Customer       1.609739               941.0      6.158407           0   \n",
       "\n",
       "   start_distance_center  end_distance_center  \n",
       "0               1.988436             4.163269  \n",
       "1               1.988436             4.163269  \n",
       "2               1.988436             4.163269  \n",
       "3               1.988436             4.163269  \n",
       "4               1.988436             2.911715  "
      ]
     },
     "execution_count": 8,
     "metadata": {},
     "output_type": "execute_result"
    }
   ],
   "source": [
    "df.head(5)"
   ]
  },
  {
   "cell_type": "markdown",
   "id": "d6c0fc9f-d554-4a7a-a894-82cc11fbb387",
   "metadata": {},
   "source": [
    "X -> df bei workshop"
   ]
  },
  {
   "cell_type": "code",
   "execution_count": 9,
   "id": "b34fcb86-5185-444a-a381-e8b7e37af88c",
   "metadata": {},
   "outputs": [],
   "source": [
    "X = df"
   ]
  },
  {
   "cell_type": "code",
   "execution_count": 10,
   "id": "94dec9f7-8e4f-48d7-8d45-fb0656b294fe",
   "metadata": {},
   "outputs": [
    {
     "data": {
      "text/html": [
       "<div>\n",
       "<style scoped>\n",
       "    .dataframe tbody tr th:only-of-type {\n",
       "        vertical-align: middle;\n",
       "    }\n",
       "\n",
       "    .dataframe tbody tr th {\n",
       "        vertical-align: top;\n",
       "    }\n",
       "\n",
       "    .dataframe thead th {\n",
       "        text-align: right;\n",
       "    }\n",
       "</style>\n",
       "<table border=\"1\" class=\"dataframe\">\n",
       "  <thead>\n",
       "    <tr style=\"text-align: right;\">\n",
       "      <th></th>\n",
       "      <th>Distance (KM)</th>\n",
       "      <th>Duration (Seconds)</th>\n",
       "      <th>Speed (km/h)</th>\n",
       "      <th>start_hour</th>\n",
       "      <th>start_distance_center</th>\n",
       "      <th>end_distance_center</th>\n",
       "    </tr>\n",
       "  </thead>\n",
       "  <tbody>\n",
       "    <tr>\n",
       "      <th>0</th>\n",
       "      <td>2.322721</td>\n",
       "      <td>1939.0</td>\n",
       "      <td>4.312426</td>\n",
       "      <td>0</td>\n",
       "      <td>1.988436</td>\n",
       "      <td>4.163269</td>\n",
       "    </tr>\n",
       "    <tr>\n",
       "      <th>1</th>\n",
       "      <td>2.322721</td>\n",
       "      <td>1928.0</td>\n",
       "      <td>4.337030</td>\n",
       "      <td>0</td>\n",
       "      <td>1.988436</td>\n",
       "      <td>4.163269</td>\n",
       "    </tr>\n",
       "    <tr>\n",
       "      <th>2</th>\n",
       "      <td>2.322721</td>\n",
       "      <td>1814.0</td>\n",
       "      <td>4.609589</td>\n",
       "      <td>0</td>\n",
       "      <td>1.988436</td>\n",
       "      <td>4.163269</td>\n",
       "    </tr>\n",
       "    <tr>\n",
       "      <th>3</th>\n",
       "      <td>2.322721</td>\n",
       "      <td>1789.0</td>\n",
       "      <td>4.674004</td>\n",
       "      <td>0</td>\n",
       "      <td>1.988436</td>\n",
       "      <td>4.163269</td>\n",
       "    </tr>\n",
       "    <tr>\n",
       "      <th>4</th>\n",
       "      <td>1.609739</td>\n",
       "      <td>941.0</td>\n",
       "      <td>6.158407</td>\n",
       "      <td>0</td>\n",
       "      <td>1.988436</td>\n",
       "      <td>2.911715</td>\n",
       "    </tr>\n",
       "  </tbody>\n",
       "</table>\n",
       "</div>"
      ],
      "text/plain": [
       "   Distance (KM)  Duration (Seconds)  Speed (km/h)  start_hour  \\\n",
       "0       2.322721              1939.0      4.312426           0   \n",
       "1       2.322721              1928.0      4.337030           0   \n",
       "2       2.322721              1814.0      4.609589           0   \n",
       "3       2.322721              1789.0      4.674004           0   \n",
       "4       1.609739               941.0      6.158407           0   \n",
       "\n",
       "   start_distance_center  end_distance_center  \n",
       "0               1.988436             4.163269  \n",
       "1               1.988436             4.163269  \n",
       "2               1.988436             4.163269  \n",
       "3               1.988436             4.163269  \n",
       "4               1.988436             2.911715  "
      ]
     },
     "execution_count": 10,
     "metadata": {},
     "output_type": "execute_result"
    }
   ],
   "source": [
    "X = df.drop(\"user_type\", axis=1)\n",
    "y = df[\"user_type\"]\n",
    "X.head()"
   ]
  },
  {
   "cell_type": "code",
   "execution_count": 11,
   "id": "64ae052b-f833-4074-8788-63a6f446fe37",
   "metadata": {},
   "outputs": [
    {
     "data": {
      "text/plain": [
       "0    Subscriber\n",
       "1    Subscriber\n",
       "2    Subscriber\n",
       "3    Subscriber\n",
       "4      Customer\n",
       "Name: user_type, dtype: object"
      ]
     },
     "execution_count": 11,
     "metadata": {},
     "output_type": "execute_result"
    }
   ],
   "source": [
    "y.head()"
   ]
  },
  {
   "cell_type": "code",
   "execution_count": 12,
   "id": "27c62716-8e53-43ee-8856-316ab013cc65",
   "metadata": {},
   "outputs": [
    {
     "data": {
      "text/html": [
       "<div>\n",
       "<style scoped>\n",
       "    .dataframe tbody tr th:only-of-type {\n",
       "        vertical-align: middle;\n",
       "    }\n",
       "\n",
       "    .dataframe tbody tr th {\n",
       "        vertical-align: top;\n",
       "    }\n",
       "\n",
       "    .dataframe thead th {\n",
       "        text-align: right;\n",
       "    }\n",
       "</style>\n",
       "<table border=\"1\" class=\"dataframe\">\n",
       "  <thead>\n",
       "    <tr style=\"text-align: right;\">\n",
       "      <th></th>\n",
       "      <th>Distance (KM)</th>\n",
       "      <th>Duration (Seconds)</th>\n",
       "      <th>Speed (km/h)</th>\n",
       "      <th>start_hour</th>\n",
       "      <th>start_distance_center</th>\n",
       "      <th>end_distance_center</th>\n",
       "    </tr>\n",
       "  </thead>\n",
       "  <tbody>\n",
       "    <tr>\n",
       "      <th>0</th>\n",
       "      <td>0.372573</td>\n",
       "      <td>0.944184</td>\n",
       "      <td>-1.343869</td>\n",
       "      <td>-2.894096</td>\n",
       "      <td>-0.592742</td>\n",
       "      <td>0.633146</td>\n",
       "    </tr>\n",
       "    <tr>\n",
       "      <th>1</th>\n",
       "      <td>0.372573</td>\n",
       "      <td>0.934278</td>\n",
       "      <td>-1.337465</td>\n",
       "      <td>-2.894096</td>\n",
       "      <td>-0.592742</td>\n",
       "      <td>0.633146</td>\n",
       "    </tr>\n",
       "    <tr>\n",
       "      <th>2</th>\n",
       "      <td>0.372573</td>\n",
       "      <td>0.831612</td>\n",
       "      <td>-1.266517</td>\n",
       "      <td>-2.894096</td>\n",
       "      <td>-0.592742</td>\n",
       "      <td>0.633146</td>\n",
       "    </tr>\n",
       "    <tr>\n",
       "      <th>3</th>\n",
       "      <td>0.372573</td>\n",
       "      <td>0.809097</td>\n",
       "      <td>-1.249749</td>\n",
       "      <td>-2.894096</td>\n",
       "      <td>-0.592742</td>\n",
       "      <td>0.633146</td>\n",
       "    </tr>\n",
       "    <tr>\n",
       "      <th>4</th>\n",
       "      <td>-0.206811</td>\n",
       "      <td>0.045404</td>\n",
       "      <td>-0.863354</td>\n",
       "      <td>-2.894096</td>\n",
       "      <td>-0.592742</td>\n",
       "      <td>-0.067060</td>\n",
       "    </tr>\n",
       "  </tbody>\n",
       "</table>\n",
       "</div>"
      ],
      "text/plain": [
       "   Distance (KM)  Duration (Seconds)  Speed (km/h)  start_hour  \\\n",
       "0       0.372573            0.944184     -1.343869   -2.894096   \n",
       "1       0.372573            0.934278     -1.337465   -2.894096   \n",
       "2       0.372573            0.831612     -1.266517   -2.894096   \n",
       "3       0.372573            0.809097     -1.249749   -2.894096   \n",
       "4      -0.206811            0.045404     -0.863354   -2.894096   \n",
       "\n",
       "   start_distance_center  end_distance_center  \n",
       "0              -0.592742             0.633146  \n",
       "1              -0.592742             0.633146  \n",
       "2              -0.592742             0.633146  \n",
       "3              -0.592742             0.633146  \n",
       "4              -0.592742            -0.067060  "
      ]
     },
     "execution_count": 12,
     "metadata": {},
     "output_type": "execute_result"
    }
   ],
   "source": [
    "from sklearn.preprocessing import StandardScaler\n",
    "scaler = StandardScaler()\n",
    "scaler.fit(X)\n",
    "X_scaled = scaler.transform(X)\n",
    "\n",
    "# create a df out of array\n",
    "X_scaled_df = pd.DataFrame(X_scaled, columns=X.columns, index=X.index)\n",
    "X_scaled_df.head()"
   ]
  },
  {
   "cell_type": "code",
   "execution_count": 13,
   "id": "490b950c-237a-415c-af62-001f5264cccb",
   "metadata": {},
   "outputs": [],
   "source": [
    "df_scaled = X_scaled_df\n",
    "df_scaled[\"user_type\"] = df[\"user_type\"]"
   ]
  },
  {
   "cell_type": "code",
   "execution_count": 14,
   "id": "f5bd5d0c-a27d-47cb-b4b9-fc144df96a6f",
   "metadata": {},
   "outputs": [],
   "source": [
    "# sns.pairplot(data=df_scaled, hue=\"user_type\")"
   ]
  },
  {
   "cell_type": "code",
   "execution_count": 15,
   "id": "17b4f03a-3f4a-4428-8670-5a6f331e3d5b",
   "metadata": {},
   "outputs": [],
   "source": [
    "from sklearn.cluster import KMeans"
   ]
  },
  {
   "cell_type": "code",
   "execution_count": null,
   "id": "0100069e-4b1e-444f-bd86-fe6029876b8c",
   "metadata": {},
   "outputs": [],
   "source": [
    "k_max = 50  # We have 147 datapoints, more than 50 clusters are definitely not reasonable!\n",
    "\n",
    "clusters = []\n",
    "losses = []\n",
    "\n",
    "for k in range(k_max):\n",
    "    model = KMeans(n_clusters=k+1)\n",
    "    model.fit(X_scaled)\n",
    "    clusters.append(k+1)\n",
    "    losses.append(model.inertia_)"
   ]
  },
  {
   "cell_type": "code",
   "execution_count": null,
   "id": "cb327847-ab44-4d76-a489-4a15dc371827",
   "metadata": {},
   "outputs": [],
   "source": [
    "plt.plot(clusters, losses)\n",
    "plt.show()"
   ]
  },
  {
   "cell_type": "code",
   "execution_count": null,
   "id": "6863b886-6487-44ca-a241-8bd095d540c5",
   "metadata": {},
   "outputs": [],
   "source": [
    "plt.plot(clusters, losses)\n",
    "plt.xlim([0,20])"
   ]
  },
  {
   "cell_type": "code",
   "execution_count": null,
   "id": "4318da08-4698-481e-84aa-6724b3a1d741",
   "metadata": {},
   "outputs": [],
   "source": [
    "numbers = [\"zero\", \"one\", \"two\", \"three\",\"four\",\"five\",\"six\"]"
   ]
  },
  {
   "cell_type": "code",
   "execution_count": null,
   "id": "00247756-6502-425d-a90c-01233e73a2af",
   "metadata": {},
   "outputs": [],
   "source": [
    "four_means = KMeans(n_clusters=4)\n",
    "four_means.fit(X_scaled)\n",
    "df_scaled[\"clusters\"] = four_means.predict(X_scaled)\n",
    "df_scaled[\"clusters\"] = df_scaled[\"clusters\"].apply(lambda x: numbers[x])\n",
    "sns.pairplot(data=df_scaled, hue=\"clusters\")"
   ]
  }
 ],
 "metadata": {
  "kernelspec": {
   "display_name": "Python 3 (ipykernel)",
   "language": "python",
   "name": "python3"
  },
  "language_info": {
   "codemirror_mode": {
    "name": "ipython",
    "version": 3
   },
   "file_extension": ".py",
   "mimetype": "text/x-python",
   "name": "python",
   "nbconvert_exporter": "python",
   "pygments_lexer": "ipython3",
   "version": "3.9.7"
  }
 },
 "nbformat": 4,
 "nbformat_minor": 5
}
