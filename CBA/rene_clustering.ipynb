{
 "cells": [
  {
   "cell_type": "code",
   "execution_count": 6,
   "id": "59edf09d-42d7-4e81-8a83-2d2f44699cbf",
   "metadata": {},
   "outputs": [],
   "source": [
    "import pandas as pd\n",
    "import numpy as np\n",
    "import matplotlib.pyplot as plt\n",
    "from pandas.plotting import register_matplotlib_converters\n",
    "register_matplotlib_converters()\n",
    "# import seaborn as sns\n",
    "# sns.set()\n",
    "# sns.set_style(\"white\")\n",
    "# sns.set_palette(\"GnBu_d\")\n",
    "\n",
    "# also import these \"new\" libraries \n",
    "# Note: you may have to download an add them to your environment (using e.g. 'conda install -c conda-forge folium')\n",
    "\n",
    "import folium\n",
    "from folium import plugins\n",
    "from folium.plugins import HeatMap\n",
    "from datetime import datetime #for working with times objects\n",
    "from datetime import timedelta #for working with times objects\n",
    "import math\n",
    "import random\n",
    "from pathlib import Path\n",
    "\n",
    "import geopy\n",
    "from geopy.geocoders import GoogleV3\n",
    "from geopy.distance import geodesic"
   ]
  },
  {
   "cell_type": "code",
   "execution_count": 22,
   "id": "eb337568-a680-46d3-9523-55e744c68ec4",
   "metadata": {},
   "outputs": [],
   "source": [
    "df = pd.read_csv(\"../boston_2016_prep_cluster_small.csv\")\n",
    "df[\"start_time\"] = pd.to_datetime(df[\"start_time\"],format=\"%Y-%m-%d %H:%M:%S\") # FORMAT %Y-%m-%d %H:%M:%S beachte - und :\n",
    "df[\"end_time\"] = pd.to_datetime(df[\"end_time\"],format=\"%Y-%m-%d %H:%M:%S\")"
   ]
  },
  {
   "cell_type": "code",
   "execution_count": 23,
   "id": "90196f0c-9e80-48c1-9239-8520fe9f275a",
   "metadata": {},
   "outputs": [
    {
     "data": {
      "text/html": [
       "<div>\n",
       "<style scoped>\n",
       "    .dataframe tbody tr th:only-of-type {\n",
       "        vertical-align: middle;\n",
       "    }\n",
       "\n",
       "    .dataframe tbody tr th {\n",
       "        vertical-align: top;\n",
       "    }\n",
       "\n",
       "    .dataframe thead th {\n",
       "        text-align: right;\n",
       "    }\n",
       "</style>\n",
       "<table border=\"1\" class=\"dataframe\">\n",
       "  <thead>\n",
       "    <tr style=\"text-align: right;\">\n",
       "      <th></th>\n",
       "      <th>Unnamed: 0</th>\n",
       "      <th>start_time</th>\n",
       "      <th>end_time</th>\n",
       "      <th>start_station_id</th>\n",
       "      <th>end_station_id</th>\n",
       "      <th>start_station_name</th>\n",
       "      <th>end_station_name</th>\n",
       "      <th>bike_id</th>\n",
       "      <th>user_type</th>\n",
       "      <th>start_coordinates</th>\n",
       "      <th>end_coordinates</th>\n",
       "      <th>Distance (KM)</th>\n",
       "      <th>Duration (Seconds)</th>\n",
       "      <th>Speed (km/h)</th>\n",
       "      <th>start_coordinates2</th>\n",
       "      <th>end_coordinates2</th>\n",
       "      <th>start_hour</th>\n",
       "    </tr>\n",
       "  </thead>\n",
       "  <tbody>\n",
       "    <tr>\n",
       "      <th>0</th>\n",
       "      <td>482</td>\n",
       "      <td>2016-01-03 10:04:11</td>\n",
       "      <td>2016-01-03 13:21:51</td>\n",
       "      <td>70</td>\n",
       "      <td>74</td>\n",
       "      <td>Harvard Kennedy School at Bennett St / Eliot St</td>\n",
       "      <td>Harvard Square at Mass Ave/ Dunster</td>\n",
       "      <td>682</td>\n",
       "      <td>Customer</td>\n",
       "      <td>(42.37199165408676, -71.12226963043213)</td>\n",
       "      <td>(42.373268, -71.118579)</td>\n",
       "      <td>0.335418</td>\n",
       "      <td>11860.0</td>\n",
       "      <td>0.101813</td>\n",
       "      <td>(42.37199165408676, -71.12226963043213)</td>\n",
       "      <td>(42.373268, -71.118579)</td>\n",
       "      <td>10</td>\n",
       "    </tr>\n",
       "  </tbody>\n",
       "</table>\n",
       "</div>"
      ],
      "text/plain": [
       "   Unnamed: 0          start_time            end_time  start_station_id  \\\n",
       "0         482 2016-01-03 10:04:11 2016-01-03 13:21:51                70   \n",
       "\n",
       "   end_station_id                               start_station_name  \\\n",
       "0              74  Harvard Kennedy School at Bennett St / Eliot St   \n",
       "\n",
       "                      end_station_name  bike_id user_type  \\\n",
       "0  Harvard Square at Mass Ave/ Dunster      682  Customer   \n",
       "\n",
       "                         start_coordinates          end_coordinates  \\\n",
       "0  (42.37199165408676, -71.12226963043213)  (42.373268, -71.118579)   \n",
       "\n",
       "   Distance (KM)  Duration (Seconds)  Speed (km/h)  \\\n",
       "0       0.335418             11860.0      0.101813   \n",
       "\n",
       "                        start_coordinates2         end_coordinates2  \\\n",
       "0  (42.37199165408676, -71.12226963043213)  (42.373268, -71.118579)   \n",
       "\n",
       "   start_hour  \n",
       "0          10  "
      ]
     },
     "execution_count": 23,
     "metadata": {},
     "output_type": "execute_result"
    }
   ],
   "source": [
    "df.head(1)"
   ]
  },
  {
   "cell_type": "code",
   "execution_count": null,
   "id": "5fff1f89-502f-44b3-b759-9caf2e7b1fa7",
   "metadata": {},
   "outputs": [],
   "source": [
    "df.drop(['Unnamed: 0','start_station_id\t','end_station_id','start_station_name','end_station_name','bike_id'], axis=1, inplace=True)"
   ]
  }
 ],
 "metadata": {
  "kernelspec": {
   "display_name": "Python 3 (ipykernel)",
   "language": "python",
   "name": "python3"
  },
  "language_info": {
   "codemirror_mode": {
    "name": "ipython",
    "version": 3
   },
   "file_extension": ".py",
   "mimetype": "text/x-python",
   "name": "python",
   "nbconvert_exporter": "python",
   "pygments_lexer": "ipython3",
   "version": "3.9.7"
  }
 },
 "nbformat": 4,
 "nbformat_minor": 5
}
