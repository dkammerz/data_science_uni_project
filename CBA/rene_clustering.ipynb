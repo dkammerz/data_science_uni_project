{
 "cells": [
  {
   "cell_type": "code",
   "execution_count": 23,
   "id": "59edf09d-42d7-4e81-8a83-2d2f44699cbf",
   "metadata": {},
   "outputs": [],
   "source": [
    "import pandas as pd\n",
    "import numpy as np\n",
    "import matplotlib.pyplot as plt\n",
    "from pandas.plotting import register_matplotlib_converters\n",
    "register_matplotlib_converters()\n",
    "# import seaborn as sns\n",
    "# sns.set()\n",
    "# sns.set_style(\"white\")\n",
    "# sns.set_palette(\"GnBu_d\")\n",
    "\n",
    "# also import these \"new\" libraries \n",
    "# Note: you may have to download an add them to your environment (using e.g. 'conda install -c conda-forge folium')\n",
    "\n",
    "import folium\n",
    "from folium import plugins\n",
    "from folium.plugins import HeatMap\n",
    "from datetime import datetime #for working with times objects\n",
    "from datetime import timedelta #for working with times objects\n",
    "import math\n",
    "import random\n",
    "from pathlib import Path\n",
    "\n",
    "import geopy\n",
    "from geopy.geocoders import GoogleV3\n",
    "from geopy.distance import geodesic"
   ]
  },
  {
   "cell_type": "code",
   "execution_count": 24,
   "id": "eb337568-a680-46d3-9523-55e744c68ec4",
   "metadata": {},
   "outputs": [],
   "source": [
    "df = pd.read_csv(\"../boston_2016_prep_cluster.csv\")\n",
    "df[\"start_time\"] = pd.to_datetime(df[\"start_time\"],format=\"%Y-%m-%d %H:%M:%S\") # FORMAT %Y-%m-%d %H:%M:%S beachte - und :\n",
    "df[\"end_time\"] = pd.to_datetime(df[\"end_time\"],format=\"%Y-%m-%d %H:%M:%S\")"
   ]
  },
  {
   "cell_type": "code",
   "execution_count": 25,
   "id": "c2a36068-9f69-47bb-aad2-04d4a4c2e781",
   "metadata": {},
   "outputs": [
    {
     "data": {
      "text/html": [
       "<div>\n",
       "<style scoped>\n",
       "    .dataframe tbody tr th:only-of-type {\n",
       "        vertical-align: middle;\n",
       "    }\n",
       "\n",
       "    .dataframe tbody tr th {\n",
       "        vertical-align: top;\n",
       "    }\n",
       "\n",
       "    .dataframe thead th {\n",
       "        text-align: right;\n",
       "    }\n",
       "</style>\n",
       "<table border=\"1\" class=\"dataframe\">\n",
       "  <thead>\n",
       "    <tr style=\"text-align: right;\">\n",
       "      <th></th>\n",
       "      <th>Unnamed: 0</th>\n",
       "      <th>start_time</th>\n",
       "      <th>end_time</th>\n",
       "      <th>start_station_id</th>\n",
       "      <th>end_station_id</th>\n",
       "      <th>start_station_name</th>\n",
       "      <th>end_station_name</th>\n",
       "      <th>bike_id</th>\n",
       "      <th>user_type</th>\n",
       "      <th>start_coordinates</th>\n",
       "      <th>end_coordinates</th>\n",
       "      <th>Distance (KM)</th>\n",
       "      <th>Duration (Seconds)</th>\n",
       "      <th>Speed (km/h)</th>\n",
       "      <th>start_coordinates2</th>\n",
       "      <th>end_coordinates2</th>\n",
       "      <th>start_hour</th>\n",
       "    </tr>\n",
       "  </thead>\n",
       "  <tbody>\n",
       "    <tr>\n",
       "      <th>0</th>\n",
       "      <td>1180639</td>\n",
       "      <td>2016-11-26 07:37:15</td>\n",
       "      <td>2016-11-26 15:37:13</td>\n",
       "      <td>218</td>\n",
       "      <td>150</td>\n",
       "      <td>Watermark Seaport</td>\n",
       "      <td>State Street at Channel Center</td>\n",
       "      <td>150</td>\n",
       "      <td>Customer</td>\n",
       "      <td>(42.351586001198456, -71.04569256305693)</td>\n",
       "      <td>(42.344137, -71.052608)</td>\n",
       "      <td>1.00466</td>\n",
       "      <td>28798.0</td>\n",
       "      <td>0.125591</td>\n",
       "      <td>(42.351586001198456, -71.04569256305693)</td>\n",
       "      <td>(42.344137, -71.052608)</td>\n",
       "      <td>7</td>\n",
       "    </tr>\n",
       "  </tbody>\n",
       "</table>\n",
       "</div>"
      ],
      "text/plain": [
       "   Unnamed: 0          start_time            end_time  start_station_id  \\\n",
       "0     1180639 2016-11-26 07:37:15 2016-11-26 15:37:13               218   \n",
       "\n",
       "   end_station_id start_station_name                end_station_name  bike_id  \\\n",
       "0             150  Watermark Seaport  State Street at Channel Center      150   \n",
       "\n",
       "  user_type                         start_coordinates  \\\n",
       "0  Customer  (42.351586001198456, -71.04569256305693)   \n",
       "\n",
       "           end_coordinates  Distance (KM)  Duration (Seconds)  Speed (km/h)  \\\n",
       "0  (42.344137, -71.052608)        1.00466             28798.0      0.125591   \n",
       "\n",
       "                         start_coordinates2         end_coordinates2  \\\n",
       "0  (42.351586001198456, -71.04569256305693)  (42.344137, -71.052608)   \n",
       "\n",
       "   start_hour  \n",
       "0           7  "
      ]
     },
     "execution_count": 25,
     "metadata": {},
     "output_type": "execute_result"
    }
   ],
   "source": [
    "pd.set_option('display.max_columns', None)\n",
    "df.head(1)"
   ]
  },
  {
   "cell_type": "code",
   "execution_count": 28,
   "id": "f292bf05-fb92-432b-bab1-5f2eaa654dae",
   "metadata": {},
   "outputs": [
    {
     "data": {
      "text/plain": [
       "<matplotlib.collections.PathCollection at 0x2ad48aa1f70>"
      ]
     },
     "execution_count": 28,
     "metadata": {},
     "output_type": "execute_result"
    },
    {
     "data": {
      "image/png": "[encoded data removed]",
      "text/plain": [
       "<Figure size 432x288 with 1 Axes>"
      ]
     },
     "metadata": {
      "needs_background": "light"
     },
     "output_type": "display_data"
    }
   ],
   "source": [
    "plt.scatter(df['Duration (Seconds)'], df['Unnamed: 0'])"
   ]
  },
  {
   "cell_type": "code",
   "execution_count": null,
   "id": "ef69aaa2-2cf1-4a35-bfbe-6eb505e29d4d",
   "metadata": {},
   "outputs": [],
   "source": []
  }
 ],
 "metadata": {
  "kernelspec": {
   "display_name": "Python 3 (ipykernel)",
   "language": "python",
   "name": "python3"
  },
  "language_info": {
   "codemirror_mode": {
    "name": "ipython",
    "version": 3
   },
   "file_extension": ".py",
   "mimetype": "text/x-python",
   "name": "python",
   "nbconvert_exporter": "python",
   "pygments_lexer": "ipython3",
   "version": "3.9.7"
  }
 },
 "nbformat": 4,
 "nbformat_minor": 5
}
