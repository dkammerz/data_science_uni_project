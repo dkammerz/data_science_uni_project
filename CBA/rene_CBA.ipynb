{
 "cells": [
  {
   "cell_type": "code",
   "execution_count": 1,
   "id": "9c97ecb0-d2b3-4833-9ee5-aa30566cacbc",
   "metadata": {},
   "outputs": [],
   "source": [
    "import pandas as pd\n",
    "import numpy as np\n",
    "import matplotlib.pyplot as plt\n",
    "from pandas.plotting import register_matplotlib_converters\n",
    "register_matplotlib_converters()\n",
    "# import seaborn as sns\n",
    "# sns.set()\n",
    "# sns.set_style(\"white\")\n",
    "# sns.set_palette(\"GnBu_d\")\n",
    "\n",
    "# also import these \"new\" libraries \n",
    "# Note: you may have to download an add them to your environment (using e.g. 'conda install -c conda-forge folium')\n",
    "\n",
    "import folium\n",
    "from folium import plugins\n",
    "from folium.plugins import HeatMap\n",
    "from datetime import datetime #for working with times objects\n",
    "from datetime import timedelta #for working with times objects\n",
    "import math\n",
    "import random\n",
    "from pathlib import Path\n",
    "\n",
    "import geopy\n",
    "from geopy.geocoders import GoogleV3\n",
    "from geopy.distance import geodesic"
   ]
  },
  {
   "cell_type": "code",
   "execution_count": 2,
   "id": "59c16ea2-94b9-4b3b-b136-2b2f43bbd970",
   "metadata": {},
   "outputs": [],
   "source": [
    "def get_date (ts):\n",
    "    return ts.date()\n",
    "\n",
    "def get_weekday (ts):\n",
    "    return ts.weekday()\n",
    "\n",
    "def get_hour (ts):\n",
    "    return ts.hour\n",
    "\n",
    "def get_minute (ts):\n",
    "    return ts.minute\n",
    "\n",
    "def calc_distances(start_point,end_point):\n",
    "    return geopy.distance.geodesic( start_point, end_point ).km\n",
    "\n",
    "def calc_durations(end_time,start_time):\n",
    "    return (end_time - start_time).total_seconds()"
   ]
  },
  {
   "cell_type": "code",
   "execution_count": 3,
   "id": "7951bcca-aa8b-4d4b-b899-28e4352e263a",
   "metadata": {},
   "outputs": [],
   "source": [
    "df = pd.read_csv(\"../boston_2016_distance_duration_speed.csv\")\n",
    "df[\"start_time\"] = pd.to_datetime(df[\"start_time\"],format=\"%Y-%m-%d %H:%M:%S\") # FORMAT %Y-%m-%d %H:%M:%S beachte - und :\n",
    "df[\"end_time\"] = pd.to_datetime(df[\"end_time\"],format=\"%Y-%m-%d %H:%M:%S\")"
   ]
  },
  {
   "cell_type": "code",
   "execution_count": 4,
   "id": "205b5ca7-1d61-43cc-8dab-a98cf85adb2e",
   "metadata": {},
   "outputs": [
    {
     "name": "stdout",
     "output_type": "stream",
     "text": [
      "1800\n"
     ]
    }
   ],
   "source": [
    "print(len(df[\"bike_id\"].unique()))"
   ]
  },
  {
   "cell_type": "code",
   "execution_count": 5,
   "id": "41a4ebc2-d038-4a8c-b831-8a4b7386acb6",
   "metadata": {},
   "outputs": [
    {
     "name": "stdout",
     "output_type": "stream",
     "text": [
      "274\n"
     ]
    }
   ],
   "source": [
    "print(len(df[\"start_station_name\"].unique()))"
   ]
  },
  {
   "cell_type": "code",
   "execution_count": 6,
   "id": "39efdcbf-94f6-4b3f-9c7a-fdcad396f6e9",
   "metadata": {},
   "outputs": [
    {
     "name": "stdout",
     "output_type": "stream",
     "text": [
      "187\n"
     ]
    }
   ],
   "source": [
    "print(len(df[\"start_station_id\"].unique()))"
   ]
  },
  {
   "cell_type": "code",
   "execution_count": 7,
   "id": "830c417a-8b4e-471f-b6d4-f8701c3cefc4",
   "metadata": {},
   "outputs": [
    {
     "data": {
      "text/html": [
       "<div>\n",
       "<style scoped>\n",
       "    .dataframe tbody tr th:only-of-type {\n",
       "        vertical-align: middle;\n",
       "    }\n",
       "\n",
       "    .dataframe tbody tr th {\n",
       "        vertical-align: top;\n",
       "    }\n",
       "\n",
       "    .dataframe thead th {\n",
       "        text-align: right;\n",
       "    }\n",
       "</style>\n",
       "<table border=\"1\" class=\"dataframe\">\n",
       "  <thead>\n",
       "    <tr style=\"text-align: right;\">\n",
       "      <th></th>\n",
       "      <th>Unnamed: 0</th>\n",
       "      <th>start_time</th>\n",
       "      <th>end_time</th>\n",
       "      <th>start_station_id</th>\n",
       "      <th>end_station_id</th>\n",
       "      <th>start_station_name</th>\n",
       "      <th>end_station_name</th>\n",
       "      <th>bike_id</th>\n",
       "      <th>user_type</th>\n",
       "      <th>start_coordinates</th>\n",
       "      <th>end_coordinates</th>\n",
       "      <th>Distance (KM)</th>\n",
       "      <th>Duration (Seconds)</th>\n",
       "      <th>Speed (km/h)</th>\n",
       "    </tr>\n",
       "  </thead>\n",
       "  <tbody>\n",
       "    <tr>\n",
       "      <th>0</th>\n",
       "      <td>0</td>\n",
       "      <td>2016-01-01 00:08:07</td>\n",
       "      <td>2016-01-01 00:40:26</td>\n",
       "      <td>36</td>\n",
       "      <td>19</td>\n",
       "      <td>Boston Public Library - 700 Boylston St.</td>\n",
       "      <td>Buswell St. at Park Dr.</td>\n",
       "      <td>1406</td>\n",
       "      <td>Subscriber</td>\n",
       "      <td>(42.349673, -71.077303)</td>\n",
       "      <td>(42.347241, -71.105301)</td>\n",
       "      <td>2.322721</td>\n",
       "      <td>1939.0</td>\n",
       "      <td>4.312426</td>\n",
       "    </tr>\n",
       "    <tr>\n",
       "      <th>1</th>\n",
       "      <td>1</td>\n",
       "      <td>2016-01-01 00:08:19</td>\n",
       "      <td>2016-01-01 00:40:27</td>\n",
       "      <td>36</td>\n",
       "      <td>19</td>\n",
       "      <td>Boston Public Library - 700 Boylston St.</td>\n",
       "      <td>Buswell St. at Park Dr.</td>\n",
       "      <td>1121</td>\n",
       "      <td>Subscriber</td>\n",
       "      <td>(42.349673, -71.077303)</td>\n",
       "      <td>(42.347241, -71.105301)</td>\n",
       "      <td>2.322721</td>\n",
       "      <td>1928.0</td>\n",
       "      <td>4.337030</td>\n",
       "    </tr>\n",
       "    <tr>\n",
       "      <th>2</th>\n",
       "      <td>2</td>\n",
       "      <td>2016-01-01 00:10:15</td>\n",
       "      <td>2016-01-01 00:40:29</td>\n",
       "      <td>36</td>\n",
       "      <td>19</td>\n",
       "      <td>Boston Public Library - 700 Boylston St.</td>\n",
       "      <td>Buswell St. at Park Dr.</td>\n",
       "      <td>474</td>\n",
       "      <td>Subscriber</td>\n",
       "      <td>(42.349673, -71.077303)</td>\n",
       "      <td>(42.347241, -71.105301)</td>\n",
       "      <td>2.322721</td>\n",
       "      <td>1814.0</td>\n",
       "      <td>4.609589</td>\n",
       "    </tr>\n",
       "    <tr>\n",
       "      <th>3</th>\n",
       "      <td>3</td>\n",
       "      <td>2016-01-01 00:10:22</td>\n",
       "      <td>2016-01-01 00:40:11</td>\n",
       "      <td>36</td>\n",
       "      <td>19</td>\n",
       "      <td>Boston Public Library - 700 Boylston St.</td>\n",
       "      <td>Buswell St. at Park Dr.</td>\n",
       "      <td>1504</td>\n",
       "      <td>Subscriber</td>\n",
       "      <td>(42.349673, -71.077303)</td>\n",
       "      <td>(42.347241, -71.105301)</td>\n",
       "      <td>2.322721</td>\n",
       "      <td>1789.0</td>\n",
       "      <td>4.674004</td>\n",
       "    </tr>\n",
       "    <tr>\n",
       "      <th>4</th>\n",
       "      <td>4</td>\n",
       "      <td>2016-01-01 00:15:36</td>\n",
       "      <td>2016-01-01 00:31:17</td>\n",
       "      <td>36</td>\n",
       "      <td>67</td>\n",
       "      <td>Boston Public Library - 700 Boylston St.</td>\n",
       "      <td>MIT at Mass Ave / Amherst St</td>\n",
       "      <td>913</td>\n",
       "      <td>Customer</td>\n",
       "      <td>(42.349673, -71.077303)</td>\n",
       "      <td>(42.3581, -71.093198)</td>\n",
       "      <td>1.609739</td>\n",
       "      <td>941.0</td>\n",
       "      <td>6.158407</td>\n",
       "    </tr>\n",
       "  </tbody>\n",
       "</table>\n",
       "</div>"
      ],
      "text/plain": [
       "   Unnamed: 0          start_time            end_time  start_station_id  \\\n",
       "0           0 2016-01-01 00:08:07 2016-01-01 00:40:26                36   \n",
       "1           1 2016-01-01 00:08:19 2016-01-01 00:40:27                36   \n",
       "2           2 2016-01-01 00:10:15 2016-01-01 00:40:29                36   \n",
       "3           3 2016-01-01 00:10:22 2016-01-01 00:40:11                36   \n",
       "4           4 2016-01-01 00:15:36 2016-01-01 00:31:17                36   \n",
       "\n",
       "   end_station_id                        start_station_name  \\\n",
       "0              19  Boston Public Library - 700 Boylston St.   \n",
       "1              19  Boston Public Library - 700 Boylston St.   \n",
       "2              19  Boston Public Library - 700 Boylston St.   \n",
       "3              19  Boston Public Library - 700 Boylston St.   \n",
       "4              67  Boston Public Library - 700 Boylston St.   \n",
       "\n",
       "               end_station_name  bike_id   user_type        start_coordinates  \\\n",
       "0       Buswell St. at Park Dr.     1406  Subscriber  (42.349673, -71.077303)   \n",
       "1       Buswell St. at Park Dr.     1121  Subscriber  (42.349673, -71.077303)   \n",
       "2       Buswell St. at Park Dr.      474  Subscriber  (42.349673, -71.077303)   \n",
       "3       Buswell St. at Park Dr.     1504  Subscriber  (42.349673, -71.077303)   \n",
       "4  MIT at Mass Ave / Amherst St      913    Customer  (42.349673, -71.077303)   \n",
       "\n",
       "           end_coordinates  Distance (KM)  Duration (Seconds)  Speed (km/h)  \n",
       "0  (42.347241, -71.105301)       2.322721              1939.0      4.312426  \n",
       "1  (42.347241, -71.105301)       2.322721              1928.0      4.337030  \n",
       "2  (42.347241, -71.105301)       2.322721              1814.0      4.609589  \n",
       "3  (42.347241, -71.105301)       2.322721              1789.0      4.674004  \n",
       "4    (42.3581, -71.093198)       1.609739               941.0      6.158407  "
      ]
     },
     "execution_count": 7,
     "metadata": {},
     "output_type": "execute_result"
    }
   ],
   "source": [
    "df.head()"
   ]
  },
  {
   "cell_type": "code",
   "execution_count": 8,
   "id": "2b7842ff-39cb-4f6b-ab70-130ccaf764fe",
   "metadata": {
    "tags": []
   },
   "outputs": [],
   "source": [
    "#Daten von BlueBikes\n",
    "\n",
    "# df_bluebikes_01 = pd.read_csv(\"201601-hubway-tripdata.csv\")\n",
    "# df_bluebikes_02 = pd.read_csv(\"201602-hubway-tripdata.csv\")\n",
    "# df_bluebikes_03 = pd.read_csv(\"201603-hubway-tripdata.csv\")\n",
    "# df_bluebikes_04 = pd.read_csv(\"201604-hubway-tripdata.csv\")\n",
    "# df_bluebikes_05 = pd.read_csv(\"201605-hubway-tripdata.csv\")\n",
    "# df_bluebikes_06 = pd.read_csv(\"201606-hubway-tripdata.csv\")\n",
    "# df_bluebikes_07 = pd.read_csv(\"201607-hubway-tripdata.csv\")\n",
    "# df_bluebikes_08 = pd.read_csv(\"201608-hubway-tripdata.csv\")\n",
    "# df_bluebikes_09 = pd.read_csv(\"201609-hubway-tripdata.csv\")\n",
    "# df_bluebikes_10 = pd.read_csv(\"201610-hubway-tripdata.csv\")\n",
    "# df_bluebikes_11 = pd.read_csv(\"201611-hubway-tripdata.csv\")\n",
    "# df_bluebikes_12 = pd.read_csv(\"201612-hubway-tripdata.csv\")"
   ]
  },
  {
   "cell_type": "code",
   "execution_count": 9,
   "id": "21310f1a-ed6b-4251-a563-30b6e3ff2da2",
   "metadata": {
    "tags": []
   },
   "outputs": [],
   "source": [
    "#Daten von Bluebikes MeRgEd\n",
    "\n",
    "# df_bluebikes_all = pd.concat([df_bluebikes_01, \n",
    "#                             df_bluebikes_02,\n",
    "#                             df_bluebikes_03,\n",
    "#                             df_bluebikes_03,\n",
    "#                             df_bluebikes_04,\n",
    "#                             df_bluebikes_05,\n",
    "#                             df_bluebikes_06,\n",
    "#                             df_bluebikes_07,\n",
    "#                             df_bluebikes_08,\n",
    "#                             df_bluebikes_09,\n",
    "#                             df_bluebikes_10,\n",
    "#                             df_bluebikes_11,\n",
    "#                             df_bluebikes_12], axis=0)"
   ]
  },
  {
   "cell_type": "code",
   "execution_count": 10,
   "id": "60a60291-ba6b-4f35-9cb7-6d171d1aebb3",
   "metadata": {},
   "outputs": [],
   "source": [
    "# print(len(df_bluebikes_all[\"start station id\"].unique()))"
   ]
  },
  {
   "cell_type": "code",
   "execution_count": 11,
   "id": "a445bdd7-6f58-42b3-9152-8042c9b70af3",
   "metadata": {},
   "outputs": [],
   "source": [
    "#Unique Cords exportiert\n",
    "\n",
    "# df_bluebikes_all.drop(['tripduration','starttime','stoptime','end station id', 'end station name', 'end station latitude','end station longitude', 'bikeid', 'usertype', 'birth year','gender'], axis=1, inplace=True)\n",
    "# df_bluebikes_all.sort_values([\"start station id\"],axis=0, ascending=True,inplace=True,na_position='first')\n",
    "# df_bluebikes_all = df_bluebikes_all.drop_duplicates(subset=['start station id'])\n",
    "# filepath = Path('C:/Users/rfrei/Desktop/all_station_id.csv')\n",
    "# filepath.parent.mkdir(parents=True, exist_ok=True)\n",
    "# df_bluebikes_all.to_csv(filepath)"
   ]
  },
  {
   "cell_type": "code",
   "execution_count": 12,
   "id": "aa115c2e-9703-4b72-9c10-f8a41af5ad6f",
   "metadata": {},
   "outputs": [],
   "source": [
    "#BlueBikes Station_ID einlesen\n",
    "\n",
    "#all_station_id = pd.read_csv(\"all_station_id.csv\")"
   ]
  },
  {
   "cell_type": "code",
   "execution_count": 13,
   "id": "f65d6210-91a0-44cb-99c9-e35e60a1a39b",
   "metadata": {},
   "outputs": [],
   "source": [
    "#ID's der einzelnen Stations werden als Float - Platzhalter den jeweiligen Routen hinzugefügt, damit\n",
    "#diese dann anschließend mit 'Lat' und 'Long' Coords ersetzt werden können\n",
    "\n",
    "#df[\"start_lat\"] = pd.to_numeric(df[\"start_station_id\"], downcast=\"float\")\n",
    "#df[\"start_long\"] = pd.to_numeric(df[\"start_station_id\"], downcast=\"float\")\n",
    "#df[\"end_lat\"] = pd.to_numeric(df[\"end_station_id\"], downcast=\"float\")\n",
    "#df[\"end_long\"] = pd.to_numeric(df[\"end_station_id\"], downcast=\"float\")"
   ]
  },
  {
   "cell_type": "code",
   "execution_count": 14,
   "id": "5119f6a4-7025-4335-91c9-b63634e70d09",
   "metadata": {},
   "outputs": [],
   "source": [
    "#Hier werden die Float - Platzhalter dann mit den jeweiligen Cords ersetzt"
   ]
  },
  {
   "cell_type": "code",
   "execution_count": 15,
   "id": "6724d905-a3b1-4c3b-990e-f84bc8a1b06e",
   "metadata": {},
   "outputs": [],
   "source": [
    "#df['start_lat'] = df['start_lat'].replace([1,3,4,5,6,7,8,9,10,11,12,13,14,15,16,17,19,20,21,22,23,24,25,26,27,29,30,31,32,33,35,36,37,38,39,40,41,42,43,44,45,46,47,48,49,50,51,52,53,54,55,56,57,58,59,60,61,63,64,65,66,67,68,69,70,71,72,73,74,75,76,77,78,79,80,81,82,84,85,87,88,89,90,91,92,93,94,95,96,97,98,99,100,102,103,104,105,106,107,108,109,110,111,112,113,114,115,116,117,118,119,120,121,122,124,125,126,128,129,130,131,133,134,135,136,137,138,139,140,141,142,143,145,146,149,150,151,152,153,158,159,160,161,162,163,167,169,170,171,173,174,175,176,177,178,179,180,183,184,185,186,189,190,192,193,194,195,196,197,199,200,201,202,203,204,205,207,208,209,210,211,212,213,214,215,216,217,218,219],[42.387151,42.340021,42.345392,42.341814,42.361174,42.35328743453294,42.353334,42.351246,42.350406,42.338629,42.335911,42.336437,42.337171,42.361667,42.34807412317439,42.365064,42.347241,42.35977,42.345959,42.352175,42.35892,42.351205,42.341332,42.341522,42.331184,42.363732,42.334073,42.348833,42.34519428944095,42.348706,42.355402,42.349673,42.357402,42.366222,42.33849279283789,42.363871,42.352261,42.352033,42.357143,42.360613,42.344706,42.343864,42.362811,42.356755,42.351146,42.350989,42.3348756,42.34872432400896,42.350851,42.354979,42.347265,42.328654,42.340799,42.355596,42.351356,42.360624982690496,42.348762,42.344023,42.3511,42.3475,42.348607,42.3581,42.36507,42.341598,42.37199165408676,42.383405,42.362613,42.373231,42.373268,42.36346469304347,42.366426,42.386844,42.379637,42.37842,42.3619622,42.352409,42.339335,42.366981,42.378338,42.366621,42.374035,42.379011,42.370677,42.366277,42.3139036,42.320494,42.375603,42.372969,42.373379,42.36919031768079,42.371848,42.385582,42.396969,42.400877,42.346563,42.380287,42.357218503176526,42.325333,42.3625,42.377945,42.36588481543564,42.376369,42.40449,42.39082,42.330716,42.402763,42.387995,42.370803,42.366095,42.397828,42.335741,42.356052,42.335693,42.345733,42.309054,42.320998,42.315692,42.320561,42.377022,42.31756858003556,42.322701,42.310579,42.350413,42.344827,42.344796,42.398365,42.326599,42.361589,42.388966,42.36356015842989,42.396105,42.369885,42.392766,42.336448,42.363796,42.344137,42.358155,42.345901,42.3601,42.3601,42.32797270205962,42.337596,42.3391085,42.309796,42.344792,42.317642,42.378965,42.303469,42.37408991426522,42.310599,42.34900494405213,42.34894857235593,42.38674802045056,42.36264779118595,42.35957320109044,42.35560121327927,42.37478628706384,42.39558845716709,42.35775309465199,42.36544486137399,42.3482032222746,42.3624278429124,42.36559770612416,42.354686,42.33289074055233,42.38614141163957,42.3720597013741,42.31787329345602,42.321678,42.31884382360106,42.33282815812448,42.316873,42.308035,42.309566,42.324069,42.30791912678712,42.35480179069945,42.35057,42.37980321246644,42.38337841883669,42.36489045541549,42.3688385713652,42.369562869377,42.37536686015489,42.37078454600501,42.38244736415864,42.38673178529929,42.351586001198456,42.37430131617823])"
   ]
  },
  {
   "cell_type": "code",
   "execution_count": 16,
   "id": "b54f17a4-7e81-4320-91cf-b5c2559bfaf9",
   "metadata": {},
   "outputs": [],
   "source": [
    "#df['start_long'] = df['start_long'].replace([1,3,4,5,6,7,8,9,10,11,12,13,14,15,16,17,19,20,21,22,23,24,25,26,27,29,30,31,32,33,35,36,37,38,39,40,41,42,43,44,45,46,47,48,49,50,51,52,53,54,55,56,57,58,59,60,61,63,64,65,66,67,68,69,70,71,72,73,74,75,76,77,78,79,80,81,82,84,85,87,88,89,90,91,92,93,94,95,96,97,98,99,100,102,103,104,105,106,107,108,109,110,111,112,113,114,115,116,117,118,119,120,121,122,124,125,126,128,129,130,131,133,134,135,136,137,138,139,140,141,142,143,145,146,149,150,151,152,153,158,159,160,161,162,163,167,169,170,171,173,174,175,176,177,178,179,180,183,184,185,186,189,190,192,193,194,195,196,197,199,200,201,202,203,204,205,207,208,209,210,211,212,213,214,215,216,217,218,219],[-71.075978,-71.100812,-71.069616,-71.090179,-71.065142,-71.04438900947571,-71.137313,-71.115639,-71.108279,-71.1065,-71.088496,-71.073089,-71.102797,-71.13802,-71.07657015323639,-71.119233,-71.105301,-71.051601,-71.082578,-71.055547,-71.057629,-71.043983,-71.076847,-71.068922,-71.095171,-71.124565,-71.105221,-71.041747,-71.1016970872879,-71.097009,-71.058087,-71.077303,-71.147782,-71.059914,-71.07401937246323,-71.050877,-71.123831,-71.070627,-71.050699,-71.057452,-71.097515,-71.085918,-71.056067,-71.055407,-71.066289,-71.073644,-71.0790969,-71.08583986759186,-71.089886,-71.063348,-71.088088,-71.084198,-71.081572,-71.07278,-71.059367,-71.0708999633789,-71.082383,-71.057054,-71.0496,-71.0441,-71.13401,-71.093198,-71.1031,-71.123338,-71.12226963043213,-71.107593,-71.084105,-71.120886,-71.118579,-71.10057324171066,-71.105495,-71.09812,-71.095319,-71.105668,-71.0920526,-71.062679,-71.13493,-71.076472,-71.048927,-71.114214,-71.101427,-71.119945,-71.076529,-71.09169,-71.0405121,-71.051122,-71.064608,-71.094445,-71.111075,-71.11714124679565,-71.060292,-71.113341,-71.123024,-71.116772,-71.128374,-71.125107,-71.1138716340065,-71.075354,-71.08822,-71.116865,-71.06454849243164,-71.114025,-71.123413,-71.10942,-71.057044,-71.126908,-71.119084,-71.104412,-71.086388,-71.130516,-71.03877,-71.069849,-71.045859,-71.100694,-71.11543,-71.110833,-71.098634,-71.06198,-71.056605,-71.06403708501603,-71.099533,-71.107341,-71.07655,-71.028664,-71.031614,-71.107818,-71.066498,-71.107437,-71.132788,-71.08216792345047,-71.139459,-71.069957,-71.129042,-71.023739,-71.129164,-71.052608,-71.052163,-71.063187,-71.0589,-71.0589,-71.11089706420898,-71.096391,-71.0514432,-71.092225,-71.044024,-71.056664,-71.068607,-71.085347,-71.06905996799469,-71.053927,-71.1604106426239,-71.15027189254761,-71.11901879310608,-71.10006093978882,-71.10129475593567,-71.10394477844238,-71.13320231437683,-71.14260613918304,-71.10393404960632,-71.08277142047882,-71.0376513004303,-71.08495473861694,-71.06424808502197,-71.053292,-71.11658334732056,-71.07828140258789,-71.07202649116516,-71.08243077993393,-71.091822,-71.06975734233856,-71.08126938343048,-71.091955,-71.081159,-71.072863,-71.083162,-71.06502056121826,-71.15025043487549,-71.166491,-71.02744817733765,-71.01612031481636,-71.0350424052376,-71.03976666949166,-71.03942692279814,-71.03135883808136,-71.04426160454749,-71.0302323102951,-71.00621223455164,-71.04569256305693,-71.03808671246952])"
   ]
  },
  {
   "cell_type": "code",
   "execution_count": 17,
   "id": "342c6e07-3e39-456b-ae2d-15504fd7a5d6",
   "metadata": {},
   "outputs": [],
   "source": [
    "#df['end_lat'] = df['end_lat'].replace([1,3,4,5,6,7,8,9,10,11,12,13,14,15,16,17,19,20,21,22,23,24,25,26,27,29,30,31,32,33,35,36,37,38,39,40,41,42,43,44,45,46,47,48,49,50,51,52,53,54,55,56,57,58,59,60,61,63,64,65,66,67,68,69,70,71,72,73,74,75,76,77,78,79,80,81,82,84,85,87,88,89,90,91,92,93,94,95,96,97,98,99,100,102,103,104,105,106,107,108,109,110,111,112,113,114,115,116,117,118,119,120,121,122,124,125,126,128,129,130,131,133,134,135,136,137,138,139,140,141,142,143,145,146,149,150,151,152,153,158,159,160,161,162,163,167,169,170,171,173,174,175,176,177,178,179,180,183,184,185,186,189,190,192,193,194,195,196,197,199,200,201,202,203,204,205,207,208,209,210,211,212,213,214,215,216,217,218,219],[42.387151,42.340021,42.345392,42.341814,42.361174,42.35328743453294,42.353334,42.351246,42.350406,42.338629,42.335911,42.336437,42.337171,42.361667,42.34807412317439,42.365064,42.347241,42.35977,42.345959,42.352175,42.35892,42.351205,42.341332,42.341522,42.331184,42.363732,42.334073,42.348833,42.34519428944095,42.348706,42.355402,42.349673,42.357402,42.366222,42.33849279283789,42.363871,42.352261,42.352033,42.357143,42.360613,42.344706,42.343864,42.362811,42.356755,42.351146,42.350989,42.3348756,42.34872432400896,42.350851,42.354979,42.347265,42.328654,42.340799,42.355596,42.351356,42.360624982690496,42.348762,42.344023,42.3511,42.3475,42.348607,42.3581,42.36507,42.341598,42.37199165408676,42.383405,42.362613,42.373231,42.373268,42.36346469304347,42.366426,42.386844,42.379637,42.37842,42.3619622,42.352409,42.339335,42.366981,42.378338,42.366621,42.374035,42.379011,42.370677,42.366277,42.3139036,42.320494,42.375603,42.372969,42.373379,42.36919031768079,42.371848,42.385582,42.396969,42.400877,42.346563,42.380287,42.357218503176526,42.325333,42.3625,42.377945,42.36588481543564,42.376369,42.40449,42.39082,42.330716,42.402763,42.387995,42.370803,42.366095,42.397828,42.335741,42.356052,42.335693,42.345733,42.309054,42.320998,42.315692,42.320561,42.377022,42.31756858003556,42.322701,42.310579,42.350413,42.344827,42.344796,42.398365,42.326599,42.361589,42.388966,42.36356015842989,42.396105,42.369885,42.392766,42.336448,42.363796,42.344137,42.358155,42.345901,42.3601,42.3601,42.32797270205962,42.337596,42.3391085,42.309796,42.344792,42.317642,42.378965,42.303469,42.37408991426522,42.310599,42.34900494405213,42.34894857235593,42.38674802045056,42.36264779118595,42.35957320109044,42.35560121327927,42.37478628706384,42.39558845716709,42.35775309465199,42.36544486137399,42.3482032222746,42.3624278429124,42.36559770612416,42.354686,42.33289074055233,42.38614141163957,42.3720597013741,42.31787329345602,42.321678,42.31884382360106,42.33282815812448,42.316873,42.308035,42.309566,42.324069,42.30791912678712,42.35480179069945,42.35057,42.37980321246644,42.38337841883669,42.36489045541549,42.3688385713652,42.369562869377,42.37536686015489,42.37078454600501,42.38244736415864,42.38673178529929,42.351586001198456,42.37430131617823])"
   ]
  },
  {
   "cell_type": "code",
   "execution_count": 18,
   "id": "e1a3aa0f-55cd-4a6c-870b-b070302fb94f",
   "metadata": {},
   "outputs": [],
   "source": [
    "#df['end_long'] = df['end_long'].replace([1,3,4,5,6,7,8,9,10,11,12,13,14,15,16,17,19,20,21,22,23,24,25,26,27,29,30,31,32,33,35,36,37,38,39,40,41,42,43,44,45,46,47,48,49,50,51,52,53,54,55,56,57,58,59,60,61,63,64,65,66,67,68,69,70,71,72,73,74,75,76,77,78,79,80,81,82,84,85,87,88,89,90,91,92,93,94,95,96,97,98,99,100,102,103,104,105,106,107,108,109,110,111,112,113,114,115,116,117,118,119,120,121,122,124,125,126,128,129,130,131,133,134,135,136,137,138,139,140,141,142,143,145,146,149,150,151,152,153,158,159,160,161,162,163,167,169,170,171,173,174,175,176,177,178,179,180,183,184,185,186,189,190,192,193,194,195,196,197,199,200,201,202,203,204,205,207,208,209,210,211,212,213,214,215,216,217,218,219],[-71.075978,-71.100812,-71.069616,-71.090179,-71.065142,-71.04438900947571,-71.137313,-71.115639,-71.108279,-71.1065,-71.088496,-71.073089,-71.102797,-71.13802,-71.07657015323639,-71.119233,-71.105301,-71.051601,-71.082578,-71.055547,-71.057629,-71.043983,-71.076847,-71.068922,-71.095171,-71.124565,-71.105221,-71.041747,-71.1016970872879,-71.097009,-71.058087,-71.077303,-71.147782,-71.059914,-71.07401937246323,-71.050877,-71.123831,-71.070627,-71.050699,-71.057452,-71.097515,-71.085918,-71.056067,-71.055407,-71.066289,-71.073644,-71.0790969,-71.08583986759186,-71.089886,-71.063348,-71.088088,-71.084198,-71.081572,-71.07278,-71.059367,-71.0708999633789,-71.082383,-71.057054,-71.0496,-71.0441,-71.13401,-71.093198,-71.1031,-71.123338,-71.12226963043213,-71.107593,-71.084105,-71.120886,-71.118579,-71.10057324171066,-71.105495,-71.09812,-71.095319,-71.105668,-71.0920526,-71.062679,-71.13493,-71.076472,-71.048927,-71.114214,-71.101427,-71.119945,-71.076529,-71.09169,-71.0405121,-71.051122,-71.064608,-71.094445,-71.111075,-71.11714124679565,-71.060292,-71.113341,-71.123024,-71.116772,-71.128374,-71.125107,-71.1138716340065,-71.075354,-71.08822,-71.116865,-71.06454849243164,-71.114025,-71.123413,-71.10942,-71.057044,-71.126908,-71.119084,-71.104412,-71.086388,-71.130516,-71.03877,-71.069849,-71.045859,-71.100694,-71.11543,-71.110833,-71.098634,-71.06198,-71.056605,-71.06403708501603,-71.099533,-71.107341,-71.07655,-71.028664,-71.031614,-71.107818,-71.066498,-71.107437,-71.132788,-71.08216792345047,-71.139459,-71.069957,-71.129042,-71.023739,-71.129164,-71.052608,-71.052163,-71.063187,-71.0589,-71.0589,-71.11089706420898,-71.096391,-71.0514432,-71.092225,-71.044024,-71.056664,-71.068607,-71.085347,-71.06905996799469,-71.053927,-71.1604106426239,-71.15027189254761,-71.11901879310608,-71.10006093978882,-71.10129475593567,-71.10394477844238,-71.13320231437683,-71.14260613918304,-71.10393404960632,-71.08277142047882,-71.0376513004303,-71.08495473861694,-71.06424808502197,-71.053292,-71.11658334732056,-71.07828140258789,-71.07202649116516,-71.08243077993393,-71.091822,-71.06975734233856,-71.08126938343048,-71.091955,-71.081159,-71.072863,-71.083162,-71.06502056121826,-71.15025043487549,-71.166491,-71.02744817733765,-71.01612031481636,-71.0350424052376,-71.03976666949166,-71.03942692279814,-71.03135883808136,-71.04426160454749,-71.0302323102951,-71.00621223455164,-71.04569256305693,-71.03808671246952])"
   ]
  },
  {
   "cell_type": "code",
   "execution_count": 19,
   "id": "471cebc7-566a-4061-8c31-abf45450b553",
   "metadata": {},
   "outputs": [],
   "source": [
    "#Anschließend werden aus 'lat' und 'long' die Coords gebildet"
   ]
  },
  {
   "cell_type": "code",
   "execution_count": 20,
   "id": "be9130ad-0a2d-42e0-aba4-86a99481b0f5",
   "metadata": {},
   "outputs": [],
   "source": [
    "#df[\"start_coordinates\"] = list(zip(df[\"start_lat\"],df[\"start_long\"]))"
   ]
  },
  {
   "cell_type": "code",
   "execution_count": 21,
   "id": "610d9c3b-aac7-48f7-a176-3efa0b9e1bcb",
   "metadata": {},
   "outputs": [],
   "source": [
    "#df[\"end_coordinates\"] = list(zip(df[\"end_lat\"],df[\"end_long\"]))"
   ]
  },
  {
   "cell_type": "code",
   "execution_count": 22,
   "id": "46d0103f-5210-4a94-97d3-5711af21b27e",
   "metadata": {},
   "outputs": [],
   "source": [
    "# df.drop(['start_lat','end_lat','start_long','end_long'], axis=1, inplace=True)"
   ]
  },
  {
   "cell_type": "code",
   "execution_count": 23,
   "id": "b0a4d57b-d117-4ba9-a5eb-f298b5d79144",
   "metadata": {},
   "outputs": [],
   "source": [
    "#df['Distance (KM)'] = df.apply(lambda row: calc_distances(row.start_coordinates, row.end_coordinates), axis=1)"
   ]
  },
  {
   "cell_type": "code",
   "execution_count": 24,
   "id": "84c2c041-ec58-494b-b6f2-b3f1839df1c3",
   "metadata": {},
   "outputs": [],
   "source": [
    "# df[\"Duration (Seconds)\"] = df.apply(lambda row: calc_durations(row.end_time,row.start_time), axis=1)"
   ]
  },
  {
   "cell_type": "code",
   "execution_count": 25,
   "id": "1a0e8ece-41c3-4ece-9cb0-26277c0546f4",
   "metadata": {},
   "outputs": [],
   "source": [
    "# df.head(598581) Trip mit 8D OPS 03 Canada 01 hat Coordinates 0,0 ......WTF"
   ]
  },
  {
   "cell_type": "code",
   "execution_count": 26,
   "id": "a20053d1-2256-4e94-bc47-345901b730ef",
   "metadata": {},
   "outputs": [],
   "source": [
    "# df['Distance (KM)'] = df.apply(lambda row: calc_distances(row.start_coordinates, row.end_coordinates), axis=1)"
   ]
  },
  {
   "cell_type": "code",
   "execution_count": null,
   "id": "2211e7bf-89b4-4ba9-977e-a5109c5e3947",
   "metadata": {},
   "outputs": [],
   "source": []
  },
  {
   "cell_type": "code",
   "execution_count": 27,
   "id": "6fecca28-0f95-43e8-9f55-a47bb14e7a7c",
   "metadata": {},
   "outputs": [],
   "source": [
    "# df[\"Speed (km/h)\"] = (df[\"Distance (KM)\"]/(df[\"Duration (Seconds)\"]/3600))"
   ]
  },
  {
   "cell_type": "code",
   "execution_count": null,
   "id": "98299ba0-66cb-499e-a871-e9cb0c164bf6",
   "metadata": {},
   "outputs": [],
   "source": []
  },
  {
   "cell_type": "code",
   "execution_count": 28,
   "id": "1fdf3aa9-01cd-446f-8741-099c0b0f64c4",
   "metadata": {},
   "outputs": [],
   "source": [
    "# df.sort_values([\"Speed (km/h)\"],axis=0, ascending=False,inplace=True,na_position='first')"
   ]
  },
  {
   "cell_type": "code",
   "execution_count": null,
   "id": "6d25815e-4598-48e9-86c7-1792ece276ea",
   "metadata": {},
   "outputs": [],
   "source": []
  },
  {
   "cell_type": "code",
   "execution_count": 29,
   "id": "0f90e8c7-fe21-4b23-aeaf-568758b528bd",
   "metadata": {},
   "outputs": [],
   "source": [
    "# df.drop([\"Unnamed: 0\"], axis=1, inplace=True)"
   ]
  },
  {
   "cell_type": "code",
   "execution_count": 30,
   "id": "fd5bf3c7-aee5-4a23-83d2-d6ebf227da1b",
   "metadata": {},
   "outputs": [],
   "source": [
    "# df.drop([598580], axis=0, inplace=True)\n",
    "# df.drop([598729], axis=0, inplace=True)\n",
    "# df.drop([1072609], axis=0, inplace=True)"
   ]
  },
  {
   "cell_type": "code",
   "execution_count": 31,
   "id": "ee5a64f6-b46f-45e2-9fd2-eefb596632b4",
   "metadata": {},
   "outputs": [],
   "source": [
    "# Löschen alle die schneller als 30km/h sind\n",
    "# df.drop([88647], axis=0, inplace=True)\n",
    "# df.drop([88649], axis=0, inplace=True)\n",
    "# df.drop([17997], axis=0, inplace=True)\n",
    "# df.drop([89416], axis=0, inplace=True)\n",
    "# df.drop([824312], axis=0, inplace=True)\n",
    "# df.drop([1143845], axis=0, inplace=True)\n",
    "\n",
    "# Löschen alle die speed<0 haben\n",
    "# df.drop([1114233], axis=0, inplace=True)\n",
    "# df.drop([1114235], axis=0, inplace=True)\n",
    "# df.drop([1114234], axis=0, inplace=True)"
   ]
  },
  {
   "cell_type": "code",
   "execution_count": 32,
   "id": "ff9bdf30-e12f-4f5b-9e65-9f0b7ee101a0",
   "metadata": {},
   "outputs": [],
   "source": [
    "# filepath = Path('C:/Users/rfrei/Desktop/boston_2016_distance_duration_speed.csv')\n",
    "# filepath.parent.mkdir(parents=True, exist_ok=True)\n",
    "# df.to_csv(filepath)"
   ]
  },
  {
   "cell_type": "code",
   "execution_count": 33,
   "id": "646d18bb-bb3c-4c8f-b118-fadb81b5bb59",
   "metadata": {
    "tags": []
   },
   "outputs": [],
   "source": [
    "df.sort_values(['Duration (Seconds)'],axis=0, ascending=False,inplace=True,na_position='first')"
   ]
  },
  {
   "cell_type": "code",
   "execution_count": 34,
   "id": "b3f3ee00-8f7c-4f3f-87fc-b3a772444428",
   "metadata": {
    "tags": []
   },
   "outputs": [
    {
     "name": "stdout",
     "output_type": "stream",
     "text": [
      "9.7606\n"
     ]
    }
   ],
   "source": [
    "average_speed = round(df[df[\"Speed (km/h)\"] != 0][\"Speed (km/h)\"].mean(),4)\n",
    "print(average_speed)"
   ]
  },
  {
   "cell_type": "code",
   "execution_count": 35,
   "id": "01093614-d7fb-4e8e-89d5-2a04544e8e9c",
   "metadata": {
    "tags": []
   },
   "outputs": [],
   "source": [
    "df['new Speed (km/h)'] = df['Speed (km/h)'].replace(0,average_speed)"
   ]
  },
  {
   "cell_type": "code",
   "execution_count": 36,
   "id": "60e33ef4-0355-44fd-bb66-4d1f2eede10f",
   "metadata": {
    "tags": []
   },
   "outputs": [
    {
     "name": "stdout",
     "output_type": "stream",
     "text": [
      "9.7606\n"
     ]
    }
   ],
   "source": [
    "new_average_speed = round(df[df[\"new Speed (km/h)\"] != 0][\"new Speed (km/h)\"].mean(),4)\n",
    "print(new_average_speed)"
   ]
  },
  {
   "cell_type": "code",
   "execution_count": 37,
   "id": "c015ae50-476f-418b-9630-636f6eab2401",
   "metadata": {},
   "outputs": [],
   "source": [
    "df['new Distance (KM)'] = (df[\"new Speed (km/h)\"]*(df[\"Duration (Seconds)\"]/3600))"
   ]
  },
  {
   "cell_type": "code",
   "execution_count": 38,
   "id": "0e8dcd20-fdd6-4b9f-8986-a636169f648d",
   "metadata": {},
   "outputs": [],
   "source": [
    "df.drop(['Speed (km/h)','Distance (KM)'], axis=1, inplace=True)"
   ]
  },
  {
   "cell_type": "code",
   "execution_count": 48,
   "id": "075b9f36-6cf4-43b8-9d55-13b31317b3c3",
   "metadata": {},
   "outputs": [
    {
     "data": {
      "text/html": [
       "<div>\n",
       "<style scoped>\n",
       "    .dataframe tbody tr th:only-of-type {\n",
       "        vertical-align: middle;\n",
       "    }\n",
       "\n",
       "    .dataframe tbody tr th {\n",
       "        vertical-align: top;\n",
       "    }\n",
       "\n",
       "    .dataframe thead th {\n",
       "        text-align: right;\n",
       "    }\n",
       "</style>\n",
       "<table border=\"1\" class=\"dataframe\">\n",
       "  <thead>\n",
       "    <tr style=\"text-align: right;\">\n",
       "      <th></th>\n",
       "      <th>Unnamed: 0</th>\n",
       "      <th>start_time</th>\n",
       "      <th>end_time</th>\n",
       "      <th>start_station_id</th>\n",
       "      <th>end_station_id</th>\n",
       "      <th>start_station_name</th>\n",
       "      <th>end_station_name</th>\n",
       "      <th>bike_id</th>\n",
       "      <th>user_type</th>\n",
       "      <th>start_coordinates</th>\n",
       "      <th>end_coordinates</th>\n",
       "      <th>Duration (Seconds)</th>\n",
       "      <th>new Speed (km/h)</th>\n",
       "      <th>new Distance (KM)</th>\n",
       "    </tr>\n",
       "  </thead>\n",
       "  <tbody>\n",
       "    <tr>\n",
       "      <th>1231064</th>\n",
       "      <td>1231075</td>\n",
       "      <td>2016-12-25 07:30:38.539</td>\n",
       "      <td>2017-12-06 10:45:17.962</td>\n",
       "      <td>36</td>\n",
       "      <td>26</td>\n",
       "      <td>Copley Square - Dartmouth St at Boylston St</td>\n",
       "      <td>Washington St at Waltham St</td>\n",
       "      <td>1053</td>\n",
       "      <td>Customer</td>\n",
       "      <td>(42.349673, -71.077303)</td>\n",
       "      <td>(42.341522, -71.068922)</td>\n",
       "      <td>2.990608e+07</td>\n",
       "      <td>0.000137</td>\n",
       "      <td>1.138729</td>\n",
       "    </tr>\n",
       "  </tbody>\n",
       "</table>\n",
       "</div>"
      ],
      "text/plain": [
       "         Unnamed: 0              start_time                end_time  \\\n",
       "1231064     1231075 2016-12-25 07:30:38.539 2017-12-06 10:45:17.962   \n",
       "\n",
       "         start_station_id  end_station_id  \\\n",
       "1231064                36              26   \n",
       "\n",
       "                                  start_station_name  \\\n",
       "1231064  Copley Square - Dartmouth St at Boylston St   \n",
       "\n",
       "                    end_station_name  bike_id user_type  \\\n",
       "1231064  Washington St at Waltham St     1053  Customer   \n",
       "\n",
       "               start_coordinates          end_coordinates  Duration (Seconds)  \\\n",
       "1231064  (42.349673, -71.077303)  (42.341522, -71.068922)        2.990608e+07   \n",
       "\n",
       "         new Speed (km/h)  new Distance (KM)  \n",
       "1231064          0.000137           1.138729  "
      ]
     },
     "execution_count": 48,
     "metadata": {},
     "output_type": "execute_result"
    }
   ],
   "source": [
    "df.head(1)"
   ]
  },
  {
   "cell_type": "code",
   "execution_count": 54,
   "id": "b7b780b1-882c-4de6-8edb-03da7d024c9b",
   "metadata": {},
   "outputs": [],
   "source": [
    "def truea_at_time(weekday_start,day,start_hour,time):\n",
    "    return (weekday_start == day and start_hour == time)"
   ]
  },
  {
   "cell_type": "code",
   "execution_count": 55,
   "id": "9c53f2a4-0375-4022-a02c-2b9ae15671ca",
   "metadata": {},
   "outputs": [],
   "source": [
    "def calc_weekday(day):\n",
    "    return (day).weekday()"
   ]
  },
  {
   "cell_type": "code",
   "execution_count": 56,
   "id": "0a9f85df-12f7-427e-a427-949fc4268222",
   "metadata": {},
   "outputs": [],
   "source": [
    "def get_hour(hour):\n",
    "    return (hour).hour"
   ]
  },
  {
   "cell_type": "code",
   "execution_count": 57,
   "id": "4012fb3e-82db-4025-85c0-95b654dbbbdb",
   "metadata": {},
   "outputs": [],
   "source": [
    "df['weekday_start'] = df.apply(lambda row: calc_weekday(row.start_time), axis=1)"
   ]
  },
  {
   "cell_type": "code",
   "execution_count": 58,
   "id": "62419b8e-8df1-4cd7-a3a7-a1810e8c63af",
   "metadata": {},
   "outputs": [],
   "source": [
    "df['weekday_end'] = df.apply(lambda row: calc_weekday(row.end_time), axis=1)"
   ]
  },
  {
   "cell_type": "code",
   "execution_count": 59,
   "id": "89751166-3118-455b-b1ac-233a720b4be7",
   "metadata": {},
   "outputs": [],
   "source": [
    "df['weekday_start'] = df['weekday_start'].replace([0,1,2,3,4,5,6],['Montag','Dienstag','Mittwoch','Donnerstag','Freitag','Samstag','Sonntag'])\n",
    "df['weekday_end'] = df['weekday_end'].replace([0,1,2,3,4,5,6],['Montag','Dienstag','Mittwoch','Donnerstag','Freitag','Samstag','Sonntag'])"
   ]
  },
  {
   "cell_type": "code",
   "execution_count": 65,
   "id": "a7365feb-50fb-46cf-b0d2-191279dad249",
   "metadata": {},
   "outputs": [
    {
     "data": {
      "text/html": [
       "<div>\n",
       "<style scoped>\n",
       "    .dataframe tbody tr th:only-of-type {\n",
       "        vertical-align: middle;\n",
       "    }\n",
       "\n",
       "    .dataframe tbody tr th {\n",
       "        vertical-align: top;\n",
       "    }\n",
       "\n",
       "    .dataframe thead th {\n",
       "        text-align: right;\n",
       "    }\n",
       "</style>\n",
       "<table border=\"1\" class=\"dataframe\">\n",
       "  <thead>\n",
       "    <tr style=\"text-align: right;\">\n",
       "      <th></th>\n",
       "      <th>Unnamed: 0</th>\n",
       "      <th>start_time</th>\n",
       "      <th>end_time</th>\n",
       "      <th>start_station_id</th>\n",
       "      <th>end_station_id</th>\n",
       "      <th>start_station_name</th>\n",
       "      <th>end_station_name</th>\n",
       "      <th>bike_id</th>\n",
       "      <th>user_type</th>\n",
       "      <th>start_coordinates</th>\n",
       "      <th>end_coordinates</th>\n",
       "      <th>Duration (Seconds)</th>\n",
       "      <th>new Speed (km/h)</th>\n",
       "      <th>new Distance (KM)</th>\n",
       "      <th>weekday_start</th>\n",
       "      <th>weekday_end</th>\n",
       "      <th>start_hour</th>\n",
       "    </tr>\n",
       "  </thead>\n",
       "  <tbody>\n",
       "    <tr>\n",
       "      <th>1231064</th>\n",
       "      <td>1231075</td>\n",
       "      <td>2016-12-25 07:30:38.539</td>\n",
       "      <td>2017-12-06 10:45:17.962</td>\n",
       "      <td>36</td>\n",
       "      <td>26</td>\n",
       "      <td>Copley Square - Dartmouth St at Boylston St</td>\n",
       "      <td>Washington St at Waltham St</td>\n",
       "      <td>1053</td>\n",
       "      <td>Customer</td>\n",
       "      <td>(42.349673, -71.077303)</td>\n",
       "      <td>(42.341522, -71.068922)</td>\n",
       "      <td>2.990608e+07</td>\n",
       "      <td>0.000137</td>\n",
       "      <td>1.138729</td>\n",
       "      <td>Sonntag</td>\n",
       "      <td>Mittwoch</td>\n",
       "      <td>7</td>\n",
       "    </tr>\n",
       "  </tbody>\n",
       "</table>\n",
       "</div>"
      ],
      "text/plain": [
       "         Unnamed: 0              start_time                end_time  \\\n",
       "1231064     1231075 2016-12-25 07:30:38.539 2017-12-06 10:45:17.962   \n",
       "\n",
       "         start_station_id  end_station_id  \\\n",
       "1231064                36              26   \n",
       "\n",
       "                                  start_station_name  \\\n",
       "1231064  Copley Square - Dartmouth St at Boylston St   \n",
       "\n",
       "                    end_station_name  bike_id user_type  \\\n",
       "1231064  Washington St at Waltham St     1053  Customer   \n",
       "\n",
       "               start_coordinates          end_coordinates  Duration (Seconds)  \\\n",
       "1231064  (42.349673, -71.077303)  (42.341522, -71.068922)        2.990608e+07   \n",
       "\n",
       "         new Speed (km/h)  new Distance (KM) weekday_start weekday_end  \\\n",
       "1231064          0.000137           1.138729       Sonntag    Mittwoch   \n",
       "\n",
       "         start_hour  \n",
       "1231064           7  "
      ]
     },
     "execution_count": 65,
     "metadata": {},
     "output_type": "execute_result"
    }
   ],
   "source": [
    "df.head(1)"
   ]
  },
  {
   "cell_type": "code",
   "execution_count": 61,
   "id": "473642dc-4324-4dbb-9378-837bab9cc82b",
   "metadata": {},
   "outputs": [],
   "source": [
    "df['start_hour'] = df.apply(lambda row: get_hour(row.start_time), axis=1)\n",
    "#print(get_hour(df['start_time'][0]))\n",
    "#print(df['start_time'][3232].hour)"
   ]
  },
  {
   "cell_type": "code",
   "execution_count": 62,
   "id": "ecd598f5-f82a-4b98-b7b7-00f4fee1028b",
   "metadata": {},
   "outputs": [
    {
     "name": "stdout",
     "output_type": "stream",
     "text": [
      "True\n"
     ]
    }
   ],
   "source": [
    "#print(sum(sum(df['weekday_start'] == 'Freitag') and df['start_hour'] == 17))# or df['start_hour'] == 0))\n",
    "print(df['weekday_start'][0] == 'Freitag' and df['start_hour'][0] == 0)\n",
    "#print(sum(df.apply(lambda x: truea_at_time(x.weekday_start, 'Freitag', x.start_hour, 18) , axis=1)))\n",
    "#print(sum(df.apply(lambda x: truea_at_time(x.weekday_start, 'Freitag', x.start_hour, 19) , axis=1)))\n",
    "#print(df['weekday_start'][df['weekday_start'] == 'Freitag'].count() & df['start_hour'][df['start_hour'] == 2].count())"
   ]
  },
  {
   "cell_type": "code",
   "execution_count": 63,
   "id": "0707b084-fa56-4080-8e49-79f837a8527c",
   "metadata": {},
   "outputs": [],
   "source": [
    "#df['start_hour'] = df.apply(lambda row: get_hour(row.start_time), axis=1)\n",
    "#print(get_hour(df['start_time'][0]))\n",
    "#print(df['start_time'][3232].hour)"
   ]
  },
  {
   "cell_type": "code",
   "execution_count": 66,
   "id": "a0f9d343-f3f0-4f59-839a-5e443b2d297a",
   "metadata": {},
   "outputs": [
    {
     "data": {
      "text/html": [
       "<div>\n",
       "<style scoped>\n",
       "    .dataframe tbody tr th:only-of-type {\n",
       "        vertical-align: middle;\n",
       "    }\n",
       "\n",
       "    .dataframe tbody tr th {\n",
       "        vertical-align: top;\n",
       "    }\n",
       "\n",
       "    .dataframe thead th {\n",
       "        text-align: right;\n",
       "    }\n",
       "</style>\n",
       "<table border=\"1\" class=\"dataframe\">\n",
       "  <thead>\n",
       "    <tr style=\"text-align: right;\">\n",
       "      <th></th>\n",
       "      <th>Unnamed: 0</th>\n",
       "      <th>start_time</th>\n",
       "      <th>end_time</th>\n",
       "      <th>start_station_id</th>\n",
       "      <th>end_station_id</th>\n",
       "      <th>start_station_name</th>\n",
       "      <th>end_station_name</th>\n",
       "      <th>bike_id</th>\n",
       "      <th>user_type</th>\n",
       "      <th>start_coordinates</th>\n",
       "      <th>end_coordinates</th>\n",
       "      <th>Duration (Seconds)</th>\n",
       "      <th>new Speed (km/h)</th>\n",
       "      <th>new Distance (KM)</th>\n",
       "      <th>weekday_start</th>\n",
       "      <th>weekday_end</th>\n",
       "      <th>start_hour</th>\n",
       "    </tr>\n",
       "  </thead>\n",
       "  <tbody>\n",
       "    <tr>\n",
       "      <th>1231064</th>\n",
       "      <td>1231075</td>\n",
       "      <td>2016-12-25 07:30:38.539</td>\n",
       "      <td>2017-12-06 10:45:17.962</td>\n",
       "      <td>36</td>\n",
       "      <td>26</td>\n",
       "      <td>Copley Square - Dartmouth St at Boylston St</td>\n",
       "      <td>Washington St at Waltham St</td>\n",
       "      <td>1053</td>\n",
       "      <td>Customer</td>\n",
       "      <td>(42.349673, -71.077303)</td>\n",
       "      <td>(42.341522, -71.068922)</td>\n",
       "      <td>2.990608e+07</td>\n",
       "      <td>0.000137</td>\n",
       "      <td>1.138729</td>\n",
       "      <td>Sonntag</td>\n",
       "      <td>Mittwoch</td>\n",
       "      <td>7</td>\n",
       "    </tr>\n",
       "  </tbody>\n",
       "</table>\n",
       "</div>"
      ],
      "text/plain": [
       "         Unnamed: 0              start_time                end_time  \\\n",
       "1231064     1231075 2016-12-25 07:30:38.539 2017-12-06 10:45:17.962   \n",
       "\n",
       "         start_station_id  end_station_id  \\\n",
       "1231064                36              26   \n",
       "\n",
       "                                  start_station_name  \\\n",
       "1231064  Copley Square - Dartmouth St at Boylston St   \n",
       "\n",
       "                    end_station_name  bike_id user_type  \\\n",
       "1231064  Washington St at Waltham St     1053  Customer   \n",
       "\n",
       "               start_coordinates          end_coordinates  Duration (Seconds)  \\\n",
       "1231064  (42.349673, -71.077303)  (42.341522, -71.068922)        2.990608e+07   \n",
       "\n",
       "         new Speed (km/h)  new Distance (KM) weekday_start weekday_end  \\\n",
       "1231064          0.000137           1.138729       Sonntag    Mittwoch   \n",
       "\n",
       "         start_hour  \n",
       "1231064           7  "
      ]
     },
     "execution_count": 66,
     "metadata": {},
     "output_type": "execute_result"
    }
   ],
   "source": [
    "df.head(1)"
   ]
  },
  {
   "cell_type": "code",
   "execution_count": 69,
   "id": "a4b4c06b-c519-4f11-9d11-8035a96ad5e3",
   "metadata": {},
   "outputs": [
    {
     "data": {
      "text/plain": [
       "<AxesSubplot:xlabel='start_time'>"
      ]
     },
     "execution_count": 69,
     "metadata": {},
     "output_type": "execute_result"
    },
    {
     "data": {
      "image/png": "[encoded data removed]",
      "text/plain": [
       "<Figure size 432x288 with 1 Axes>"
      ]
     },
     "metadata": {
      "needs_background": "light"
     },
     "output_type": "display_data"
    }
   ],
   "source": [
    "df.groupby([df['start_time'].dt.hour]).count().plot(kind=\"bar\")"
   ]
  }
 ],
 "metadata": {
  "kernelspec": {
   "display_name": "Python 3 (ipykernel)",
   "language": "python",
   "name": "python3"
  },
  "language_info": {
   "codemirror_mode": {
    "name": "ipython",
    "version": 3
   },
   "file_extension": ".py",
   "mimetype": "text/x-python",
   "name": "python",
   "nbconvert_exporter": "python",
   "pygments_lexer": "ipython3",
   "version": "3.9.7"
  }
 },
 "nbformat": 4,
 "nbformat_minor": 5
}
