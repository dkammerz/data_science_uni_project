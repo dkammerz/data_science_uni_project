{
 "cells": [
  {
   "cell_type": "code",
   "execution_count": 1,
   "id": "70599eb0-9c12-426d-9784-ea70dab654a8",
   "metadata": {},
   "outputs": [],
   "source": [
    "import pandas as pd\n",
    "import numpy as np\n",
    "import matplotlib.pyplot as plt\n",
    "from pandas.plotting import register_matplotlib_converters\n",
    "register_matplotlib_converters()\n",
    "# import seaborn as sns\n",
    "# sns.set()\n",
    "# sns.set_style(\"white\")\n",
    "# sns.set_palette(\"GnBu_d\")\n",
    "\n",
    "# also import these \"new\" libraries \n",
    "# Note: you may have to download an add them to your environment (using e.g. 'conda install -c conda-forge folium')\n",
    "\n",
    "import folium\n",
    "from folium import plugins\n",
    "from folium.plugins import HeatMap\n",
    "from datetime import datetime #for working with times objects\n",
    "from datetime import timedelta #for working with times objects\n",
    "import math\n",
    "import random\n",
    "from pathlib import Path\n",
    "\n",
    "import geopy\n",
    "from geopy.geocoders import GoogleV3\n",
    "from geopy.distance import geodesic"
   ]
  },
  {
   "cell_type": "code",
   "execution_count": 14,
   "id": "d4658d1c-474d-45da-b49d-5215b905072c",
   "metadata": {},
   "outputs": [],
   "source": [
    "df = pd.read_csv(\"../all_station_id.csv\")"
   ]
  },
  {
   "cell_type": "code",
   "execution_count": 3,
   "id": "a6f22a70-427e-4c9d-a0e5-5c36c78e587c",
   "metadata": {},
   "outputs": [],
   "source": [
    "df2 = pd.read_csv(\"../boston_2016_distance_duration_speed.csv\")"
   ]
  },
  {
   "cell_type": "code",
   "execution_count": 4,
   "id": "12f2fd27-d40b-4b9b-819f-ad56ee83c57f",
   "metadata": {},
   "outputs": [
    {
     "data": {
      "text/plain": [
       "4174"
      ]
     },
     "execution_count": 4,
     "metadata": {},
     "output_type": "execute_result"
    }
   ],
   "source": [
    "dingo = (df2.where(lambda x: (x.start_station_id == 8.0), axis = 0))\n",
    "len(df2) - dingo['start_station_id'].isnull().sum()"
   ]
  },
  {
   "cell_type": "code",
   "execution_count": 5,
   "id": "27a8782a-724d-486f-b06e-569b7559949e",
   "metadata": {},
   "outputs": [],
   "source": [
    "DasDingo = []"
   ]
  },
  {
   "cell_type": "code",
   "execution_count": null,
   "id": "c20a253e-5965-4f8e-969d-3d93e7bf0ca7",
   "metadata": {},
   "outputs": [],
   "source": [
    "for i in df.start_station_id:\n",
    "    dingo = (df2.where(lambda x: (x.start_station_id == i), axis = 0))\n",
    "    DasDingo.append(len(df2) - dingo['start_station_id'].isnull().sum())"
   ]
  },
  {
   "cell_type": "code",
   "execution_count": 7,
   "id": "0965bb53-cc4a-4094-b76f-2e6114fd15e7",
   "metadata": {},
   "outputs": [
    {
     "name": "stdout",
     "output_type": "stream",
     "text": [
      "[78, 4690, 9005, 7090, 11713, 4589, 4174, 9549, 9668, 8595, 8022, 7793, 8788, 2622, 15091, 6582, 7246, 10970, 12111, 31524, 14589, 7738, 8452, 7972, 5020, 3728, 6317, 5405, 9267, 13918, 9473, 16721, 1325, 9078, 9242, 10873, 8672, 14032, 11103, 7810, 10154, 13260, 14041, 8065, 7697, 8599, 2842, 9263, 17144, 11712, 12033, 1494, 779, 14385, 7975, 15856, 12808, 3344, 9663, 3010, 5085, 35654, 24127, 6259, 8815, 5802, 10675, 11801, 23182, 11489, 14290, 2193, 5543, 6483, 21185, 10500, 2932, 9143, 5364, 10363, 13167, 7881, 12069, 14672, 1065, 1543, 5526, 11471, 10049, 9841, 11410, 3530, 10470, 2283, 3221, 6411, 12290, 513, 14424, 8604, 12833, 9486, 1710, 1372, 2455, 3234, 10232, 9713, 7159, 5538, 4030, 8833, 4866, 3611, 2461, 2657, 1055, 1047, 2484, 726, 3729, 2843, 5992, 3427, 4392, 1616, 935, 6161, 2908, 6640, 3145, 6305, 1888, 3040, 6279, 5170, 7602, 6514, 0, 0, 1745, 4685, 5050, 397, 4974, 1081, 2872, 440, 2417, 507, 1054, 1998, 3321, 11758, 15227, 17488, 2410, 408, 782, 565, 4711, 18004, 8932, 5244, 3085, 1344, 1064, 294, 244, 140, 671, 197, 112, 61, 77, 78, 185, 197, 32, 45, 83, 179, 99, 167, 45, 43, 71, 1414, 23]\n"
     ]
    }
   ],
   "source": [
    "print(DasDingo)"
   ]
  },
  {
   "cell_type": "code",
   "execution_count": 18,
   "id": "b4097686-bee7-46f9-be8a-ba6553950d11",
   "metadata": {},
   "outputs": [],
   "source": [
    "#df['amout_of_trips_per_station'] = DasDingo(lambda x: (x.DasDingo), axis = 0)\n",
    "df['amout_of_trips_per_station'] = pd.DataFrame (DasDingo, columns = ['amout_of_trips_per_station'])"
   ]
  },
  {
   "cell_type": "code",
   "execution_count": 20,
   "id": "7c86c863-0734-409d-9f1b-177ff582e0dd",
   "metadata": {},
   "outputs": [
    {
     "data": {
      "text/html": [
       "<div>\n",
       "<style scoped>\n",
       "    .dataframe tbody tr th:only-of-type {\n",
       "        vertical-align: middle;\n",
       "    }\n",
       "\n",
       "    .dataframe tbody tr th {\n",
       "        vertical-align: top;\n",
       "    }\n",
       "\n",
       "    .dataframe thead th {\n",
       "        text-align: right;\n",
       "    }\n",
       "</style>\n",
       "<table border=\"1\" class=\"dataframe\">\n",
       "  <thead>\n",
       "    <tr style=\"text-align: right;\">\n",
       "      <th></th>\n",
       "      <th>Unnamed: 0</th>\n",
       "      <th>start_station_id</th>\n",
       "      <th>start_station_name</th>\n",
       "      <th>start_station_latitude</th>\n",
       "      <th>start_station_longitude</th>\n",
       "      <th>amout_of_trips_per_station</th>\n",
       "    </tr>\n",
       "  </thead>\n",
       "  <tbody>\n",
       "    <tr>\n",
       "      <th>0</th>\n",
       "      <td>4748</td>\n",
       "      <td>1</td>\n",
       "      <td>18 Dorrance Warehouse</td>\n",
       "      <td>42.387151</td>\n",
       "      <td>-71.075978</td>\n",
       "      <td>78</td>\n",
       "    </tr>\n",
       "    <tr>\n",
       "      <th>1</th>\n",
       "      <td>26681</td>\n",
       "      <td>3</td>\n",
       "      <td>Colleges of the Fenway</td>\n",
       "      <td>42.340021</td>\n",
       "      <td>-71.100812</td>\n",
       "      <td>4690</td>\n",
       "    </tr>\n",
       "    <tr>\n",
       "      <th>2</th>\n",
       "      <td>97049</td>\n",
       "      <td>4</td>\n",
       "      <td>Tremont St. at Berkeley St.</td>\n",
       "      <td>42.345392</td>\n",
       "      <td>-71.069616</td>\n",
       "      <td>9005</td>\n",
       "    </tr>\n",
       "    <tr>\n",
       "      <th>3</th>\n",
       "      <td>161457</td>\n",
       "      <td>5</td>\n",
       "      <td>Northeastern U / North Parking Lot</td>\n",
       "      <td>42.341814</td>\n",
       "      <td>-71.090179</td>\n",
       "      <td>7090</td>\n",
       "    </tr>\n",
       "    <tr>\n",
       "      <th>4</th>\n",
       "      <td>103358</td>\n",
       "      <td>6</td>\n",
       "      <td>Cambridge St. at Joy St.</td>\n",
       "      <td>42.361174</td>\n",
       "      <td>-71.065142</td>\n",
       "      <td>11713</td>\n",
       "    </tr>\n",
       "    <tr>\n",
       "      <th>...</th>\n",
       "      <td>...</td>\n",
       "      <td>...</td>\n",
       "      <td>...</td>\n",
       "      <td>...</td>\n",
       "      <td>...</td>\n",
       "      <td>...</td>\n",
       "    </tr>\n",
       "    <tr>\n",
       "      <th>184</th>\n",
       "      <td>29748</td>\n",
       "      <td>215</td>\n",
       "      <td>The Eddy at New Street</td>\n",
       "      <td>42.370785</td>\n",
       "      <td>-71.044262</td>\n",
       "      <td>45</td>\n",
       "    </tr>\n",
       "    <tr>\n",
       "      <th>185</th>\n",
       "      <td>72713</td>\n",
       "      <td>216</td>\n",
       "      <td>Glendon St at Condor St</td>\n",
       "      <td>42.382447</td>\n",
       "      <td>-71.030232</td>\n",
       "      <td>43</td>\n",
       "    </tr>\n",
       "    <tr>\n",
       "      <th>186</th>\n",
       "      <td>71084</td>\n",
       "      <td>217</td>\n",
       "      <td>Orient Heights T Stop - Bennington St at Sarat...</td>\n",
       "      <td>42.386732</td>\n",
       "      <td>-71.006212</td>\n",
       "      <td>71</td>\n",
       "    </tr>\n",
       "    <tr>\n",
       "      <th>187</th>\n",
       "      <td>30227</td>\n",
       "      <td>218</td>\n",
       "      <td>Watermark Seaport - Boston Wharf Rd at Seaport...</td>\n",
       "      <td>42.351586</td>\n",
       "      <td>-71.045693</td>\n",
       "      <td>1414</td>\n",
       "    </tr>\n",
       "    <tr>\n",
       "      <th>188</th>\n",
       "      <td>83314</td>\n",
       "      <td>219</td>\n",
       "      <td>Central Square East Boston - Porter Street at ...</td>\n",
       "      <td>42.374301</td>\n",
       "      <td>-71.038087</td>\n",
       "      <td>23</td>\n",
       "    </tr>\n",
       "  </tbody>\n",
       "</table>\n",
       "<p>189 rows × 6 columns</p>\n",
       "</div>"
      ],
      "text/plain": [
       "     Unnamed: 0  start_station_id  \\\n",
       "0          4748                 1   \n",
       "1         26681                 3   \n",
       "2         97049                 4   \n",
       "3        161457                 5   \n",
       "4        103358                 6   \n",
       "..          ...               ...   \n",
       "184       29748               215   \n",
       "185       72713               216   \n",
       "186       71084               217   \n",
       "187       30227               218   \n",
       "188       83314               219   \n",
       "\n",
       "                                    start_station_name  \\\n",
       "0                                18 Dorrance Warehouse   \n",
       "1                               Colleges of the Fenway   \n",
       "2                          Tremont St. at Berkeley St.   \n",
       "3                   Northeastern U / North Parking Lot   \n",
       "4                             Cambridge St. at Joy St.   \n",
       "..                                                 ...   \n",
       "184                             The Eddy at New Street   \n",
       "185                            Glendon St at Condor St   \n",
       "186  Orient Heights T Stop - Bennington St at Sarat...   \n",
       "187  Watermark Seaport - Boston Wharf Rd at Seaport...   \n",
       "188  Central Square East Boston - Porter Street at ...   \n",
       "\n",
       "     start_station_latitude  start_station_longitude  \\\n",
       "0                 42.387151               -71.075978   \n",
       "1                 42.340021               -71.100812   \n",
       "2                 42.345392               -71.069616   \n",
       "3                 42.341814               -71.090179   \n",
       "4                 42.361174               -71.065142   \n",
       "..                      ...                      ...   \n",
       "184               42.370785               -71.044262   \n",
       "185               42.382447               -71.030232   \n",
       "186               42.386732               -71.006212   \n",
       "187               42.351586               -71.045693   \n",
       "188               42.374301               -71.038087   \n",
       "\n",
       "     amout_of_trips_per_station  \n",
       "0                            78  \n",
       "1                          4690  \n",
       "2                          9005  \n",
       "3                          7090  \n",
       "4                         11713  \n",
       "..                          ...  \n",
       "184                          45  \n",
       "185                          43  \n",
       "186                          71  \n",
       "187                        1414  \n",
       "188                          23  \n",
       "\n",
       "[189 rows x 6 columns]"
      ]
     },
     "execution_count": 20,
     "metadata": {},
     "output_type": "execute_result"
    }
   ],
   "source": [
    "df"
   ]
  },
  {
   "cell_type": "code",
   "execution_count": 21,
   "id": "fbc088aa-2ff8-4f69-9535-f2e526a48e61",
   "metadata": {},
   "outputs": [],
   "source": [
    "filepath = Path('/Users/daniel/Desktop/boston_2016_distance_duration_speed.csv')\n",
    "filepath.parent.mkdir(parents=True, exist_ok=True)\n",
    "df.to_csv(filepath)"
   ]
  },
  {
   "cell_type": "code",
   "execution_count": 22,
   "id": "d93beb75-847d-4ab6-adfd-2e835d23c9ef",
   "metadata": {},
   "outputs": [
    {
     "data": {
      "text/plain": [
       "1236192"
      ]
     },
     "execution_count": 22,
     "metadata": {},
     "output_type": "execute_result"
    }
   ],
   "source": [
    "sum(df['amout_of_trips_per_station'])"
   ]
  },
  {
   "cell_type": "code",
   "execution_count": null,
   "id": "e38ff297-12b8-4459-8e9c-96839919d07a",
   "metadata": {},
   "outputs": [],
   "source": []
  }
 ],
 "metadata": {
  "kernelspec": {
   "display_name": "Python 3 (ipykernel)",
   "language": "python",
   "name": "python3"
  },
  "language_info": {
   "codemirror_mode": {
    "name": "ipython",
    "version": 3
   },
   "file_extension": ".py",
   "mimetype": "text/x-python",
   "name": "python",
   "nbconvert_exporter": "python",
   "pygments_lexer": "ipython3",
   "version": "3.9.7"
  }
 },
 "nbformat": 4,
 "nbformat_minor": 5
}
