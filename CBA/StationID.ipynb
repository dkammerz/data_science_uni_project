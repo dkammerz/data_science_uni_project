{
 "cells": [
  {
   "cell_type": "code",
   "execution_count": 1,
   "id": "70599eb0-9c12-426d-9784-ea70dab654a8",
   "metadata": {},
   "outputs": [],
   "source": [
    "import pandas as pd\n",
    "import numpy as np\n",
    "import matplotlib.pyplot as plt\n",
    "from pandas.plotting import register_matplotlib_converters\n",
    "register_matplotlib_converters()\n",
    "# import seaborn as sns\n",
    "# sns.set()\n",
    "# sns.set_style(\"white\")\n",
    "# sns.set_palette(\"GnBu_d\")\n",
    "\n",
    "# also import these \"new\" libraries \n",
    "# Note: you may have to download an add them to your environment (using e.g. 'conda install -c conda-forge folium')\n",
    "\n",
    "import folium\n",
    "from folium import plugins\n",
    "from folium.plugins import HeatMap\n",
    "from datetime import datetime #for working with times objects\n",
    "from datetime import timedelta #for working with times objects\n",
    "import math\n",
    "import random\n",
    "from pathlib import Path\n",
    "\n",
    "import geopy\n",
    "from geopy.geocoders import GoogleV3\n",
    "from geopy.distance import geodesic"
   ]
  },
  {
   "cell_type": "code",
   "execution_count": 2,
   "id": "d4658d1c-474d-45da-b49d-5215b905072c",
   "metadata": {},
   "outputs": [],
   "source": [
    "df = pd.read_csv(\"../all_station_id.csv\")"
   ]
  },
  {
   "cell_type": "code",
   "execution_count": 3,
   "id": "a6f22a70-427e-4c9d-a0e5-5c36c78e587c",
   "metadata": {},
   "outputs": [],
   "source": [
    "df2 = pd.read_csv(\"../boston_2016_distance_duration_speed.csv\")"
   ]
  },
  {
   "cell_type": "code",
   "execution_count": 4,
   "id": "8e4d4a5a-ce83-4352-9e4a-8db0710960b4",
   "metadata": {},
   "outputs": [],
   "source": [
    "df2.drop([\"Unnamed: 0\"], axis=1, inplace=True)"
   ]
  },
  {
   "cell_type": "code",
   "execution_count": 5,
   "id": "cdb2f1be-f329-40c8-bf6a-823114aa34d3",
   "metadata": {},
   "outputs": [],
   "source": [
    "# Drop Trips with the 8D OPS stations\n",
    "\n",
    "df2.drop([598580], axis=0, inplace=True)\n",
    "df2.drop([598729], axis=0, inplace=True)\n",
    "df2.drop([1072609], axis=0, inplace=True)\n",
    "#########################################\n",
    "# Löschen alle die schneller als 30km/h sind\n",
    "\n",
    "df2.drop([88647], axis=0, inplace=True)\n",
    "df2.drop([88649], axis=0, inplace=True)\n",
    "df2.drop([17997], axis=0, inplace=True)\n",
    "df2.drop([89416], axis=0, inplace=True)\n",
    "df2.drop([824312], axis=0, inplace=True)\n",
    "df2.drop([1143845], axis=0, inplace=True)\n",
    "#########################################\n",
    "# Löschen alle die speed<0 haben\n",
    "\n",
    "df2.drop([1114233], axis=0, inplace=True)\n",
    "df2.drop([1114235], axis=0, inplace=True)\n",
    "df2.drop([1114234], axis=0, inplace=True)"
   ]
  },
  {
   "cell_type": "code",
   "execution_count": 8,
   "id": "c4798347-cd63-40a3-80fe-8ce20b5a8f19",
   "metadata": {},
   "outputs": [],
   "source": [
    "# Löscht alle Roundtrips\n",
    "df2 = df2.drop(df2[df2['Distance (KM)'] == 0].index)\n",
    "# Löscht alle Trips die länger als 8Std sind\n",
    "df2 = df2.drop(df2[df2['Duration (Seconds)'] > 28800].index)"
   ]
  },
  {
   "cell_type": "code",
   "execution_count": 9,
   "id": "12f2fd27-d40b-4b9b-819f-ad56ee83c57f",
   "metadata": {},
   "outputs": [
    {
     "data": {
      "text/plain": [
       "4022"
      ]
     },
     "execution_count": 9,
     "metadata": {},
     "output_type": "execute_result"
    }
   ],
   "source": [
    "dingo = (df2.where(lambda x: (x.start_station_id == 8.0), axis = 0))\n",
    "len(df2) - dingo['start_station_id'].isnull().sum()"
   ]
  },
  {
   "cell_type": "code",
   "execution_count": 10,
   "id": "27a8782a-724d-486f-b06e-569b7559949e",
   "metadata": {},
   "outputs": [],
   "source": [
    "DasDingo = []"
   ]
  },
  {
   "cell_type": "code",
   "execution_count": 11,
   "id": "c20a253e-5965-4f8e-969d-3d93e7bf0ca7",
   "metadata": {},
   "outputs": [],
   "source": [
    "for i in df.start_station_id:\n",
    "    dingo = (df2.where(lambda x: (x.start_station_id == i), axis = 0))\n",
    "    DasDingo.append(len(df2) - dingo['start_station_id'].isnull().sum())"
   ]
  },
  {
   "cell_type": "code",
   "execution_count": 12,
   "id": "0965bb53-cc4a-4094-b76f-2e6114fd15e7",
   "metadata": {},
   "outputs": [
    {
     "name": "stdout",
     "output_type": "stream",
     "text": [
      "[64, 4542, 8783, 6659, 11399, 4408, 4022, 9270, 9202, 8420, 7799, 7679, 8639, 2516, 14702, 6212, 6953, 10498, 11692, 31026, 14062, 7484, 8243, 7824, 4930, 3627, 6209, 5239, 9024, 13467, 9282, 16033, 1233, 8902, 9039, 10495, 8390, 13396, 10810, 7539, 9788, 12697, 13587, 7924, 7461, 8429, 2699, 8903, 16466, 11120, 11733, 1444, 749, 12923, 7811, 15198, 12514, 3170, 9451, 2900, 4872, 34496, 23804, 6087, 8489, 5713, 10424, 11371, 22376, 11308, 14026, 2129, 5443, 6367, 20694, 10138, 2840, 8939, 5212, 10029, 12933, 7693, 11802, 14367, 962, 1373, 5398, 11213, 9784, 9154, 10830, 3486, 10025, 2172, 3132, 6255, 11980, 486, 14076, 8406, 12610, 9242, 1653, 1338, 2382, 3147, 10092, 9517, 7038, 5228, 3805, 8419, 4683, 3538, 2164, 2576, 990, 1017, 2405, 701, 3544, 2667, 5847, 3241, 4212, 1567, 920, 5987, 2561, 6479, 2587, 5948, 1836, 2194, 6010, 4902, 7373, 6371, 0, 0, 1705, 4319, 4938, 269, 4634, 1003, 2823, 300, 2349, 442, 895, 1915, 3246, 11551, 14705, 17130, 2291, 314, 774, 551, 4530, 17663, 8747, 5153, 2983, 1231, 1024, 284, 236, 132, 660, 185, 110, 55, 65, 68, 176, 185, 27, 28, 53, 106, 78, 114, 36, 23, 43, 1364, 21]\n"
     ]
    }
   ],
   "source": [
    "print(DasDingo)"
   ]
  },
  {
   "cell_type": "code",
   "execution_count": 13,
   "id": "b4097686-bee7-46f9-be8a-ba6553950d11",
   "metadata": {},
   "outputs": [],
   "source": [
    "#df['amout_of_trips_per_station'] = DasDingo(lambda x: (x.DasDingo), axis = 0)\n",
    "df['amout_of_trips_per_station'] = pd.DataFrame (DasDingo, columns = ['amout_of_trips_per_station'])"
   ]
  },
  {
   "cell_type": "code",
   "execution_count": 14,
   "id": "7c86c863-0734-409d-9f1b-177ff582e0dd",
   "metadata": {},
   "outputs": [
    {
     "data": {
      "text/html": [
       "<div>\n",
       "<style scoped>\n",
       "    .dataframe tbody tr th:only-of-type {\n",
       "        vertical-align: middle;\n",
       "    }\n",
       "\n",
       "    .dataframe tbody tr th {\n",
       "        vertical-align: top;\n",
       "    }\n",
       "\n",
       "    .dataframe thead th {\n",
       "        text-align: right;\n",
       "    }\n",
       "</style>\n",
       "<table border=\"1\" class=\"dataframe\">\n",
       "  <thead>\n",
       "    <tr style=\"text-align: right;\">\n",
       "      <th></th>\n",
       "      <th>Unnamed: 0</th>\n",
       "      <th>start_station_id</th>\n",
       "      <th>start_station_name</th>\n",
       "      <th>start_station_latitude</th>\n",
       "      <th>start_station_longitude</th>\n",
       "      <th>amout_of_trips_per_station</th>\n",
       "    </tr>\n",
       "  </thead>\n",
       "  <tbody>\n",
       "    <tr>\n",
       "      <th>0</th>\n",
       "      <td>4748</td>\n",
       "      <td>1</td>\n",
       "      <td>18 Dorrance Warehouse</td>\n",
       "      <td>42.387151</td>\n",
       "      <td>-71.075978</td>\n",
       "      <td>64</td>\n",
       "    </tr>\n",
       "    <tr>\n",
       "      <th>1</th>\n",
       "      <td>26681</td>\n",
       "      <td>3</td>\n",
       "      <td>Colleges of the Fenway</td>\n",
       "      <td>42.340021</td>\n",
       "      <td>-71.100812</td>\n",
       "      <td>4542</td>\n",
       "    </tr>\n",
       "    <tr>\n",
       "      <th>2</th>\n",
       "      <td>97049</td>\n",
       "      <td>4</td>\n",
       "      <td>Tremont St. at Berkeley St.</td>\n",
       "      <td>42.345392</td>\n",
       "      <td>-71.069616</td>\n",
       "      <td>8783</td>\n",
       "    </tr>\n",
       "    <tr>\n",
       "      <th>3</th>\n",
       "      <td>161457</td>\n",
       "      <td>5</td>\n",
       "      <td>Northeastern U / North Parking Lot</td>\n",
       "      <td>42.341814</td>\n",
       "      <td>-71.090179</td>\n",
       "      <td>6659</td>\n",
       "    </tr>\n",
       "    <tr>\n",
       "      <th>4</th>\n",
       "      <td>103358</td>\n",
       "      <td>6</td>\n",
       "      <td>Cambridge St. at Joy St.</td>\n",
       "      <td>42.361174</td>\n",
       "      <td>-71.065142</td>\n",
       "      <td>11399</td>\n",
       "    </tr>\n",
       "    <tr>\n",
       "      <th>...</th>\n",
       "      <td>...</td>\n",
       "      <td>...</td>\n",
       "      <td>...</td>\n",
       "      <td>...</td>\n",
       "      <td>...</td>\n",
       "      <td>...</td>\n",
       "    </tr>\n",
       "    <tr>\n",
       "      <th>184</th>\n",
       "      <td>29748</td>\n",
       "      <td>215</td>\n",
       "      <td>The Eddy at New Street</td>\n",
       "      <td>42.370785</td>\n",
       "      <td>-71.044262</td>\n",
       "      <td>36</td>\n",
       "    </tr>\n",
       "    <tr>\n",
       "      <th>185</th>\n",
       "      <td>72713</td>\n",
       "      <td>216</td>\n",
       "      <td>Glendon St at Condor St</td>\n",
       "      <td>42.382447</td>\n",
       "      <td>-71.030232</td>\n",
       "      <td>23</td>\n",
       "    </tr>\n",
       "    <tr>\n",
       "      <th>186</th>\n",
       "      <td>71084</td>\n",
       "      <td>217</td>\n",
       "      <td>Orient Heights T Stop - Bennington St at Sarat...</td>\n",
       "      <td>42.386732</td>\n",
       "      <td>-71.006212</td>\n",
       "      <td>43</td>\n",
       "    </tr>\n",
       "    <tr>\n",
       "      <th>187</th>\n",
       "      <td>30227</td>\n",
       "      <td>218</td>\n",
       "      <td>Watermark Seaport - Boston Wharf Rd at Seaport...</td>\n",
       "      <td>42.351586</td>\n",
       "      <td>-71.045693</td>\n",
       "      <td>1364</td>\n",
       "    </tr>\n",
       "    <tr>\n",
       "      <th>188</th>\n",
       "      <td>83314</td>\n",
       "      <td>219</td>\n",
       "      <td>Central Square East Boston - Porter Street at ...</td>\n",
       "      <td>42.374301</td>\n",
       "      <td>-71.038087</td>\n",
       "      <td>21</td>\n",
       "    </tr>\n",
       "  </tbody>\n",
       "</table>\n",
       "<p>189 rows × 6 columns</p>\n",
       "</div>"
      ],
      "text/plain": [
       "     Unnamed: 0  start_station_id  \\\n",
       "0          4748                 1   \n",
       "1         26681                 3   \n",
       "2         97049                 4   \n",
       "3        161457                 5   \n",
       "4        103358                 6   \n",
       "..          ...               ...   \n",
       "184       29748               215   \n",
       "185       72713               216   \n",
       "186       71084               217   \n",
       "187       30227               218   \n",
       "188       83314               219   \n",
       "\n",
       "                                    start_station_name  \\\n",
       "0                                18 Dorrance Warehouse   \n",
       "1                               Colleges of the Fenway   \n",
       "2                          Tremont St. at Berkeley St.   \n",
       "3                   Northeastern U / North Parking Lot   \n",
       "4                             Cambridge St. at Joy St.   \n",
       "..                                                 ...   \n",
       "184                             The Eddy at New Street   \n",
       "185                            Glendon St at Condor St   \n",
       "186  Orient Heights T Stop - Bennington St at Sarat...   \n",
       "187  Watermark Seaport - Boston Wharf Rd at Seaport...   \n",
       "188  Central Square East Boston - Porter Street at ...   \n",
       "\n",
       "     start_station_latitude  start_station_longitude  \\\n",
       "0                 42.387151               -71.075978   \n",
       "1                 42.340021               -71.100812   \n",
       "2                 42.345392               -71.069616   \n",
       "3                 42.341814               -71.090179   \n",
       "4                 42.361174               -71.065142   \n",
       "..                      ...                      ...   \n",
       "184               42.370785               -71.044262   \n",
       "185               42.382447               -71.030232   \n",
       "186               42.386732               -71.006212   \n",
       "187               42.351586               -71.045693   \n",
       "188               42.374301               -71.038087   \n",
       "\n",
       "     amout_of_trips_per_station  \n",
       "0                            64  \n",
       "1                          4542  \n",
       "2                          8783  \n",
       "3                          6659  \n",
       "4                         11399  \n",
       "..                          ...  \n",
       "184                          36  \n",
       "185                          23  \n",
       "186                          43  \n",
       "187                        1364  \n",
       "188                          21  \n",
       "\n",
       "[189 rows x 6 columns]"
      ]
     },
     "execution_count": 14,
     "metadata": {},
     "output_type": "execute_result"
    }
   ],
   "source": [
    "df"
   ]
  },
  {
   "cell_type": "code",
   "execution_count": 15,
   "id": "fbc088aa-2ff8-4f69-9535-f2e526a48e61",
   "metadata": {},
   "outputs": [],
   "source": [
    "# filepath = Path('/Users/daniel/Desktop/boston_2016_distance_duration_speed.csv')\n",
    "# filepath.parent.mkdir(parents=True, exist_ok=True)\n",
    "# df.to_csv(filepath)"
   ]
  },
  {
   "cell_type": "code",
   "execution_count": 16,
   "id": "d93beb75-847d-4ab6-adfd-2e835d23c9ef",
   "metadata": {},
   "outputs": [
    {
     "data": {
      "text/plain": [
       "1195289"
      ]
     },
     "execution_count": 16,
     "metadata": {},
     "output_type": "execute_result"
    }
   ],
   "source": [
    "sum(df['amout_of_trips_per_station'])"
   ]
  },
  {
   "cell_type": "code",
   "execution_count": 17,
   "id": "e38ff297-12b8-4459-8e9c-96839919d07a",
   "metadata": {},
   "outputs": [],
   "source": [
    "df.sort_values(['amout_of_trips_per_station'],axis=0, ascending=False,inplace=True,na_position='first')"
   ]
  },
  {
   "cell_type": "code",
   "execution_count": 18,
   "id": "8fd88163-6630-434f-aebe-ac6ae474e0a1",
   "metadata": {},
   "outputs": [
    {
     "data": {
      "text/html": [
       "<div>\n",
       "<style scoped>\n",
       "    .dataframe tbody tr th:only-of-type {\n",
       "        vertical-align: middle;\n",
       "    }\n",
       "\n",
       "    .dataframe tbody tr th {\n",
       "        vertical-align: top;\n",
       "    }\n",
       "\n",
       "    .dataframe thead th {\n",
       "        text-align: right;\n",
       "    }\n",
       "</style>\n",
       "<table border=\"1\" class=\"dataframe\">\n",
       "  <thead>\n",
       "    <tr style=\"text-align: right;\">\n",
       "      <th></th>\n",
       "      <th>Unnamed: 0</th>\n",
       "      <th>start_station_id</th>\n",
       "      <th>start_station_name</th>\n",
       "      <th>start_station_latitude</th>\n",
       "      <th>start_station_longitude</th>\n",
       "      <th>amout_of_trips_per_station</th>\n",
       "    </tr>\n",
       "  </thead>\n",
       "  <tbody>\n",
       "    <tr>\n",
       "      <th>61</th>\n",
       "      <td>97694</td>\n",
       "      <td>67</td>\n",
       "      <td>MIT at Mass Ave / Amherst St</td>\n",
       "      <td>42.358100</td>\n",
       "      <td>-71.093198</td>\n",
       "      <td>34496</td>\n",
       "    </tr>\n",
       "    <tr>\n",
       "      <th>19</th>\n",
       "      <td>57721</td>\n",
       "      <td>22</td>\n",
       "      <td>South Station - 700 Atlantic Ave.</td>\n",
       "      <td>42.352175</td>\n",
       "      <td>-71.055547</td>\n",
       "      <td>31026</td>\n",
       "    </tr>\n",
       "    <tr>\n",
       "      <th>62</th>\n",
       "      <td>41216</td>\n",
       "      <td>68</td>\n",
       "      <td>Central Square at Mass Ave / Essex St</td>\n",
       "      <td>42.365070</td>\n",
       "      <td>-71.103100</td>\n",
       "      <td>23804</td>\n",
       "    </tr>\n",
       "    <tr>\n",
       "      <th>68</th>\n",
       "      <td>20008</td>\n",
       "      <td>74</td>\n",
       "      <td>Harvard Square at Mass Ave/ Dunster</td>\n",
       "      <td>42.373268</td>\n",
       "      <td>-71.118579</td>\n",
       "      <td>22376</td>\n",
       "    </tr>\n",
       "    <tr>\n",
       "      <th>74</th>\n",
       "      <td>6903</td>\n",
       "      <td>80</td>\n",
       "      <td>MIT Stata Center at Vassar St / Main St</td>\n",
       "      <td>42.361962</td>\n",
       "      <td>-71.092053</td>\n",
       "      <td>20694</td>\n",
       "    </tr>\n",
       "  </tbody>\n",
       "</table>\n",
       "</div>"
      ],
      "text/plain": [
       "    Unnamed: 0  start_station_id                       start_station_name  \\\n",
       "61       97694                67             MIT at Mass Ave / Amherst St   \n",
       "19       57721                22        South Station - 700 Atlantic Ave.   \n",
       "62       41216                68    Central Square at Mass Ave / Essex St   \n",
       "68       20008                74      Harvard Square at Mass Ave/ Dunster   \n",
       "74        6903                80  MIT Stata Center at Vassar St / Main St   \n",
       "\n",
       "    start_station_latitude  start_station_longitude  \\\n",
       "61               42.358100               -71.093198   \n",
       "19               42.352175               -71.055547   \n",
       "62               42.365070               -71.103100   \n",
       "68               42.373268               -71.118579   \n",
       "74               42.361962               -71.092053   \n",
       "\n",
       "    amout_of_trips_per_station  \n",
       "61                       34496  \n",
       "19                       31026  \n",
       "62                       23804  \n",
       "68                       22376  \n",
       "74                       20694  "
      ]
     },
     "execution_count": 18,
     "metadata": {},
     "output_type": "execute_result"
    }
   ],
   "source": [
    "df.head()"
   ]
  },
  {
   "cell_type": "code",
   "execution_count": 31,
   "id": "fb93b4e3-562c-4874-b6e6-cdb82c2ecad9",
   "metadata": {},
   "outputs": [],
   "source": [
    "df[\"start_coordinates\"] = list(zip(df[\"start_station_latitude\"],df[\"start_station_longitude\"]))"
   ]
  },
  {
   "cell_type": "code",
   "execution_count": 27,
   "id": "fe14b0ef-e6e0-44f1-9827-138dac269113",
   "metadata": {},
   "outputs": [
    {
     "data": {
      "text/plain": [
       "tuple"
      ]
     },
     "execution_count": 27,
     "metadata": {},
     "output_type": "execute_result"
    }
   ],
   "source": [
    "center_point = (42.36041042227672,-71.05799197093351)\n",
    "type(center_point)"
   ]
  },
  {
   "cell_type": "code",
   "execution_count": 32,
   "id": "ad7d0ee4-6c8c-4dea-9132-e37040fbb73e",
   "metadata": {},
   "outputs": [],
   "source": [
    "def calc_distances_from_center(start_coordinates):\n",
    "    return geopy.distance.geodesic( start_coordinates,center_point).km"
   ]
  },
  {
   "cell_type": "code",
   "execution_count": 33,
   "id": "60654afb-fdbf-4e56-9e69-e7fdc0fb816c",
   "metadata": {},
   "outputs": [],
   "source": [
    "df['distance_center_(km)'] = df.apply(lambda row: calc_distances_from_center(row.start_coordinates), axis=1)"
   ]
  },
  {
   "cell_type": "code",
   "execution_count": null,
   "id": "9a51fd94-365f-42e2-b572-9b17dac62bd3",
   "metadata": {},
   "outputs": [],
   "source": []
  },
  {
   "cell_type": "code",
   "execution_count": 40,
   "id": "8f651c5a-6fb0-4be3-932f-835922eb857a",
   "metadata": {},
   "outputs": [
    {
     "data": {
      "text/html": [
       "<div>\n",
       "<style scoped>\n",
       "    .dataframe tbody tr th:only-of-type {\n",
       "        vertical-align: middle;\n",
       "    }\n",
       "\n",
       "    .dataframe tbody tr th {\n",
       "        vertical-align: top;\n",
       "    }\n",
       "\n",
       "    .dataframe thead th {\n",
       "        text-align: right;\n",
       "    }\n",
       "</style>\n",
       "<table border=\"1\" class=\"dataframe\">\n",
       "  <thead>\n",
       "    <tr style=\"text-align: right;\">\n",
       "      <th></th>\n",
       "      <th>Unnamed: 0</th>\n",
       "      <th>start_station_id</th>\n",
       "      <th>start_station_name</th>\n",
       "      <th>start_station_latitude</th>\n",
       "      <th>start_station_longitude</th>\n",
       "      <th>amout_of_trips_per_station</th>\n",
       "      <th>start_coordinates</th>\n",
       "      <th>distance_center_(km)</th>\n",
       "    </tr>\n",
       "  </thead>\n",
       "  <tbody>\n",
       "    <tr>\n",
       "      <th>177</th>\n",
       "      <td>26226</td>\n",
       "      <td>208</td>\n",
       "      <td>Oak Square - 615 Washington St</td>\n",
       "      <td>42.350570</td>\n",
       "      <td>-71.166491</td>\n",
       "      <td>185</td>\n",
       "      <td>(42.35057, -71.166491)</td>\n",
       "      <td>9.005604</td>\n",
       "    </tr>\n",
       "    <tr>\n",
       "      <th>150</th>\n",
       "      <td>95299</td>\n",
       "      <td>174</td>\n",
       "      <td>Washington St at Brock St</td>\n",
       "      <td>42.349005</td>\n",
       "      <td>-71.160411</td>\n",
       "      <td>895</td>\n",
       "      <td>(42.34900494405213, -71.1604106426239)</td>\n",
       "      <td>8.532756</td>\n",
       "    </tr>\n",
       "    <tr>\n",
       "      <th>157</th>\n",
       "      <td>7336</td>\n",
       "      <td>183</td>\n",
       "      <td>Alewife MBTA at Steel Place</td>\n",
       "      <td>42.395588</td>\n",
       "      <td>-71.142606</td>\n",
       "      <td>314</td>\n",
       "      <td>(42.39558845716709, -71.14260613918304)</td>\n",
       "      <td>7.989504</td>\n",
       "    </tr>\n",
       "    <tr>\n",
       "      <th>130</th>\n",
       "      <td>116577</td>\n",
       "      <td>142</td>\n",
       "      <td>Alewife Station at Russell Field</td>\n",
       "      <td>42.396105</td>\n",
       "      <td>-71.139459</td>\n",
       "      <td>2587</td>\n",
       "      <td>(42.396105, -71.139459)</td>\n",
       "      <td>7.793473</td>\n",
       "    </tr>\n",
       "    <tr>\n",
       "      <th>151</th>\n",
       "      <td>124454</td>\n",
       "      <td>175</td>\n",
       "      <td>Brighton Center</td>\n",
       "      <td>42.348949</td>\n",
       "      <td>-71.150272</td>\n",
       "      <td>1915</td>\n",
       "      <td>(42.34894857235593, -71.15027189254761)</td>\n",
       "      <td>7.708726</td>\n",
       "    </tr>\n",
       "  </tbody>\n",
       "</table>\n",
       "</div>"
      ],
      "text/plain": [
       "     Unnamed: 0  start_station_id                start_station_name  \\\n",
       "177       26226               208    Oak Square - 615 Washington St   \n",
       "150       95299               174         Washington St at Brock St   \n",
       "157        7336               183       Alewife MBTA at Steel Place   \n",
       "130      116577               142  Alewife Station at Russell Field   \n",
       "151      124454               175                   Brighton Center   \n",
       "\n",
       "     start_station_latitude  start_station_longitude  \\\n",
       "177               42.350570               -71.166491   \n",
       "150               42.349005               -71.160411   \n",
       "157               42.395588               -71.142606   \n",
       "130               42.396105               -71.139459   \n",
       "151               42.348949               -71.150272   \n",
       "\n",
       "     amout_of_trips_per_station                        start_coordinates  \\\n",
       "177                         185                   (42.35057, -71.166491)   \n",
       "150                         895   (42.34900494405213, -71.1604106426239)   \n",
       "157                         314  (42.39558845716709, -71.14260613918304)   \n",
       "130                        2587                  (42.396105, -71.139459)   \n",
       "151                        1915  (42.34894857235593, -71.15027189254761)   \n",
       "\n",
       "     distance_center_(km)  \n",
       "177              9.005604  \n",
       "150              8.532756  \n",
       "157              7.989504  \n",
       "130              7.793473  \n",
       "151              7.708726  "
      ]
     },
     "execution_count": 40,
     "metadata": {},
     "output_type": "execute_result"
    }
   ],
   "source": [
    "df.sort_values(['distance_center_(km)'],axis=0, ascending=False,inplace=True,na_position='first')\n",
    "df.head(5)"
   ]
  }
 ],
 "metadata": {
  "kernelspec": {
   "display_name": "Python 3 (ipykernel)",
   "language": "python",
   "name": "python3"
  },
  "language_info": {
   "codemirror_mode": {
    "name": "ipython",
    "version": 3
   },
   "file_extension": ".py",
   "mimetype": "text/x-python",
   "name": "python",
   "nbconvert_exporter": "python",
   "pygments_lexer": "ipython3",
   "version": "3.9.7"
  }
 },
 "nbformat": 4,
 "nbformat_minor": 5
}
